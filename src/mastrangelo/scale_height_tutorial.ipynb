{
 "cells": [
  {
   "cell_type": "code",
   "execution_count": 1,
   "id": "2207259e",
   "metadata": {
    "execution": {
     "iopub.execute_input": "2024-09-30T14:48:32.329507Z",
     "iopub.status.busy": "2024-09-30T14:48:32.329222Z",
     "iopub.status.idle": "2024-09-30T14:48:32.338801Z",
     "shell.execute_reply": "2024-09-30T14:48:32.338071Z"
    }
   },
   "outputs": [],
   "source": [
    "%matplotlib inline"
   ]
  },
  {
   "cell_type": "markdown",
   "id": "55331fec",
   "metadata": {},
   "source": [
    "# Compute a Galactic orbit for a star using Gaia data\n",
    "\n",
    "In this tutorial, we will retrieve the sky coordinates, astrometry, and radial velocity for a star — [Kepler-444](https://en.wikipedia.org/wiki/Kepler-444) — and compute its orbit in the default Milky Way mass model implemented in Gala. We will compare the orbit of Kepler-444 to the orbit of the Sun.\n",
    "\n",
    "### Notebook Setup and Package Imports"
   ]
  },
  {
   "cell_type": "code",
   "execution_count": 2,
   "id": "fe5a253f",
   "metadata": {
    "execution": {
     "iopub.execute_input": "2024-09-30T14:48:32.341342Z",
     "iopub.status.busy": "2024-09-30T14:48:32.340889Z",
     "iopub.status.idle": "2024-09-30T14:48:33.159175Z",
     "shell.execute_reply": "2024-09-30T14:48:33.158412Z"
    }
   },
   "outputs": [
    {
     "name": "stderr",
     "output_type": "stream",
     "text": [
      "/Users/chrislam/Desktop/mastrangelo/src/mastrangelo/simulate_helpers.py:32: SyntaxWarning: invalid escape sequence '\\s'\n",
      "  \"\"\"\n",
      "/Users/chrislam/Desktop/mastrangelo/src/mastrangelo/simulate_helpers.py:204: SyntaxWarning: invalid escape sequence '\\s'\n",
      "  limbach = pd.read_csv(path+'limbach_cdfs.txt', engine='python', header=0, sep='\\s{2,20}') # space-agnostic separator\n",
      "/Users/chrislam/Desktop/mastrangelo/src/mastrangelo/simulate_helpers.py:907: SyntaxWarning: invalid escape sequence '\\o'\n",
      "  \"\"\"\n"
     ]
    }
   ],
   "source": [
    "import astropy.coordinates as coord\n",
    "import astropy.units as u\n",
    "import matplotlib.pyplot as plt\n",
    "from pyia import GaiaData\n",
    "import numpy as np\n",
    "\n",
    "# Gala\n",
    "import gala.dynamics as gd\n",
    "import gala.potential as gp\n",
    "\n",
    "from simulate_helpers import *\n",
    "from tqdm import tqdm"
   ]
  },
  {
   "cell_type": "code",
   "execution_count": 4,
   "id": "5bf7a15e",
   "metadata": {},
   "outputs": [],
   "source": [
    "from astropy.table import Table, join\n",
    "path = '/Users/chrislam/Desktop/mastrangelo/'\n",
    "berger = Table.read(path+'data/berger_kepler_stellar_fgk.csv')\n",
    "#path = '/home/c.lam/blue/sculpting2/'\n",
    "#berger = Table.read(path+'berger_kepler_stellar_fgk.csv')\n"
   ]
  },
  {
   "cell_type": "code",
   "execution_count": 5,
   "id": "a8fc5548",
   "metadata": {},
   "outputs": [
    {
     "name": "stderr",
     "output_type": "stream",
     "text": [
      "WARNING: UnitsWarning: 'log(cm.s**-2)' did not parse as fits unit: 'log' is not a recognized function If this is meant to be a custom unit, define it with 'u.def_unit'. To have it recognized inside a file reader or other code, enable it with 'u.add_enabled_units'. For details, see https://docs.astropy.org/en/latest/units/combining_and_defining.html [astropy.units.core]\n",
      "WARNING: UnitsWarning: 'dex' did not parse as fits unit: At col 0, Unit 'dex' not supported by the FITS standard.  If this is meant to be a custom unit, define it with 'u.def_unit'. To have it recognized inside a file reader or other code, enable it with 'u.add_enabled_units'. For details, see https://docs.astropy.org/en/latest/units/combining_and_defining.html [astropy.units.core]\n"
     ]
    }
   ],
   "source": [
    "megan = Table.read(path+'data/kepler_dr3_good.fits')"
   ]
  },
  {
   "cell_type": "code",
   "execution_count": 6,
   "id": "fc8eaa6d",
   "metadata": {},
   "outputs": [],
   "source": [
    "merged = join(berger, megan, keys='kepid')\n",
    "merged.rename_column('parallax_2', 'parallax')"
   ]
  },
  {
   "cell_type": "code",
   "execution_count": 7,
   "id": "41a78418",
   "metadata": {},
   "outputs": [
    {
     "data": {
      "text/html": [
       "<div>\n",
       "<style scoped>\n",
       "    .dataframe tbody tr th:only-of-type {\n",
       "        vertical-align: middle;\n",
       "    }\n",
       "\n",
       "    .dataframe tbody tr th {\n",
       "        vertical-align: top;\n",
       "    }\n",
       "\n",
       "    .dataframe thead th {\n",
       "        text-align: right;\n",
       "    }\n",
       "</style>\n",
       "<table border=\"1\" class=\"dataframe\">\n",
       "  <thead>\n",
       "    <tr style=\"text-align: right;\">\n",
       "      <th></th>\n",
       "      <th>kepid</th>\n",
       "      <th>tm_designation_1</th>\n",
       "      <th>teff_1</th>\n",
       "      <th>teff_err1_1</th>\n",
       "      <th>teff_err2_1</th>\n",
       "      <th>logg_1</th>\n",
       "      <th>logg_err1_1</th>\n",
       "      <th>logg_err2_1</th>\n",
       "      <th>feh_x</th>\n",
       "      <th>feh_err1_1</th>\n",
       "      <th>...</th>\n",
       "      <th>mass_err2_2</th>\n",
       "      <th>prov_sec_2</th>\n",
       "      <th>nconfp_2</th>\n",
       "      <th>nkoi_2</th>\n",
       "      <th>ntce_2</th>\n",
       "      <th>jmag_2</th>\n",
       "      <th>hmag_2</th>\n",
       "      <th>kmag</th>\n",
       "      <th>planet?</th>\n",
       "      <th>kepler_gaia_mag_diff</th>\n",
       "    </tr>\n",
       "  </thead>\n",
       "  <tbody>\n",
       "    <tr>\n",
       "      <th>0</th>\n",
       "      <td>757280</td>\n",
       "      <td>2MASS J19242289+3633538</td>\n",
       "      <td>6543</td>\n",
       "      <td>162.0</td>\n",
       "      <td>-194.0</td>\n",
       "      <td>4.082</td>\n",
       "      <td>0.258</td>\n",
       "      <td>-0.172</td>\n",
       "      <td>-0.24</td>\n",
       "      <td>0.25</td>\n",
       "      <td>...</td>\n",
       "      <td>-0.157</td>\n",
       "      <td>b'DSEP'</td>\n",
       "      <td>0</td>\n",
       "      <td>0</td>\n",
       "      <td>0</td>\n",
       "      <td>10.852</td>\n",
       "      <td>10.662</td>\n",
       "      <td>10.627</td>\n",
       "      <td>b'none'</td>\n",
       "      <td>-0.131530</td>\n",
       "    </tr>\n",
       "    <tr>\n",
       "      <th>1</th>\n",
       "      <td>892195</td>\n",
       "      <td>2MASS J19240520+3638374</td>\n",
       "      <td>5522</td>\n",
       "      <td>194.0</td>\n",
       "      <td>-155.0</td>\n",
       "      <td>3.984</td>\n",
       "      <td>0.510</td>\n",
       "      <td>-0.170</td>\n",
       "      <td>-0.06</td>\n",
       "      <td>0.30</td>\n",
       "      <td>...</td>\n",
       "      <td>-0.120</td>\n",
       "      <td>b'DSEP'</td>\n",
       "      <td>0</td>\n",
       "      <td>0</td>\n",
       "      <td>0</td>\n",
       "      <td>12.316</td>\n",
       "      <td>11.949</td>\n",
       "      <td>11.814</td>\n",
       "      <td>b'none'</td>\n",
       "      <td>-0.094934</td>\n",
       "    </tr>\n",
       "    <tr>\n",
       "      <th>2</th>\n",
       "      <td>892667</td>\n",
       "      <td>2MASS J19243045+3637186</td>\n",
       "      <td>6609</td>\n",
       "      <td>159.0</td>\n",
       "      <td>-227.0</td>\n",
       "      <td>4.105</td>\n",
       "      <td>0.246</td>\n",
       "      <td>-0.164</td>\n",
       "      <td>-0.26</td>\n",
       "      <td>0.25</td>\n",
       "      <td>...</td>\n",
       "      <td>-0.236</td>\n",
       "      <td>b'DSEP'</td>\n",
       "      <td>0</td>\n",
       "      <td>0</td>\n",
       "      <td>1</td>\n",
       "      <td>12.088</td>\n",
       "      <td>11.856</td>\n",
       "      <td>11.818</td>\n",
       "      <td>b'none'</td>\n",
       "      <td>-0.115383</td>\n",
       "    </tr>\n",
       "    <tr>\n",
       "      <th>3</th>\n",
       "      <td>892678</td>\n",
       "      <td>2MASS J19243108+3638316</td>\n",
       "      <td>6137</td>\n",
       "      <td>167.0</td>\n",
       "      <td>-186.0</td>\n",
       "      <td>3.936</td>\n",
       "      <td>0.428</td>\n",
       "      <td>-0.143</td>\n",
       "      <td>-0.26</td>\n",
       "      <td>0.30</td>\n",
       "      <td>...</td>\n",
       "      <td>-0.204</td>\n",
       "      <td>b'DSEP'</td>\n",
       "      <td>0</td>\n",
       "      <td>0</td>\n",
       "      <td>0</td>\n",
       "      <td>10.946</td>\n",
       "      <td>10.646</td>\n",
       "      <td>10.580</td>\n",
       "      <td>b'none'</td>\n",
       "      <td>-0.117199</td>\n",
       "    </tr>\n",
       "    <tr>\n",
       "      <th>4</th>\n",
       "      <td>892713</td>\n",
       "      <td>2MASS J19243353+3637220</td>\n",
       "      <td>6106</td>\n",
       "      <td>186.0</td>\n",
       "      <td>-186.0</td>\n",
       "      <td>3.854</td>\n",
       "      <td>0.496</td>\n",
       "      <td>-0.124</td>\n",
       "      <td>-0.24</td>\n",
       "      <td>0.30</td>\n",
       "      <td>...</td>\n",
       "      <td>-0.270</td>\n",
       "      <td>b'DSEP'</td>\n",
       "      <td>0</td>\n",
       "      <td>0</td>\n",
       "      <td>0</td>\n",
       "      <td>10.853</td>\n",
       "      <td>10.588</td>\n",
       "      <td>10.508</td>\n",
       "      <td>b'none'</td>\n",
       "      <td>-0.104743</td>\n",
       "    </tr>\n",
       "    <tr>\n",
       "      <th>...</th>\n",
       "      <td>...</td>\n",
       "      <td>...</td>\n",
       "      <td>...</td>\n",
       "      <td>...</td>\n",
       "      <td>...</td>\n",
       "      <td>...</td>\n",
       "      <td>...</td>\n",
       "      <td>...</td>\n",
       "      <td>...</td>\n",
       "      <td>...</td>\n",
       "      <td>...</td>\n",
       "      <td>...</td>\n",
       "      <td>...</td>\n",
       "      <td>...</td>\n",
       "      <td>...</td>\n",
       "      <td>...</td>\n",
       "      <td>...</td>\n",
       "      <td>...</td>\n",
       "      <td>...</td>\n",
       "      <td>...</td>\n",
       "      <td>...</td>\n",
       "    </tr>\n",
       "    <tr>\n",
       "      <th>69194</th>\n",
       "      <td>12935035</td>\n",
       "      <td>2MASS J19204068+5218589</td>\n",
       "      <td>6071</td>\n",
       "      <td>192.0</td>\n",
       "      <td>-234.0</td>\n",
       "      <td>3.992</td>\n",
       "      <td>0.382</td>\n",
       "      <td>-0.127</td>\n",
       "      <td>-0.06</td>\n",
       "      <td>0.25</td>\n",
       "      <td>...</td>\n",
       "      <td>-0.198</td>\n",
       "      <td>b'DSEP'</td>\n",
       "      <td>0</td>\n",
       "      <td>0</td>\n",
       "      <td>0</td>\n",
       "      <td>10.406</td>\n",
       "      <td>10.136</td>\n",
       "      <td>10.089</td>\n",
       "      <td>b'none'</td>\n",
       "      <td>-0.027611</td>\n",
       "    </tr>\n",
       "    <tr>\n",
       "      <th>69195</th>\n",
       "      <td>12983952</td>\n",
       "      <td>2MASS J19194126+5224230</td>\n",
       "      <td>5365</td>\n",
       "      <td>175.0</td>\n",
       "      <td>-191.0</td>\n",
       "      <td>4.571</td>\n",
       "      <td>0.032</td>\n",
       "      <td>-0.136</td>\n",
       "      <td>0.12</td>\n",
       "      <td>0.25</td>\n",
       "      <td>...</td>\n",
       "      <td>-0.099</td>\n",
       "      <td>b'DSEP'</td>\n",
       "      <td>0</td>\n",
       "      <td>0</td>\n",
       "      <td>0</td>\n",
       "      <td>13.837</td>\n",
       "      <td>13.467</td>\n",
       "      <td>13.333</td>\n",
       "      <td>b'none'</td>\n",
       "      <td>-0.007741</td>\n",
       "    </tr>\n",
       "    <tr>\n",
       "      <th>69196</th>\n",
       "      <td>12984000</td>\n",
       "      <td>2MASS J19194837+5225067</td>\n",
       "      <td>5835</td>\n",
       "      <td>174.0</td>\n",
       "      <td>-192.0</td>\n",
       "      <td>4.464</td>\n",
       "      <td>0.084</td>\n",
       "      <td>-0.196</td>\n",
       "      <td>-0.26</td>\n",
       "      <td>0.30</td>\n",
       "      <td>...</td>\n",
       "      <td>-0.088</td>\n",
       "      <td>b'DSEP'</td>\n",
       "      <td>0</td>\n",
       "      <td>0</td>\n",
       "      <td>0</td>\n",
       "      <td>13.650</td>\n",
       "      <td>13.329</td>\n",
       "      <td>13.194</td>\n",
       "      <td>b'none'</td>\n",
       "      <td>-0.012257</td>\n",
       "    </tr>\n",
       "    <tr>\n",
       "      <th>69197</th>\n",
       "      <td>12984200</td>\n",
       "      <td>2MASS J19201625+5224552</td>\n",
       "      <td>5862</td>\n",
       "      <td>161.0</td>\n",
       "      <td>-161.0</td>\n",
       "      <td>4.459</td>\n",
       "      <td>0.084</td>\n",
       "      <td>-0.182</td>\n",
       "      <td>-0.28</td>\n",
       "      <td>0.30</td>\n",
       "      <td>...</td>\n",
       "      <td>-0.089</td>\n",
       "      <td>b'DSEP'</td>\n",
       "      <td>0</td>\n",
       "      <td>0</td>\n",
       "      <td>0</td>\n",
       "      <td>13.506</td>\n",
       "      <td>13.069</td>\n",
       "      <td>13.046</td>\n",
       "      <td>b'none'</td>\n",
       "      <td>-0.028408</td>\n",
       "    </tr>\n",
       "    <tr>\n",
       "      <th>69198</th>\n",
       "      <td>12984307</td>\n",
       "      <td>2MASS J19202959+5228286</td>\n",
       "      <td>5802</td>\n",
       "      <td>205.0</td>\n",
       "      <td>-205.0</td>\n",
       "      <td>3.663</td>\n",
       "      <td>0.337</td>\n",
       "      <td>-0.112</td>\n",
       "      <td>-0.16</td>\n",
       "      <td>0.35</td>\n",
       "      <td>...</td>\n",
       "      <td>-0.375</td>\n",
       "      <td>b'DSEP'</td>\n",
       "      <td>0</td>\n",
       "      <td>0</td>\n",
       "      <td>0</td>\n",
       "      <td>11.459</td>\n",
       "      <td>11.104</td>\n",
       "      <td>11.075</td>\n",
       "      <td>b'none'</td>\n",
       "      <td>-0.035185</td>\n",
       "    </tr>\n",
       "  </tbody>\n",
       "</table>\n",
       "<p>69199 rows × 228 columns</p>\n",
       "</div>"
      ],
      "text/plain": [
       "          kepid         tm_designation_1  teff_1  teff_err1_1  teff_err2_1  \\\n",
       "0        757280  2MASS J19242289+3633538    6543        162.0       -194.0   \n",
       "1        892195  2MASS J19240520+3638374    5522        194.0       -155.0   \n",
       "2        892667  2MASS J19243045+3637186    6609        159.0       -227.0   \n",
       "3        892678  2MASS J19243108+3638316    6137        167.0       -186.0   \n",
       "4        892713  2MASS J19243353+3637220    6106        186.0       -186.0   \n",
       "...         ...                      ...     ...          ...          ...   \n",
       "69194  12935035  2MASS J19204068+5218589    6071        192.0       -234.0   \n",
       "69195  12983952  2MASS J19194126+5224230    5365        175.0       -191.0   \n",
       "69196  12984000  2MASS J19194837+5225067    5835        174.0       -192.0   \n",
       "69197  12984200  2MASS J19201625+5224552    5862        161.0       -161.0   \n",
       "69198  12984307  2MASS J19202959+5228286    5802        205.0       -205.0   \n",
       "\n",
       "       logg_1  logg_err1_1  logg_err2_1  feh_x  feh_err1_1  ...  mass_err2_2  \\\n",
       "0       4.082        0.258       -0.172  -0.24        0.25  ...       -0.157   \n",
       "1       3.984        0.510       -0.170  -0.06        0.30  ...       -0.120   \n",
       "2       4.105        0.246       -0.164  -0.26        0.25  ...       -0.236   \n",
       "3       3.936        0.428       -0.143  -0.26        0.30  ...       -0.204   \n",
       "4       3.854        0.496       -0.124  -0.24        0.30  ...       -0.270   \n",
       "...       ...          ...          ...    ...         ...  ...          ...   \n",
       "69194   3.992        0.382       -0.127  -0.06        0.25  ...       -0.198   \n",
       "69195   4.571        0.032       -0.136   0.12        0.25  ...       -0.099   \n",
       "69196   4.464        0.084       -0.196  -0.26        0.30  ...       -0.088   \n",
       "69197   4.459        0.084       -0.182  -0.28        0.30  ...       -0.089   \n",
       "69198   3.663        0.337       -0.112  -0.16        0.35  ...       -0.375   \n",
       "\n",
       "       prov_sec_2  nconfp_2  nkoi_2  ntce_2  jmag_2  hmag_2    kmag  planet?  \\\n",
       "0         b'DSEP'         0       0       0  10.852  10.662  10.627  b'none'   \n",
       "1         b'DSEP'         0       0       0  12.316  11.949  11.814  b'none'   \n",
       "2         b'DSEP'         0       0       1  12.088  11.856  11.818  b'none'   \n",
       "3         b'DSEP'         0       0       0  10.946  10.646  10.580  b'none'   \n",
       "4         b'DSEP'         0       0       0  10.853  10.588  10.508  b'none'   \n",
       "...           ...       ...     ...     ...     ...     ...     ...      ...   \n",
       "69194     b'DSEP'         0       0       0  10.406  10.136  10.089  b'none'   \n",
       "69195     b'DSEP'         0       0       0  13.837  13.467  13.333  b'none'   \n",
       "69196     b'DSEP'         0       0       0  13.650  13.329  13.194  b'none'   \n",
       "69197     b'DSEP'         0       0       0  13.506  13.069  13.046  b'none'   \n",
       "69198     b'DSEP'         0       0       0  11.459  11.104  11.075  b'none'   \n",
       "\n",
       "       kepler_gaia_mag_diff  \n",
       "0                 -0.131530  \n",
       "1                 -0.094934  \n",
       "2                 -0.115383  \n",
       "3                 -0.117199  \n",
       "4                 -0.104743  \n",
       "...                     ...  \n",
       "69194             -0.027611  \n",
       "69195             -0.007741  \n",
       "69196             -0.012257  \n",
       "69197             -0.028408  \n",
       "69198             -0.035185  \n",
       "\n",
       "[69199 rows x 228 columns]"
      ]
     },
     "execution_count": 7,
     "metadata": {},
     "output_type": "execute_result"
    }
   ],
   "source": [
    "merged.to_pandas()"
   ]
  },
  {
   "cell_type": "markdown",
   "id": "65bc598b",
   "metadata": {},
   "source": [
    "## Define a Galactocentric Coordinate Frame\n",
    "\n",
    "We will start by defining a Galactocentric coordinate system using `astropy.coordinates` by adopting the latest parameter set for the Solar position and velocity with respect to the Galactic Center implemented in Astropy."
   ]
  },
  {
   "cell_type": "code",
   "execution_count": 8,
   "id": "c9307003",
   "metadata": {
    "execution": {
     "iopub.execute_input": "2024-09-30T14:48:33.161944Z",
     "iopub.status.busy": "2024-09-30T14:48:33.161583Z",
     "iopub.status.idle": "2024-09-30T14:48:33.169267Z",
     "shell.execute_reply": "2024-09-30T14:48:33.168566Z"
    }
   },
   "outputs": [
    {
     "data": {
      "text/plain": [
       "<Galactocentric Frame (galcen_coord=<ICRS Coordinate: (ra, dec) in deg\n",
       "    (266.4051, -28.936175)>, galcen_distance=8.122 kpc, galcen_v_sun=(12.9, 245.6, 7.78) km / s, z_sun=20.8 pc, roll=0.0 deg)>"
      ]
     },
     "execution_count": 8,
     "metadata": {},
     "output_type": "execute_result"
    }
   ],
   "source": [
    "with coord.galactocentric_frame_defaults.set(\"v4.0\"):\n",
    "    galcen_frame = coord.Galactocentric()\n",
    "galcen_frame"
   ]
  },
  {
   "cell_type": "markdown",
   "id": "1ce79144",
   "metadata": {},
   "source": [
    "## Define the Solar Position and Velocity"
   ]
  },
  {
   "cell_type": "markdown",
   "id": "b62172fb",
   "metadata": {},
   "source": [
    "In this coordinate system, the sun is along the $x$-axis (at a negative $x$ value), and the Galactic rotation at this position is in the $+y$ direction. In this coordinate system, the 3D position of the sun is therefore given by:"
   ]
  },
  {
   "cell_type": "code",
   "execution_count": 9,
   "id": "04fa8067",
   "metadata": {
    "execution": {
     "iopub.execute_input": "2024-09-30T14:48:33.171772Z",
     "iopub.status.busy": "2024-09-30T14:48:33.171323Z",
     "iopub.status.idle": "2024-09-30T14:48:33.175040Z",
     "shell.execute_reply": "2024-09-30T14:48:33.174434Z"
    }
   },
   "outputs": [],
   "source": [
    "sun_xyz = u.Quantity(\n",
    "    [-galcen_frame.galcen_distance, 0 * u.kpc, galcen_frame.z_sun]  # x  # y  # z\n",
    ")"
   ]
  },
  {
   "cell_type": "markdown",
   "id": "46f20199",
   "metadata": {},
   "source": [
    "We can combine this with the solar velocity vector (set on the `astropy.coordinates.Galactocentric` frame) to define the sun's phase-space position, which we will use as initial conditions shortly to compute the orbit of the Sun:"
   ]
  },
  {
   "cell_type": "code",
   "execution_count": 10,
   "id": "8b5d35a1",
   "metadata": {
    "execution": {
     "iopub.execute_input": "2024-09-30T14:48:33.177266Z",
     "iopub.status.busy": "2024-09-30T14:48:33.176876Z",
     "iopub.status.idle": "2024-09-30T14:48:33.180333Z",
     "shell.execute_reply": "2024-09-30T14:48:33.179673Z"
    }
   },
   "outputs": [],
   "source": [
    "sun_w0 = gd.PhaseSpacePosition(pos=sun_xyz, vel=galcen_frame.galcen_v_sun)"
   ]
  },
  {
   "cell_type": "markdown",
   "id": "fa792606",
   "metadata": {},
   "source": [
    "To compute the sun's orbit, we need to specify a mass model for the Galaxy. Here, we will use the same default, four-component Milky Way mass model introduced in [Defining a Milky Way model](define-milky-way-model.html):"
   ]
  },
  {
   "cell_type": "code",
   "execution_count": 11,
   "id": "94fb14d1",
   "metadata": {
    "execution": {
     "iopub.execute_input": "2024-09-30T14:48:33.182550Z",
     "iopub.status.busy": "2024-09-30T14:48:33.182221Z",
     "iopub.status.idle": "2024-09-30T14:48:33.190866Z",
     "shell.execute_reply": "2024-09-30T14:48:33.190146Z"
    }
   },
   "outputs": [],
   "source": [
    "mw_potential = gp.MilkyWayPotential()"
   ]
  },
  {
   "cell_type": "markdown",
   "id": "01627163",
   "metadata": {},
   "source": [
    "We can now compute the Sun's orbit using the default integrator (Leapfrog integration): We will compute the orbit for 4 Gyr, which is about 16 orbital periods:"
   ]
  },
  {
   "cell_type": "code",
   "execution_count": 12,
   "id": "a1cc1eae",
   "metadata": {
    "execution": {
     "iopub.execute_input": "2024-09-30T14:48:33.193372Z",
     "iopub.status.busy": "2024-09-30T14:48:33.192745Z",
     "iopub.status.idle": "2024-09-30T14:48:33.202848Z",
     "shell.execute_reply": "2024-09-30T14:48:33.202103Z"
    }
   },
   "outputs": [],
   "source": [
    "sun_orbit = mw_potential.integrate_orbit(sun_w0, dt=0.5 * u.Myr, t1=0, t2=16 * u.Gyr)"
   ]
  },
  {
   "cell_type": "code",
   "execution_count": 13,
   "id": "b119bd7a",
   "metadata": {},
   "outputs": [],
   "source": [
    "# # maybe you dont need this\n",
    "import astropy.units as u\n",
    "# star_sky_c = coord.SkyCoord(ra=merged['ra'], dec=merged['dec'], unit=u.degree)\n",
    "# star_sky_c"
   ]
  },
  {
   "cell_type": "markdown",
   "id": "1a49cb6b",
   "metadata": {},
   "source": [
    "We happen to know a priori that Kepler-444 has a large proper motion, so the sky position reported by Simbad (unknown epoch) could be off from the Gaia sky position (epoch=2016) by many arcseconds. To run and retrieve the Gaia data, we will use the [pyia](http://pyia.readthedocs.io/) package: We can pass in an ADQL query, which `pyia` uses to query the Gaia science archive using `astroquery`, and returns the data as a `pyia` object that understands how to convert the Gaia data columns into a `astropy.coordinates.SkyCoord` object. To run the query, we will do a large sky position cross-match (with a radius of 15 arcseconds), and take the brightest cross-matched source within this region:"
   ]
  },
  {
   "cell_type": "code",
   "execution_count": 14,
   "id": "ac64c549",
   "metadata": {},
   "outputs": [],
   "source": [
    "star_gaia = GaiaData(merged)"
   ]
  },
  {
   "cell_type": "markdown",
   "id": "04243faa",
   "metadata": {},
   "source": [
    "We will assume (and hope!) that this source is Kepler-444, but we know that it is fairly bright compared to a typical Gaia source, so we should be safe.\n",
    "\n",
    "We can now use the returned `pyia.GaiaData` object to convert the Gaia astrometric and radial velocity measurements into an Astropy `SkyCoord` object (with all position and velocity data):"
   ]
  },
  {
   "cell_type": "code",
   "execution_count": 15,
   "id": "93e8aa94",
   "metadata": {
    "execution": {
     "iopub.execute_input": "2024-09-30T14:48:39.669120Z",
     "iopub.status.busy": "2024-09-30T14:48:39.668733Z",
     "iopub.status.idle": "2024-09-30T14:48:39.674825Z",
     "shell.execute_reply": "2024-09-30T14:48:39.674212Z"
    }
   },
   "outputs": [
    {
     "name": "stderr",
     "output_type": "stream",
     "text": [
      "WARNING: negative parallaxes are converted to NaN distances even when `allow_negative=True`, because negative parallaxes cannot be transformed into distances. See the discussion in this paper: https://arxiv.org/abs/1507.02105 [astropy.coordinates.distances]\n"
     ]
    }
   ],
   "source": [
    "star_gaia_c = star_gaia.get_skycoord()"
   ]
  },
  {
   "cell_type": "markdown",
   "id": "6b111c6e",
   "metadata": {},
   "source": [
    "To compute this star's Galactic orbit, we need to convert its observed, Heliocentric (actually solar system barycentric) data into the Galactocentric coordinate frame we defined above. To do this, we will use the `astropy.coordinates` transformation framework:"
   ]
  },
  {
   "cell_type": "code",
   "execution_count": 16,
   "id": "64dc01b9",
   "metadata": {
    "execution": {
     "iopub.execute_input": "2024-09-30T14:48:39.676802Z",
     "iopub.status.busy": "2024-09-30T14:48:39.676565Z",
     "iopub.status.idle": "2024-09-30T14:48:39.689522Z",
     "shell.execute_reply": "2024-09-30T14:48:39.688993Z"
    }
   },
   "outputs": [
    {
     "data": {
      "text/plain": [
       "<SkyCoord (Galactocentric: galcen_coord=<ICRS Coordinate: (ra, dec) in deg\n",
       "    (266.4051, -28.936175)>, galcen_distance=8.122 kpc, galcen_v_sun=(12.9, 245.6, 7.78) km / s, z_sun=20.8 pc, roll=0.0 deg): (x, y, z) in pc\n",
       "    [(-7809.53180464,  820.33773985, 170.7221152 ),\n",
       "     (-7961.50957819,  422.29028598,  98.67032167),\n",
       "     (-7706.92196028, 1093.36446921, 220.60036776), ...,\n",
       "     (-7902.36614697, 1956.19870782, 626.46406831),\n",
       "     (-7949.44356043, 1543.02874181, 496.54140753),\n",
       "     (-8062.94084951,  533.95437875, 185.31835985)]\n",
       " (v_x, v_y, v_z) in km / s\n",
       "    [( 17.65215344, 224.84388962,   1.52409743),\n",
       "     ( 24.63565621, 229.22636899,  -1.23425939),\n",
       "     ( 65.60029784, 238.43625266,  16.33568858), ...,\n",
       "     (         nan,          nan,          nan),\n",
       "     ( 76.14554242, 198.46087019, -46.37845744),\n",
       "     (-73.60929913, 199.48350711, -41.27816092)]>"
      ]
     },
     "execution_count": 16,
     "metadata": {},
     "output_type": "execute_result"
    }
   ],
   "source": [
    "star_galcen = star_gaia_c.transform_to(galcen_frame)\n",
    "star_galcen"
   ]
  },
  {
   "cell_type": "markdown",
   "id": "2a345146",
   "metadata": {},
   "source": [
    "Now with Galactocentric position and velocity components for Kepler-444, we can create Gala initial conditions and compute its orbit on the time grid used to compute the Sun's orbit above:"
   ]
  },
  {
   "cell_type": "code",
   "execution_count": 17,
   "id": "61021c9f",
   "metadata": {
    "execution": {
     "iopub.execute_input": "2024-09-30T14:48:39.691386Z",
     "iopub.status.busy": "2024-09-30T14:48:39.691181Z",
     "iopub.status.idle": "2024-09-30T14:48:39.698839Z",
     "shell.execute_reply": "2024-09-30T14:48:39.698276Z"
    }
   },
   "outputs": [],
   "source": [
    "star_w0 = gd.PhaseSpacePosition(star_galcen.data)"
   ]
  },
  {
   "cell_type": "code",
   "execution_count": 20,
   "id": "b23b1574",
   "metadata": {},
   "outputs": [],
   "source": [
    "star_orbit = mw_potential.integrate_orbit(star_w0[:10], t=sun_orbit.t)"
   ]
  },
  {
   "cell_type": "code",
   "execution_count": 21,
   "id": "fffb34b2",
   "metadata": {},
   "outputs": [],
   "source": [
    "zmaxes2 = star_orbit.zmax()"
   ]
  },
  {
   "cell_type": "code",
   "execution_count": 22,
   "id": "e42365f9",
   "metadata": {},
   "outputs": [
    {
     "name": "stdout",
     "output_type": "stream",
     "text": [
      "        ra                dec         ...        pmdec        radial_velocity\n",
      "       deg                deg         ...  0.001 arcsec / yr       km / s    \n",
      "------------------ ------------------ ... ------------------- ---------------\n",
      " 291.0953727428411  36.56490237614381 ... -2.8412896292792116      -18.505922\n",
      "291.02166295755393 36.643646983846004 ...   -8.34607796361622     -12.5067005\n",
      " 291.1268788916715  36.62178185002908 ... -7.7082643405854245       13.275185\n",
      " 291.1294950551968   36.6420709497822 ...  -5.056522969836806      -31.519499\n",
      " 291.1397018204042 36.622707397577585 ...  -9.917033847440297      -5.0609126\n",
      "291.16268754960134  36.62124424156081 ...  1.7057010713386025      -7.6975026\n",
      "291.17969357169954  36.67056963522391 ...  1.4918959019173066              --\n",
      " 291.1876128968787  36.67247075862457 ... -3.5442529243124063              --\n",
      " 291.1950286195971 36.672420461318566 ...   3.732966757946107       -54.55454\n",
      " 291.1963963179211  36.66834033001497 ...  -2.809588952410715              --\n"
     ]
    }
   ],
   "source": [
    "print(star_gaia[0:10])"
   ]
  },
  {
   "cell_type": "markdown",
   "id": "e4161ac5",
   "metadata": {},
   "source": [
    "Ma+ 2017 scale heights, for comparison"
   ]
  },
  {
   "cell_type": "code",
   "execution_count": 23,
   "id": "c44256c2",
   "metadata": {},
   "outputs": [
    {
     "name": "stderr",
     "output_type": "stream",
     "text": [
      "/var/folders/tt/rlpbr2fs7lx14h3f5_21mr240000gn/T/ipykernel_45410/228351311.py:4: DtypeWarning: Columns (138) have mixed types. Specify dtype option on import or set low_memory=False.\n",
      "  berger_kepler = pd.read_csv(path+'data/berger_kepler_stellar_fgk.csv') # crossmatched with Gaia via Bedell\n",
      "/Users/chrislam/Desktop/mastrangelo/src/mastrangelo/simulate_helpers.py:562: RuntimeWarning: invalid value encountered in log\n",
      "  factor2_arg_a = np.log(1+gamma*(x - mode))\n",
      "/Users/chrislam/Desktop/mastrangelo/src/mastrangelo/simulate_helpers.py:641: FutureWarning: Series.fillna with 'method' is deprecated and will raise in a future version. Use obj.ffill() or obj.bfill() instead.\n",
      "  df[drawn] = df[drawn].fillna(method='ffill')\n",
      "/Users/chrislam/Desktop/mastrangelo/src/mastrangelo/simulate_helpers.py:562: RuntimeWarning: invalid value encountered in log\n",
      "  factor2_arg_a = np.log(1+gamma*(x - mode))\n",
      "/Users/chrislam/Desktop/mastrangelo/src/mastrangelo/simulate_helpers.py:641: FutureWarning: Series.fillna with 'method' is deprecated and will raise in a future version. Use obj.ffill() or obj.bfill() instead.\n",
      "  df[drawn] = df[drawn].fillna(method='ffill')\n",
      "/Users/chrislam/Desktop/mastrangelo/src/mastrangelo/simulate_helpers.py:562: RuntimeWarning: invalid value encountered in log\n",
      "  factor2_arg_a = np.log(1+gamma*(x - mode))\n",
      "/Users/chrislam/Desktop/mastrangelo/src/mastrangelo/simulate_helpers.py:562: RuntimeWarning: divide by zero encountered in log\n",
      "  factor2_arg_a = np.log(1+gamma*(x - mode))\n",
      "/Users/chrislam/Desktop/mastrangelo/src/mastrangelo/simulate_helpers.py:641: FutureWarning: Series.fillna with 'method' is deprecated and will raise in a future version. Use obj.ffill() or obj.bfill() instead.\n",
      "  df[drawn] = df[drawn].fillna(method='ffill')\n",
      "/Users/chrislam/Desktop/mastrangelo/src/mastrangelo/simulate_helpers.py:1035: FutureWarning: Series.fillna with 'method' is deprecated and will raise in a future version. Use obj.ffill() or obj.bfill() instead.\n",
      "  df['height'] = df.height.fillna(method='ffill')\n"
     ]
    }
   ],
   "source": [
    "import simulate_helpers\n",
    "import pandas as pd\n",
    "\n",
    "berger_kepler = pd.read_csv(path+'data/berger_kepler_stellar_fgk.csv') # crossmatched with Gaia via Bedell\n",
    "\n",
    "berger_kepler_temp = simulate_helpers.draw_asymmetrically(berger_kepler, 'iso_rad', 'iso_rad_err1', 'iso_rad_err2', 'stellar_radius')\n",
    "berger_kepler_temp = simulate_helpers.draw_asymmetrically(berger_kepler_temp, 'iso_age', 'iso_age_err1', 'iso_age_err2', 'age')\n",
    "berger_kepler_temp = simulate_helpers.draw_asymmetrically(berger_kepler_temp, 'iso_mass', 'iso_mass_err1', 'iso_mass_err2', 'stellar_mass')\n",
    "berger_kepler_temp = simulate_helpers.draw_galactic_heights(berger_kepler_temp)\n"
   ]
  },
  {
   "cell_type": "code",
   "execution_count": 30,
   "id": "a0ed184f",
   "metadata": {},
   "outputs": [
    {
     "data": {
      "image/png": "[encoded data removed]",
      "text/plain": [
       "<Figure size 640x480 with 1 Axes>"
      ]
     },
     "metadata": {},
     "output_type": "display_data"
    }
   ],
   "source": [
    "plt.scatter(berger_kepler_temp['height'][:1000]/1000, zmaxes, s=10, color='powderblue')\n",
    "plt.scatter(berger_kepler_temp['height'][1000:2000]/1000, zmaxes2, s=10, color='powderblue')\n",
    "\n",
    "plt.xlabel('Ma+ 2017 and isochrone age-inferred heights')\n",
    "plt.ylabel('Gala-calculated heights')\n",
    "plt.show()"
   ]
  },
  {
   "cell_type": "code",
   "execution_count": 24,
   "id": "d3cf6f90",
   "metadata": {},
   "outputs": [
    {
     "data": {
      "text/plain": [
       "69199"
      ]
     },
     "execution_count": 24,
     "metadata": {},
     "output_type": "execute_result"
    }
   ],
   "source": [
    "len(star_gaia)"
   ]
  },
  {
   "cell_type": "markdown",
   "id": "8a4bce89",
   "metadata": {},
   "source": [
    "There's like no relation between the two lol. \n",
    "\n",
    "Now, how about we try to plot z vs v_z vs v_r, like in Antojas+ 2018"
   ]
  },
  {
   "cell_type": "code",
   "execution_count": 25,
   "id": "c1bc004a",
   "metadata": {},
   "outputs": [
    {
     "data": {
      "text/latex": [
       "$0.0097145739 \\; \\mathrm{\\frac{kpc}{Myr}}$"
      ],
      "text/plain": [
       "<Quantity 0.00971457 kpc / Myr>"
      ]
     },
     "execution_count": 25,
     "metadata": {},
     "output_type": "execute_result"
    }
   ],
   "source": [
    "star_orbit.vel[-1][0].d_z # kpc/Myr"
   ]
  },
  {
   "cell_type": "code",
   "execution_count": 26,
   "id": "edd5a968",
   "metadata": {},
   "outputs": [
    {
     "data": {
      "text/latex": [
       "$-0.11385364 \\; \\mathrm{kpc}$"
      ],
      "text/plain": [
       "<Quantity -0.11385364 kpc>"
      ]
     },
     "execution_count": 26,
     "metadata": {},
     "output_type": "execute_result"
    }
   ],
   "source": [
    "star_orbit.pos[-1][0].z # kpc"
   ]
  },
  {
   "cell_type": "code",
   "execution_count": 27,
   "id": "c1ee28d3",
   "metadata": {},
   "outputs": [
    {
     "data": {
      "text/plain": [
       "<CylindricalDifferential (d_rho, d_phi, d_z) in (kpc / Myr, rad / Myr, kpc / Myr)\n",
       "    (0.00606827, -0.02936369, 0.00155871)>"
      ]
     },
     "execution_count": 27,
     "metadata": {},
     "output_type": "execute_result"
    }
   ],
   "source": [
    "cstar_orbit = star_orbit.cylindrical\n",
    "cstar_orbit[0].vel[0] "
   ]
  },
  {
   "cell_type": "code",
   "execution_count": 28,
   "id": "1592e128",
   "metadata": {},
   "outputs": [],
   "source": [
    "dist = star_orbit.spherical.distance"
   ]
  },
  {
   "cell_type": "code",
   "execution_count": 29,
   "id": "6b09a65b",
   "metadata": {},
   "outputs": [
    {
     "data": {
      "text/latex": [
       "$[7.3831289,~8.0102303,~8.3082114,~6.6446626,~7.494919,~7.742402,~{\\rm NaN},~{\\rm NaN},~8.3545493,~{\\rm NaN}] \\; \\mathrm{kpc}$"
      ],
      "text/plain": [
       "<Distance [7.38312894, 8.01023026, 8.30821138, 6.64466264, 7.49491905,\n",
       "           7.74240197,        nan,        nan, 8.35454932,        nan] kpc>"
      ]
     },
     "execution_count": 29,
     "metadata": {},
     "output_type": "execute_result"
    }
   ],
   "source": [
    "dist[-1]"
   ]
  },
  {
   "cell_type": "code",
   "execution_count": 30,
   "id": "ccc2a0fa",
   "metadata": {},
   "outputs": [
    {
     "data": {
      "image/png": "[encoded data removed]",
      "text/plain": [
       "<Figure size 640x480 with 1 Axes>"
      ]
     },
     "metadata": {},
     "output_type": "display_data"
    }
   ],
   "source": [
    "orbit = mw_potential.integrate_orbit(star_w0[0], t=sun_orbit.t)\n",
    "\n",
    "plt.plot(orbit.t, orbit.spherical.distance, marker=\"None\")\n",
    "plt.xlim([0, 1000])\n",
    "plt.show()"
   ]
  },
  {
   "cell_type": "code",
   "execution_count": 31,
   "id": "63f583d3",
   "metadata": {},
   "outputs": [
    {
     "data": {
      "text/plain": [
       "7.635849094397982"
      ]
     },
     "execution_count": 31,
     "metadata": {},
     "output_type": "execute_result"
    }
   ],
   "source": [
    "np.nanmean(orbit.spherical.distance.value)"
   ]
  },
  {
   "cell_type": "code",
   "execution_count": 32,
   "id": "c51ccbab",
   "metadata": {},
   "outputs": [
    {
     "data": {
      "text/plain": [
       "69199"
      ]
     },
     "execution_count": 32,
     "metadata": {},
     "output_type": "execute_result"
    }
   ],
   "source": [
    "zmaxes = pd.read_csv(path+'data/zmaxes.csv')\n",
    "len(zmaxes)"
   ]
  },
  {
   "cell_type": "code",
   "execution_count": 33,
   "id": "cd8f6e6f",
   "metadata": {},
   "outputs": [],
   "source": [
    "ages = merged['iso_age']"
   ]
  },
  {
   "cell_type": "code",
   "execution_count": 34,
   "id": "6af1f135",
   "metadata": {},
   "outputs": [
    {
     "data": {
      "image/png": "[encoded data removed]",
      "text/plain": [
       "<Figure size 640x480 with 1 Axes>"
      ]
     },
     "metadata": {},
     "output_type": "display_data"
    }
   ],
   "source": [
    "plt.scatter(zmaxes, ages)\n",
    "plt.ylabel('age')\n",
    "plt.xlabel('height')\n",
    "plt.xlim([0, 3])\n",
    "plt.show()"
   ]
  },
  {
   "cell_type": "markdown",
   "id": "e19372ed",
   "metadata": {},
   "source": [
    "- gala heights don't seem to covary with Berger isochrone ages\n",
    "- Kepler is a highly biased sample, which is informed by the cone shape, with heavy preference for bright G dwarfs in the thin disk\n",
    "- Sarah wants: for a given Teff slice, eg. only 5000-5500 K, see four bins [0-500 pc age distribution; 500-1000 pc age distribution; etc]\n",
    "- There will be some scatter, but she expects some relationship \n",
    "- Luke Bouma recent arXiv paper used rotation period and Li abundances to get ages for 23K stars "
   ]
  },
  {
   "cell_type": "code",
   "execution_count": 35,
   "id": "2f0d67fb",
   "metadata": {},
   "outputs": [],
   "source": [
    "merged_df = merged.to_pandas()\n",
    "merged_df['height'] = zmaxes*1000\n",
    "merged_df = merged_df.dropna(subset=['height'])\n",
    "merged_sub = merged_df.loc[(merged_df['iso_teff'] >= 5000) & (merged_df['iso_teff'] < 5500)]\n"
   ]
  },
  {
   "cell_type": "code",
   "execution_count": 37,
   "id": "81b5e1a4",
   "metadata": {},
   "outputs": [
    {
     "name": "stderr",
     "output_type": "stream",
     "text": [
      "/Users/chrislam/Desktop/mastrangelo/src/mastrangelo/simulate_helpers.py:562: RuntimeWarning: invalid value encountered in log\n",
      "  factor2_arg_a = np.log(1+gamma*(x - mode))\n",
      "/Users/chrislam/Desktop/mastrangelo/src/mastrangelo/simulate_helpers.py:681: SettingWithCopyWarning: \n",
      "A value is trying to be set on a copy of a slice from a DataFrame.\n",
      "Try using .loc[row_indexer,col_indexer] = value instead\n",
      "\n",
      "See the caveats in the documentation: https://pandas.pydata.org/pandas-docs/stable/user_guide/indexing.html#returning-a-view-versus-a-copy\n",
      "  df['age'] = ages\n",
      "/Users/chrislam/Desktop/mastrangelo/src/mastrangelo/simulate_helpers.py:685: FutureWarning: Series.fillna with 'method' is deprecated and will raise in a future version. Use obj.ffill() or obj.bfill() instead.\n",
      "  df['age'] = df.age.fillna(method='ffill')\n",
      "/Users/chrislam/Desktop/mastrangelo/src/mastrangelo/simulate_helpers.py:562: RuntimeWarning: invalid value encountered in log\n",
      "  factor2_arg_a = np.log(1+gamma*(x - mode))\n",
      "/Users/chrislam/Desktop/mastrangelo/src/mastrangelo/simulate_helpers.py:681: SettingWithCopyWarning: \n",
      "A value is trying to be set on a copy of a slice from a DataFrame.\n",
      "Try using .loc[row_indexer,col_indexer] = value instead\n",
      "\n",
      "See the caveats in the documentation: https://pandas.pydata.org/pandas-docs/stable/user_guide/indexing.html#returning-a-view-versus-a-copy\n",
      "  df['age'] = ages\n",
      "/Users/chrislam/Desktop/mastrangelo/src/mastrangelo/simulate_helpers.py:685: FutureWarning: Series.fillna with 'method' is deprecated and will raise in a future version. Use obj.ffill() or obj.bfill() instead.\n",
      "  df['age'] = df.age.fillna(method='ffill')\n",
      "/Users/chrislam/Desktop/mastrangelo/src/mastrangelo/simulate_helpers.py:562: RuntimeWarning: invalid value encountered in log\n",
      "  factor2_arg_a = np.log(1+gamma*(x - mode))\n",
      "/Users/chrislam/Desktop/mastrangelo/src/mastrangelo/simulate_helpers.py:681: SettingWithCopyWarning: \n",
      "A value is trying to be set on a copy of a slice from a DataFrame.\n",
      "Try using .loc[row_indexer,col_indexer] = value instead\n",
      "\n",
      "See the caveats in the documentation: https://pandas.pydata.org/pandas-docs/stable/user_guide/indexing.html#returning-a-view-versus-a-copy\n",
      "  df['age'] = ages\n",
      "/Users/chrislam/Desktop/mastrangelo/src/mastrangelo/simulate_helpers.py:685: FutureWarning: Series.fillna with 'method' is deprecated and will raise in a future version. Use obj.ffill() or obj.bfill() instead.\n",
      "  df['age'] = df.age.fillna(method='ffill')\n",
      "/Users/chrislam/Desktop/mastrangelo/src/mastrangelo/simulate_helpers.py:562: RuntimeWarning: invalid value encountered in log\n",
      "  factor2_arg_a = np.log(1+gamma*(x - mode))\n",
      "/Users/chrislam/Desktop/mastrangelo/src/mastrangelo/simulate_helpers.py:681: SettingWithCopyWarning: \n",
      "A value is trying to be set on a copy of a slice from a DataFrame.\n",
      "Try using .loc[row_indexer,col_indexer] = value instead\n",
      "\n",
      "See the caveats in the documentation: https://pandas.pydata.org/pandas-docs/stable/user_guide/indexing.html#returning-a-view-versus-a-copy\n",
      "  df['age'] = ages\n",
      "/Users/chrislam/Desktop/mastrangelo/src/mastrangelo/simulate_helpers.py:685: FutureWarning: Series.fillna with 'method' is deprecated and will raise in a future version. Use obj.ffill() or obj.bfill() instead.\n",
      "  df['age'] = df.age.fillna(method='ffill')\n",
      "/Users/chrislam/Desktop/mastrangelo/src/mastrangelo/simulate_helpers.py:562: RuntimeWarning: invalid value encountered in log\n",
      "  factor2_arg_a = np.log(1+gamma*(x - mode))\n",
      "/Users/chrislam/Desktop/mastrangelo/src/mastrangelo/simulate_helpers.py:681: SettingWithCopyWarning: \n",
      "A value is trying to be set on a copy of a slice from a DataFrame.\n",
      "Try using .loc[row_indexer,col_indexer] = value instead\n",
      "\n",
      "See the caveats in the documentation: https://pandas.pydata.org/pandas-docs/stable/user_guide/indexing.html#returning-a-view-versus-a-copy\n",
      "  df['age'] = ages\n",
      "/Users/chrislam/Desktop/mastrangelo/src/mastrangelo/simulate_helpers.py:685: FutureWarning: Series.fillna with 'method' is deprecated and will raise in a future version. Use obj.ffill() or obj.bfill() instead.\n",
      "  df['age'] = df.age.fillna(method='ffill')\n",
      "/Users/chrislam/Desktop/mastrangelo/src/mastrangelo/simulate_helpers.py:562: RuntimeWarning: invalid value encountered in log\n",
      "  factor2_arg_a = np.log(1+gamma*(x - mode))\n",
      "/Users/chrislam/Desktop/mastrangelo/src/mastrangelo/simulate_helpers.py:681: SettingWithCopyWarning: \n",
      "A value is trying to be set on a copy of a slice from a DataFrame.\n",
      "Try using .loc[row_indexer,col_indexer] = value instead\n",
      "\n",
      "See the caveats in the documentation: https://pandas.pydata.org/pandas-docs/stable/user_guide/indexing.html#returning-a-view-versus-a-copy\n",
      "  df['age'] = ages\n",
      "/Users/chrislam/Desktop/mastrangelo/src/mastrangelo/simulate_helpers.py:685: FutureWarning: Series.fillna with 'method' is deprecated and will raise in a future version. Use obj.ffill() or obj.bfill() instead.\n",
      "  df['age'] = df.age.fillna(method='ffill')\n",
      "/Users/chrislam/Desktop/mastrangelo/src/mastrangelo/simulate_helpers.py:562: RuntimeWarning: invalid value encountered in log\n",
      "  factor2_arg_a = np.log(1+gamma*(x - mode))\n",
      "/Users/chrislam/Desktop/mastrangelo/src/mastrangelo/simulate_helpers.py:681: SettingWithCopyWarning: \n",
      "A value is trying to be set on a copy of a slice from a DataFrame.\n",
      "Try using .loc[row_indexer,col_indexer] = value instead\n",
      "\n",
      "See the caveats in the documentation: https://pandas.pydata.org/pandas-docs/stable/user_guide/indexing.html#returning-a-view-versus-a-copy\n",
      "  df['age'] = ages\n",
      "/Users/chrislam/Desktop/mastrangelo/src/mastrangelo/simulate_helpers.py:685: FutureWarning: Series.fillna with 'method' is deprecated and will raise in a future version. Use obj.ffill() or obj.bfill() instead.\n",
      "  df['age'] = df.age.fillna(method='ffill')\n",
      "/Users/chrislam/Desktop/mastrangelo/src/mastrangelo/simulate_helpers.py:562: RuntimeWarning: invalid value encountered in log\n",
      "  factor2_arg_a = np.log(1+gamma*(x - mode))\n",
      "/Users/chrislam/Desktop/mastrangelo/src/mastrangelo/simulate_helpers.py:681: SettingWithCopyWarning: \n",
      "A value is trying to be set on a copy of a slice from a DataFrame.\n",
      "Try using .loc[row_indexer,col_indexer] = value instead\n",
      "\n",
      "See the caveats in the documentation: https://pandas.pydata.org/pandas-docs/stable/user_guide/indexing.html#returning-a-view-versus-a-copy\n",
      "  df['age'] = ages\n",
      "/Users/chrislam/Desktop/mastrangelo/src/mastrangelo/simulate_helpers.py:685: FutureWarning: Series.fillna with 'method' is deprecated and will raise in a future version. Use obj.ffill() or obj.bfill() instead.\n",
      "  df['age'] = df.age.fillna(method='ffill')\n",
      "/Users/chrislam/Desktop/mastrangelo/src/mastrangelo/simulate_helpers.py:562: RuntimeWarning: invalid value encountered in log\n",
      "  factor2_arg_a = np.log(1+gamma*(x - mode))\n",
      "/Users/chrislam/Desktop/mastrangelo/src/mastrangelo/simulate_helpers.py:681: SettingWithCopyWarning: \n",
      "A value is trying to be set on a copy of a slice from a DataFrame.\n",
      "Try using .loc[row_indexer,col_indexer] = value instead\n",
      "\n",
      "See the caveats in the documentation: https://pandas.pydata.org/pandas-docs/stable/user_guide/indexing.html#returning-a-view-versus-a-copy\n",
      "  df['age'] = ages\n",
      "/Users/chrislam/Desktop/mastrangelo/src/mastrangelo/simulate_helpers.py:685: FutureWarning: Series.fillna with 'method' is deprecated and will raise in a future version. Use obj.ffill() or obj.bfill() instead.\n",
      "  df['age'] = df.age.fillna(method='ffill')\n",
      "/Users/chrislam/Desktop/mastrangelo/src/mastrangelo/simulate_helpers.py:562: RuntimeWarning: invalid value encountered in log\n",
      "  factor2_arg_a = np.log(1+gamma*(x - mode))\n",
      "/Users/chrislam/Desktop/mastrangelo/src/mastrangelo/simulate_helpers.py:681: SettingWithCopyWarning: \n",
      "A value is trying to be set on a copy of a slice from a DataFrame.\n",
      "Try using .loc[row_indexer,col_indexer] = value instead\n",
      "\n",
      "See the caveats in the documentation: https://pandas.pydata.org/pandas-docs/stable/user_guide/indexing.html#returning-a-view-versus-a-copy\n",
      "  df['age'] = ages\n",
      "/Users/chrislam/Desktop/mastrangelo/src/mastrangelo/simulate_helpers.py:685: FutureWarning: Series.fillna with 'method' is deprecated and will raise in a future version. Use obj.ffill() or obj.bfill() instead.\n",
      "  df['age'] = df.age.fillna(method='ffill')\n"
     ]
    },
    {
     "data": {
      "image/png": "[encoded data removed]",
      "text/plain": [
       "<Figure size 640x480 with 1 Axes>"
      ]
     },
     "metadata": {},
     "output_type": "display_data"
    }
   ],
   "source": [
    "### with such large age uncertainty, we should bootstrap and marginalize by adding the age histograms for different slice regimes\n",
    "\n",
    "sub1 = []\n",
    "sub2 = []\n",
    "sub3 = []\n",
    "sub4 = []\n",
    "x = np.linspace(0.5, 13.5, 7)\n",
    "\n",
    "for i in range(10):\n",
    "    # draw stellar ages\n",
    "    merged_sub_age = simulate_helpers.draw_star_ages(merged_sub) # merged_df, merged_sub\n",
    "\n",
    "    # split into gala-calculated scale heights\n",
    "    merged_sub1 = merged_sub_age.loc[merged_sub_age['height'] < 500]\n",
    "    merged_sub2 = merged_sub_age.loc[(merged_sub_age['height'] >= 500) & (merged_sub_age['height'] < 1000)]\n",
    "    merged_sub3 = merged_sub_age.loc[(merged_sub_age['height'] >= 1000) & (merged_sub_age['height'] < 1500)]\n",
    "    merged_sub4 = merged_sub_age.loc[(merged_sub_age['height'] >= 1500) & (merged_sub_age['height'] < 2000)]\n",
    "\n",
    "    sub1.append(np.histogram(merged_sub1['age'], bins=x)[0])\n",
    "    sub2.append(np.histogram(merged_sub2['age'], bins=x)[0])\n",
    "    sub3.append(np.histogram(merged_sub3['age'], bins=x)[0])\n",
    "    sub4.append(np.histogram(merged_sub4['age'], bins=x)[0])\n",
    "\n",
    "sub1_total = np.sum(sub1, axis=0)\n",
    "sub2_total = np.sum(sub2, axis=0)\n",
    "sub3_total = np.sum(sub3, axis=0)\n",
    "sub4_total = np.sum(sub4, axis=0)\n",
    "\n",
    "sub1_norm = sub1_total/np.sum(sub1_total)\n",
    "sub2_norm = sub2_total/np.sum(sub2_total)\n",
    "sub3_norm = sub3_total/np.sum(sub3_total)\n",
    "sub4_norm = sub4_total/np.sum(sub4_total)\n",
    "\n",
    "plt.bar(x[:-1], sub1_norm, alpha=0.3, label='Zmax<500')\n",
    "plt.bar(x[:-1], sub2_norm, alpha=0.3, label='500<Zmax<1000')\n",
    "plt.bar(x[:-1], sub3_norm, alpha=0.3, label='1000<Zmax<1500')\n",
    "plt.bar(x[:-1], sub4_norm, alpha=0.3, label='1500<Zmax<2000')\n",
    "\n",
    "plt.xlabel('age [Gyr]')\n",
    "plt.ylabel('normalized count')\n",
    "plt.legend()\n",
    "plt.show()\n"
   ]
  },
  {
   "cell_type": "code",
   "execution_count": 156,
   "id": "b758c711",
   "metadata": {},
   "outputs": [
    {
     "data": {
      "image/png": "[encoded data removed]",
      "text/plain": [
       "<Figure size 640x480 with 1 Axes>"
      ]
     },
     "metadata": {},
     "output_type": "display_data"
    }
   ],
   "source": [
    "plt.hist(merged_df['iso_age'], label='anything with gala height')\n",
    "plt.hist(merged_sub['iso_age'], label='subset for 5000<Teff<5500 K')\n",
    "plt.xlabel('age [Gyr]')\n",
    "plt.xlim([0, 14])\n",
    "plt.legend()\n",
    "plt.show()"
   ]
  },
  {
   "cell_type": "code",
   "execution_count": 108,
   "id": "893d578c",
   "metadata": {},
   "outputs": [
    {
     "data": {
      "image/png": "[encoded data removed]",
      "text/plain": [
       "<Figure size 640x480 with 1 Axes>"
      ]
     },
     "metadata": {},
     "output_type": "display_data"
    }
   ],
   "source": [
    "plt.hist(merged_sub1['iso_age'], alpha=0.3, label='Zmax<500')\n",
    "plt.hist(merged_sub2['iso_age'], alpha=0.3, label='500<Zmax<1000')\n",
    "plt.hist(merged_sub3['iso_age'], alpha=0.3, label='1000<Zmax<1500')\n",
    "plt.hist(merged_sub4['iso_age'], alpha=0.3, label='1500<Zmax<2000')\n",
    "plt.xlabel('age [Gyr]')\n",
    "plt.legend()\n",
    "plt.show()"
   ]
  },
  {
   "cell_type": "code",
   "execution_count": null,
   "id": "8cb60e08",
   "metadata": {},
   "outputs": [],
   "source": []
  }
 ],
 "metadata": {
  "jupytext": {
   "encoding": "# -*- coding: utf-8 -*-"
  },
  "kernelspec": {
   "display_name": "mdwarf",
   "language": "python",
   "name": "python3"
  },
  "language_info": {
   "codemirror_mode": {
    "name": "ipython",
    "version": 3
   },
   "file_extension": ".py",
   "mimetype": "text/x-python",
   "name": "python",
   "nbconvert_exporter": "python",
   "pygments_lexer": "ipython3",
   "version": "3.12.1"
  }
 },
 "nbformat": 4,
 "nbformat_minor": 5
}
