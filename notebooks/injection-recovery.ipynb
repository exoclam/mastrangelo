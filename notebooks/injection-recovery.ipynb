{
 "cells": [
  {
   "cell_type": "code",
   "execution_count": 80,
   "metadata": {},
   "outputs": [],
   "source": [
    "import pandas as pd\n",
    "import numpy as np\n",
    "from astropy.io import fits\n",
    "from astropy.table import Table\n",
    "from glob import glob\n",
    "import matplotlib.pyplot as plt\n",
    "import scipy\n",
    "from math import lgamma\n",
    "import seaborn as sns\n",
    "%matplotlib inline\n",
    "\n",
    "path = '/Users/chris/Desktop/mastrangelo/'\n"
   ]
  },
  {
   "cell_type": "code",
   "execution_count": 81,
   "metadata": {},
   "outputs": [],
   "source": [
    "import matplotlib.pylab as pylab\n",
    "pylab_params = {'legend.fontsize': 'large',\n",
    "         'axes.labelsize': 'x-large',\n",
    "         'axes.titlesize':'x-large',\n",
    "         'xtick.labelsize':'large',\n",
    "         'ytick.labelsize':'large'}\n",
    "pylab.rcParams.update(pylab_params)\n",
    "\n",
    "total_stars = 67380"
   ]
  },
  {
   "cell_type": "code",
   "execution_count": 82,
   "metadata": {},
   "outputs": [],
   "source": [
    "from ast import literal_eval\n",
    "\n",
    "#https://stackoverflow.com/questions/52232742/how-to-use-ast-literal-eval-in-a-pandas-dataframe-and-handle-exceptions\n",
    "def literal_eval_w_exceptions(x):\n",
    "    try:\n",
    "        return literal_eval(str(x))   \n",
    "    except Exception as e:\n",
    "        #print(e)\n",
    "        pass"
   ]
  },
  {
   "cell_type": "markdown",
   "metadata": {},
   "source": [
    "Read in and process data (pad and create zero bins)"
   ]
  },
  {
   "cell_type": "code",
   "execution_count": 83,
   "metadata": {},
   "outputs": [],
   "source": [
    "truth = pd.read_csv(path+'collect_ground_truth.csv', converters=dict(transit_multiplicities=literal_eval))\n",
    "recovery = pd.read_csv(path+'collect_recovery.csv', converters=dict(transit_multiplicities=literal_eval))\n"
   ]
  },
  {
   "cell_type": "code",
   "execution_count": null,
   "metadata": {},
   "outputs": [],
   "source": [
    "zero_bins = []\n",
    "transit_multiplicity_zero_bin = []\n",
    "for j, i in enumerate(truth.transit_multiplicities[:]):\n",
    "    zero_bins.append(total_stars-np.sum(i))\n",
    "    temp = truth.reset_index().transit_multiplicities[:][j]\n",
    "    temp.insert(0,total_stars - np.sum(i))\n",
    "    transit_multiplicity_zero_bin.append(temp)\n",
    "truth['transit_multiplicity_zero_bin'] = transit_multiplicity_zero_bin\n",
    "\n",
    "zero_bins = []\n",
    "transit_multiplicity_zero_bin = []\n",
    "for j, i in enumerate(recovery.transit_multiplicities[:]):\n",
    "    zero_bins.append(total_stars-np.sum(i))\n",
    "    temp = recovery.reset_index().transit_multiplicities[:][j]\n",
    "    temp.insert(0,total_stars - np.sum(i))\n",
    "    transit_multiplicity_zero_bin.append(temp)\n",
    "recovery['transit_multiplicity_zero_bin'] = transit_multiplicity_zero_bin"
   ]
  },
  {
   "cell_type": "code",
   "execution_count": null,
   "metadata": {},
   "outputs": [],
   "source": [
    "def pad(lam):\n",
    "    lam += [0.] * (7 - len(lam)) # pad with zeros to match length of k\n",
    "    return lam\n",
    "\n",
    "truth['transit_multiplicities'] = truth.transit_multiplicities.apply(pad)\n",
    "recovery['transit_multiplicities'] = recovery.transit_multiplicities.apply(pad)\n"
   ]
  },
  {
   "cell_type": "markdown",
   "metadata": {},
   "source": [
    "Prepare machinery for injection-recovery experiments"
   ]
  },
  {
   "cell_type": "code",
   "execution_count": null,
   "metadata": {},
   "outputs": [],
   "source": [
    "def prior_grid_logslope(cube, ndim, nparams, gi_m, gi_b, gi_c):\n",
    "    \"\"\"\n",
    "    Each model run will use an evenly spaced (m,b, cutoff) tuple on a discrete 11x11x11 3D grid\n",
    "    We're doing log(time), so slope is sampled linearly (everything gets logged together later)\n",
    "    If a cutoff results in a zero probability, don't bother \n",
    "\n",
    "    gi_m: grid index on m axis\n",
    "    gi_b: grid index on b axis\n",
    "    gi_c: grid index for cutoff time axis\n",
    "    \"\"\"\n",
    "    #cube[0] = -1e-9*np.logspace(8,10,11)[gi_m] # convert from year to Gyr\n",
    "    cube[0] = np.linspace(-2,0,11)[gi_m] \n",
    "    cube[1] = np.linspace(0,1,3)[gi_b]\n",
    "    #cube[2] = np.logspace(1e8,1e10,11)\n",
    "    cube[2] = np.round(np.logspace(8,10,11)[gi_c], 0) # in Ballard et al in prep, they use log(yrs) instead of drawing yrs from logspace\n",
    "    return cube"
   ]
  },
  {
   "cell_type": "code",
   "execution_count": null,
   "metadata": {},
   "outputs": [],
   "source": [
    "def better_loglike(lam, k):\n",
    "    \"\"\"\n",
    "    Calculate Poisson log likelihood\n",
    "    Changed 0 handling from simulate.py to reflect https://www.aanda.org/articles/aa/pdf/2009/16/aa8472-07.pdf\n",
    "\n",
    "    Params: \n",
    "    - lam: model predictions for transit multiplicity (list of ints)\n",
    "    - k: Kepler transit multiplicity (list of ints); can accept alternate ground truths as well\n",
    "\n",
    "    Returns: Poisson log likelihood (float)\n",
    "    \"\"\"\n",
    "\n",
    "    # in the rare occasion that a simulated system has 7+ planets, throw them into the 6+ bin\n",
    "    if len(k) < len(lam): \n",
    "        extras = lam[len(k):]\n",
    "        sum_extras = np.sum(extras)\n",
    "        lam[5] += sum_extras\n",
    "    lam = lam[:6]\n",
    "    \n",
    "    logL = []\n",
    "    for i in range(len(lam)):\n",
    "        if lam[i]==0:\n",
    "            term3 = -lgamma(k[i]+1)\n",
    "            term2 = -lam[i]\n",
    "            term1 = 0\n",
    "            logL.append(term1+term2+term3)\n",
    "\n",
    "        else:\n",
    "            term3 = -lgamma(k[i]+1)\n",
    "            term2 = -lam[i]\n",
    "            term1 = k[i]*np.log(lam[i])\n",
    "            logL.append(term1+term2+term3)\n",
    "\n",
    "    return np.sum(logL)"
   ]
  },
  {
   "cell_type": "markdown",
   "metadata": {},
   "source": [
    "What would it look like to take the logL of something that's sqrt(N) deviated from the ground truth, where N is the number of systems in each bin? \n",
    "\n",
    "Answer: this is $\\Delta$ logL of 3 different from the perfect case of comparing the ground truth to itself."
   ]
  },
  {
   "cell_type": "code",
   "execution_count": null,
   "metadata": {},
   "outputs": [],
   "source": [
    "better_loglike(np.array([9900, 804, 122, 32, 11, 3, 0]), np.array([1e4, 833, 134, 38, 15, 5, 0]))"
   ]
  },
  {
   "cell_type": "markdown",
   "metadata": {},
   "source": [
    "#### Model 2: m = -1, b = 0.5, c = 4e9, f = 0.3 (average model)"
   ]
  },
  {
   "cell_type": "code",
   "execution_count": 316,
   "metadata": {},
   "outputs": [],
   "source": [
    "tm_fiducial = truth.loc[(truth.ms == -1) & (truth.bs == 0.5) & (np.round(truth.cs, -9) == 4e9) & (np.round(truth.fs,1) == 0.3)].transit_multiplicities\n"
   ]
  },
  {
   "cell_type": "code",
   "execution_count": 317,
   "metadata": {},
   "outputs": [],
   "source": [
    "cube = [0,0,0]\n",
    "fs = np.round(np.linspace(0.1, 1.), 1)\n",
    "ndim = 3\n",
    "nparams = 3\n",
    "\n",
    "ms = []\n",
    "bs = []\n",
    "cs = []\n",
    "fs_for_df = []\n",
    "all_logLs = []\n",
    "\n",
    "for gi_m in range(11):\n",
    "    \n",
    "    for gi_b in range(2):\n",
    "        gi_b = gi_b + 1\n",
    "\n",
    "        for gi_c in range(11):\n",
    "            cube = prior_grid_logslope(cube, ndim, nparams, gi_m, gi_b, gi_c)\n",
    "            \n",
    "            for f in fs:\n",
    "                \n",
    "                ms.append(cube[0])\n",
    "                bs.append(cube[1])\n",
    "                cs.append(cube[2])\n",
    "                fs_for_df.append(f)\n",
    "                \n",
    "                try:\n",
    "                    #tm = truth.loc[(truth.ms == cube[0]) & (truth.bs == cube[1]) & (np.round(truth.cs, 0) == cube[2]) & (np.round(truth.fs,1) == f)].transit_multiplicities\n",
    "                    tm_recovery = recovery.loc[(np.round(recovery.ms,1) == np.round(cube[0],1)) & (np.round(recovery.bs,1) == np.round(cube[1],1)) & (np.round(recovery.cs, 0) == np.round(cube[2],0)) & (np.round(recovery.fs,1) == f)].transit_multiplicities.to_list()\n",
    "\n",
    "                    # calculate logL for each realization of each model, using tm as the ground truth\n",
    "                    logLs = []\n",
    "                    for i in range(len(tm_recovery)):\n",
    "                        logL = better_loglike(tm_recovery[i], np.sum(tm_fiducial))\n",
    "                        logLs.append(logL)\n",
    "\n",
    "                    # get best logL for each model\n",
    "                    best_logL = np.max(logLs)\n",
    "\n",
    "                    all_logLs.append(best_logL)\n",
    "                except:\n",
    "                    all_logLs.append(0.)\n",
    "                "
   ]
  },
  {
   "cell_type": "code",
   "execution_count": 318,
   "metadata": {},
   "outputs": [
    {
     "data": {
      "text/html": [
       "<div>\n",
       "<style scoped>\n",
       "    .dataframe tbody tr th:only-of-type {\n",
       "        vertical-align: middle;\n",
       "    }\n",
       "\n",
       "    .dataframe tbody tr th {\n",
       "        vertical-align: top;\n",
       "    }\n",
       "\n",
       "    .dataframe thead th {\n",
       "        text-align: right;\n",
       "    }\n",
       "</style>\n",
       "<table border=\"1\" class=\"dataframe\">\n",
       "  <thead>\n",
       "    <tr style=\"text-align: right;\">\n",
       "      <th></th>\n",
       "      <th>m</th>\n",
       "      <th>b</th>\n",
       "      <th>c</th>\n",
       "      <th>f</th>\n",
       "      <th>logL</th>\n",
       "    </tr>\n",
       "  </thead>\n",
       "  <tbody>\n",
       "    <tr>\n",
       "      <th>0</th>\n",
       "      <td>-2.0</td>\n",
       "      <td>0.5</td>\n",
       "      <td>1.000000e+08</td>\n",
       "      <td>0.1</td>\n",
       "      <td>-387.045691</td>\n",
       "    </tr>\n",
       "    <tr>\n",
       "      <th>1</th>\n",
       "      <td>-2.0</td>\n",
       "      <td>0.5</td>\n",
       "      <td>1.000000e+08</td>\n",
       "      <td>0.1</td>\n",
       "      <td>-387.045691</td>\n",
       "    </tr>\n",
       "    <tr>\n",
       "      <th>2</th>\n",
       "      <td>-2.0</td>\n",
       "      <td>0.5</td>\n",
       "      <td>1.000000e+08</td>\n",
       "      <td>0.1</td>\n",
       "      <td>-387.045691</td>\n",
       "    </tr>\n",
       "    <tr>\n",
       "      <th>3</th>\n",
       "      <td>-2.0</td>\n",
       "      <td>0.5</td>\n",
       "      <td>1.000000e+08</td>\n",
       "      <td>0.2</td>\n",
       "      <td>-72.945311</td>\n",
       "    </tr>\n",
       "    <tr>\n",
       "      <th>4</th>\n",
       "      <td>-2.0</td>\n",
       "      <td>0.5</td>\n",
       "      <td>1.000000e+08</td>\n",
       "      <td>0.2</td>\n",
       "      <td>-72.945311</td>\n",
       "    </tr>\n",
       "    <tr>\n",
       "      <th>...</th>\n",
       "      <td>...</td>\n",
       "      <td>...</td>\n",
       "      <td>...</td>\n",
       "      <td>...</td>\n",
       "      <td>...</td>\n",
       "    </tr>\n",
       "    <tr>\n",
       "      <th>12095</th>\n",
       "      <td>0.0</td>\n",
       "      <td>1.0</td>\n",
       "      <td>1.000000e+10</td>\n",
       "      <td>0.9</td>\n",
       "      <td>0.000000</td>\n",
       "    </tr>\n",
       "    <tr>\n",
       "      <th>12096</th>\n",
       "      <td>0.0</td>\n",
       "      <td>1.0</td>\n",
       "      <td>1.000000e+10</td>\n",
       "      <td>0.9</td>\n",
       "      <td>0.000000</td>\n",
       "    </tr>\n",
       "    <tr>\n",
       "      <th>12097</th>\n",
       "      <td>0.0</td>\n",
       "      <td>1.0</td>\n",
       "      <td>1.000000e+10</td>\n",
       "      <td>1.0</td>\n",
       "      <td>0.000000</td>\n",
       "    </tr>\n",
       "    <tr>\n",
       "      <th>12098</th>\n",
       "      <td>0.0</td>\n",
       "      <td>1.0</td>\n",
       "      <td>1.000000e+10</td>\n",
       "      <td>1.0</td>\n",
       "      <td>0.000000</td>\n",
       "    </tr>\n",
       "    <tr>\n",
       "      <th>12099</th>\n",
       "      <td>0.0</td>\n",
       "      <td>1.0</td>\n",
       "      <td>1.000000e+10</td>\n",
       "      <td>1.0</td>\n",
       "      <td>0.000000</td>\n",
       "    </tr>\n",
       "  </tbody>\n",
       "</table>\n",
       "<p>12100 rows × 5 columns</p>\n",
       "</div>"
      ],
      "text/plain": [
       "         m    b             c    f        logL\n",
       "0     -2.0  0.5  1.000000e+08  0.1 -387.045691\n",
       "1     -2.0  0.5  1.000000e+08  0.1 -387.045691\n",
       "2     -2.0  0.5  1.000000e+08  0.1 -387.045691\n",
       "3     -2.0  0.5  1.000000e+08  0.2  -72.945311\n",
       "4     -2.0  0.5  1.000000e+08  0.2  -72.945311\n",
       "...    ...  ...           ...  ...         ...\n",
       "12095  0.0  1.0  1.000000e+10  0.9    0.000000\n",
       "12096  0.0  1.0  1.000000e+10  0.9    0.000000\n",
       "12097  0.0  1.0  1.000000e+10  1.0    0.000000\n",
       "12098  0.0  1.0  1.000000e+10  1.0    0.000000\n",
       "12099  0.0  1.0  1.000000e+10  1.0    0.000000\n",
       "\n",
       "[12100 rows x 5 columns]"
      ]
     },
     "execution_count": 318,
     "metadata": {},
     "output_type": "execute_result"
    }
   ],
   "source": [
    "model_logLs = pd.DataFrame({'m': ms, 'b': bs, 'c': cs, 'f': fs_for_df, 'logL': all_logLs})\n",
    "model_logLs"
   ]
  },
  {
   "cell_type": "markdown",
   "metadata": {},
   "source": [
    "### Note that while these logLs take f into account, they do not take the zero-bin into account. analyze.ipynb has machinery to handle that, and we can do this injection-recovery routine with those logLs instead, if we want. "
   ]
  },
  {
   "cell_type": "markdown",
   "metadata": {},
   "source": [
    "#### What is the $\\Delta$ logL between the very best model and the ground truth?"
   ]
  },
  {
   "cell_type": "markdown",
   "metadata": {},
   "source": [
    "Identify best and good models"
   ]
  },
  {
   "cell_type": "code",
   "execution_count": 319,
   "metadata": {},
   "outputs": [
    {
     "name": "stdout",
     "output_type": "stream",
     "text": [
      "Best model:          m    b             c    f       logL\n",
      "5359 -1.2  1.0  3.981072e+09  0.3 -21.804649\n",
      "5360 -1.2  1.0  3.981072e+09  0.3 -21.804649\n",
      "5361 -1.2  1.0  3.981072e+09  0.3 -21.804649\n",
      "5362 -1.2  1.0  3.981072e+09  0.3 -21.804649\n",
      "5363 -1.2  1.0  3.981072e+09  0.3 -21.804649\n",
      "Ground truth:  5909   -21.917619\n",
      "5910   -21.917619\n",
      "5911   -21.917619\n",
      "5912   -21.917619\n",
      "5913   -21.917619\n",
      "Name: logL, dtype: float64\n",
      "Some models between best model and ground truth: \n",
      "       m    b             c    f       logL\n",
      "959 -2.0  1.0  3.981072e+09  0.3 -21.852544\n",
      "960 -2.0  1.0  3.981072e+09  0.3 -21.852544\n",
      "961 -2.0  1.0  3.981072e+09  0.3 -21.852544\n",
      "962 -2.0  1.0  3.981072e+09  0.3 -21.852544\n",
      "963 -2.0  1.0  3.981072e+09  0.3 -21.852544\n"
     ]
    }
   ],
   "source": [
    "best_logL = max(model_logLs.loc[model_logLs.logL < 0.].logL)\n",
    "print(\"Best model: \", model_logLs.loc[(model_logLs.logL >= best_logL) & (model_logLs.logL < 0.)])\n",
    "\n",
    "ground_truth = model_logLs.loc[(model_logLs.m == -1) & (model_logLs.b == 0.5) & (np.round(model_logLs.c, -9) == 4e9) & (np.round(model_logLs.f,1) == 0.3)]\n",
    "print(\"Ground truth: \", \n",
    "      ground_truth.logL)\n",
    "delta_logL = best_logL - model_logLs.loc[(model_logLs.m == -1) & (model_logLs.b == 0.5) & (np.round(model_logLs.c, -9) == 4e9) & (np.round(model_logLs.f,1) == 0.3)].logL.to_list()[0]\n",
    "\n",
    "good_models = model_logLs.loc[np.abs(model_logLs.logL - best_logL) < delta_logL]\n",
    "print(\"Some models between best model and ground truth: \")\n",
    "print(good_models.head())"
   ]
  },
  {
   "cell_type": "markdown",
   "metadata": {},
   "source": [
    "Plot these models"
   ]
  },
  {
   "cell_type": "code",
   "execution_count": 17,
   "metadata": {},
   "outputs": [],
   "source": [
    "def build_models(x, m, b, c, f): # adapted from Ballard et al in prep, log version\n",
    "    \"\"\" \n",
    "    Calculate P(intact) as a function of time, in order to visualize sculpting models.\n",
    "\n",
    "    Input:\n",
    "    - x: grid of ages [log yrs]\n",
    "    - m: sculpting law slope [dex]\n",
    "    - b: sculpting law initial intact probability, out of planet-hosting stars\n",
    "    - c: sculpting law turnoff time [log yrs]\n",
    "    - f: fraction of planet-hosting stars\n",
    "\n",
    "    Output:\n",
    "    - y: grid of P(intacts)\n",
    "\n",
    "    \"\"\"\n",
    "\n",
    "    # x-axis before cutoff\n",
    "    x1 = x[x<c]\n",
    "    x2 = x[x>=c]\n",
    "    \n",
    "    # first piece, before cutoff\n",
    "    y1 = (b + m * (np.log10(x1) - 8)) * f\n",
    "    \n",
    "    # second piece, after cutoff\n",
    "    y2 = np.ones(len(x2)) * (b + m * (np.log10(c) - 8)) * f\n",
    "    \n",
    "    y = np.concatenate((y1, y2))\n",
    "    \n",
    "    # flatten out at zero\n",
    "    y = np.where(y < 0, 0, y)\n",
    "    \n",
    "    return y"
   ]
  },
  {
   "cell_type": "code",
   "execution_count": 320,
   "metadata": {},
   "outputs": [
    {
     "data": {
      "image/png": "[encoded data removed]",
      "text/plain": [
       "<Figure size 432x288 with 1 Axes>"
      ]
     },
     "metadata": {
      "needs_background": "light"
     },
     "output_type": "display_data"
    }
   ],
   "source": [
    "x = np.logspace(8, 10, 10)\n",
    "\n",
    "# best model\n",
    "best_model = model_logLs.loc[(model_logLs.logL >= best_logL) & (model_logLs.logL < 0.)]\n",
    "m, b, c, f = best_model.m.to_list()[0], best_model.b.to_list()[0], best_model.c.to_list()[0], best_model.f.to_list()[0]\n",
    "plt.plot(x, build_models(x, m, b, c, f), label='best fit', color='k')\n",
    "\n",
    "# ground truth\n",
    "m, b, c, f = ground_truth.m.to_list()[0], ground_truth.b.to_list()[0], ground_truth.c.to_list()[0], ground_truth.f.to_list()[0]\n",
    "plt.plot(x, build_models(x, m, b, c, f), label='ground truth', color='r')\n",
    "\n",
    "# models as good as or better than ground truth\n",
    "good_models = good_models.drop_duplicates(subset=['m','b','c','f'])\n",
    "label_flag = True\n",
    "for index, row in good_models.reset_index().iterrows(): \n",
    "    m, b, c, f = row.m, row.b, row.c, row.f\n",
    "    if label_flag == True:\n",
    "        plt.plot(x, build_models(x, m, b, c, f), color='green', zorder=0, label='good models', alpha=0.5)\n",
    "    elif label_flag == False:\n",
    "        plt.plot(x, build_models(x, m, b, c, f), color='green', zorder=0, alpha=0.5)\n",
    "    label_flag = False  \n",
    "    \n",
    "plt.xscale('log')\n",
    "plt.ylim([0, 0.5])\n",
    "plt.xlabel('age [Gyr]')\n",
    "plt.ylabel('P(intact)')\n",
    "plt.title(f'm = -1., b = 0.5, c = 4e9, f = 0.3 (fast sculpting); $\\Delta logL = {np.round(delta_logL,2)}$')\n",
    "plt.legend()\n",
    "plt.show()"
   ]
  },
  {
   "cell_type": "markdown",
   "metadata": {},
   "source": [
    "#### Normalizing no-sculpting models, which are fewer than the others"
   ]
  },
  {
   "cell_type": "code",
   "execution_count": 199,
   "metadata": {
    "scrolled": true
   },
   "outputs": [
    {
     "data": {
      "text/html": [
       "<div>\n",
       "<style scoped>\n",
       "    .dataframe tbody tr th:only-of-type {\n",
       "        vertical-align: middle;\n",
       "    }\n",
       "\n",
       "    .dataframe tbody tr th {\n",
       "        vertical-align: top;\n",
       "    }\n",
       "\n",
       "    .dataframe thead th {\n",
       "        text-align: right;\n",
       "    }\n",
       "</style>\n",
       "<table border=\"1\" class=\"dataframe\">\n",
       "  <thead>\n",
       "    <tr style=\"text-align: right;\">\n",
       "      <th></th>\n",
       "      <th>m</th>\n",
       "      <th>b</th>\n",
       "      <th>c</th>\n",
       "      <th>f</th>\n",
       "      <th>logL</th>\n",
       "    </tr>\n",
       "  </thead>\n",
       "  <tbody>\n",
       "    <tr>\n",
       "      <th>11000</th>\n",
       "      <td>0.0</td>\n",
       "      <td>0.5</td>\n",
       "      <td>1.000000e+08</td>\n",
       "      <td>0.1</td>\n",
       "      <td>-397.434609</td>\n",
       "    </tr>\n",
       "    <tr>\n",
       "      <th>11001</th>\n",
       "      <td>0.0</td>\n",
       "      <td>0.5</td>\n",
       "      <td>1.000000e+08</td>\n",
       "      <td>0.1</td>\n",
       "      <td>-397.434609</td>\n",
       "    </tr>\n",
       "    <tr>\n",
       "      <th>11002</th>\n",
       "      <td>0.0</td>\n",
       "      <td>0.5</td>\n",
       "      <td>1.000000e+08</td>\n",
       "      <td>0.1</td>\n",
       "      <td>-397.434609</td>\n",
       "    </tr>\n",
       "    <tr>\n",
       "      <th>11050</th>\n",
       "      <td>0.0</td>\n",
       "      <td>0.5</td>\n",
       "      <td>1.584893e+08</td>\n",
       "      <td>0.1</td>\n",
       "      <td>-391.523303</td>\n",
       "    </tr>\n",
       "    <tr>\n",
       "      <th>11051</th>\n",
       "      <td>0.0</td>\n",
       "      <td>0.5</td>\n",
       "      <td>1.584893e+08</td>\n",
       "      <td>0.1</td>\n",
       "      <td>-391.523303</td>\n",
       "    </tr>\n",
       "    <tr>\n",
       "      <th>...</th>\n",
       "      <td>...</td>\n",
       "      <td>...</td>\n",
       "      <td>...</td>\n",
       "      <td>...</td>\n",
       "      <td>...</td>\n",
       "    </tr>\n",
       "    <tr>\n",
       "      <th>12001</th>\n",
       "      <td>0.0</td>\n",
       "      <td>1.0</td>\n",
       "      <td>6.309573e+09</td>\n",
       "      <td>0.1</td>\n",
       "      <td>0.000000</td>\n",
       "    </tr>\n",
       "    <tr>\n",
       "      <th>12002</th>\n",
       "      <td>0.0</td>\n",
       "      <td>1.0</td>\n",
       "      <td>6.309573e+09</td>\n",
       "      <td>0.1</td>\n",
       "      <td>0.000000</td>\n",
       "    </tr>\n",
       "    <tr>\n",
       "      <th>12050</th>\n",
       "      <td>0.0</td>\n",
       "      <td>1.0</td>\n",
       "      <td>1.000000e+10</td>\n",
       "      <td>0.1</td>\n",
       "      <td>0.000000</td>\n",
       "    </tr>\n",
       "    <tr>\n",
       "      <th>12051</th>\n",
       "      <td>0.0</td>\n",
       "      <td>1.0</td>\n",
       "      <td>1.000000e+10</td>\n",
       "      <td>0.1</td>\n",
       "      <td>0.000000</td>\n",
       "    </tr>\n",
       "    <tr>\n",
       "      <th>12052</th>\n",
       "      <td>0.0</td>\n",
       "      <td>1.0</td>\n",
       "      <td>1.000000e+10</td>\n",
       "      <td>0.1</td>\n",
       "      <td>0.000000</td>\n",
       "    </tr>\n",
       "  </tbody>\n",
       "</table>\n",
       "<p>66 rows × 5 columns</p>\n",
       "</div>"
      ],
      "text/plain": [
       "         m    b             c    f        logL\n",
       "11000  0.0  0.5  1.000000e+08  0.1 -397.434609\n",
       "11001  0.0  0.5  1.000000e+08  0.1 -397.434609\n",
       "11002  0.0  0.5  1.000000e+08  0.1 -397.434609\n",
       "11050  0.0  0.5  1.584893e+08  0.1 -391.523303\n",
       "11051  0.0  0.5  1.584893e+08  0.1 -391.523303\n",
       "...    ...  ...           ...  ...         ...\n",
       "12001  0.0  1.0  6.309573e+09  0.1    0.000000\n",
       "12002  0.0  1.0  6.309573e+09  0.1    0.000000\n",
       "12050  0.0  1.0  1.000000e+10  0.1    0.000000\n",
       "12051  0.0  1.0  1.000000e+10  0.1    0.000000\n",
       "12052  0.0  1.0  1.000000e+10  0.1    0.000000\n",
       "\n",
       "[66 rows x 5 columns]"
      ]
     },
     "execution_count": 199,
     "metadata": {},
     "output_type": "execute_result"
    }
   ],
   "source": [
    "model_logLs.loc[(model_logLs.m == 0.) & (model_logLs.f == 0.1)]"
   ]
  },
  {
   "cell_type": "markdown",
   "metadata": {},
   "source": [
    "Ope! Looks like I've lost a few differing cutoff timescale files for the case of no sculpting. Fortunately, this edge case means that the logL should be the same regardless of cutoff time. "
   ]
  },
  {
   "cell_type": "code",
   "execution_count": null,
   "metadata": {},
   "outputs": [],
   "source": []
  },
  {
   "cell_type": "code",
   "execution_count": 189,
   "metadata": {},
   "outputs": [
    {
     "data": {
      "image/png": "[encoded data removed]",
      "text/plain": [
       "<Figure size 720x720 with 4 Axes>"
      ]
     },
     "metadata": {
      "needs_background": "light"
     },
     "output_type": "display_data"
    }
   ],
   "source": [
    "f, ((ax1, ax2), (ax3, ax4)) = plt.subplots(2, 2, figsize=(10, 10))\n",
    "\n",
    "# marginalize in 1D\n",
    "marginalized_logLs = []\n",
    "for gi_m in range(11):\n",
    "\n",
    "    cube = prior_grid_logslope(cube, ndim, nparams, gi_m, gi_b, gi_c)\n",
    "    \n",
    "    # subset\n",
    "    only = model_logLs.loc[(model_logLs.m == cube[0])]# & (model_logLs.f == 0.3)]\n",
    "    \n",
    "    # marginalize logL\n",
    "    marginalized_logLs.append(np.sum(only.logL))\n",
    "\n",
    "ax1.scatter(truth.ms.unique(), marginalized_logLs)\n",
    "ax1.set_ylabel(\"log likelihood\")\n",
    "ax1.set_xlabel(\"sculpting speed [dex]\")\n",
    "\n",
    "marginalized_logLs = []\n",
    "for gi_b in range(2):\n",
    "    gi_b = gi_b + 1\n",
    "    \n",
    "    cube = prior_grid_logslope(cube, ndim, nparams, gi_m, gi_b, gi_c)\n",
    "    \n",
    "    # subset\n",
    "    only = model_logLs.loc[(model_logLs.b == cube[1])]# & (model_logLs.f == 0.3)]\n",
    "    \n",
    "    # marginalize logL\n",
    "    marginalized_logLs.append(np.sum(only.logL))\n",
    "ax2.scatter(model_logLs.b.unique(), marginalized_logLs)\n",
    "ax2.set_ylabel(\"log likelihood\")\n",
    "ax2.set_xlabel(\"b\")\n",
    "\n",
    "marginalized_logLs = []\n",
    "for gi_c in range(11):\n",
    "\n",
    "    cube = prior_grid_logslope(cube, ndim, nparams, gi_m, gi_b, gi_c)\n",
    "    \n",
    "    # subset\n",
    "    only = model_logLs.loc[(model_logLs.c == cube[2])]# & (model_logLs.f == 0.3)]\n",
    "    \n",
    "    # marginalize logL\n",
    "    marginalized_logLs.append(np.sum(only.logL))\n",
    "ax3.scatter(truth.cs.unique(), marginalized_logLs)\n",
    "ax3.set_ylabel(\"log likelihood\")\n",
    "ax3.set_xlabel(\"c\")\n",
    "ax3.set_xscale('log')\n",
    "\n",
    "marginalized_logLs = []\n",
    "for gi_f in np.linspace(0.1, 1, 10):\n",
    "    \n",
    "    # subset\n",
    "    only = model_logLs.loc[(np.round(model_logLs.f, 1) == np.round(gi_f, 1))]\n",
    "    \n",
    "    # marginalize logL\n",
    "    marginalized_logLs.append(np.sum(only.logL))\n",
    "ax4.scatter(np.linspace(0.1, 1, 10), marginalized_logLs)\n",
    "ax4.set_ylabel(\"log likelihood\")\n",
    "ax4.set_xlabel(\"f\")\n",
    "\n",
    "plt.tight_layout()\n",
    "plt.show()"
   ]
  },
  {
   "cell_type": "code",
   "execution_count": 37,
   "metadata": {},
   "outputs": [
    {
     "data": {
      "image/png": "[encoded data removed]",
      "text/plain": [
       "<Figure size 432x288 with 2 Axes>"
      ]
     },
     "metadata": {
      "needs_background": "light"
     },
     "output_type": "display_data"
    }
   ],
   "source": [
    "piv = model_logLs.groupby(['m','b','c']).mean('logL').reset_index().groupby(['m','b']).sum('logL').reset_index()\n",
    "\n",
    "piv = piv.pivot(\"b\",\"m\",\"logL\") # vs logged_normalized_likelihood\n",
    "#print(np.nanmin(piv.values), np.nanmax(piv.values), np.nansum(piv.values), np.nansum(np.log(piv.values)), np.log(np.nansum(piv.values)))\n",
    "#print(np.log(np.nanmin(piv.values)), np.log(np.nanmax(piv.values)))\n",
    "\n",
    "fig, ax = plt.subplots()\n",
    "sns.heatmap(piv, yticklabels=model_logLs.b.unique().round(1), cbar_kws={'label': 'logL'})\n",
    "#sns.heatmap(piv, vmin=-455, vmax=-17.9)\n",
    "ax.set_yticks(ax.get_yticks()[::2]) # sample every other tick, for cleanness\n",
    "plt.title('m = -1, b = 0.5, c = 4e9, f = 0.3')\n",
    "plt.show()"
   ]
  },
  {
   "cell_type": "code",
   "execution_count": 38,
   "metadata": {},
   "outputs": [
    {
     "data": {
      "text/html": [
       "<div>\n",
       "<style scoped>\n",
       "    .dataframe tbody tr th:only-of-type {\n",
       "        vertical-align: middle;\n",
       "    }\n",
       "\n",
       "    .dataframe tbody tr th {\n",
       "        vertical-align: top;\n",
       "    }\n",
       "\n",
       "    .dataframe thead th {\n",
       "        text-align: right;\n",
       "    }\n",
       "</style>\n",
       "<table border=\"1\" class=\"dataframe\">\n",
       "  <thead>\n",
       "    <tr style=\"text-align: right;\">\n",
       "      <th>m</th>\n",
       "      <th>-2.0</th>\n",
       "      <th>-1.0</th>\n",
       "      <th>0.0</th>\n",
       "    </tr>\n",
       "    <tr>\n",
       "      <th>b</th>\n",
       "      <th></th>\n",
       "      <th></th>\n",
       "      <th></th>\n",
       "    </tr>\n",
       "  </thead>\n",
       "  <tbody>\n",
       "    <tr>\n",
       "      <th>0.5</th>\n",
       "      <td>-5107.525974</td>\n",
       "      <td>-4927.432818</td>\n",
       "      <td>-4741.833165</td>\n",
       "    </tr>\n",
       "    <tr>\n",
       "      <th>1.0</th>\n",
       "      <td>-5532.992445</td>\n",
       "      <td>-5376.890655</td>\n",
       "      <td>-9413.281619</td>\n",
       "    </tr>\n",
       "  </tbody>\n",
       "</table>\n",
       "</div>"
      ],
      "text/plain": [
       "m           -2.0         -1.0          0.0\n",
       "b                                         \n",
       "0.5 -5107.525974 -4927.432818 -4741.833165\n",
       "1.0 -5532.992445 -5376.890655 -9413.281619"
      ]
     },
     "execution_count": 38,
     "metadata": {},
     "output_type": "execute_result"
    }
   ],
   "source": [
    "piv"
   ]
  },
  {
   "cell_type": "code",
   "execution_count": 35,
   "metadata": {},
   "outputs": [
    {
     "data": {
      "text/html": [
       "<div>\n",
       "<style scoped>\n",
       "    .dataframe tbody tr th:only-of-type {\n",
       "        vertical-align: middle;\n",
       "    }\n",
       "\n",
       "    .dataframe tbody tr th {\n",
       "        vertical-align: top;\n",
       "    }\n",
       "\n",
       "    .dataframe thead th {\n",
       "        text-align: right;\n",
       "    }\n",
       "</style>\n",
       "<table border=\"1\" class=\"dataframe\">\n",
       "  <thead>\n",
       "    <tr style=\"text-align: right;\">\n",
       "      <th></th>\n",
       "      <th></th>\n",
       "      <th>c</th>\n",
       "      <th>f</th>\n",
       "      <th>logL</th>\n",
       "    </tr>\n",
       "    <tr>\n",
       "      <th>m</th>\n",
       "      <th>b</th>\n",
       "      <th></th>\n",
       "      <th></th>\n",
       "      <th></th>\n",
       "    </tr>\n",
       "  </thead>\n",
       "  <tbody>\n",
       "    <tr>\n",
       "      <th rowspan=\"2\" valign=\"top\">-2.0</th>\n",
       "      <th>0.5</th>\n",
       "      <td>2.692617e+10</td>\n",
       "      <td>3.3</td>\n",
       "      <td>-2039.354036</td>\n",
       "    </tr>\n",
       "    <tr>\n",
       "      <th>1.0</th>\n",
       "      <td>2.692617e+10</td>\n",
       "      <td>3.3</td>\n",
       "      <td>-1756.797015</td>\n",
       "    </tr>\n",
       "    <tr>\n",
       "      <th rowspan=\"2\" valign=\"top\">-1.0</th>\n",
       "      <th>0.5</th>\n",
       "      <td>2.692617e+10</td>\n",
       "      <td>3.3</td>\n",
       "      <td>-1696.260358</td>\n",
       "    </tr>\n",
       "    <tr>\n",
       "      <th>1.0</th>\n",
       "      <td>2.692617e+10</td>\n",
       "      <td>3.3</td>\n",
       "      <td>-1047.170804</td>\n",
       "    </tr>\n",
       "    <tr>\n",
       "      <th rowspan=\"2\" valign=\"top\">0.0</th>\n",
       "      <th>0.5</th>\n",
       "      <td>2.692617e+10</td>\n",
       "      <td>3.3</td>\n",
       "      <td>-292.472633</td>\n",
       "    </tr>\n",
       "    <tr>\n",
       "      <th>1.0</th>\n",
       "      <td>2.692617e+10</td>\n",
       "      <td>3.3</td>\n",
       "      <td>-1615.694456</td>\n",
       "    </tr>\n",
       "  </tbody>\n",
       "</table>\n",
       "</div>"
      ],
      "text/plain": [
       "                     c    f         logL\n",
       "m    b                                  \n",
       "-2.0 0.5  2.692617e+10  3.3 -2039.354036\n",
       "     1.0  2.692617e+10  3.3 -1756.797015\n",
       "-1.0 0.5  2.692617e+10  3.3 -1696.260358\n",
       "     1.0  2.692617e+10  3.3 -1047.170804\n",
       " 0.0 0.5  2.692617e+10  3.3  -292.472633\n",
       "     1.0  2.692617e+10  3.3 -1615.694456"
      ]
     },
     "execution_count": 35,
     "metadata": {},
     "output_type": "execute_result"
    }
   ],
   "source": [
    "model_logLs.loc[model_logLs.f == 0.3].groupby(['m','b','c']).mean('logL').reset_index().groupby(['m','b']).sum('logL')"
   ]
  },
  {
   "cell_type": "code",
   "execution_count": 55,
   "metadata": {},
   "outputs": [
    {
     "data": {
      "image/png": "[encoded data removed]",
      "text/plain": [
       "<Figure size 432x288 with 2 Axes>"
      ]
     },
     "metadata": {
      "needs_background": "light"
     },
     "output_type": "display_data"
    }
   ],
   "source": [
    "piv = model_logLs.groupby(['m','b','c']).memlsan('logL').reset_index().groupby(['m','c']).sum('logL').reset_index()\n",
    "\n",
    "piv = piv.pivot(\"c\",\"m\",\"logL\") # vs logged_normalized_likelihood\n",
    "#print(np.nanmin(piv.values), np.nanmax(piv.values), np.nansum(piv.values), np.nansum(np.log(piv.values)), np.log(np.nansum(piv.values)))\n",
    "#print(np.log(np.nanmin(piv.values)), np.log(np.nanmax(piv.values)))\n",
    "\n",
    "fig, ax = plt.subplots()\n",
    "sns.heatmap(piv, yticklabels=model_logLs.c.unique().round(-8), cbar_kws={'label': 'logL'})\n",
    "#sns.heatmap(piv, vmin=-455, vmax=-17.9)\n",
    "ax.set_yticks(ax.get_yticks()[::2]) # sample every other tick, for cleanness\n",
    "plt.title('m = -1, b = 0.5, c = 4e9, f = 0.3')\n",
    "plt.show()"
   ]
  },
  {
   "cell_type": "markdown",
   "metadata": {},
   "source": [
    "It looks like we recover a cutoff time of 2.5 Gyrs instead of 4 Gyrs, as well as {m=0, b=0.5} instead of {m=-1, b=0.5}, although the latter is a close one, and in general the 1D posteriors show that m=0 is generally bad."
   ]
  },
  {
   "cell_type": "markdown",
   "metadata": {},
   "source": [
    "#### Model 3: m = -2, b = 1.0, c = 1e9, f = 0.3 (fast sculpting)\n"
   ]
  },
  {
   "cell_type": "code",
   "execution_count": 29,
   "metadata": {},
   "outputs": [],
   "source": [
    "tm_fiducial = truth.loc[(truth.ms == -2) & (truth.bs == 1.) & (np.round(truth.cs, -8) == 1e9) & (np.round(truth.fs,1) == 0.3)].transit_multiplicities\n"
   ]
  },
  {
   "cell_type": "code",
   "execution_count": 54,
   "metadata": {},
   "outputs": [
    {
     "data": {
      "text/plain": [
       "[66708.6, 630.9, 38.4, 1.2, 0.3, 0.6, 0.0]"
      ]
     },
     "execution_count": 54,
     "metadata": {},
     "output_type": "execute_result"
    }
   ],
   "source": [
    "tm_fiducial[192]"
   ]
  },
  {
   "cell_type": "code",
   "execution_count": 56,
   "metadata": {},
   "outputs": [],
   "source": [
    "test_recovery = recovery.loc[(recovery.ms == -1) & (recovery.bs == 1.) & (np.round(recovery.cs, -8) == 1e9) & (np.round(recovery.fs,1) == 0.3)].transit_multiplicities"
   ]
  },
  {
   "cell_type": "code",
   "execution_count": 59,
   "metadata": {},
   "outputs": [
    {
     "data": {
      "text/plain": [
       "41470    [66720.6, 618.9, 37.8, 1.7999999999999998, 0.6...\n",
       "41471           [66738.6, 603.0, 35.4, 2.1, 0.6, 0.3, 0.0]\n",
       "41472    [66717.9, 619.5, 38.699999999999996, 2.1, 1.2,...\n",
       "41473    [66691.2, 646.1999999999999, 39.9, 1.5, 0.8999...\n",
       "41474    [66707.7, 631.5, 36.6, 2.4, 1.7999999999999998...\n",
       "Name: transit_multiplicities, dtype: object"
      ]
     },
     "execution_count": 59,
     "metadata": {},
     "output_type": "execute_result"
    }
   ],
   "source": [
    "test_recovery.head()"
   ]
  },
  {
   "cell_type": "code",
   "execution_count": 58,
   "metadata": {},
   "outputs": [
    {
     "data": {
      "text/plain": [
       "-16.228641136962352"
      ]
     },
     "execution_count": 58,
     "metadata": {},
     "output_type": "execute_result"
    }
   ],
   "source": [
    "better_loglike(test_recovery[41470], tm_fiducial[192])"
   ]
  },
  {
   "cell_type": "code",
   "execution_count": 79,
   "metadata": {},
   "outputs": [
    {
     "data": {
      "image/png": "[encoded data removed]",
      "text/plain": [
       "<Figure size 432x288 with 1 Axes>"
      ]
     },
     "metadata": {
      "needs_background": "light"
     },
     "output_type": "display_data"
    }
   ],
   "source": [
    "plt.scatter(np.arange(len(tm_fiducial[192])), tm_fiducial[192], color='r', label='ground truth')\n",
    "plt.scatter(np.arange(len(recovery.iloc[5470].transit_multiplicities)), recovery.iloc[5470].transit_multiplicities, label='recovery same')\n",
    "plt.scatter(np.arange(len(recovery.iloc[41470].transit_multiplicities)), recovery.iloc[41470].transit_multiplicities, label='recovery different')\n",
    "\n",
    "plt.xlim([0,6])\n",
    "plt.ylim([0,700])\n",
    "plt.title('m = -2, b = 1.0, c = 1e9, f = 0.3 (fast sculpting)')\n",
    "plt.show()"
   ]
  },
  {
   "cell_type": "code",
   "execution_count": 30,
   "metadata": {},
   "outputs": [],
   "source": [
    "cube = [0,0,0]\n",
    "fs = np.round(np.linspace(0.1, 1.), 1)\n",
    "ndim = 3\n",
    "nparams = 3\n",
    "\n",
    "ms = []\n",
    "bs = []\n",
    "cs = []\n",
    "fs_for_df = []\n",
    "all_logLs = []\n",
    "\n",
    "for gi_m in range(11):\n",
    "    \n",
    "    for gi_b in range(2):\n",
    "        gi_b = gi_b + 1\n",
    "\n",
    "        for gi_c in range(11):\n",
    "            cube = prior_grid_logslope(cube, ndim, nparams, gi_m, gi_b, gi_c)\n",
    "            \n",
    "            for f in fs:\n",
    "                \n",
    "                ms.append(cube[0])\n",
    "                bs.append(cube[1])\n",
    "                cs.append(cube[2])\n",
    "                fs_for_df.append(f)\n",
    "                \n",
    "                try:\n",
    "                    #tm = truth.loc[(truth.ms == cube[0]) & (truth.bs == cube[1]) & (np.round(truth.cs, 0) == cube[2]) & (np.round(truth.fs,1) == f)].transit_multiplicities\n",
    "                    tm_recovery = recovery.loc[(np.round(recovery.ms,1) == np.round(cube[0],1)) & (np.round(recovery.bs,1) == np.round(cube[1],1)) & (np.round(recovery.cs, 0) == np.round(cube[2],0)) & (np.round(recovery.fs,1) == f)].transit_multiplicities.to_list()\n",
    "\n",
    "                    # calculate logL for each realization of each model, using tm as the ground truth\n",
    "                    logLs = []\n",
    "                    for i in range(len(tm_recovery)):\n",
    "                        logL = better_loglike(tm_recovery[i], np.sum(tm_fiducial))\n",
    "                        logLs.append(logL)\n",
    "\n",
    "                    # get best logL for each model\n",
    "                    best_logL = np.max(logLs)\n",
    "\n",
    "                    all_logLs.append(best_logL)\n",
    "                except:\n",
    "                    all_logLs.append(0.)\n",
    "                \n",
    "model_logLs = pd.DataFrame({'m': ms, 'b': bs, 'c': cs, 'f': fs_for_df, 'logL': all_logLs})\n",
    "        "
   ]
  },
  {
   "cell_type": "code",
   "execution_count": 31,
   "metadata": {},
   "outputs": [
    {
     "data": {
      "image/png": "[encoded data removed]",
      "text/plain": [
       "<Figure size 720x720 with 4 Axes>"
      ]
     },
     "metadata": {
      "needs_background": "light"
     },
     "output_type": "display_data"
    }
   ],
   "source": [
    "f, ((ax1, ax2), (ax3, ax4)) = plt.subplots(2, 2, figsize=(10, 10))\n",
    "\n",
    "# marginalize in 1D\n",
    "marginalized_logLs = []\n",
    "for gi_m in range(11):\n",
    "\n",
    "    cube = prior_grid_logslope(cube, ndim, nparams, gi_m, gi_b, gi_c)\n",
    "    \n",
    "    # subset\n",
    "    only = model_logLs.loc[(model_logLs.m == cube[0])]# & (model_logLs.f == 0.3)]\n",
    "    \n",
    "    # marginalize logL\n",
    "    marginalized_logLs.append(np.sum(only.logL))\n",
    "\n",
    "ax1.scatter(truth.ms.unique(), marginalized_logLs)\n",
    "ax1.set_ylabel(\"log likelihood\")\n",
    "ax1.set_xlabel(\"sculpting speed [dex]\")\n",
    "\n",
    "marginalized_logLs = []\n",
    "for gi_b in range(2):\n",
    "    gi_b = gi_b + 1\n",
    "    \n",
    "    cube = prior_grid_logslope(cube, ndim, nparams, gi_m, gi_b, gi_c)\n",
    "    \n",
    "    # subset\n",
    "    only = model_logLs.loc[(model_logLs.b == cube[1])]# & (model_logLs.f == 0.3)]\n",
    "    \n",
    "    # marginalize logL\n",
    "    marginalized_logLs.append(np.sum(only.logL))\n",
    "ax2.scatter(model_logLs.b.unique(), marginalized_logLs)\n",
    "ax2.set_ylabel(\"log likelihood\")\n",
    "ax2.set_xlabel(\"b\")\n",
    "\n",
    "marginalized_logLs = []\n",
    "for gi_c in range(11):\n",
    "\n",
    "    cube = prior_grid_logslope(cube, ndim, nparams, gi_m, gi_b, gi_c)\n",
    "    \n",
    "    # subset\n",
    "    only = model_logLs.loc[(model_logLs.c == cube[2])]# & (model_logLs.f == 0.3)]\n",
    "    \n",
    "    # marginalize logL\n",
    "    marginalized_logLs.append(np.sum(only.logL))\n",
    "ax3.scatter(truth.cs.unique(), marginalized_logLs)\n",
    "ax3.set_ylabel(\"log likelihood\")\n",
    "ax3.set_xlabel(\"c\")\n",
    "ax3.set_xscale('log')\n",
    "\n",
    "marginalized_logLs = []\n",
    "for gi_f in np.linspace(0.1, 1, 10):\n",
    "    \n",
    "    # subset\n",
    "    only = model_logLs.loc[(np.round(model_logLs.f, 1) == np.round(gi_f, 1))]\n",
    "    \n",
    "    # marginalize logL\n",
    "    marginalized_logLs.append(np.sum(only.logL))\n",
    "ax4.scatter(np.linspace(0.1, 1, 10), marginalized_logLs)\n",
    "ax4.set_ylabel(\"log likelihood\")\n",
    "ax4.set_xlabel(\"f\")\n",
    "\n",
    "plt.tight_layout()\n",
    "plt.show()"
   ]
  },
  {
   "cell_type": "code",
   "execution_count": 32,
   "metadata": {},
   "outputs": [
    {
     "data": {
      "image/png": "[encoded data removed]",
      "text/plain": [
       "<Figure size 432x288 with 2 Axes>"
      ]
     },
     "metadata": {
      "needs_background": "light"
     },
     "output_type": "display_data"
    }
   ],
   "source": [
    "piv = model_logLs.groupby(['m','b','c']).mean('logL').reset_index().groupby(['m','b']).sum('logL').reset_index()\n",
    "\n",
    "piv = piv.pivot(\"b\",\"m\",\"logL\") # vs logged_normalized_likelihood\n",
    "#print(np.nanmin(piv.values), np.nanmax(piv.values), np.nansum(piv.values), np.nansum(np.log(piv.values)), np.log(np.nansum(piv.values)))\n",
    "#print(np.log(np.nanmin(piv.values)), np.log(np.nanmax(piv.values)))\n",
    "\n",
    "fig, ax = plt.subplots()\n",
    "sns.heatmap(piv, yticklabels=model_logLs.b.unique().round(1), cbar_kws={'label': 'logL'})\n",
    "#sns.heatmap(piv, vmin=-455, vmax=-17.9)\n",
    "ax.set_yticks(ax.get_yticks()[::2]) # sample every other tick, for cleanness\n",
    "plt.title('m = -2, b = 1.0, c = 1e9, f = 0.3')\n",
    "plt.show()"
   ]
  },
  {
   "cell_type": "code",
   "execution_count": 33,
   "metadata": {},
   "outputs": [
    {
     "data": {
      "image/png": "[encoded data removed]",
      "text/plain": [
       "<Figure size 432x288 with 2 Axes>"
      ]
     },
     "metadata": {
      "needs_background": "light"
     },
     "output_type": "display_data"
    }
   ],
   "source": [
    "piv = model_logLs.groupby(['m','b','c']).mean('logL').reset_index().groupby(['m','c']).sum('logL').reset_index()\n",
    "\n",
    "piv = piv.pivot(\"c\",\"m\",\"logL\") # vs logged_normalized_likelihood\n",
    "#print(np.nanmin(piv.values), np.nanmax(piv.values), np.nansum(piv.values), np.nansum(np.log(piv.values)), np.log(np.nansum(piv.values)))\n",
    "#print(np.log(np.nanmin(piv.values)), np.log(np.nanmax(piv.values)))\n",
    "\n",
    "fig, ax = plt.subplots()\n",
    "sns.heatmap(piv, yticklabels=model_logLs.b.unique().round(1), cbar_kws={'label': 'logL'})\n",
    "#sns.heatmap(piv, vmin=-455, vmax=-17.9)\n",
    "ax.set_yticks(ax.get_yticks()[::2]) # sample every other tick, for cleanness\n",
    "plt.title('m = -2, b = 1.0, c = 1e9, f = 0.3')\n",
    "plt.show()"
   ]
  },
  {
   "cell_type": "markdown",
   "metadata": {},
   "source": [
    "1D posteriors show that I can recover m and c, but not quite f and definitely not b. 2D posteriors corroborate this for m and b, and they suggest that there are fast sculpting models with even shorter cutoff times that are also favored. "
   ]
  },
  {
   "cell_type": "markdown",
   "metadata": {},
   "source": [
    "Identify best and good models"
   ]
  },
  {
   "cell_type": "code",
   "execution_count": 38,
   "metadata": {},
   "outputs": [
    {
     "name": "stdout",
     "output_type": "stream",
     "text": [
      "Best model:          m    b            c    f      logL\n",
      "4559 -1.2  0.5  398107171.0  0.3 -13.24083\n",
      "4560 -1.2  0.5  398107171.0  0.3 -13.24083\n",
      "4561 -1.2  0.5  398107171.0  0.3 -13.24083\n",
      "4562 -1.2  0.5  398107171.0  0.3 -13.24083\n",
      "4563 -1.2  0.5  398107171.0  0.3 -13.24083\n",
      "Ground truth:  809   -14.937079\n",
      "810   -14.937079\n",
      "811   -14.937079\n",
      "812   -14.937079\n",
      "813   -14.937079\n",
      "Name: logL, dtype: float64\n",
      "Some models between best model and ground truth: \n",
      "       m    b            c    f       logL\n",
      "109 -2.0  0.5  251188643.0  0.3 -13.269142\n",
      "110 -2.0  0.5  251188643.0  0.3 -13.269142\n",
      "111 -2.0  0.5  251188643.0  0.3 -13.269142\n",
      "112 -2.0  0.5  251188643.0  0.3 -13.269142\n",
      "113 -2.0  0.5  251188643.0  0.3 -13.269142\n"
     ]
    }
   ],
   "source": [
    "best_logL = max(model_logLs.loc[model_logLs.logL < 0.].logL)\n",
    "print(\"Best model: \", model_logLs.loc[(model_logLs.logL >= best_logL) & (model_logLs.logL < 0.)])\n",
    "\n",
    "ground_truth = model_logLs.loc[(model_logLs.m == -2.) & (model_logLs.b == 1.) & (np.round(model_logLs.c, -8) == 1e9) & (np.round(model_logLs.f,1) == 0.3)]\n",
    "print(\"Ground truth: \", ground_truth.logL)\n",
    "delta_logL = best_logL - ground_truth.logL.to_list()[0]\n",
    "\n",
    "good_models = model_logLs.loc[np.abs(model_logLs.logL - best_logL) < delta_logL]\n",
    "print(\"Some models between best model and ground truth: \")\n",
    "print(good_models.head())"
   ]
  },
  {
   "cell_type": "markdown",
   "metadata": {},
   "source": [
    "Plot these models"
   ]
  },
  {
   "cell_type": "code",
   "execution_count": 39,
   "metadata": {},
   "outputs": [
    {
     "data": {
      "image/png": "[encoded data removed]",
      "text/plain": [
       "<Figure size 432x288 with 1 Axes>"
      ]
     },
     "metadata": {
      "needs_background": "light"
     },
     "output_type": "display_data"
    }
   ],
   "source": [
    "x = np.logspace(8, 10, 10)\n",
    "\n",
    "# best model\n",
    "best_model = model_logLs.loc[(model_logLs.logL >= best_logL) & (model_logLs.logL < 0.)]\n",
    "m, b, c, f = best_model.m.to_list()[0], best_model.b.to_list()[0], best_model.c.to_list()[0], best_model.f.to_list()[0]\n",
    "plt.plot(x, build_models(x, m, b, c, f), label='best fit', color='k')\n",
    "\n",
    "# ground truth\n",
    "m, b, c, f = ground_truth.m.to_list()[0], ground_truth.b.to_list()[0], ground_truth.c.to_list()[0], ground_truth.f.to_list()[0]\n",
    "plt.plot(x, build_models(x, m, b, c, f), label='ground truth', color='r')\n",
    "\n",
    "# models as good as or better than ground truth\n",
    "good_models = good_models.drop_duplicates(subset=['m','b','c','f'])\n",
    "label_flag = True\n",
    "for index, row in good_models.reset_index().iterrows(): \n",
    "    m, b, c, f = row.m, row.b, row.c, row.f\n",
    "    if label_flag == True:\n",
    "        plt.plot(x, build_models(x, m, b, c, f), color='green', zorder=0, label='good models', alpha=0.5)\n",
    "    elif label_flag == False:\n",
    "        plt.plot(x, build_models(x, m, b, c, f), color='green', zorder=0, alpha=0.5)\n",
    "    label_flag = False  \n",
    "    \n",
    "plt.xscale('log')\n",
    "plt.ylim([0, 0.5])\n",
    "plt.xlabel('age [Gyr]')\n",
    "plt.ylabel('P(intact)')\n",
    "plt.title(f'm = -2, b = 1.0, c = 1e9, f = 0.3 (fast sculpting); $\\Delta logL = {np.round(delta_logL, 2)}$')\n",
    "plt.legend()\n",
    "plt.show()"
   ]
  },
  {
   "cell_type": "markdown",
   "metadata": {},
   "source": [
    "Also, plot their transit multiplicity yields"
   ]
  },
  {
   "cell_type": "code",
   "execution_count": 42,
   "metadata": {},
   "outputs": [
    {
     "name": "stdout",
     "output_type": "stream",
     "text": [
      "192    [66708.6, 630.9, 38.4, 1.2, 0.3, 0.6, 0.0]\n",
      "Name: transit_multiplicities, dtype: object\n",
      "      ms   bs            cs   fs                      transit_multiplicities  \\\n",
      "192 -2.0  1.0  1.000000e+09  0.3  [66708.6, 630.9, 38.4, 1.2, 0.3, 0.6, 0.0]   \n",
      "\n",
      "                         geom_transit_multiplicities  intact_fracs  \\\n",
      "192  [1245.8999999999999, 140.1, 8.1, 6.6, 4.8, 1.2]      0.018815   \n",
      "\n",
      "     disrupted_fracs       logLs               transit_multiplicity_zero_bin  \n",
      "192         0.281185 -260.340596  [66708.6, 630.9, 38.4, 1.2, 0.3, 0.6, 0.0]  \n",
      "       ms   bs            cs   fs  \\\n",
      "5470 -2.0  1.0  1.000000e+09  0.3   \n",
      "5471 -2.0  1.0  1.000000e+09  0.3   \n",
      "5472 -2.0  1.0  1.000000e+09  0.3   \n",
      "5473 -2.0  1.0  1.000000e+09  0.3   \n",
      "5474 -2.0  1.0  1.000000e+09  0.3   \n",
      "5475 -2.0  1.0  1.000000e+09  0.3   \n",
      "5476 -2.0  1.0  1.000000e+09  0.3   \n",
      "5477 -2.0  1.0  1.000000e+09  0.3   \n",
      "5478 -2.0  1.0  1.000000e+09  0.3   \n",
      "5479 -2.0  1.0  1.000000e+09  0.3   \n",
      "5480 -2.0  1.0  1.000000e+09  0.3   \n",
      "5481 -2.0  1.0  1.000000e+09  0.3   \n",
      "5482 -2.0  1.0  1.000000e+09  0.3   \n",
      "5483 -2.0  1.0  1.000000e+09  0.3   \n",
      "5484 -2.0  1.0  1.000000e+09  0.3   \n",
      "5485 -2.0  1.0  1.000000e+09  0.3   \n",
      "5486 -2.0  1.0  1.000000e+09  0.3   \n",
      "5487 -2.0  1.0  1.000000e+09  0.3   \n",
      "5488 -2.0  1.0  1.000000e+09  0.3   \n",
      "5489 -2.0  1.0  1.000000e+09  0.3   \n",
      "5490 -2.0  1.0  1.000000e+09  0.3   \n",
      "5491 -2.0  1.0  1.000000e+09  0.3   \n",
      "5492 -2.0  1.0  1.000000e+09  0.3   \n",
      "5493 -2.0  1.0  1.000000e+09  0.3   \n",
      "5494 -2.0  1.0  1.000000e+09  0.3   \n",
      "5495 -2.0  1.0  1.000000e+09  0.3   \n",
      "5496 -2.0  1.0  1.000000e+09  0.3   \n",
      "5497 -2.0  1.0  1.000000e+09  0.3   \n",
      "5498 -2.0  1.0  1.000000e+09  0.3   \n",
      "5499 -2.0  1.0  1.000000e+09  0.3   \n",
      "\n",
      "                                 transit_multiplicities  \\\n",
      "5470  [66737.1, 599.6999999999999, 39.6, 2.1, 1.2, 0...   \n",
      "5471         [66750.0, 587.1, 42.3, 0.6, 0.0, 0.0, 0.0]   \n",
      "5472  [66718.8, 619.1999999999999, 40.19999999999999...   \n",
      "5473  [66729.0, 614.4, 34.199999999999996, 0.6, 1.5,...   \n",
      "5474  [66713.1, 630.0, 34.8, 1.7999999999999998, 0.3...   \n",
      "5475  [66726.0, 614.6999999999999, 36.6, 2.1, 0.3, 0...   \n",
      "5476  [66711.6, 633.9, 31.799999999999997, 1.5, 0.89...   \n",
      "5477  [66716.1, 623.6999999999999, 36.9, 2.4, 0.8999...   \n",
      "5478         [66716.1, 620.4, 39.9, 2.1, 1.5, 0.0, 0.0]   \n",
      "5479  [66743.1, 600.9, 34.199999999999996, 1.2, 0.6,...   \n",
      "5480  [66734.4, 608.1, 34.199999999999996, 2.4, 0.89...   \n",
      "5481         [66723.3, 616.5, 38.4, 1.5, 0.3, 0.0, 0.0]   \n",
      "5482         [66706.5, 627.9, 41.1, 3.0, 1.2, 0.3, 0.0]   \n",
      "5483  [66696.3, 637.8, 42.9, 1.7999999999999998, 0.3...   \n",
      "5484  [66700.5, 633.9, 42.3, 2.6999999999999997, 0.6...   \n",
      "5485         [66723.3, 613.8, 39.0, 2.4, 1.2, 0.3, 0.0]   \n",
      "5486  [66703.8, 636.3, 36.0, 1.7999999999999998, 1.5...   \n",
      "5487  [66724.5, 616.8, 36.0, 1.2, 0.8999999999999999...   \n",
      "5488  [66735.6, 596.1, 46.199999999999996, 1.2, 0.6,...   \n",
      "5489  [66723.3, 615.6, 36.0, 3.3, 1.7999999999999998...   \n",
      "5490  [66715.2, 619.5, 41.699999999999996, 3.3, 0.3,...   \n",
      "5491  [66717.6, 623.6999999999999, 37.8, 0.3, 0.6, 0...   \n",
      "5492  [66717.3, 624.0, 37.199999999999996, 1.2, 0.3,...   \n",
      "5493         [66699.3, 634.8, 42.6, 2.1, 1.2, 0.0, 0.0]   \n",
      "5494  [66719.1, 614.6999999999999, 42.3, 2.1, 1.5, 0...   \n",
      "5495         [66722.1, 611.1, 44.4, 1.2, 1.2, 0.0, 0.0]   \n",
      "5496  [66724.5, 613.8, 38.1, 2.1, 0.8999999999999999...   \n",
      "5497         [66712.5, 623.4, 41.1, 2.1, 0.3, 0.6, 0.0]   \n",
      "5498  [66704.1, 633.9, 38.699999999999996, 2.4, 0.6,...   \n",
      "5499  [66728.7, 609.3, 38.4, 2.6999999999999997, 0.8...   \n",
      "\n",
      "                            geom_transit_multiplicities  intact_fracs  \\\n",
      "5470  [1262.1, 125.1, 11.7, 5.3999999999999995, 6.3,...      0.018796   \n",
      "5471  [1237.2, 134.7, 8.4, 6.6, 2.6999999999999997, ...      0.018813   \n",
      "5472  [1274.7, 136.79999999999998, 7.199999999999999...      0.018744   \n",
      "5473  [1259.7, 124.5, 5.7, 8.1, 4.5, 0.8999999999999...      0.018773   \n",
      "5474  [1224.3, 131.4, 9.6, 3.9, 3.9, 0.8999999999999...      0.018808   \n",
      "5475    [1242.8999999999999, 128.7, 9.6, 6.0, 4.2, 0.3]      0.018739   \n",
      "5476  [1295.1, 132.9, 6.8999999999999995, 7.19999999...      0.018787   \n",
      "5477                [1262.1, 132.0, 8.1, 8.1, 3.3, 1.5]      0.018688   \n",
      "5478  [1246.8, 127.8, 10.5, 6.8999999999999995, 2.4,...      0.018869   \n",
      "5479   [1247.1, 123.89999999999999, 7.5, 5.7, 2.4, 0.0]      0.018708   \n",
      "5480  [1239.6, 127.19999999999999, 12.0, 4.2, 4.8, 0.0]      0.018800   \n",
      "5481  [1248.0, 138.0, 8.4, 4.5, 1.5, 0.8999999999999...      0.018735   \n",
      "5482                [1257.6, 132.0, 9.0, 7.8, 5.1, 0.3]      0.018834   \n",
      "5483  [1266.3, 135.0, 8.4, 5.7, 5.1, 0.8999999999999...      0.018894   \n",
      "5484                [1251.0, 132.0, 8.7, 6.3, 5.1, 0.6]      0.018852   \n",
      "5485  [1274.3999999999999, 132.9, 9.6, 7.8, 3.9, 0.8...      0.018839   \n",
      "5486  [1281.3, 133.79999999999998, 10.2, 8.4, 3.9, 2.1]      0.018694   \n",
      "5487  [1273.2, 128.4, 7.8, 6.8999999999999995, 4.8, ...      0.018772   \n",
      "5488                [1255.5, 137.7, 9.9, 5.7, 3.3, 0.0]      0.018796   \n",
      "5489  [1250.1, 129.0, 10.799999999999999, 6.89999999...      0.018889   \n",
      "5490  [1232.3999999999999, 147.29999999999998, 8.4, ...      0.018775   \n",
      "5491                [1287.6, 131.7, 8.7, 5.7, 2.1, 1.2]      0.018792   \n",
      "5492  [1260.8999999999999, 126.0, 9.299999999999999,...      0.018751   \n",
      "5493                [1289.7, 135.9, 8.1, 8.1, 4.2, 0.6]      0.018809   \n",
      "5494                [1272.6, 137.4, 6.6, 4.5, 4.2, 0.0]      0.018708   \n",
      "5495  [1248.0, 135.29999999999998, 8.4, 5.3999999999...      0.018741   \n",
      "5496  [1247.1, 123.89999999999999, 9.6, 4.8, 3.0, 0....      0.018823   \n",
      "5497  [1270.5, 140.4, 7.5, 6.8999999999999995, 2.699...      0.018771   \n",
      "5498  [1267.8, 127.8, 8.4, 5.1, 3.9, 1.7999999999999...      0.018739   \n",
      "5499  [1222.8, 125.69999999999999, 13.79999999999999...      0.018838   \n",
      "\n",
      "      disrupted_fracs       logLs  \\\n",
      "5470         0.281204 -231.371076   \n",
      "5471         0.281187 -271.640888   \n",
      "5472         0.281256 -263.595533   \n",
      "5473         0.281227 -283.201310   \n",
      "5474         0.281192 -252.258914   \n",
      "5475         0.281261 -253.243019   \n",
      "5476         0.281213 -257.167289   \n",
      "5477         0.281312 -222.368123   \n",
      "5478         0.281131 -213.724960   \n",
      "5479         0.281292 -268.993517   \n",
      "5480         0.281200 -235.350242   \n",
      "5481         0.281265 -253.840190   \n",
      "5482         0.281166 -205.157935   \n",
      "5483         0.281106 -233.322936   \n",
      "5484         0.281148 -207.760521   \n",
      "5485         0.281161 -222.784127   \n",
      "5486         0.281306 -230.605776   \n",
      "5487         0.281228 -255.437497   \n",
      "5488         0.281204 -248.893062   \n",
      "5489         0.281111 -206.867527   \n",
      "5490         0.281225 -216.887662   \n",
      "5491         0.281208 -302.739806   \n",
      "5492         0.281249 -262.501297   \n",
      "5493         0.281191 -205.984422   \n",
      "5494         0.281292 -216.606445   \n",
      "5495         0.281259 -230.599333   \n",
      "5496         0.281177 -234.102098   \n",
      "5497         0.281229 -236.031657   \n",
      "5498         0.281261 -226.575104   \n",
      "5499         0.281162 -219.410835   \n",
      "\n",
      "                          transit_multiplicity_zero_bin  \n",
      "5470  [66737.1, 599.6999999999999, 39.6, 2.1, 1.2, 0...  \n",
      "5471         [66750.0, 587.1, 42.3, 0.6, 0.0, 0.0, 0.0]  \n",
      "5472  [66718.8, 619.1999999999999, 40.19999999999999...  \n",
      "5473  [66729.0, 614.4, 34.199999999999996, 0.6, 1.5,...  \n",
      "5474  [66713.1, 630.0, 34.8, 1.7999999999999998, 0.3...  \n",
      "5475  [66726.0, 614.6999999999999, 36.6, 2.1, 0.3, 0...  \n",
      "5476  [66711.6, 633.9, 31.799999999999997, 1.5, 0.89...  \n",
      "5477  [66716.1, 623.6999999999999, 36.9, 2.4, 0.8999...  \n",
      "5478         [66716.1, 620.4, 39.9, 2.1, 1.5, 0.0, 0.0]  \n",
      "5479  [66743.1, 600.9, 34.199999999999996, 1.2, 0.6,...  \n",
      "5480  [66734.4, 608.1, 34.199999999999996, 2.4, 0.89...  \n",
      "5481         [66723.3, 616.5, 38.4, 1.5, 0.3, 0.0, 0.0]  \n",
      "5482         [66706.5, 627.9, 41.1, 3.0, 1.2, 0.3, 0.0]  \n",
      "5483  [66696.3, 637.8, 42.9, 1.7999999999999998, 0.3...  \n",
      "5484  [66700.5, 633.9, 42.3, 2.6999999999999997, 0.6...  \n",
      "5485         [66723.3, 613.8, 39.0, 2.4, 1.2, 0.3, 0.0]  \n",
      "5486  [66703.8, 636.3, 36.0, 1.7999999999999998, 1.5...  \n",
      "5487  [66724.5, 616.8, 36.0, 1.2, 0.8999999999999999...  \n",
      "5488  [66735.6, 596.1, 46.199999999999996, 1.2, 0.6,...  \n",
      "5489  [66723.3, 615.6, 36.0, 3.3, 1.7999999999999998...  \n",
      "5490  [66715.2, 619.5, 41.699999999999996, 3.3, 0.3,...  \n",
      "5491  [66717.6, 623.6999999999999, 37.8, 0.3, 0.6, 0...  \n",
      "5492  [66717.3, 624.0, 37.199999999999996, 1.2, 0.3,...  \n",
      "5493         [66699.3, 634.8, 42.6, 2.1, 1.2, 0.0, 0.0]  \n",
      "5494  [66719.1, 614.6999999999999, 42.3, 2.1, 1.5, 0...  \n",
      "5495         [66722.1, 611.1, 44.4, 1.2, 1.2, 0.0, 0.0]  \n",
      "5496  [66724.5, 613.8, 38.1, 2.1, 0.8999999999999999...  \n",
      "5497         [66712.5, 623.4, 41.1, 2.1, 0.3, 0.6, 0.0]  \n",
      "5498  [66704.1, 633.9, 38.699999999999996, 2.4, 0.6,...  \n",
      "5499  [66728.7, 609.3, 38.4, 2.6999999999999997, 0.8...  \n"
     ]
    }
   ],
   "source": [
    "print(tm_fiducial)\n",
    "print(truth.loc[(truth.ms == -2) & (truth.bs == 1.) & (np.round(truth.cs, -8) == 1e9) & (np.round(truth.fs,1) == 0.3)])\n",
    "print(recovery.loc[(recovery.ms == -2) & (recovery.bs == 1.) & (np.round(recovery.cs, -8) == 1e9) & (np.round(recovery.fs,1) == 0.3)])"
   ]
  },
  {
   "cell_type": "code",
   "execution_count": 40,
   "metadata": {},
   "outputs": [
    {
     "data": {
      "text/html": [
       "<div>\n",
       "<style scoped>\n",
       "    .dataframe tbody tr th:only-of-type {\n",
       "        vertical-align: middle;\n",
       "    }\n",
       "\n",
       "    .dataframe tbody tr th {\n",
       "        vertical-align: top;\n",
       "    }\n",
       "\n",
       "    .dataframe thead th {\n",
       "        text-align: right;\n",
       "    }\n",
       "</style>\n",
       "<table border=\"1\" class=\"dataframe\">\n",
       "  <thead>\n",
       "    <tr style=\"text-align: right;\">\n",
       "      <th></th>\n",
       "      <th>m</th>\n",
       "      <th>b</th>\n",
       "      <th>c</th>\n",
       "      <th>f</th>\n",
       "      <th>logL</th>\n",
       "    </tr>\n",
       "  </thead>\n",
       "  <tbody>\n",
       "    <tr>\n",
       "      <th>809</th>\n",
       "      <td>-2.0</td>\n",
       "      <td>1.0</td>\n",
       "      <td>1.000000e+09</td>\n",
       "      <td>0.3</td>\n",
       "      <td>-14.937079</td>\n",
       "    </tr>\n",
       "    <tr>\n",
       "      <th>810</th>\n",
       "      <td>-2.0</td>\n",
       "      <td>1.0</td>\n",
       "      <td>1.000000e+09</td>\n",
       "      <td>0.3</td>\n",
       "      <td>-14.937079</td>\n",
       "    </tr>\n",
       "    <tr>\n",
       "      <th>811</th>\n",
       "      <td>-2.0</td>\n",
       "      <td>1.0</td>\n",
       "      <td>1.000000e+09</td>\n",
       "      <td>0.3</td>\n",
       "      <td>-14.937079</td>\n",
       "    </tr>\n",
       "    <tr>\n",
       "      <th>812</th>\n",
       "      <td>-2.0</td>\n",
       "      <td>1.0</td>\n",
       "      <td>1.000000e+09</td>\n",
       "      <td>0.3</td>\n",
       "      <td>-14.937079</td>\n",
       "    </tr>\n",
       "    <tr>\n",
       "      <th>813</th>\n",
       "      <td>-2.0</td>\n",
       "      <td>1.0</td>\n",
       "      <td>1.000000e+09</td>\n",
       "      <td>0.3</td>\n",
       "      <td>-14.937079</td>\n",
       "    </tr>\n",
       "  </tbody>\n",
       "</table>\n",
       "</div>"
      ],
      "text/plain": [
       "       m    b             c    f       logL\n",
       "809 -2.0  1.0  1.000000e+09  0.3 -14.937079\n",
       "810 -2.0  1.0  1.000000e+09  0.3 -14.937079\n",
       "811 -2.0  1.0  1.000000e+09  0.3 -14.937079\n",
       "812 -2.0  1.0  1.000000e+09  0.3 -14.937079\n",
       "813 -2.0  1.0  1.000000e+09  0.3 -14.937079"
      ]
     },
     "execution_count": 40,
     "metadata": {},
     "output_type": "execute_result"
    }
   ],
   "source": [
    "ground_truth"
   ]
  },
  {
   "cell_type": "markdown",
   "metadata": {},
   "source": [
    "#### Model 4: m = 0, b = 0.5, c = 1e9, f = 0.3 (no sculpting)\n"
   ]
  },
  {
   "cell_type": "code",
   "execution_count": 322,
   "metadata": {},
   "outputs": [],
   "source": [
    "tm_fiducial = truth.loc[(truth.ms == 0.) & (truth.bs == 0.5) & (np.round(truth.cs, -9) == 1e9) & (np.round(truth.fs,1) == 0.3)].transit_multiplicities\n"
   ]
  },
  {
   "cell_type": "code",
   "execution_count": 323,
   "metadata": {},
   "outputs": [],
   "source": [
    "cube = [0,0,0]\n",
    "fs = np.round(np.linspace(0.1, 1.), 1)\n",
    "ndim = 3\n",
    "nparams = 3\n",
    "\n",
    "ms = []\n",
    "bs = []\n",
    "cs = []\n",
    "fs_for_df = []\n",
    "all_logLs = []\n",
    "\n",
    "for gi_m in range(11):\n",
    "    \n",
    "    for gi_b in range(2):\n",
    "        gi_b = gi_b + 1\n",
    "\n",
    "        for gi_c in range(11):\n",
    "            cube = prior_grid_logslope(cube, ndim, nparams, gi_m, gi_b, gi_c)\n",
    "            \n",
    "            for f in fs:\n",
    "                \n",
    "                ms.append(cube[0])\n",
    "                bs.append(cube[1])\n",
    "                cs.append(cube[2])\n",
    "                fs_for_df.append(f)\n",
    "                \n",
    "                try:\n",
    "                    #tm = truth.loc[(truth.ms == cube[0]) & (truth.bs == cube[1]) & (np.round(truth.cs, 0) == cube[2]) & (np.round(truth.fs,1) == f)].transit_multiplicities\n",
    "                    tm_recovery = recovery.loc[(np.round(recovery.ms,1) == np.round(cube[0],1)) & (np.round(recovery.bs,1) == np.round(cube[1],1)) & (np.round(recovery.cs, 0) == np.round(cube[2],0)) & (np.round(recovery.fs,1) == f)].transit_multiplicities.to_list()\n",
    "\n",
    "                    # calculate logL for each realization of each model, using tm as the ground truth\n",
    "                    logLs = []\n",
    "                    for i in range(len(tm_recovery)):\n",
    "                        logL = better_loglike(tm_recovery[i], np.sum(tm_fiducial))\n",
    "                        logLs.append(logL)\n",
    "\n",
    "                    # get best logL for each model\n",
    "                    best_logL = np.max(logLs)\n",
    "\n",
    "                    all_logLs.append(best_logL)\n",
    "                except:\n",
    "                    all_logLs.append(0.)\n",
    "                \n",
    "model_logLs = pd.DataFrame({'m': ms, 'b': bs, 'c': cs, 'f': fs_for_df, 'logL': all_logLs})\n",
    "        "
   ]
  },
  {
   "cell_type": "code",
   "execution_count": 324,
   "metadata": {},
   "outputs": [
    {
     "data": {
      "image/png": "[encoded data removed]",
      "text/plain": [
       "<Figure size 720x720 with 4 Axes>"
      ]
     },
     "metadata": {
      "needs_background": "light"
     },
     "output_type": "display_data"
    }
   ],
   "source": [
    "f, ((ax1, ax2), (ax3, ax4)) = plt.subplots(2, 2, figsize=(10, 10))\n",
    "\n",
    "# marginalize in 1D\n",
    "marginalized_logLs = []\n",
    "for gi_m in range(11):\n",
    "\n",
    "    cube = prior_grid_logslope(cube, ndim, nparams, gi_m, gi_b, gi_c)\n",
    "    \n",
    "    # subset\n",
    "    only = model_logLs.loc[(model_logLs.m == cube[0])]# & (model_logLs.f == 0.3)]\n",
    "    \n",
    "    # marginalize logL\n",
    "    marginalized_logLs.append(np.sum(only.logL))\n",
    "\n",
    "ax1.scatter(truth.ms.unique(), marginalized_logLs)\n",
    "ax1.set_ylabel(\"log likelihood\")\n",
    "ax1.set_xlabel(\"sculpting speed [dex]\")\n",
    "\n",
    "marginalized_logLs = []\n",
    "for gi_b in range(2):\n",
    "    gi_b = gi_b + 1\n",
    "    \n",
    "    cube = prior_grid_logslope(cube, ndim, nparams, gi_m, gi_b, gi_c)\n",
    "    \n",
    "    # subset\n",
    "    only = model_logLs.loc[(model_logLs.b == cube[1])]# & (model_logLs.f == 0.3)]\n",
    "    \n",
    "    # marginalize logL\n",
    "    marginalized_logLs.append(np.sum(only.logL))\n",
    "ax2.scatter(model_logLs.b.unique(), marginalized_logLs)\n",
    "ax2.set_ylabel(\"log likelihood\")\n",
    "ax2.set_xlabel(\"b\")\n",
    "\n",
    "marginalized_logLs = []\n",
    "for gi_c in range(11):\n",
    "\n",
    "    cube = prior_grid_logslope(cube, ndim, nparams, gi_m, gi_b, gi_c)\n",
    "    \n",
    "    # subset\n",
    "    only = model_logLs.loc[(model_logLs.c == cube[2])]# & (model_logLs.f == 0.3)]\n",
    "    \n",
    "    # marginalize logL\n",
    "    marginalized_logLs.append(np.sum(only.logL))\n",
    "ax3.scatter(truth.cs.unique(), marginalized_logLs)\n",
    "ax3.set_ylabel(\"log likelihood\")\n",
    "ax3.set_xlabel(\"c\")\n",
    "ax3.set_xscale('log')\n",
    "\n",
    "marginalized_logLs = []\n",
    "for gi_f in np.linspace(0.1, 1, 10):\n",
    "    \n",
    "    # subset\n",
    "    only = model_logLs.loc[(np.round(model_logLs.f, 1) == np.round(gi_f, 1))]\n",
    "    \n",
    "    # marginalize logL\n",
    "    marginalized_logLs.append(np.sum(only.logL))\n",
    "ax4.scatter(np.linspace(0.1, 1, 10), marginalized_logLs)\n",
    "ax4.set_ylabel(\"log likelihood\")\n",
    "ax4.set_xlabel(\"f\")\n",
    "\n",
    "plt.tight_layout()\n",
    "plt.show()"
   ]
  },
  {
   "cell_type": "code",
   "execution_count": 325,
   "metadata": {},
   "outputs": [
    {
     "data": {
      "image/png": "[encoded data removed]",
      "text/plain": [
       "<Figure size 432x288 with 2 Axes>"
      ]
     },
     "metadata": {
      "needs_background": "light"
     },
     "output_type": "display_data"
    }
   ],
   "source": [
    "piv = model_logLs.groupby(['m','b','c']).mean('logL').reset_index().groupby(['m','b']).sum('logL').reset_index()\n",
    "\n",
    "piv = piv.pivot(\"b\",\"m\",\"logL\") # vs logged_normalized_likelihood\n",
    "#print(np.nanmin(piv.values), np.nanmax(piv.values), np.nansum(piv.values), np.nansum(np.log(piv.values)), np.log(np.nansum(piv.values)))\n",
    "#print(np.log(np.nanmin(piv.values)), np.log(np.nanmax(piv.values)))\n",
    "\n",
    "fig, ax = plt.subplots()\n",
    "sns.heatmap(piv, yticklabels=model_logLs.b.unique().round(1), cbar_kws={'label': 'logL'})\n",
    "#sns.heatmap(piv, vmin=-455, vmax=-17.9)\n",
    "ax.set_yticks(ax.get_yticks()[::2]) # sample every other tick, for cleanness\n",
    "plt.title('m = 0., b = 0.5, c = 1e9, f = 0.3')\n",
    "plt.show()"
   ]
  },
  {
   "cell_type": "code",
   "execution_count": 326,
   "metadata": {},
   "outputs": [
    {
     "data": {
      "image/png": "[encoded data removed]",
      "text/plain": [
       "<Figure size 432x288 with 2 Axes>"
      ]
     },
     "metadata": {
      "needs_background": "light"
     },
     "output_type": "display_data"
    }
   ],
   "source": [
    "piv = model_logLs.groupby(['m','b','c']).mean('logL').reset_index().groupby(['m','c']).sum('logL').reset_index()\n",
    "\n",
    "piv = piv.pivot(\"c\",\"m\",\"logL\") # vs logged_normalized_likelihood\n",
    "#print(np.nanmin(piv.values), np.nanmax(piv.values), np.nansum(piv.values), np.nansum(np.log(piv.values)), np.log(np.nansum(piv.values)))\n",
    "#print(np.log(np.nanmin(piv.values)), np.log(np.nanmax(piv.values)))\n",
    "\n",
    "fig, ax = plt.subplots()\n",
    "sns.heatmap(piv, yticklabels=model_logLs.b.unique().round(1), cbar_kws={'label': 'logL'})\n",
    "#sns.heatmap(piv, vmin=-455, vmax=-17.9)\n",
    "ax.set_yticks(ax.get_yticks()[::2]) # sample every other tick, for cleanness\n",
    "plt.title('m = 0, b = 0.5, c = 1e9, f = 0.3')\n",
    "plt.show()"
   ]
  },
  {
   "cell_type": "markdown",
   "metadata": {},
   "source": [
    "We totally miss the mark on recovering the lack of sculpting in the fake ground truth. We do recover b and f, and of course c is not a sensible variable in the case of no sculpting. "
   ]
  },
  {
   "cell_type": "markdown",
   "metadata": {},
   "source": [
    "Identify best and good models"
   ]
  },
  {
   "cell_type": "code",
   "execution_count": 330,
   "metadata": {},
   "outputs": [
    {
     "name": "stdout",
     "output_type": "stream",
     "text": [
      "Best model:           m    b             c    f       logL\n",
      "10309 -0.2  0.5  3.981072e+09  0.3 -22.273353\n",
      "10310 -0.2  0.5  3.981072e+09  0.3 -22.273353\n",
      "10311 -0.2  0.5  3.981072e+09  0.3 -22.273353\n",
      "10312 -0.2  0.5  3.981072e+09  0.3 -22.273353\n",
      "10313 -0.2  0.5  3.981072e+09  0.3 -22.273353\n",
      "Ground truth:  11209   -22.524196\n",
      "11210   -22.524196\n",
      "11211   -22.524196\n",
      "11212   -22.524196\n",
      "11213   -22.524196\n",
      "11259   -22.720030\n",
      "11260   -22.720030\n",
      "11261   -22.720030\n",
      "11262   -22.720030\n",
      "11263   -22.720030\n",
      "Name: logL, dtype: float64\n",
      "Some models between best model and ground truth: \n",
      "      m    b            c    f       logL\n",
      "9  -2.0  0.5  100000000.0  0.3 -22.273827\n",
      "10 -2.0  0.5  100000000.0  0.3 -22.273827\n",
      "11 -2.0  0.5  100000000.0  0.3 -22.273827\n",
      "12 -2.0  0.5  100000000.0  0.3 -22.273827\n",
      "13 -2.0  0.5  100000000.0  0.3 -22.273827\n"
     ]
    }
   ],
   "source": [
    "best_logL = max(model_logLs.loc[model_logLs.logL < 0.].logL)\n",
    "print(\"Best model: \", model_logLs.loc[(model_logLs.logL >= best_logL) & (model_logLs.logL < 0.)])\n",
    "\n",
    "ground_truth = model_logLs.loc[(model_logLs.m == 0.) & (model_logLs.b == 0.5) & (np.round(model_logLs.c, -9) == 1e9) & (np.round(model_logLs.f,1) == 0.3)]\n",
    "print(\"Ground truth: \", ground_truth.logL)\n",
    "delta_logL = best_logL - ground_truth.logL.to_list()[0]\n",
    "\n",
    "good_models = model_logLs.loc[np.abs(model_logLs.logL - best_logL) < delta_logL]\n",
    "print(\"Some models between best model and ground truth: \")\n",
    "print(good_models.head())"
   ]
  },
  {
   "cell_type": "markdown",
   "metadata": {},
   "source": [
    "Plot these models"
   ]
  },
  {
   "cell_type": "code",
   "execution_count": 331,
   "metadata": {},
   "outputs": [
    {
     "data": {
      "image/png": "[encoded data removed]",
      "text/plain": [
       "<Figure size 432x288 with 1 Axes>"
      ]
     },
     "metadata": {
      "needs_background": "light"
     },
     "output_type": "display_data"
    }
   ],
   "source": [
    "x = np.logspace(8, 10, 10)\n",
    "\n",
    "# best model\n",
    "best_model = model_logLs.loc[(model_logLs.logL >= best_logL) & (model_logLs.logL < 0.)]\n",
    "m, b, c, f = best_model.m.to_list()[0], best_model.b.to_list()[0], best_model.c.to_list()[0], best_model.f.to_list()[0]\n",
    "plt.plot(x, build_models(x, m, b, c, f), label='best fit', color='k')\n",
    "\n",
    "# ground truth\n",
    "m, b, c, f = ground_truth.m.to_list()[0], ground_truth.b.to_list()[0], ground_truth.c.to_list()[0], ground_truth.f.to_list()[0]\n",
    "plt.plot(x, build_models(x, m, b, c, f), label='ground truth', color='r')\n",
    "\n",
    "# models as good as or better than ground truth\n",
    "good_models = good_models.drop_duplicates(subset=['m','b','c','f'])\n",
    "label_flag = True\n",
    "for index, row in good_models.reset_index().iterrows(): \n",
    "    m, b, c, f = row.m, row.b, row.c, row.f\n",
    "    if label_flag == True:\n",
    "        plt.plot(x, build_models(x, m, b, c, f), color='green', zorder=0, label='good models', alpha=0.5)\n",
    "    elif label_flag == False:\n",
    "        plt.plot(x, build_models(x, m, b, c, f), color='green', zorder=0, alpha=0.5)\n",
    "    label_flag = False  \n",
    "    \n",
    "plt.xscale('log')\n",
    "plt.ylim([0, 0.5])\n",
    "plt.xlabel('age [Gyr]')\n",
    "plt.ylabel('P(intact)')\n",
    "plt.title(f'm = 0., b = 0.5, c = 1e9, f = 0.3 (fast sculpting); $\\Delta logL = {np.round(delta_logL,2)}$')\n",
    "plt.legend()\n",
    "plt.show()"
   ]
  },
  {
   "cell_type": "code",
   "execution_count": null,
   "metadata": {},
   "outputs": [],
   "source": []
  }
 ],
 "metadata": {
  "kernelspec": {
   "display_name": "Python 3",
   "language": "python",
   "name": "python3"
  },
  "language_info": {
   "codemirror_mode": {
    "name": "ipython",
    "version": 3
   },
   "file_extension": ".py",
   "mimetype": "text/x-python",
   "name": "python",
   "nbconvert_exporter": "python",
   "pygments_lexer": "ipython3",
   "version": "3.6.8"
  }
 },
 "nbformat": 4,
 "nbformat_minor": 2
}
