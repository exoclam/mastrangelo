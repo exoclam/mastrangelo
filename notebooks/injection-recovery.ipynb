{
 "cells": [
  {
   "cell_type": "code",
   "execution_count": 1,
   "metadata": {},
   "outputs": [],
   "source": [
    "import pandas as pd\n",
    "import numpy as np\n",
    "from astropy.io import fits\n",
    "from astropy.table import Table\n",
    "from glob import glob\n",
    "import matplotlib.pyplot as plt\n",
    "import scipy\n",
    "from math import lgamma\n",
    "import seaborn as sns\n",
    "%matplotlib inline\n",
    "\n",
    "path = '/Users/chris/Desktop/mastrangelo/'\n"
   ]
  },
  {
   "cell_type": "code",
   "execution_count": 2,
   "metadata": {},
   "outputs": [],
   "source": [
    "import matplotlib.pylab as pylab\n",
    "pylab_params = {'legend.fontsize': 'large',\n",
    "         'axes.labelsize': 'x-large',\n",
    "         'axes.titlesize':'x-large',\n",
    "         'xtick.labelsize':'large',\n",
    "         'ytick.labelsize':'large'}\n",
    "pylab.rcParams.update(pylab_params)\n",
    "\n",
    "total_stars = 67380\n",
    "\n",
    "k = pd.Series([833, 134, 38, 15, 5, 0])"
   ]
  },
  {
   "cell_type": "code",
   "execution_count": 3,
   "metadata": {},
   "outputs": [],
   "source": [
    "from ast import literal_eval\n",
    "\n",
    "#https://stackoverflow.com/questions/52232742/how-to-use-ast-literal-eval-in-a-pandas-dataframe-and-handle-exceptions\n",
    "def literal_eval_w_exceptions(x):\n",
    "    try:\n",
    "        return literal_eval(str(x))   \n",
    "    except Exception as e:\n",
    "        #print(e)\n",
    "        pass"
   ]
  },
  {
   "cell_type": "markdown",
   "metadata": {},
   "source": [
    "Read in and process data (pad and create zero bins)"
   ]
  },
  {
   "cell_type": "code",
   "execution_count": 4,
   "metadata": {},
   "outputs": [],
   "source": [
    "truth = pd.read_csv(path+'collect_ground_truth.csv', converters=dict(transit_multiplicities=literal_eval))\n",
    "recovery = pd.read_csv(path+'collect_recovery.csv', converters=dict(transit_multiplicities=literal_eval))\n"
   ]
  },
  {
   "cell_type": "markdown",
   "metadata": {},
   "source": [
    "#### Quality control"
   ]
  },
  {
   "cell_type": "markdown",
   "metadata": {},
   "source": [
    "With so many records, some of them get corrupted. There are several ways we can deal with this, but since each model has 30 random samples, a corrupted record will simply be dropped. Therefore, later on, rather than summing to marginalize the log likelihoods, we take the mean. "
   ]
  },
  {
   "cell_type": "code",
   "execution_count": 46,
   "metadata": {},
   "outputs": [],
   "source": [
    "# retrieve indices of rows that somehow got padded with many extra bins\n",
    "long_indices = recovery.loc[recovery['transit_multiplicities'].str.len() > 6]['transit_multiplicities'].index\n",
    "\n",
    "# drop these rows\n",
    "recovery = recovery.drop(long_indices)"
   ]
  },
  {
   "cell_type": "code",
   "execution_count": 5,
   "metadata": {},
   "outputs": [],
   "source": [
    "zero_bins = []\n",
    "transit_multiplicity_zero_bin = []\n",
    "for j, i in enumerate(truth.transit_multiplicities[:]):\n",
    "    zero_bins.append(total_stars-np.sum(i))\n",
    "    temp = truth.reset_index().transit_multiplicities[:][j]\n",
    "    temp.insert(0,total_stars - np.sum(i))\n",
    "    transit_multiplicity_zero_bin.append(temp)\n",
    "truth['transit_multiplicity_zero_bin'] = transit_multiplicity_zero_bin\n",
    "\n",
    "zero_bins = []\n",
    "transit_multiplicity_zero_bin = []\n",
    "for j, i in enumerate(recovery.transit_multiplicities[:]):\n",
    "    zero_bins.append(total_stars-np.sum(i))\n",
    "    temp = recovery.reset_index().transit_multiplicities[:][j]\n",
    "    temp.insert(0,total_stars - np.sum(i))\n",
    "    transit_multiplicity_zero_bin.append(temp)\n",
    "recovery['transit_multiplicity_zero_bin'] = transit_multiplicity_zero_bin"
   ]
  },
  {
   "cell_type": "code",
   "execution_count": 6,
   "metadata": {},
   "outputs": [],
   "source": [
    "def pad(lam):\n",
    "    lam += [0.] * (7 - len(lam)) # pad with zeros to match length of k\n",
    "    return lam\n",
    "\n",
    "truth['transit_multiplicities'] = truth.transit_multiplicities.apply(pad)\n",
    "recovery['transit_multiplicities'] = recovery.transit_multiplicities.apply(pad)\n"
   ]
  },
  {
   "cell_type": "markdown",
   "metadata": {},
   "source": [
    "Prepare machinery for injection-recovery experiments"
   ]
  },
  {
   "cell_type": "code",
   "execution_count": 6,
   "metadata": {},
   "outputs": [],
   "source": [
    "def prior_grid_logslope(cube, ndim, nparams, gi_m, gi_b, gi_c):\n",
    "    \"\"\"\n",
    "    Each model run will use an evenly spaced (m,b, cutoff) tuple on a discrete 11x11x11 3D grid\n",
    "    We're doing log(time), so slope is sampled linearly (everything gets logged together later)\n",
    "    If a cutoff results in a zero probability, don't bother \n",
    "\n",
    "    gi_m: grid index on m axis\n",
    "    gi_b: grid index on b axis\n",
    "    gi_c: grid index for cutoff time axis\n",
    "    \"\"\"\n",
    "    #cube[0] = -1e-9*np.logspace(8,10,11)[gi_m] # convert from year to Gyr\n",
    "    cube[0] = np.linspace(-1,0,6)[gi_m] \n",
    "    cube[1] = np.linspace(0,1,11)[gi_b]\n",
    "    #cube[2] = np.logspace(1e8,1e10,11)\n",
    "    cube[2] = np.round(np.logspace(8,10,11)[gi_c], 0) # in Ballard et al in prep, they use log(yrs) instead of drawing yrs from logspace\n",
    "    return cube"
   ]
  },
  {
   "cell_type": "code",
   "execution_count": 7,
   "metadata": {},
   "outputs": [],
   "source": [
    "def better_loglike(lam, k):\n",
    "    \"\"\"\n",
    "    Calculate Poisson log likelihood\n",
    "    Changed 0 handling from simulate.py to reflect https://www.aanda.org/articles/aa/pdf/2009/16/aa8472-07.pdf\n",
    "\n",
    "    Params: \n",
    "    - lam: model predictions for transit multiplicity (list of ints)\n",
    "    - k: Kepler transit multiplicity (list of ints); can accept alternate ground truths as well\n",
    "\n",
    "    Returns: Poisson log likelihood (float)\n",
    "    \"\"\"\n",
    "\n",
    "    # in the rare occasion that a simulated system has 7+ planets, throw them into the 6+ bin\n",
    "    if len(k) < len(lam): \n",
    "        extras = lam[len(k):]\n",
    "        sum_extras = np.sum(extras)\n",
    "        lam[5] += sum_extras\n",
    "    lam = lam[:6]\n",
    "    \n",
    "    logL = []\n",
    "    for i in range(len(lam)):\n",
    "        if lam[i]==0:\n",
    "            term3 = -lgamma(k[i]+1)\n",
    "            term2 = -lam[i]\n",
    "            term1 = 0\n",
    "            logL.append(term1+term2+term3)\n",
    "\n",
    "        else:\n",
    "            term3 = -lgamma(k[i]+1)\n",
    "            term2 = -lam[i]\n",
    "            term1 = k[i]*np.log(lam[i])\n",
    "            logL.append(term1+term2+term3)\n",
    "\n",
    "    return np.sum(logL)"
   ]
  },
  {
   "cell_type": "markdown",
   "metadata": {},
   "source": [
    "What would it look like to take the logL of something that's sqrt(N) deviated from the ground truth, where N is the number of systems in each bin? \n",
    "\n",
    "Answer: this is $\\Delta$ logL of 3 different from the perfect case of comparing the ground truth to itself."
   ]
  },
  {
   "cell_type": "code",
   "execution_count": 8,
   "metadata": {},
   "outputs": [
    {
     "data": {
      "text/plain": [
       "-23.261564101898227"
      ]
     },
     "execution_count": 8,
     "metadata": {},
     "output_type": "execute_result"
    }
   ],
   "source": [
    "better_loglike(np.array([9900, 804, 122, 32, 11, 3, 0]), np.array([1e4, 833, 134, 38, 15, 5, 0]))"
   ]
  },
  {
   "cell_type": "markdown",
   "metadata": {},
   "source": [
    "#### Model 2: m = -1, b = 0.5, c = 4e9, f = 0.3 (heavy sculpting model)"
   ]
  },
  {
   "cell_type": "code",
   "execution_count": 9,
   "metadata": {},
   "outputs": [
    {
     "data": {
      "text/plain": [
       "692    [616.5, 34.8, 0.0, 0.0, 0.0, 0.0]\n",
       "Name: transit_multiplicities, dtype: object"
      ]
     },
     "execution_count": 9,
     "metadata": {},
     "output_type": "execute_result"
    }
   ],
   "source": [
    "tm_fiducial = truth.loc[(truth.ms == -1.) & (truth.bs == 0.5) & (np.round(truth.cs, -8) == 4e9) & (np.round(truth.fs,1) == 0.3)].transit_multiplicities\n",
    "tm_fiducial"
   ]
  },
  {
   "cell_type": "code",
   "execution_count": 10,
   "metadata": {},
   "outputs": [],
   "source": [
    "test_recovery = recovery.loc[(recovery.ms == -1.) & (recovery.bs == 0.5) & (np.round(recovery.cs, -8) == 4e9) & (np.round(recovery.fs,1) == 0.3)]\n"
   ]
  },
  {
   "cell_type": "markdown",
   "metadata": {},
   "source": [
    "Let's quickly check their transit yields to see whether they make sense."
   ]
  },
  {
   "cell_type": "code",
   "execution_count": 11,
   "metadata": {},
   "outputs": [
    {
     "data": {
      "image/png": "[encoded data removed]",
      "text/plain": [
       "<Figure size 432x288 with 1 Axes>"
      ]
     },
     "metadata": {
      "needs_background": "light"
     },
     "output_type": "display_data"
    }
   ],
   "source": [
    "plt.scatter(np.arange(len(tm_fiducial[692])), tm_fiducial[692], color='r', label='ground truth')\n",
    "plt.scatter(np.arange(len(recovery.iloc[20760].transit_multiplicities)), recovery.iloc[20760].transit_multiplicities, label='recovery same')\n",
    "plt.scatter(np.arange(len(recovery.iloc[5470].transit_multiplicities)), recovery.iloc[5470].transit_multiplicities, label='recovery -1, 0.1, 1e9, 0.3')\n",
    "\n",
    "plt.xlim([0,6])\n",
    "plt.ylim([0,700])\n",
    "plt.title('m = -1., b = 0.5, c = 4e9, f = 0.3 (fast sculpting)')\n",
    "plt.legend()\n",
    "plt.show()"
   ]
  },
  {
   "cell_type": "markdown",
   "metadata": {},
   "source": [
    "This makes sense: the yields between higher b but short-lived sculpting and lower b but longer-lived sculpting are similar."
   ]
  },
  {
   "cell_type": "code",
   "execution_count": 96,
   "metadata": {},
   "outputs": [],
   "source": [
    "cube = [0,0,0]\n",
    "fs = np.round(np.linspace(0.1, 1., 10), 1)\n",
    "ndim = 3\n",
    "nparams = 3\n",
    "\n",
    "ms = []\n",
    "bs = []\n",
    "cs = []\n",
    "fs_for_df = []\n",
    "all_logLs = []\n",
    "all_transit_multiplicities = []\n",
    "\n",
    "for gi_m in range(6):\n",
    "    \n",
    "    for gi_b in range(11):\n",
    "\n",
    "        for gi_c in range(11):\n",
    "            cube = prior_grid_logslope(cube, ndim, nparams, gi_m, gi_b, gi_c)\n",
    "            \n",
    "            for f in fs:\n",
    "                \n",
    "                ms.append(cube[0])\n",
    "                bs.append(cube[1])\n",
    "                cs.append(cube[2])\n",
    "                fs_for_df.append(f)\n",
    "                \n",
    "                try:\n",
    "                    #tm = truth.loc[(truth.ms == cube[0]) & (truth.bs == cube[1]) & (np.round(truth.cs, 0) == cube[2]) & (np.round(truth.fs,1) == f)].transit_multiplicities\n",
    "                    tm_recovery = recovery.loc[(np.round(recovery.ms,1) == np.round(cube[0],1)) & (np.round(recovery.bs,1) == np.round(cube[1],1)) & (np.round(recovery.cs, 0) == np.round(cube[2],0)) & (np.round(recovery.fs,1) == f)].transit_multiplicities.to_list()\n",
    "                    \n",
    "                    # calculate logL for each realization of each model, using tm as the ground truth\n",
    "                    logLs = []\n",
    "                    for i in range(len(tm_recovery)):\n",
    "                        logL = better_loglike(tm_recovery[i], np.sum(tm_fiducial))\n",
    "                        logLs.append(logL)\n",
    "\n",
    "                    # keep best logL for each model\n",
    "                    best_logL = np.max(logLs)\n",
    "                    best_arg = np.argmax(logLs)\n",
    "                    all_logLs.append(best_logL)\n",
    "                    # append transit multiplicity of the best sample for that model\n",
    "                    all_transit_multiplicities.append(tm_recovery[best_arg])\n",
    "\n",
    "                except:\n",
    "                    all_logLs.append(0.)\n",
    "                "
   ]
  },
  {
   "cell_type": "code",
   "execution_count": 74,
   "metadata": {},
   "outputs": [
    {
     "data": {
      "text/plain": [
       "-633.6779361352512"
      ]
     },
     "execution_count": 74,
     "metadata": {},
     "output_type": "execute_result"
    }
   ],
   "source": [
    "better_loglike([1886.4, 126.0, 0.0, 0.0, 0.0, 0.0], np.sum(tm_fiducial))"
   ]
  },
  {
   "cell_type": "code",
   "execution_count": 75,
   "metadata": {},
   "outputs": [
    {
     "data": {
      "text/plain": [
       "-2924.6370860174347"
      ]
     },
     "execution_count": 75,
     "metadata": {},
     "output_type": "execute_result"
    }
   ],
   "source": [
    "better_loglike(tm_recovery[i], np.sum(tm_fiducial))"
   ]
  },
  {
   "cell_type": "code",
   "execution_count": 97,
   "metadata": {},
   "outputs": [
    {
     "data": {
      "text/html": [
       "<div>\n",
       "<style scoped>\n",
       "    .dataframe tbody tr th:only-of-type {\n",
       "        vertical-align: middle;\n",
       "    }\n",
       "\n",
       "    .dataframe tbody tr th {\n",
       "        vertical-align: top;\n",
       "    }\n",
       "\n",
       "    .dataframe thead th {\n",
       "        text-align: right;\n",
       "    }\n",
       "</style>\n",
       "<table border=\"1\" class=\"dataframe\">\n",
       "  <thead>\n",
       "    <tr style=\"text-align: right;\">\n",
       "      <th></th>\n",
       "      <th>m</th>\n",
       "      <th>b</th>\n",
       "      <th>c</th>\n",
       "      <th>f</th>\n",
       "      <th>injection_transit_multiplicities</th>\n",
       "      <th>injection_logL</th>\n",
       "    </tr>\n",
       "  </thead>\n",
       "  <tbody>\n",
       "    <tr>\n",
       "      <th>0</th>\n",
       "      <td>-1.0</td>\n",
       "      <td>0.0</td>\n",
       "      <td>1.000000e+08</td>\n",
       "      <td>0.1</td>\n",
       "      <td>[210.8, 13.0, 0.0, 0.0, 0.0, 0.0]</td>\n",
       "      <td>-275.189746</td>\n",
       "    </tr>\n",
       "    <tr>\n",
       "      <th>1</th>\n",
       "      <td>-1.0</td>\n",
       "      <td>0.0</td>\n",
       "      <td>1.000000e+08</td>\n",
       "      <td>0.2</td>\n",
       "      <td>[421.6, 26.0, 0.0, 0.0, 0.0, 0.0]</td>\n",
       "      <td>-47.542987</td>\n",
       "    </tr>\n",
       "    <tr>\n",
       "      <th>2</th>\n",
       "      <td>-1.0</td>\n",
       "      <td>0.0</td>\n",
       "      <td>1.000000e+08</td>\n",
       "      <td>0.3</td>\n",
       "      <td>[612.9, 35.4, 0.0, 0.0, 0.0, 0.0]</td>\n",
       "      <td>-6.842910</td>\n",
       "    </tr>\n",
       "    <tr>\n",
       "      <th>3</th>\n",
       "      <td>-1.0</td>\n",
       "      <td>0.0</td>\n",
       "      <td>1.000000e+08</td>\n",
       "      <td>0.4</td>\n",
       "      <td>[787.2, 51.6, 0.0, 0.0, 0.0, 0.0]</td>\n",
       "      <td>-29.931965</td>\n",
       "    </tr>\n",
       "    <tr>\n",
       "      <th>4</th>\n",
       "      <td>-1.0</td>\n",
       "      <td>0.0</td>\n",
       "      <td>1.000000e+08</td>\n",
       "      <td>0.5</td>\n",
       "      <td>[984.0, 64.5, 0.0, 0.0, 0.0, 0.0]</td>\n",
       "      <td>-94.298570</td>\n",
       "    </tr>\n",
       "    <tr>\n",
       "      <th>...</th>\n",
       "      <td>...</td>\n",
       "      <td>...</td>\n",
       "      <td>...</td>\n",
       "      <td>...</td>\n",
       "      <td>...</td>\n",
       "      <td>...</td>\n",
       "    </tr>\n",
       "    <tr>\n",
       "      <th>7255</th>\n",
       "      <td>0.0</td>\n",
       "      <td>1.0</td>\n",
       "      <td>1.000000e+10</td>\n",
       "      <td>0.6</td>\n",
       "      <td>[1423.2, 677.4, 333.0, 135.6, 36.6, 6.0]</td>\n",
       "      <td>-1348.251547</td>\n",
       "    </tr>\n",
       "    <tr>\n",
       "      <th>7256</th>\n",
       "      <td>0.0</td>\n",
       "      <td>1.0</td>\n",
       "      <td>1.000000e+10</td>\n",
       "      <td>0.7</td>\n",
       "      <td>[1660.3999999999999, 790.3, 388.5, 158.2, 42.6...</td>\n",
       "      <td>-1683.153209</td>\n",
       "    </tr>\n",
       "    <tr>\n",
       "      <th>7257</th>\n",
       "      <td>0.0</td>\n",
       "      <td>1.0</td>\n",
       "      <td>1.000000e+10</td>\n",
       "      <td>0.8</td>\n",
       "      <td>[1897.6000000000001, 903.2, 444.0, 180.8, 48.8...</td>\n",
       "      <td>-2031.484213</td>\n",
       "    </tr>\n",
       "    <tr>\n",
       "      <th>7258</th>\n",
       "      <td>0.0</td>\n",
       "      <td>1.0</td>\n",
       "      <td>1.000000e+10</td>\n",
       "      <td>0.9</td>\n",
       "      <td>[2134.8, 1016.1, 499.5, 203.4, 54.9, 9.0]</td>\n",
       "      <td>-2390.072122</td>\n",
       "    </tr>\n",
       "    <tr>\n",
       "      <th>7259</th>\n",
       "      <td>0.0</td>\n",
       "      <td>1.0</td>\n",
       "      <td>1.000000e+10</td>\n",
       "      <td>1.0</td>\n",
       "      <td>[2372.0, 1129.0, 555.0, 226.0, 61.0, 10.0]</td>\n",
       "      <td>-2756.750818</td>\n",
       "    </tr>\n",
       "  </tbody>\n",
       "</table>\n",
       "<p>7260 rows × 6 columns</p>\n",
       "</div>"
      ],
      "text/plain": [
       "        m    b             c    f  \\\n",
       "0    -1.0  0.0  1.000000e+08  0.1   \n",
       "1    -1.0  0.0  1.000000e+08  0.2   \n",
       "2    -1.0  0.0  1.000000e+08  0.3   \n",
       "3    -1.0  0.0  1.000000e+08  0.4   \n",
       "4    -1.0  0.0  1.000000e+08  0.5   \n",
       "...   ...  ...           ...  ...   \n",
       "7255  0.0  1.0  1.000000e+10  0.6   \n",
       "7256  0.0  1.0  1.000000e+10  0.7   \n",
       "7257  0.0  1.0  1.000000e+10  0.8   \n",
       "7258  0.0  1.0  1.000000e+10  0.9   \n",
       "7259  0.0  1.0  1.000000e+10  1.0   \n",
       "\n",
       "                       injection_transit_multiplicities  injection_logL  \n",
       "0                     [210.8, 13.0, 0.0, 0.0, 0.0, 0.0]     -275.189746  \n",
       "1                     [421.6, 26.0, 0.0, 0.0, 0.0, 0.0]      -47.542987  \n",
       "2                     [612.9, 35.4, 0.0, 0.0, 0.0, 0.0]       -6.842910  \n",
       "3                     [787.2, 51.6, 0.0, 0.0, 0.0, 0.0]      -29.931965  \n",
       "4                     [984.0, 64.5, 0.0, 0.0, 0.0, 0.0]      -94.298570  \n",
       "...                                                 ...             ...  \n",
       "7255           [1423.2, 677.4, 333.0, 135.6, 36.6, 6.0]    -1348.251547  \n",
       "7256  [1660.3999999999999, 790.3, 388.5, 158.2, 42.6...    -1683.153209  \n",
       "7257  [1897.6000000000001, 903.2, 444.0, 180.8, 48.8...    -2031.484213  \n",
       "7258          [2134.8, 1016.1, 499.5, 203.4, 54.9, 9.0]    -2390.072122  \n",
       "7259         [2372.0, 1129.0, 555.0, 226.0, 61.0, 10.0]    -2756.750818  \n",
       "\n",
       "[7260 rows x 6 columns]"
      ]
     },
     "execution_count": 97,
     "metadata": {},
     "output_type": "execute_result"
    }
   ],
   "source": [
    "model_logLs = pd.DataFrame({'m': ms, 'b': bs, 'c': cs, 'f': fs_for_df, \n",
    "                            'injection_transit_multiplicities': all_transit_multiplicities, \n",
    "                            'injection_logL': all_logLs})\n",
    "model_logLs"
   ]
  },
  {
   "cell_type": "markdown",
   "metadata": {},
   "source": [
    "### Note that while these logLs take f into account, they do not take the zero-bin into account. analyze.ipynb has machinery to handle that, and we can do this injection-recovery routine with those logLs instead, if we want. "
   ]
  },
  {
   "cell_type": "markdown",
   "metadata": {},
   "source": [
    "#### What is the $\\Delta$ logL between the very best model and the ground truth?"
   ]
  },
  {
   "cell_type": "markdown",
   "metadata": {},
   "source": [
    "Identify best and good models"
   ]
  },
  {
   "cell_type": "code",
   "execution_count": 77,
   "metadata": {},
   "outputs": [],
   "source": [
    "x = np.logspace(8, 10, 1000)"
   ]
  },
  {
   "cell_type": "code",
   "execution_count": 80,
   "metadata": {},
   "outputs": [
    {
     "data": {
      "image/png": "[encoded data removed]",
      "text/plain": [
       "<Figure size 432x288 with 1 Axes>"
      ]
     },
     "metadata": {
      "needs_background": "light"
     },
     "output_type": "display_data"
    }
   ],
   "source": [
    "ground_truth = model_logLs.loc[(model_logLs.m == -1) & (model_logLs.b == 0.5) & (np.round(model_logLs.c, -8) == 4e9) & (np.round(model_logLs.f,1) == 0.3)]\n",
    "m, b, c, f = ground_truth.m.to_list()[0], ground_truth.b.to_list()[0], ground_truth.c.to_list()[0], ground_truth.f.to_list()[0]\n",
    "plt.plot(x, build_models(x, m, b, c, f), label='ground truth', color='r')\n",
    "plt.xscale('log')\n"
   ]
  },
  {
   "cell_type": "code",
   "execution_count": 85,
   "metadata": {},
   "outputs": [
    {
     "data": {
      "text/plain": [
       "m                -8.000000e-01\n",
       "b                 2.000000e-01\n",
       "c                 1.584893e+09\n",
       "f                 3.000000e-01\n",
       "injection_logL   -6.827245e+00\n",
       "Name: 1492, dtype: float64"
      ]
     },
     "execution_count": 85,
     "metadata": {},
     "output_type": "execute_result"
    }
   ],
   "source": [
    "model_logLs.iloc[1492]"
   ]
  },
  {
   "cell_type": "code",
   "execution_count": 98,
   "metadata": {},
   "outputs": [
    {
     "name": "stdout",
     "output_type": "stream",
     "text": [
      "Best model:          m    b             c    f   injection_transit_multiplicities  \\\n",
      "1382 -0.8  0.1  1.584893e+09  0.3  [616.5, 34.8, 0.0, 0.0, 0.0, 0.0]   \n",
      "1492 -0.8  0.2  1.584893e+09  0.3  [616.5, 34.8, 0.0, 0.0, 0.0, 0.0]   \n",
      "3752 -0.4  0.1  1.584893e+08  0.3  [616.5, 34.8, 0.0, 0.0, 0.0, 0.0]   \n",
      "3842 -0.4  0.1  1.000000e+10  0.3  [616.5, 34.8, 0.0, 0.0, 0.0, 0.0]   \n",
      "\n",
      "      injection_logL  \n",
      "1382       -6.827245  \n",
      "1492       -6.827245  \n",
      "3752       -6.827245  \n",
      "3842       -6.827245  \n",
      "Ground truth:  632   -6.837797\n",
      "Name: injection_logL, dtype: float64\n",
      "Some models between best model and ground truth: \n",
      "      m    b             c    f  \\\n",
      "12 -1.0  0.0  1.584893e+08  0.3   \n",
      "52 -1.0  0.0  1.000000e+09  0.3   \n",
      "72 -1.0  0.0  2.511886e+09  0.3   \n",
      "82 -1.0  0.0  3.981072e+09  0.3   \n",
      "92 -1.0  0.0  6.309573e+09  0.3   \n",
      "\n",
      "                 injection_transit_multiplicities  injection_logL  \n",
      "12  [617.6999999999999, 34.5, 0.0, 0.0, 0.0, 0.0]       -6.829712  \n",
      "52              [613.5, 34.5, 0.0, 0.0, 0.0, 0.0]       -6.835868  \n",
      "72              [618.0, 35.1, 0.0, 0.0, 0.0, 0.0]       -6.830352  \n",
      "82  [617.6999999999999, 35.4, 0.0, 0.0, 0.0, 0.0]       -6.833525  \n",
      "92  [617.6999999999999, 34.8, 0.0, 0.0, 0.0, 0.0]       -6.828411  \n"
     ]
    }
   ],
   "source": [
    "best_logL = max(model_logLs.loc[model_logLs.injection_logL < 0.].injection_logL)\n",
    "print(\"Best model: \", model_logLs.loc[(model_logLs.injection_logL >= best_logL) & (model_logLs.injection_logL < 0.)])\n",
    "\n",
    "ground_truth = model_logLs.loc[(model_logLs.m == -1) & (model_logLs.b == 0.5) & (np.round(model_logLs.c, -9) == 4e9) & (np.round(model_logLs.f,1) == 0.3)]\n",
    "print(\"Ground truth: \", ground_truth.injection_logL)\n",
    "delta_logL = best_logL - model_logLs.loc[(model_logLs.m == -1) & (model_logLs.b == 0.5) & (np.round(model_logLs.c, -9) == 4e9) & (np.round(model_logLs.f,1) == 0.3)].injection_logL.to_list()[0]\n",
    "\n",
    "good_models = model_logLs.loc[np.abs(model_logLs.injection_logL - best_logL) <= delta_logL]\n",
    "print(\"Some models between best model and ground truth: \")\n",
    "print(good_models.head())"
   ]
  },
  {
   "cell_type": "markdown",
   "metadata": {},
   "source": [
    "Hold on: why are there many best models? "
   ]
  },
  {
   "cell_type": "code",
   "execution_count": 105,
   "metadata": {},
   "outputs": [
    {
     "data": {
      "text/html": [
       "<div>\n",
       "<style scoped>\n",
       "    .dataframe tbody tr th:only-of-type {\n",
       "        vertical-align: middle;\n",
       "    }\n",
       "\n",
       "    .dataframe tbody tr th {\n",
       "        vertical-align: top;\n",
       "    }\n",
       "\n",
       "    .dataframe thead th {\n",
       "        text-align: right;\n",
       "    }\n",
       "</style>\n",
       "<table border=\"1\" class=\"dataframe\">\n",
       "  <thead>\n",
       "    <tr style=\"text-align: right;\">\n",
       "      <th></th>\n",
       "      <th>m</th>\n",
       "      <th>b</th>\n",
       "      <th>c</th>\n",
       "      <th>f</th>\n",
       "      <th>injection_transit_multiplicities</th>\n",
       "      <th>injection_logL</th>\n",
       "    </tr>\n",
       "  </thead>\n",
       "  <tbody>\n",
       "    <tr>\n",
       "      <th>1490</th>\n",
       "      <td>-0.8</td>\n",
       "      <td>0.2</td>\n",
       "      <td>1.584893e+09</td>\n",
       "      <td>0.1</td>\n",
       "      <td>[214.8, 11.700000000000001, 0.1, 0.1, 0.0, 0.0]</td>\n",
       "      <td>-270.167605</td>\n",
       "    </tr>\n",
       "    <tr>\n",
       "      <th>1491</th>\n",
       "      <td>-0.8</td>\n",
       "      <td>0.2</td>\n",
       "      <td>1.584893e+09</td>\n",
       "      <td>0.2</td>\n",
       "      <td>[429.6, 23.400000000000002, 0.2, 0.2, 0.0, 0.0]</td>\n",
       "      <td>-45.420846</td>\n",
       "    </tr>\n",
       "    <tr>\n",
       "      <th>1492</th>\n",
       "      <td>-0.8</td>\n",
       "      <td>0.2</td>\n",
       "      <td>1.584893e+09</td>\n",
       "      <td>0.3</td>\n",
       "      <td>[616.5, 34.8, 0.0, 0.0, 0.0, 0.0]</td>\n",
       "      <td>-6.827245</td>\n",
       "    </tr>\n",
       "    <tr>\n",
       "      <th>1493</th>\n",
       "      <td>-0.8</td>\n",
       "      <td>0.2</td>\n",
       "      <td>1.584893e+09</td>\n",
       "      <td>0.4</td>\n",
       "      <td>[780.0, 50.0, 0.4, 0.4, 0.0, 0.0]</td>\n",
       "      <td>-28.692784</td>\n",
       "    </tr>\n",
       "    <tr>\n",
       "      <th>1494</th>\n",
       "      <td>-0.8</td>\n",
       "      <td>0.2</td>\n",
       "      <td>1.584893e+09</td>\n",
       "      <td>0.5</td>\n",
       "      <td>[975.0, 62.5, 0.5, 0.5, 0.0, 0.0]</td>\n",
       "      <td>-91.059389</td>\n",
       "    </tr>\n",
       "    <tr>\n",
       "      <th>1495</th>\n",
       "      <td>-0.8</td>\n",
       "      <td>0.2</td>\n",
       "      <td>1.584893e+09</td>\n",
       "      <td>0.6</td>\n",
       "      <td>[1170.0, 75.0, 0.6, 0.6, 0.0, 0.0]</td>\n",
       "      <td>-180.013359</td>\n",
       "    </tr>\n",
       "    <tr>\n",
       "      <th>1496</th>\n",
       "      <td>-0.8</td>\n",
       "      <td>0.2</td>\n",
       "      <td>1.584893e+09</td>\n",
       "      <td>0.7</td>\n",
       "      <td>[1365.0, 87.5, 0.7, 0.7, 0.0, 0.0]</td>\n",
       "      <td>-287.315021</td>\n",
       "    </tr>\n",
       "    <tr>\n",
       "      <th>1497</th>\n",
       "      <td>-0.8</td>\n",
       "      <td>0.2</td>\n",
       "      <td>1.584893e+09</td>\n",
       "      <td>0.8</td>\n",
       "      <td>[1560.0, 100.0, 0.8, 0.8, 0.0, 0.0]</td>\n",
       "      <td>-408.046025</td>\n",
       "    </tr>\n",
       "    <tr>\n",
       "      <th>1498</th>\n",
       "      <td>-0.8</td>\n",
       "      <td>0.2</td>\n",
       "      <td>1.584893e+09</td>\n",
       "      <td>0.9</td>\n",
       "      <td>[1755.0, 112.5, 0.9, 0.9, 0.0, 0.0]</td>\n",
       "      <td>-539.033934</td>\n",
       "    </tr>\n",
       "    <tr>\n",
       "      <th>1499</th>\n",
       "      <td>-0.8</td>\n",
       "      <td>0.2</td>\n",
       "      <td>1.584893e+09</td>\n",
       "      <td>1.0</td>\n",
       "      <td>[1950.0, 125.0, 1.0, 1.0, 0.0, 0.0]</td>\n",
       "      <td>-678.112630</td>\n",
       "    </tr>\n",
       "  </tbody>\n",
       "</table>\n",
       "</div>"
      ],
      "text/plain": [
       "        m    b             c    f  \\\n",
       "1490 -0.8  0.2  1.584893e+09  0.1   \n",
       "1491 -0.8  0.2  1.584893e+09  0.2   \n",
       "1492 -0.8  0.2  1.584893e+09  0.3   \n",
       "1493 -0.8  0.2  1.584893e+09  0.4   \n",
       "1494 -0.8  0.2  1.584893e+09  0.5   \n",
       "1495 -0.8  0.2  1.584893e+09  0.6   \n",
       "1496 -0.8  0.2  1.584893e+09  0.7   \n",
       "1497 -0.8  0.2  1.584893e+09  0.8   \n",
       "1498 -0.8  0.2  1.584893e+09  0.9   \n",
       "1499 -0.8  0.2  1.584893e+09  1.0   \n",
       "\n",
       "                     injection_transit_multiplicities  injection_logL  \n",
       "1490  [214.8, 11.700000000000001, 0.1, 0.1, 0.0, 0.0]     -270.167605  \n",
       "1491  [429.6, 23.400000000000002, 0.2, 0.2, 0.0, 0.0]      -45.420846  \n",
       "1492                [616.5, 34.8, 0.0, 0.0, 0.0, 0.0]       -6.827245  \n",
       "1493                [780.0, 50.0, 0.4, 0.4, 0.0, 0.0]      -28.692784  \n",
       "1494                [975.0, 62.5, 0.5, 0.5, 0.0, 0.0]      -91.059389  \n",
       "1495               [1170.0, 75.0, 0.6, 0.6, 0.0, 0.0]     -180.013359  \n",
       "1496               [1365.0, 87.5, 0.7, 0.7, 0.0, 0.0]     -287.315021  \n",
       "1497              [1560.0, 100.0, 0.8, 0.8, 0.0, 0.0]     -408.046025  \n",
       "1498              [1755.0, 112.5, 0.9, 0.9, 0.0, 0.0]     -539.033934  \n",
       "1499              [1950.0, 125.0, 1.0, 1.0, 0.0, 0.0]     -678.112630  "
      ]
     },
     "execution_count": 105,
     "metadata": {},
     "output_type": "execute_result"
    }
   ],
   "source": [
    "model_logLs.iloc[1490:1500]"
   ]
  },
  {
   "cell_type": "code",
   "execution_count": 106,
   "metadata": {},
   "outputs": [
    {
     "data": {
      "text/html": [
       "<div>\n",
       "<style scoped>\n",
       "    .dataframe tbody tr th:only-of-type {\n",
       "        vertical-align: middle;\n",
       "    }\n",
       "\n",
       "    .dataframe tbody tr th {\n",
       "        vertical-align: top;\n",
       "    }\n",
       "\n",
       "    .dataframe thead th {\n",
       "        text-align: right;\n",
       "    }\n",
       "</style>\n",
       "<table border=\"1\" class=\"dataframe\">\n",
       "  <thead>\n",
       "    <tr style=\"text-align: right;\">\n",
       "      <th></th>\n",
       "      <th>m</th>\n",
       "      <th>b</th>\n",
       "      <th>c</th>\n",
       "      <th>f</th>\n",
       "      <th>injection_transit_multiplicities</th>\n",
       "      <th>injection_logL</th>\n",
       "    </tr>\n",
       "  </thead>\n",
       "  <tbody>\n",
       "    <tr>\n",
       "      <th>1380</th>\n",
       "      <td>-0.8</td>\n",
       "      <td>0.1</td>\n",
       "      <td>1.584893e+09</td>\n",
       "      <td>0.1</td>\n",
       "      <td>[214.20000000000002, 11.3, 0.0, 0.0, 0.0, 0.0]</td>\n",
       "      <td>-271.902638</td>\n",
       "    </tr>\n",
       "    <tr>\n",
       "      <th>1381</th>\n",
       "      <td>-0.8</td>\n",
       "      <td>0.1</td>\n",
       "      <td>1.584893e+09</td>\n",
       "      <td>0.2</td>\n",
       "      <td>[428.40000000000003, 22.6, 0.0, 0.0, 0.0, 0.0]</td>\n",
       "      <td>-45.955880</td>\n",
       "    </tr>\n",
       "    <tr>\n",
       "      <th>1382</th>\n",
       "      <td>-0.8</td>\n",
       "      <td>0.1</td>\n",
       "      <td>1.584893e+09</td>\n",
       "      <td>0.3</td>\n",
       "      <td>[616.5, 34.8, 0.0, 0.0, 0.0, 0.0]</td>\n",
       "      <td>-6.827245</td>\n",
       "    </tr>\n",
       "    <tr>\n",
       "      <th>1383</th>\n",
       "      <td>-0.8</td>\n",
       "      <td>0.1</td>\n",
       "      <td>1.584893e+09</td>\n",
       "      <td>0.4</td>\n",
       "      <td>[778.4000000000001, 38.400000000000006, 0.0, 0...</td>\n",
       "      <td>-25.144699</td>\n",
       "    </tr>\n",
       "    <tr>\n",
       "      <th>1384</th>\n",
       "      <td>-0.8</td>\n",
       "      <td>0.1</td>\n",
       "      <td>1.584893e+09</td>\n",
       "      <td>0.5</td>\n",
       "      <td>[973.0, 48.0, 0.0, 0.0, 0.0, 0.0]</td>\n",
       "      <td>-84.011304</td>\n",
       "    </tr>\n",
       "    <tr>\n",
       "      <th>1385</th>\n",
       "      <td>-0.8</td>\n",
       "      <td>0.1</td>\n",
       "      <td>1.584893e+09</td>\n",
       "      <td>0.6</td>\n",
       "      <td>[1167.6, 57.599999999999994, 0.0, 0.0, 0.0, 0.0]</td>\n",
       "      <td>-169.465274</td>\n",
       "    </tr>\n",
       "    <tr>\n",
       "      <th>1386</th>\n",
       "      <td>-0.8</td>\n",
       "      <td>0.1</td>\n",
       "      <td>1.584893e+09</td>\n",
       "      <td>0.7</td>\n",
       "      <td>[1362.1999999999998, 67.19999999999999, 0.0, 0...</td>\n",
       "      <td>-273.266936</td>\n",
       "    </tr>\n",
       "    <tr>\n",
       "      <th>1387</th>\n",
       "      <td>-0.8</td>\n",
       "      <td>0.1</td>\n",
       "      <td>1.584893e+09</td>\n",
       "      <td>0.8</td>\n",
       "      <td>[1556.8000000000002, 76.80000000000001, 0.0, 0...</td>\n",
       "      <td>-390.497940</td>\n",
       "    </tr>\n",
       "    <tr>\n",
       "      <th>1388</th>\n",
       "      <td>-0.8</td>\n",
       "      <td>0.1</td>\n",
       "      <td>1.584893e+09</td>\n",
       "      <td>0.9</td>\n",
       "      <td>[1751.4, 86.4, 0.0, 0.0, 0.0, 0.0]</td>\n",
       "      <td>-517.985849</td>\n",
       "    </tr>\n",
       "    <tr>\n",
       "      <th>1389</th>\n",
       "      <td>-0.8</td>\n",
       "      <td>0.1</td>\n",
       "      <td>1.584893e+09</td>\n",
       "      <td>1.0</td>\n",
       "      <td>[1946.0, 96.0, 0.0, 0.0, 0.0, 0.0]</td>\n",
       "      <td>-653.564545</td>\n",
       "    </tr>\n",
       "  </tbody>\n",
       "</table>\n",
       "</div>"
      ],
      "text/plain": [
       "        m    b             c    f  \\\n",
       "1380 -0.8  0.1  1.584893e+09  0.1   \n",
       "1381 -0.8  0.1  1.584893e+09  0.2   \n",
       "1382 -0.8  0.1  1.584893e+09  0.3   \n",
       "1383 -0.8  0.1  1.584893e+09  0.4   \n",
       "1384 -0.8  0.1  1.584893e+09  0.5   \n",
       "1385 -0.8  0.1  1.584893e+09  0.6   \n",
       "1386 -0.8  0.1  1.584893e+09  0.7   \n",
       "1387 -0.8  0.1  1.584893e+09  0.8   \n",
       "1388 -0.8  0.1  1.584893e+09  0.9   \n",
       "1389 -0.8  0.1  1.584893e+09  1.0   \n",
       "\n",
       "                       injection_transit_multiplicities  injection_logL  \n",
       "1380     [214.20000000000002, 11.3, 0.0, 0.0, 0.0, 0.0]     -271.902638  \n",
       "1381     [428.40000000000003, 22.6, 0.0, 0.0, 0.0, 0.0]      -45.955880  \n",
       "1382                  [616.5, 34.8, 0.0, 0.0, 0.0, 0.0]       -6.827245  \n",
       "1383  [778.4000000000001, 38.400000000000006, 0.0, 0...      -25.144699  \n",
       "1384                  [973.0, 48.0, 0.0, 0.0, 0.0, 0.0]      -84.011304  \n",
       "1385   [1167.6, 57.599999999999994, 0.0, 0.0, 0.0, 0.0]     -169.465274  \n",
       "1386  [1362.1999999999998, 67.19999999999999, 0.0, 0...     -273.266936  \n",
       "1387  [1556.8000000000002, 76.80000000000001, 0.0, 0...     -390.497940  \n",
       "1388                 [1751.4, 86.4, 0.0, 0.0, 0.0, 0.0]     -517.985849  \n",
       "1389                 [1946.0, 96.0, 0.0, 0.0, 0.0, 0.0]     -653.564545  "
      ]
     },
     "execution_count": 106,
     "metadata": {},
     "output_type": "execute_result"
    }
   ],
   "source": [
    "model_logLs.iloc[1380:1390]"
   ]
  },
  {
   "cell_type": "code",
   "execution_count": 213,
   "metadata": {},
   "outputs": [
    {
     "data": {
      "image/png": "[encoded data removed]",
      "text/plain": [
       "<Figure size 432x288 with 1 Axes>"
      ]
     },
     "metadata": {
      "needs_background": "light"
     },
     "output_type": "display_data"
    }
   ],
   "source": [
    "plt.scatter(np.arange(len(tm_fiducial[692])), tm_fiducial[692], color='r', label='ground truth')\n",
    "plt.scatter(np.arange(len(recovery.iloc[6909].transit_multiplicities)), recovery.iloc[6909].transit_multiplicities, label='-0.8, 0.1, 1.6e9, 0.3')\n",
    "plt.scatter(np.arange(len(recovery.iloc[7459].transit_multiplicities)), recovery.iloc[7459].transit_multiplicities, label='-0.8, 0.2, 1.6e9, 0.3')\n",
    "plt.scatter(np.arange(len(recovery.iloc[18759].transit_multiplicities)), recovery.iloc[18759].transit_multiplicities, label='-0.4, 0.1, 1.6e8, 0.3')\n",
    "\n",
    "plt.xlim([0,6])\n",
    "plt.ylim([0,2700])\n",
    "plt.title('m = -1., b = 0.5, c = 4e9, f = 0.3 (fast sculpting)')\n",
    "plt.legend()\n",
    "plt.show()"
   ]
  },
  {
   "cell_type": "code",
   "execution_count": 214,
   "metadata": {},
   "outputs": [
    {
     "name": "stdout",
     "output_type": "stream",
     "text": [
      "[67161.9, 206.10000000000002, 12.0, 0.0, 0.0, 0.0, 0.0]\n",
      "[65608.8, 1662.4, 108.0, 0.8, 0.0, 0.0, 0.0]\n"
     ]
    }
   ],
   "source": [
    "print(recovery.iloc[6909].transit_multiplicities)\n",
    "print(recovery.iloc[18759].transit_multiplicities)"
   ]
  },
  {
   "cell_type": "code",
   "execution_count": 219,
   "metadata": {},
   "outputs": [
    {
     "name": "stdout",
     "output_type": "stream",
     "text": [
      "-294.04951393489176\n",
      "-491.75005370499343\n"
     ]
    }
   ],
   "source": [
    "print(better_loglike(recovery.iloc[6909].transit_multiplicities, tm_fiducial.to_list()[0]))\n",
    "print(better_loglike(recovery.iloc[18759].transit_multiplicities, tm_fiducial.to_list()[0]))"
   ]
  },
  {
   "cell_type": "markdown",
   "metadata": {},
   "source": [
    "The green functional no-sculpting model has 6.5% multi:single ratio; compared to the blue sculpting model with 5.8% multi:single ratio, this is sensible."
   ]
  },
  {
   "cell_type": "markdown",
   "metadata": {},
   "source": [
    "Plot these models"
   ]
  },
  {
   "cell_type": "code",
   "execution_count": 79,
   "metadata": {},
   "outputs": [],
   "source": [
    "def build_models(x, m, b, c, f): # adapted from Ballard et al in prep, log version\n",
    "    \"\"\" \n",
    "    Calculate P(intact) as a function of time, in order to visualize sculpting models.\n",
    "\n",
    "    Input:\n",
    "    - x: grid of ages [log yrs]\n",
    "    - m: sculpting law slope [dex]\n",
    "    - b: sculpting law initial intact probability, out of planet-hosting stars\n",
    "    - c: sculpting law turnoff time [log yrs]\n",
    "    - f: fraction of planet-hosting stars\n",
    "\n",
    "    Output:\n",
    "    - y: grid of P(intacts)\n",
    "\n",
    "    \"\"\"\n",
    "\n",
    "    # x-axis before cutoff\n",
    "    x1 = x[x<c]\n",
    "    x2 = x[x>=c]\n",
    "    \n",
    "    # first piece, before cutoff\n",
    "    y1 = (b + m * (np.log10(x1) - 8)) * f\n",
    "    \n",
    "    # second piece, after cutoff\n",
    "    y2 = np.ones(len(x2)) * (b + m * (np.log10(c) - 8)) * f\n",
    "    \n",
    "    y = np.concatenate((y1, y2))\n",
    "    \n",
    "    # flatten out at zero\n",
    "    y = np.where(y < 0, 0, y)\n",
    "    \n",
    "    return y"
   ]
  },
  {
   "cell_type": "code",
   "execution_count": 185,
   "metadata": {},
   "outputs": [
    {
     "name": "stdout",
     "output_type": "stream",
     "text": [
      "-1.0 0.0 100000000.0 0.1\n",
      "-1.0 0.5 3981071706.0 0.3\n"
     ]
    },
    {
     "data": {
      "image/png": "[encoded data removed]",
      "text/plain": [
       "<Figure size 432x288 with 1 Axes>"
      ]
     },
     "metadata": {
      "needs_background": "light"
     },
     "output_type": "display_data"
    }
   ],
   "source": [
    "# best model\n",
    "best_model = model_logLs.loc[(model_logLs.logL >= best_logL) & (model_logLs.logL < 0.)]\n",
    "m, b, c, f = best_model.m.to_list()[0], best_model.b.to_list()[0], best_model.c.to_list()[0], best_model.f.to_list()[0]\n",
    "print(m, b, c, f)\n",
    "plt.plot(x, build_models(x, m, b, c, f), label='best fit', color='k')\n",
    "\n",
    "# ground truth\n",
    "m, b, c, f = ground_truth.m.to_list()[0], ground_truth.b.to_list()[0], ground_truth.c.to_list()[0], ground_truth.f.to_list()[0]\n",
    "print(m, b, c, f)\n",
    "plt.plot(x, build_models(x, m, b, c, f), label='ground truth', color='r')\n",
    "\n",
    "# models as good as or better than ground truth\n",
    "good_models = good_models.drop_duplicates(subset=['m','b','c','f'])\n",
    "label_flag = True\n",
    "for index, row in good_models.reset_index().iterrows(): \n",
    "    m, b, c, f = row.m, row.b, row.c, row.f\n",
    "    if label_flag == True:\n",
    "        plt.plot(x, build_models(x, m, b, c, f), color='green', zorder=0, label='good models', alpha=0.5)\n",
    "    elif label_flag == False:\n",
    "        plt.plot(x, build_models(x, m, b, c, f), color='green', zorder=0, alpha=0.5)\n",
    "    label_flag = False  \n",
    "    \n",
    "plt.xscale('log')\n",
    "plt.ylim([0, 0.5])\n",
    "plt.xlabel('age [Gyr]')\n",
    "plt.ylabel('P(intact)')\n",
    "plt.title(f'm = -1., b = 0.5, c = 4e9, f = 0.3 (fast sculpting); $\\Delta logL = {np.round(delta_logL,2)}$')\n",
    "plt.legend()\n",
    "plt.show()"
   ]
  },
  {
   "cell_type": "markdown",
   "metadata": {},
   "source": [
    "#### Normalizing no-sculpting models, which are fewer than the others"
   ]
  },
  {
   "cell_type": "code",
   "execution_count": 30,
   "metadata": {
    "scrolled": true
   },
   "outputs": [
    {
     "data": {
      "text/html": [
       "<div>\n",
       "<style scoped>\n",
       "    .dataframe tbody tr th:only-of-type {\n",
       "        vertical-align: middle;\n",
       "    }\n",
       "\n",
       "    .dataframe tbody tr th {\n",
       "        vertical-align: top;\n",
       "    }\n",
       "\n",
       "    .dataframe thead th {\n",
       "        text-align: right;\n",
       "    }\n",
       "</style>\n",
       "<table border=\"1\" class=\"dataframe\">\n",
       "  <thead>\n",
       "    <tr style=\"text-align: right;\">\n",
       "      <th></th>\n",
       "      <th>m</th>\n",
       "      <th>b</th>\n",
       "      <th>c</th>\n",
       "      <th>f</th>\n",
       "      <th>logL</th>\n",
       "    </tr>\n",
       "  </thead>\n",
       "  <tbody>\n",
       "    <tr>\n",
       "      <th>30250</th>\n",
       "      <td>0.0</td>\n",
       "      <td>0.0</td>\n",
       "      <td>1.000000e+08</td>\n",
       "      <td>0.1</td>\n",
       "      <td>-276.863070</td>\n",
       "    </tr>\n",
       "    <tr>\n",
       "      <th>30251</th>\n",
       "      <td>0.0</td>\n",
       "      <td>0.0</td>\n",
       "      <td>1.000000e+08</td>\n",
       "      <td>0.1</td>\n",
       "      <td>-276.863070</td>\n",
       "    </tr>\n",
       "    <tr>\n",
       "      <th>30252</th>\n",
       "      <td>0.0</td>\n",
       "      <td>0.0</td>\n",
       "      <td>1.000000e+08</td>\n",
       "      <td>0.1</td>\n",
       "      <td>-276.863070</td>\n",
       "    </tr>\n",
       "    <tr>\n",
       "      <th>30300</th>\n",
       "      <td>0.0</td>\n",
       "      <td>0.0</td>\n",
       "      <td>1.584893e+08</td>\n",
       "      <td>0.1</td>\n",
       "      <td>-271.592268</td>\n",
       "    </tr>\n",
       "    <tr>\n",
       "      <th>30301</th>\n",
       "      <td>0.0</td>\n",
       "      <td>0.0</td>\n",
       "      <td>1.584893e+08</td>\n",
       "      <td>0.1</td>\n",
       "      <td>-271.592268</td>\n",
       "    </tr>\n",
       "    <tr>\n",
       "      <th>...</th>\n",
       "      <td>...</td>\n",
       "      <td>...</td>\n",
       "      <td>...</td>\n",
       "      <td>...</td>\n",
       "      <td>...</td>\n",
       "    </tr>\n",
       "    <tr>\n",
       "      <th>36201</th>\n",
       "      <td>0.0</td>\n",
       "      <td>1.0</td>\n",
       "      <td>6.309573e+09</td>\n",
       "      <td>0.1</td>\n",
       "      <td>-335.635030</td>\n",
       "    </tr>\n",
       "    <tr>\n",
       "      <th>36202</th>\n",
       "      <td>0.0</td>\n",
       "      <td>1.0</td>\n",
       "      <td>6.309573e+09</td>\n",
       "      <td>0.1</td>\n",
       "      <td>-335.635030</td>\n",
       "    </tr>\n",
       "    <tr>\n",
       "      <th>36250</th>\n",
       "      <td>0.0</td>\n",
       "      <td>1.0</td>\n",
       "      <td>1.000000e+10</td>\n",
       "      <td>0.1</td>\n",
       "      <td>-332.059695</td>\n",
       "    </tr>\n",
       "    <tr>\n",
       "      <th>36251</th>\n",
       "      <td>0.0</td>\n",
       "      <td>1.0</td>\n",
       "      <td>1.000000e+10</td>\n",
       "      <td>0.1</td>\n",
       "      <td>-332.059695</td>\n",
       "    </tr>\n",
       "    <tr>\n",
       "      <th>36252</th>\n",
       "      <td>0.0</td>\n",
       "      <td>1.0</td>\n",
       "      <td>1.000000e+10</td>\n",
       "      <td>0.1</td>\n",
       "      <td>-332.059695</td>\n",
       "    </tr>\n",
       "  </tbody>\n",
       "</table>\n",
       "<p>363 rows × 5 columns</p>\n",
       "</div>"
      ],
      "text/plain": [
       "         m    b             c    f        logL\n",
       "30250  0.0  0.0  1.000000e+08  0.1 -276.863070\n",
       "30251  0.0  0.0  1.000000e+08  0.1 -276.863070\n",
       "30252  0.0  0.0  1.000000e+08  0.1 -276.863070\n",
       "30300  0.0  0.0  1.584893e+08  0.1 -271.592268\n",
       "30301  0.0  0.0  1.584893e+08  0.1 -271.592268\n",
       "...    ...  ...           ...  ...         ...\n",
       "36201  0.0  1.0  6.309573e+09  0.1 -335.635030\n",
       "36202  0.0  1.0  6.309573e+09  0.1 -335.635030\n",
       "36250  0.0  1.0  1.000000e+10  0.1 -332.059695\n",
       "36251  0.0  1.0  1.000000e+10  0.1 -332.059695\n",
       "36252  0.0  1.0  1.000000e+10  0.1 -332.059695\n",
       "\n",
       "[363 rows x 5 columns]"
      ]
     },
     "execution_count": 30,
     "metadata": {},
     "output_type": "execute_result"
    }
   ],
   "source": [
    "model_logLs.loc[(model_logLs.m == 0.) & (model_logLs.f == 0.1)]"
   ]
  },
  {
   "cell_type": "markdown",
   "metadata": {},
   "source": [
    "Ope! Looks like I've lost a few differing cutoff timescale files for the case of no sculpting. Fortunately, this edge case means that the logL should be the same regardless of cutoff time. "
   ]
  },
  {
   "cell_type": "code",
   "execution_count": 32,
   "metadata": {},
   "outputs": [
    {
     "data": {
      "image/png": "[encoded data removed]",
      "text/plain": [
       "<Figure size 720x720 with 4 Axes>"
      ]
     },
     "metadata": {
      "needs_background": "light"
     },
     "output_type": "display_data"
    }
   ],
   "source": [
    "f, ((ax1, ax2), (ax3, ax4)) = plt.subplots(2, 2, figsize=(10, 10))\n",
    "\n",
    "# marginalize in 1D\n",
    "marginalized_logLs = []\n",
    "for gi_m in range(6):\n",
    "\n",
    "    cube = prior_grid_logslope(cube, ndim, nparams, gi_m, gi_b, gi_c)\n",
    "    \n",
    "    # subset\n",
    "    only = model_logLs.loc[(model_logLs.m == cube[0])]# & (model_logLs.f == 0.3)]\n",
    "    \n",
    "    # marginalize logL\n",
    "    marginalized_logLs.append(np.sum(only.logL))\n",
    "\n",
    "ax1.scatter(truth.ms.unique(), marginalized_logLs)\n",
    "ax1.set_ylabel(\"log likelihood\")\n",
    "ax1.set_xlabel(\"sculpting speed [dex]\")\n",
    "\n",
    "marginalized_logLs = []\n",
    "for gi_b in range(11):\n",
    "    \n",
    "    cube = prior_grid_logslope(cube, ndim, nparams, gi_m, gi_b, gi_c)\n",
    "    \n",
    "    # subset\n",
    "    only = model_logLs.loc[(model_logLs.b == cube[1])]# & (model_logLs.f == 0.3)]\n",
    "    \n",
    "    # marginalize logL\n",
    "    marginalized_logLs.append(np.sum(only.logL))\n",
    "ax2.scatter(model_logLs.b.unique(), marginalized_logLs)\n",
    "ax2.set_ylabel(\"log likelihood\")\n",
    "ax2.set_xlabel(\"b\")\n",
    "\n",
    "marginalized_logLs = []\n",
    "for gi_c in range(11):\n",
    "\n",
    "    cube = prior_grid_logslope(cube, ndim, nparams, gi_m, gi_b, gi_c)\n",
    "    \n",
    "    # subset\n",
    "    only = model_logLs.loc[(model_logLs.c == cube[2])]# & (model_logLs.f == 0.3)]\n",
    "    \n",
    "    # marginalize logL\n",
    "    marginalized_logLs.append(np.sum(only.logL))\n",
    "ax3.scatter(truth.cs.unique(), marginalized_logLs)\n",
    "ax3.set_ylabel(\"log likelihood\")\n",
    "ax3.set_xlabel(\"c\")\n",
    "ax3.set_xscale('log')\n",
    "\n",
    "marginalized_logLs = []\n",
    "for gi_f in np.linspace(0.1, 1, 10):\n",
    "    \n",
    "    # subset\n",
    "    only = model_logLs.loc[(np.round(model_logLs.f, 1) == np.round(gi_f, 1))]\n",
    "    \n",
    "    # marginalize logL\n",
    "    marginalized_logLs.append(np.sum(only.logL))\n",
    "ax4.scatter(np.linspace(0.1, 1, 10), marginalized_logLs)\n",
    "ax4.set_ylabel(\"log likelihood\")\n",
    "ax4.set_xlabel(\"f\")\n",
    "\n",
    "plt.tight_layout()\n",
    "plt.show()"
   ]
  },
  {
   "cell_type": "code",
   "execution_count": 33,
   "metadata": {},
   "outputs": [
    {
     "data": {
      "image/png": "[encoded data removed]",
      "text/plain": [
       "<Figure size 432x288 with 2 Axes>"
      ]
     },
     "metadata": {
      "needs_background": "light"
     },
     "output_type": "display_data"
    }
   ],
   "source": [
    "piv = model_logLs.groupby(['m','b','c']).mean('logL').reset_index().groupby(['m','b']).sum('logL').reset_index()\n",
    "\n",
    "piv = piv.pivot(\"b\",\"m\",\"logL\") # vs logged_normalized_likelihood\n",
    "#print(np.nanmin(piv.values), np.nanmax(piv.values), np.nansum(piv.values), np.nansum(np.log(piv.values)), np.log(np.nansum(piv.values)))\n",
    "#print(np.log(np.nanmin(piv.values)), np.log(np.nanmax(piv.values)))\n",
    "\n",
    "fig, ax = plt.subplots()\n",
    "sns.heatmap(piv, yticklabels=model_logLs.b.unique().round(1), cbar_kws={'label': 'logL'})\n",
    "#sns.heatmap(piv, vmin=-455, vmax=-17.9)\n",
    "ax.set_yticks(ax.get_yticks()[::2]) # sample every other tick, for cleanness\n",
    "plt.title('m = -1, b = 0.5, c = 4e9, f = 0.3')\n",
    "plt.show()"
   ]
  },
  {
   "cell_type": "code",
   "execution_count": 34,
   "metadata": {},
   "outputs": [
    {
     "data": {
      "text/html": [
       "<div>\n",
       "<style scoped>\n",
       "    .dataframe tbody tr th:only-of-type {\n",
       "        vertical-align: middle;\n",
       "    }\n",
       "\n",
       "    .dataframe tbody tr th {\n",
       "        vertical-align: top;\n",
       "    }\n",
       "\n",
       "    .dataframe thead th {\n",
       "        text-align: right;\n",
       "    }\n",
       "</style>\n",
       "<table border=\"1\" class=\"dataframe\">\n",
       "  <thead>\n",
       "    <tr style=\"text-align: right;\">\n",
       "      <th>m</th>\n",
       "      <th>-1.0</th>\n",
       "      <th>-0.8</th>\n",
       "      <th>-0.6</th>\n",
       "      <th>-0.4</th>\n",
       "      <th>-0.2</th>\n",
       "      <th>0.0</th>\n",
       "    </tr>\n",
       "    <tr>\n",
       "      <th>b</th>\n",
       "      <th></th>\n",
       "      <th></th>\n",
       "      <th></th>\n",
       "      <th></th>\n",
       "      <th></th>\n",
       "      <th></th>\n",
       "    </tr>\n",
       "  </thead>\n",
       "  <tbody>\n",
       "    <tr>\n",
       "      <th>0.0</th>\n",
       "      <td>-2649.934111</td>\n",
       "      <td>-2704.753190</td>\n",
       "      <td>-2632.350792</td>\n",
       "      <td>-2657.005839</td>\n",
       "      <td>-2711.639772</td>\n",
       "      <td>-2657.940952</td>\n",
       "    </tr>\n",
       "    <tr>\n",
       "      <th>0.1</th>\n",
       "      <td>-2749.909286</td>\n",
       "      <td>-2680.635465</td>\n",
       "      <td>-2757.914842</td>\n",
       "      <td>-2773.631842</td>\n",
       "      <td>-2841.760153</td>\n",
       "      <td>-3660.976296</td>\n",
       "    </tr>\n",
       "    <tr>\n",
       "      <th>0.2</th>\n",
       "      <td>-2861.673762</td>\n",
       "      <td>-2885.096254</td>\n",
       "      <td>-2856.951410</td>\n",
       "      <td>-2909.054922</td>\n",
       "      <td>-3095.593939</td>\n",
       "      <td>-4751.362645</td>\n",
       "    </tr>\n",
       "    <tr>\n",
       "      <th>0.3</th>\n",
       "      <td>-2979.304046</td>\n",
       "      <td>-2989.071961</td>\n",
       "      <td>-3005.338446</td>\n",
       "      <td>-3159.418417</td>\n",
       "      <td>-3695.695812</td>\n",
       "      <td>-5933.246537</td>\n",
       "    </tr>\n",
       "    <tr>\n",
       "      <th>0.4</th>\n",
       "      <td>-3080.652676</td>\n",
       "      <td>-3136.029843</td>\n",
       "      <td>-3268.964012</td>\n",
       "      <td>-3524.232233</td>\n",
       "      <td>-4675.517010</td>\n",
       "      <td>-7158.009496</td>\n",
       "    </tr>\n",
       "    <tr>\n",
       "      <th>0.5</th>\n",
       "      <td>-3293.167656</td>\n",
       "      <td>-3382.951232</td>\n",
       "      <td>-3617.476782</td>\n",
       "      <td>-4163.447304</td>\n",
       "      <td>-5804.905745</td>\n",
       "      <td>-8353.794136</td>\n",
       "    </tr>\n",
       "    <tr>\n",
       "      <th>0.6</th>\n",
       "      <td>-3509.819421</td>\n",
       "      <td>-3711.553268</td>\n",
       "      <td>-4026.255073</td>\n",
       "      <td>-4877.444818</td>\n",
       "      <td>-7014.908184</td>\n",
       "      <td>-9509.512440</td>\n",
       "    </tr>\n",
       "    <tr>\n",
       "      <th>0.7</th>\n",
       "      <td>-3826.543095</td>\n",
       "      <td>-4084.676091</td>\n",
       "      <td>-4540.260640</td>\n",
       "      <td>-5806.813419</td>\n",
       "      <td>-8227.789013</td>\n",
       "      <td>-10846.967932</td>\n",
       "    </tr>\n",
       "    <tr>\n",
       "      <th>0.8</th>\n",
       "      <td>-4151.930809</td>\n",
       "      <td>-4584.181091</td>\n",
       "      <td>-5294.015567</td>\n",
       "      <td>-6926.490019</td>\n",
       "      <td>-9455.767917</td>\n",
       "      <td>-11413.150642</td>\n",
       "    </tr>\n",
       "    <tr>\n",
       "      <th>0.9</th>\n",
       "      <td>-4592.171196</td>\n",
       "      <td>-5126.678894</td>\n",
       "      <td>-6052.289243</td>\n",
       "      <td>-8131.319505</td>\n",
       "      <td>-10737.601261</td>\n",
       "      <td>-12795.464849</td>\n",
       "    </tr>\n",
       "    <tr>\n",
       "      <th>1.0</th>\n",
       "      <td>-5087.688807</td>\n",
       "      <td>-5727.128427</td>\n",
       "      <td>-7031.571574</td>\n",
       "      <td>-9323.046957</td>\n",
       "      <td>-11943.975724</td>\n",
       "      <td>-14645.326373</td>\n",
       "    </tr>\n",
       "  </tbody>\n",
       "</table>\n",
       "</div>"
      ],
      "text/plain": [
       "m           -1.0         -0.8         -0.6         -0.4          -0.2  \\\n",
       "b                                                                       \n",
       "0.0 -2649.934111 -2704.753190 -2632.350792 -2657.005839  -2711.639772   \n",
       "0.1 -2749.909286 -2680.635465 -2757.914842 -2773.631842  -2841.760153   \n",
       "0.2 -2861.673762 -2885.096254 -2856.951410 -2909.054922  -3095.593939   \n",
       "0.3 -2979.304046 -2989.071961 -3005.338446 -3159.418417  -3695.695812   \n",
       "0.4 -3080.652676 -3136.029843 -3268.964012 -3524.232233  -4675.517010   \n",
       "0.5 -3293.167656 -3382.951232 -3617.476782 -4163.447304  -5804.905745   \n",
       "0.6 -3509.819421 -3711.553268 -4026.255073 -4877.444818  -7014.908184   \n",
       "0.7 -3826.543095 -4084.676091 -4540.260640 -5806.813419  -8227.789013   \n",
       "0.8 -4151.930809 -4584.181091 -5294.015567 -6926.490019  -9455.767917   \n",
       "0.9 -4592.171196 -5126.678894 -6052.289243 -8131.319505 -10737.601261   \n",
       "1.0 -5087.688807 -5727.128427 -7031.571574 -9323.046957 -11943.975724   \n",
       "\n",
       "m             0.0  \n",
       "b                  \n",
       "0.0  -2657.940952  \n",
       "0.1  -3660.976296  \n",
       "0.2  -4751.362645  \n",
       "0.3  -5933.246537  \n",
       "0.4  -7158.009496  \n",
       "0.5  -8353.794136  \n",
       "0.6  -9509.512440  \n",
       "0.7 -10846.967932  \n",
       "0.8 -11413.150642  \n",
       "0.9 -12795.464849  \n",
       "1.0 -14645.326373  "
      ]
     },
     "execution_count": 34,
     "metadata": {},
     "output_type": "execute_result"
    }
   ],
   "source": [
    "piv"
   ]
  },
  {
   "cell_type": "code",
   "execution_count": 35,
   "metadata": {},
   "outputs": [
    {
     "data": {
      "text/html": [
       "<div>\n",
       "<style scoped>\n",
       "    .dataframe tbody tr th:only-of-type {\n",
       "        vertical-align: middle;\n",
       "    }\n",
       "\n",
       "    .dataframe tbody tr th {\n",
       "        vertical-align: top;\n",
       "    }\n",
       "\n",
       "    .dataframe thead th {\n",
       "        text-align: right;\n",
       "    }\n",
       "</style>\n",
       "<table border=\"1\" class=\"dataframe\">\n",
       "  <thead>\n",
       "    <tr style=\"text-align: right;\">\n",
       "      <th></th>\n",
       "      <th></th>\n",
       "      <th>c</th>\n",
       "      <th>f</th>\n",
       "      <th>logL</th>\n",
       "    </tr>\n",
       "    <tr>\n",
       "      <th>m</th>\n",
       "      <th>b</th>\n",
       "      <th></th>\n",
       "      <th></th>\n",
       "      <th></th>\n",
       "    </tr>\n",
       "  </thead>\n",
       "  <tbody>\n",
       "    <tr>\n",
       "      <th rowspan=\"5\" valign=\"top\">-1.0</th>\n",
       "      <th>0.0</th>\n",
       "      <td>2.692617e+10</td>\n",
       "      <td>3.3</td>\n",
       "      <td>-146.408332</td>\n",
       "    </tr>\n",
       "    <tr>\n",
       "      <th>0.1</th>\n",
       "      <td>2.692617e+10</td>\n",
       "      <td>3.3</td>\n",
       "      <td>-177.369264</td>\n",
       "    </tr>\n",
       "    <tr>\n",
       "      <th>0.2</th>\n",
       "      <td>2.692617e+10</td>\n",
       "      <td>3.3</td>\n",
       "      <td>-217.259840</td>\n",
       "    </tr>\n",
       "    <tr>\n",
       "      <th>0.3</th>\n",
       "      <td>2.692617e+10</td>\n",
       "      <td>3.3</td>\n",
       "      <td>-266.159528</td>\n",
       "    </tr>\n",
       "    <tr>\n",
       "      <th>0.4</th>\n",
       "      <td>2.692617e+10</td>\n",
       "      <td>3.3</td>\n",
       "      <td>-316.002271</td>\n",
       "    </tr>\n",
       "    <tr>\n",
       "      <th>...</th>\n",
       "      <th>...</th>\n",
       "      <td>...</td>\n",
       "      <td>...</td>\n",
       "      <td>...</td>\n",
       "    </tr>\n",
       "    <tr>\n",
       "      <th rowspan=\"5\" valign=\"top\">0.0</th>\n",
       "      <th>0.6</th>\n",
       "      <td>2.692617e+10</td>\n",
       "      <td>3.3</td>\n",
       "      <td>-3112.789403</td>\n",
       "    </tr>\n",
       "    <tr>\n",
       "      <th>0.7</th>\n",
       "      <td>2.692617e+10</td>\n",
       "      <td>3.3</td>\n",
       "      <td>-3731.431045</td>\n",
       "    </tr>\n",
       "    <tr>\n",
       "      <th>0.8</th>\n",
       "      <td>2.692617e+10</td>\n",
       "      <td>3.3</td>\n",
       "      <td>-4213.381086</td>\n",
       "    </tr>\n",
       "    <tr>\n",
       "      <th>0.9</th>\n",
       "      <td>2.692617e+10</td>\n",
       "      <td>3.3</td>\n",
       "      <td>-4815.177203</td>\n",
       "    </tr>\n",
       "    <tr>\n",
       "      <th>1.0</th>\n",
       "      <td>2.692617e+10</td>\n",
       "      <td>3.3</td>\n",
       "      <td>-5557.031939</td>\n",
       "    </tr>\n",
       "  </tbody>\n",
       "</table>\n",
       "<p>66 rows × 3 columns</p>\n",
       "</div>"
      ],
      "text/plain": [
       "                     c    f         logL\n",
       "m    b                                  \n",
       "-1.0 0.0  2.692617e+10  3.3  -146.408332\n",
       "     0.1  2.692617e+10  3.3  -177.369264\n",
       "     0.2  2.692617e+10  3.3  -217.259840\n",
       "     0.3  2.692617e+10  3.3  -266.159528\n",
       "     0.4  2.692617e+10  3.3  -316.002271\n",
       "...                ...  ...          ...\n",
       " 0.0 0.6  2.692617e+10  3.3 -3112.789403\n",
       "     0.7  2.692617e+10  3.3 -3731.431045\n",
       "     0.8  2.692617e+10  3.3 -4213.381086\n",
       "     0.9  2.692617e+10  3.3 -4815.177203\n",
       "     1.0  2.692617e+10  3.3 -5557.031939\n",
       "\n",
       "[66 rows x 3 columns]"
      ]
     },
     "execution_count": 35,
     "metadata": {},
     "output_type": "execute_result"
    }
   ],
   "source": [
    "model_logLs.loc[model_logLs.f == 0.3].groupby(['m','b','c']).mean('logL').reset_index().groupby(['m','b']).sum('logL')"
   ]
  },
  {
   "cell_type": "code",
   "execution_count": 37,
   "metadata": {},
   "outputs": [
    {
     "data": {
      "image/png": "[encoded data removed]",
      "text/plain": [
       "<Figure size 432x288 with 2 Axes>"
      ]
     },
     "metadata": {
      "needs_background": "light"
     },
     "output_type": "display_data"
    }
   ],
   "source": [
    "piv = model_logLs.groupby(['m','b','c']).mean('logL').reset_index().groupby(['m','c']).sum('logL').reset_index()\n",
    "\n",
    "piv = piv.pivot(\"c\",\"m\",\"logL\") # vs logged_normalized_likelihood\n",
    "#print(np.nanmin(piv.values), np.nanmax(piv.values), np.nansum(piv.values), np.nansum(np.log(piv.values)), np.log(np.nansum(piv.values)))\n",
    "#print(np.log(np.nanmin(piv.values)), np.log(np.nanmax(piv.values)))\n",
    "\n",
    "fig, ax = plt.subplots()\n",
    "sns.heatmap(piv, yticklabels=model_logLs.c.unique().round(-8), cbar_kws={'label': 'logL'})\n",
    "#sns.heatmap(piv, vmin=-455, vmax=-17.9)\n",
    "ax.set_yticks(ax.get_yticks()[::2]) # sample every other tick, for cleanness\n",
    "plt.title('m = -1, b = 0.5, c = 4e9, f = 0.3')\n",
    "plt.show()"
   ]
  },
  {
   "cell_type": "markdown",
   "metadata": {},
   "source": [
    "It looks like we recover a cutoff time of 2.5 Gyrs instead of 4 Gyrs, as well as {m=0, b=0.5} instead of {m=-1, b=0.5}, although the latter is a close one, and in general the 1D posteriors show that m=0 is generally bad."
   ]
  },
  {
   "cell_type": "markdown",
   "metadata": {},
   "source": [
    "#### Model 3: m = -0.6, b = 1.0, c = 1e9, f = 0.3 (medium sculpting)\n"
   ]
  },
  {
   "cell_type": "markdown",
   "metadata": {},
   "source": [
    "Before we proceed, let's take a detour to check that the transit multiplicity yields for different models are different in the ways that we expect. For example, a model with more sculpting and/or fewer initially intact systems should have fewer multis."
   ]
  },
  {
   "cell_type": "code",
   "execution_count": 107,
   "metadata": {},
   "outputs": [
    {
     "data": {
      "text/plain": [
       "3902    [676.5, 162.9, 71.1, 29.7, 7.199999999999999, ...\n",
       "Name: transit_multiplicities, dtype: object"
      ]
     },
     "execution_count": 107,
     "metadata": {},
     "output_type": "execute_result"
    }
   ],
   "source": [
    "tm_fiducial = truth.loc[(truth.ms == -0.6) & (truth.bs == 1.) & (np.round(truth.cs, -8) == 1e9) & (np.round(truth.fs,1) == 0.3)].transit_multiplicities\n",
    "tm_fiducial"
   ]
  },
  {
   "cell_type": "code",
   "execution_count": 108,
   "metadata": {},
   "outputs": [],
   "source": [
    "test_recovery = recovery.loc[(recovery.ms == -0.6) & (recovery.bs == 1.) & (np.round(recovery.cs, -8) == 1e9) & (np.round(recovery.fs,1) == 0.3)].transit_multiplicities"
   ]
  },
  {
   "cell_type": "code",
   "execution_count": 72,
   "metadata": {},
   "outputs": [
    {
     "data": {
      "image/png": "[encoded data removed]",
      "text/plain": [
       "<Figure size 432x288 with 1 Axes>"
      ]
     },
     "metadata": {
      "needs_background": "light"
     },
     "output_type": "display_data"
    }
   ],
   "source": [
    "plt.scatter(np.arange(len(tm_fiducial[3902])), tm_fiducial[3902], color='r', label='ground truth')\n",
    "plt.scatter(np.arange(len(recovery.iloc[117060].transit_multiplicities)), recovery.iloc[117060].transit_multiplicities, label='recovery same')\n",
    "plt.scatter(np.arange(len(recovery.iloc[5470].transit_multiplicities)), recovery.iloc[5470].transit_multiplicities, label='recovery -1, 0.1, 1e9, 0.3')\n",
    "\n",
    "plt.xlim([0,6])\n",
    "plt.ylim([0,700])\n",
    "plt.title('m = -0.6, b = 1.0, c = 1e9, f = 0.3 (medium sculpting)')\n",
    "plt.legend()\n",
    "plt.show()"
   ]
  },
  {
   "cell_type": "markdown",
   "metadata": {},
   "source": [
    "Both in count and relative to singles, there are fewer multis represented by the orange dots than the blue/red dots. Anyway, let's continue to check out injection-recovery for medium sculpting models."
   ]
  },
  {
   "cell_type": "code",
   "execution_count": null,
   "metadata": {},
   "outputs": [],
   "source": [
    "cube = [0,0,0]\n",
    "fs = np.round(np.linspace(0.1, 1., 10), 1)\n",
    "ndim = 3\n",
    "nparams = 3\n",
    "\n",
    "ms = []\n",
    "bs = []\n",
    "cs = []\n",
    "fs_for_df = []\n",
    "all_logLs = []\n",
    "all_transit_multiplicities = []\n",
    "\n",
    "for gi_m in range(6):\n",
    "    \n",
    "    for gi_b in range(11):\n",
    "\n",
    "        for gi_c in range(11):\n",
    "            cube = prior_grid_logslope(cube, ndim, nparams, gi_m, gi_b, gi_c)\n",
    "            \n",
    "            for f in fs:\n",
    "                \n",
    "                ms.append(cube[0])\n",
    "                bs.append(cube[1])\n",
    "                cs.append(cube[2])\n",
    "                fs_for_df.append(f)\n",
    "                \n",
    "                try:\n",
    "                    #tm = truth.loc[(truth.ms == cube[0]) & (truth.bs == cube[1]) & (np.round(truth.cs, 0) == cube[2]) & (np.round(truth.fs,1) == f)].transit_multiplicities\n",
    "                    tm_recovery = recovery.loc[(np.round(recovery.ms,1) == np.round(cube[0],1)) & (np.round(recovery.bs,1) == np.round(cube[1],1)) & (np.round(recovery.cs, 0) == np.round(cube[2],0)) & (np.round(recovery.fs,1) == f)].transit_multiplicities.to_list()\n",
    "                    \n",
    "                    # calculate logL for each realization of each model, using tm as the ground truth\n",
    "                    logLs = []\n",
    "                    for i in range(len(tm_recovery)):\n",
    "                        logL = better_loglike(tm_recovery[i], np.sum(tm_fiducial))\n",
    "                        logLs.append(logL)\n",
    "\n",
    "                    # keep best logL for each model\n",
    "                    best_logL = np.max(logLs)\n",
    "                    best_arg = np.argmax(logLs)\n",
    "                    all_logLs.append(best_logL)\n",
    "                    # append transit multiplicity of the best sample for that model\n",
    "                    all_transit_multiplicities.append(tm_recovery[best_arg])\n",
    "\n",
    "                except:\n",
    "                    all_logLs.append(0.)\n",
    "                \n",
    "model_logLs = pd.DataFrame({'m': ms, 'b': bs, 'c': cs, 'f': fs_for_df, \n",
    "                            'tm': all_transit_multiplicities, 'logL': all_logLs})\n",
    "        "
   ]
  },
  {
   "cell_type": "code",
   "execution_count": 118,
   "metadata": {},
   "outputs": [
    {
     "data": {
      "image/png": "[encoded data removed]",
      "text/plain": [
       "<Figure size 720x720 with 4 Axes>"
      ]
     },
     "metadata": {
      "needs_background": "light"
     },
     "output_type": "display_data"
    }
   ],
   "source": [
    "f, ((ax1, ax2), (ax3, ax4)) = plt.subplots(2, 2, figsize=(10, 10))\n",
    "\n",
    "# marginalize in 1D\n",
    "marginalized_logLs = []\n",
    "for gi_m in range(6):\n",
    "\n",
    "    cube = prior_grid_logslope(cube, ndim, nparams, gi_m, gi_b, gi_c)\n",
    "    \n",
    "    # subset\n",
    "    only = model_logLs.loc[(model_logLs.m == cube[0])]# & (model_logLs.f == 0.3)]\n",
    "    \n",
    "    # marginalize logL\n",
    "    marginalized_logLs.append(np.mean(only.logL))\n",
    "\n",
    "ax1.scatter(truth.ms.unique(), marginalized_logLs)\n",
    "ax1.set_ylabel(\"log likelihood\")\n",
    "ax1.set_xlabel(\"sculpting speed [dex]\")\n",
    "\n",
    "marginalized_logLs = []\n",
    "for gi_b in range(11):\n",
    "    \n",
    "    cube = prior_grid_logslope(cube, ndim, nparams, gi_m, gi_b, gi_c)\n",
    "    \n",
    "    # subset\n",
    "    only = model_logLs.loc[(model_logLs.b == cube[1])]# & (model_logLs.f == 0.3)]\n",
    "    \n",
    "    # marginalize logL\n",
    "    marginalized_logLs.append(np.mean(only.logL))\n",
    "ax2.scatter(model_logLs.b.unique(), marginalized_logLs)\n",
    "ax2.set_ylabel(\"log likelihood\")\n",
    "ax2.set_xlabel(\"b\")\n",
    "\n",
    "marginalized_logLs = []\n",
    "for gi_c in range(11):\n",
    "\n",
    "    cube = prior_grid_logslope(cube, ndim, nparams, gi_m, gi_b, gi_c)\n",
    "    \n",
    "    # subset\n",
    "    only = model_logLs.loc[(model_logLs.c == cube[2])]# & (model_logLs.f == 0.3)]\n",
    "    \n",
    "    # marginalize logL\n",
    "    marginalized_logLs.append(np.mean(only.logL))\n",
    "ax3.scatter(truth.cs.unique(), marginalized_logLs)\n",
    "ax3.set_ylabel(\"log likelihood\")\n",
    "ax3.set_xlabel(\"c\")\n",
    "ax3.set_xscale('log')\n",
    "\n",
    "marginalized_logLs = []\n",
    "for gi_f in np.linspace(0.1, 1, 10):\n",
    "    \n",
    "    # subset\n",
    "    only = model_logLs.loc[(np.round(model_logLs.f, 1) == np.round(gi_f, 1))]\n",
    "    \n",
    "    # marginalize logL\n",
    "    marginalized_logLs.append(np.mean(only.logL))\n",
    "ax4.scatter(np.linspace(0.1, 1, 10), marginalized_logLs)\n",
    "ax4.set_ylabel(\"log likelihood\")\n",
    "ax4.set_xlabel(\"f\")\n",
    "\n",
    "plt.tight_layout()\n",
    "plt.show()"
   ]
  },
  {
   "cell_type": "markdown",
   "metadata": {},
   "source": [
    "It seems like no matter the ground truth, I always favor the second cutoff threshold. Why is that? This subset of models has the same number of records (eg. no dropped data) and similar mins and maxes to adjacent models (ie. the subsequent cutoff threshold of 2.5e8 yrs). So, what gives? "
   ]
  },
  {
   "cell_type": "code",
   "execution_count": 144,
   "metadata": {},
   "outputs": [
    {
     "name": "stdout",
     "output_type": "stream",
     "text": [
      "      m    b            c    f  \\\n",
      "10 -1.0  0.0  158489319.0  0.1   \n",
      "11 -1.0  0.0  158489319.0  0.2   \n",
      "12 -1.0  0.0  158489319.0  0.3   \n",
      "13 -1.0  0.0  158489319.0  0.4   \n",
      "14 -1.0  0.0  158489319.0  0.5   \n",
      "\n",
      "                                                 tm        logL  \n",
      "10                [210.4, 14.0, 0.0, 0.0, 0.0, 0.0] -900.491017  \n",
      "11                [420.8, 28.0, 0.0, 0.0, 0.0, 0.0] -543.063274  \n",
      "12                [612.0, 44.1, 0.0, 0.0, 0.0, 0.0] -422.965359  \n",
      "13  [816.0, 58.800000000000004, 0.0, 0.0, 0.0, 0.0] -400.185027  \n",
      "14                [981.0, 67.0, 0.0, 0.0, 0.0, 0.0] -427.535350  \n"
     ]
    },
    {
     "data": {
      "image/png": "[encoded data removed]",
      "text/plain": [
       "<Figure size 432x288 with 1 Axes>"
      ]
     },
     "metadata": {
      "needs_background": "light"
     },
     "output_type": "display_data"
    },
    {
     "name": "stdout",
     "output_type": "stream",
     "text": [
      "      m    b            c    f                                 tm        logL\n",
      "20 -1.0  0.0  251188643.0  0.1  [210.3, 14.5, 0.0, 0.0, 0.0, 0.0] -895.496248\n",
      "21 -1.0  0.0  251188643.0  0.2  [420.6, 29.0, 0.0, 0.0, 0.0, 0.0] -538.468505\n",
      "22 -1.0  0.0  251188643.0  0.3  [630.9, 43.5, 0.0, 0.0, 0.0, 0.0] -422.921093\n",
      "23 -1.0  0.0  251188643.0  0.4  [841.2, 58.0, 0.0, 0.0, 0.0, 0.0] -406.240761\n",
      "24 -1.0  0.0  251188643.0  0.5  [959.0, 60.5, 0.0, 0.0, 0.0, 0.0] -431.003130\n"
     ]
    },
    {
     "data": {
      "image/png": "[encoded data removed]",
      "text/plain": [
       "<Figure size 432x288 with 1 Axes>"
      ]
     },
     "metadata": {
      "needs_background": "light"
     },
     "output_type": "display_data"
    }
   ],
   "source": [
    "print(model_logLs.loc[(model_logLs.c == np.round(np.sort(truth.cs.unique())[1], 0))].head())\n",
    "plt.hist(model_logLs.loc[(model_logLs.c == np.round(np.sort(truth.cs.unique())[1], 0))].logL)\n",
    "plt.title('c = 158489319 yrs')\n",
    "plt.xlabel('logL')\n",
    "plt.ylabel('count')\n",
    "plt.show()\n",
    "\n",
    "print(model_logLs.loc[(model_logLs.c == np.round(np.sort(truth.cs.unique())[2], 0))].head())\n",
    "plt.hist(model_logLs.loc[(model_logLs.c == np.round(np.sort(truth.cs.unique())[2], 0))].logL)\n",
    "plt.title('c = 251188643 yrs')\n",
    "plt.xlabel('logL')\n",
    "plt.ylabel('count')\n",
    "plt.show()\n"
   ]
  },
  {
   "cell_type": "markdown",
   "metadata": {},
   "source": [
    "The former distribution does seem to have a shorter tail than the latter. Let's revisit this for other ground truths."
   ]
  },
  {
   "cell_type": "code",
   "execution_count": 145,
   "metadata": {},
   "outputs": [
    {
     "data": {
      "image/png": "[encoded data removed]",
      "text/plain": [
       "<Figure size 432x288 with 2 Axes>"
      ]
     },
     "metadata": {
      "needs_background": "light"
     },
     "output_type": "display_data"
    }
   ],
   "source": [
    "piv = model_logLs.groupby(['m','b','c']).mean('logL').reset_index().groupby(['m','b']).sum('logL').reset_index()\n",
    "\n",
    "piv = piv.pivot(\"b\",\"m\",\"logL\") # vs logged_normalized_likelihood\n",
    "#print(np.nanmin(piv.values), np.nanmax(piv.values), np.nansum(piv.values), np.nansum(np.log(piv.values)), np.log(np.nansum(piv.values)))\n",
    "#print(np.log(np.nanmin(piv.values)), np.log(np.nanmax(piv.values)))\n",
    "\n",
    "fig, ax = plt.subplots()\n",
    "sns.heatmap(piv, yticklabels=model_logLs.b.unique().round(1), cbar_kws={'label': 'logL'})\n",
    "#sns.heatmap(piv, vmin=-455, vmax=-17.9)\n",
    "ax.set_yticks(ax.get_yticks()[::2]) # sample every other tick, for cleanness\n",
    "plt.title('m = -0.6, b = 1.0, c = 1e9, f = 0.3')\n",
    "plt.show()"
   ]
  },
  {
   "cell_type": "code",
   "execution_count": 146,
   "metadata": {},
   "outputs": [
    {
     "data": {
      "image/png": "[encoded data removed]",
      "text/plain": [
       "<Figure size 432x288 with 2 Axes>"
      ]
     },
     "metadata": {
      "needs_background": "light"
     },
     "output_type": "display_data"
    }
   ],
   "source": [
    "piv = model_logLs.groupby(['m','b','c']).mean('logL').reset_index().groupby(['m','c']).sum('logL').reset_index()\n",
    "\n",
    "piv = piv.pivot(\"c\",\"m\",\"logL\") # vs logged_normalized_likelihood\n",
    "#print(np.nanmin(piv.values), np.nanmax(piv.values), np.nansum(piv.values), np.nansum(np.log(piv.values)), np.log(np.nansum(piv.values)))\n",
    "#print(np.log(np.nanmin(piv.values)), np.log(np.nanmax(piv.values)))\n",
    "\n",
    "fig, ax = plt.subplots()\n",
    "sns.heatmap(piv, yticklabels=model_logLs.c.unique().round(1), cbar_kws={'label': 'logL'})\n",
    "#sns.heatmap(piv, vmin=-455, vmax=-17.9)\n",
    "ax.set_yticks(ax.get_yticks()[::2]) # sample every other tick, for cleanness\n",
    "plt.title('m = -0.6, b = 1.0, c = 1e9, f = 0.3')\n",
    "plt.show()"
   ]
  },
  {
   "cell_type": "markdown",
   "metadata": {},
   "source": [
    "1D posteriors show that I can recover m and c, but not quite f and definitely not b. 2D posteriors corroborate this for m and b, and they suggest that there are fast sculpting models with even shorter cutoff times that are also favored. "
   ]
  },
  {
   "cell_type": "markdown",
   "metadata": {},
   "source": [
    "Identify best and good models"
   ]
  },
  {
   "cell_type": "code",
   "execution_count": 111,
   "metadata": {},
   "outputs": [
    {
     "name": "stdout",
     "output_type": "stream",
     "text": [
      "Best model:          m    b            c    f                                    tm  \\\n",
      "2002 -0.8  0.7  251188643.0  0.3  [656.4, 159.9, 72.0, 30.9, 7.8, 0.0]   \n",
      "\n",
      "           logL  \n",
      "2002 -15.900818  \n",
      "Ground truth:          m    b             c    f  \\\n",
      "3572 -0.6  1.0  1.000000e+09  0.3   \n",
      "\n",
      "                                                     tm       logL  \n",
      "3572  [656.6999999999999, 165.29999999999998, 66.6, ... -16.085823  \n",
      "Some models between best model and ground truth: \n",
      "        m    b             c    f  \\\n",
      "2002 -0.8  0.7  2.511886e+08  0.3   \n",
      "3572 -0.6  1.0  1.000000e+09  0.3   \n",
      "4192 -0.4  0.5  1.584893e+08  0.3   \n",
      "4442 -0.4  0.7  6.309573e+08  0.3   \n",
      "5422 -0.2  0.5  3.981072e+08  0.3   \n",
      "\n",
      "                                                     tm       logL  \n",
      "2002               [656.4, 159.9, 72.0, 30.9, 7.8, 0.0] -15.900818  \n",
      "3572  [656.6999999999999, 165.29999999999998, 66.6, ... -16.085823  \n",
      "4192  [664.1999999999999, 169.5, 72.6, 30.5999999999... -15.925064  \n",
      "4442  [650.4, 159.29999999999998, 70.5, 29.4, 6.8999... -16.082940  \n",
      "5422   [665.6999999999999, 158.4, 67.2, 28.2, 9.0, 0.0] -16.009320  \n"
     ]
    }
   ],
   "source": [
    "best_logL = max(model_logLs.loc[model_logLs.logL < 0.].logL)\n",
    "print(\"Best model: \", model_logLs.loc[(model_logLs.logL >= best_logL) & (model_logLs.logL < 0.)])\n",
    "\n",
    "ground_truth = model_logLs.loc[(model_logLs.m == -0.6) & (model_logLs.b == 1.) & (np.round(model_logLs.c, -8) == 1e9) & (np.round(model_logLs.f,1) == 0.3)]\n",
    "print(\"Ground truth: \", ground_truth)\n",
    "delta_logL = best_logL - ground_truth.logL.to_list()[0]\n",
    "\n",
    "good_models = model_logLs.loc[np.abs(model_logLs.logL - best_logL) <= delta_logL]\n",
    "print(\"Some models between best model and ground truth: \")\n",
    "print(good_models.head())"
   ]
  },
  {
   "cell_type": "markdown",
   "metadata": {},
   "source": [
    "Plot these models"
   ]
  },
  {
   "cell_type": "code",
   "execution_count": 113,
   "metadata": {},
   "outputs": [
    {
     "data": {
      "image/png": "[encoded data removed]",
      "text/plain": [
       "<Figure size 432x288 with 1 Axes>"
      ]
     },
     "metadata": {
      "needs_background": "light"
     },
     "output_type": "display_data"
    }
   ],
   "source": [
    "x = np.logspace(8, 10, 10)\n",
    "\n",
    "# best model\n",
    "best_model = model_logLs.loc[(model_logLs.logL >= best_logL) & (model_logLs.logL < 0.)]\n",
    "m, b, c, f = best_model.m.to_list()[0], best_model.b.to_list()[0], best_model.c.to_list()[0], best_model.f.to_list()[0]\n",
    "plt.plot(x, build_models(x, m, b, c, f), label='best fit', color='k')\n",
    "\n",
    "# ground truth\n",
    "m, b, c, f = ground_truth.m.to_list()[0], ground_truth.b.to_list()[0], ground_truth.c.to_list()[0], ground_truth.f.to_list()[0]\n",
    "plt.plot(x, build_models(x, m, b, c, f), label='ground truth', color='r')\n",
    "\n",
    "# models as good as or better than ground truth\n",
    "good_models = good_models.drop_duplicates(subset=['m','b','c','f'])\n",
    "label_flag = True\n",
    "for index, row in good_models.reset_index().iterrows(): \n",
    "    m, b, c, f = row.m, row.b, row.c, row.f\n",
    "    if label_flag == True:\n",
    "        plt.plot(x, build_models(x, m, b, c, f), color='green', zorder=0, label='good models', alpha=0.5)\n",
    "    elif label_flag == False:\n",
    "        plt.plot(x, build_models(x, m, b, c, f), color='green', zorder=0, alpha=0.5)\n",
    "    label_flag = False  \n",
    "    \n",
    "plt.xscale('log')\n",
    "plt.ylim([0, 0.5])\n",
    "plt.xlabel('age [Gyr]')\n",
    "plt.ylabel('P(intact)')\n",
    "plt.title(f'm = -0.6, b = 1.0, c = 1e9, f = 0.3 (medium sculpting); $\\Delta logL = {np.round(delta_logL, 2)}$')\n",
    "plt.legend()\n",
    "plt.show()"
   ]
  },
  {
   "cell_type": "markdown",
   "metadata": {},
   "source": [
    "#### Model 4: m = 0, b = 0.5, c = 1e9, f = 0.3 (no sculpting)\n"
   ]
  },
  {
   "cell_type": "code",
   "execution_count": 147,
   "metadata": {},
   "outputs": [
    {
     "data": {
      "text/plain": [
       "7262    [658.8, 183.0, 85.2, 38.1, 11.4, 2.1]\n",
       "Name: transit_multiplicities, dtype: object"
      ]
     },
     "execution_count": 147,
     "metadata": {},
     "output_type": "execute_result"
    }
   ],
   "source": [
    "tm_fiducial = truth.loc[(truth.ms == 0.) & (truth.bs == 0.5) & (np.round(truth.cs, -8) == 1e9) & (np.round(truth.fs,1) == 0.3)].transit_multiplicities\n",
    "tm_fiducial"
   ]
  },
  {
   "cell_type": "code",
   "execution_count": 150,
   "metadata": {},
   "outputs": [],
   "source": [
    "test_recovery = recovery.loc[(recovery.ms == 0.) & (recovery.bs == 0.5) & (np.round(recovery.cs, -8) == 1e9) & (np.round(recovery.fs,1) == 0.3)]\n",
    "#test_recovery"
   ]
  },
  {
   "cell_type": "code",
   "execution_count": 151,
   "metadata": {},
   "outputs": [
    {
     "data": {
      "image/png": "[encoded data removed]",
      "text/plain": [
       "<Figure size 432x288 with 1 Axes>"
      ]
     },
     "metadata": {
      "needs_background": "light"
     },
     "output_type": "display_data"
    }
   ],
   "source": [
    "plt.scatter(np.arange(len(tm_fiducial[7262])), tm_fiducial[7262], color='r', label='ground truth')\n",
    "plt.scatter(np.arange(len(recovery.iloc[217860].transit_multiplicities)), recovery.iloc[217860].transit_multiplicities, label='recovery same')\n",
    "plt.scatter(np.arange(len(recovery.iloc[5470].transit_multiplicities)), recovery.iloc[5470].transit_multiplicities, label='recovery -1, 0.1, 1e9, 0.3')\n",
    "plt.scatter(np.arange(len(recovery.iloc[33360].transit_multiplicities)), recovery.iloc[33360].transit_multiplicities, label='recovery -1, 0.9, 2.5e8, 0.3')\n",
    "\n",
    "plt.xlim([0,6])\n",
    "plt.ylim([0,700])\n",
    "plt.title('m = 0., b = 0.5, c = 1e9, f = 0.3 (no sculpting)')\n",
    "plt.legend()\n",
    "plt.show()"
   ]
  },
  {
   "cell_type": "code",
   "execution_count": null,
   "metadata": {},
   "outputs": [],
   "source": [
    "cube = [0,0,0]\n",
    "fs = np.round(np.linspace(0.1, 1., 10), 1)\n",
    "ndim = 3\n",
    "nparams = 3\n",
    "\n",
    "ms = []\n",
    "bs = []\n",
    "cs = []\n",
    "fs_for_df = []\n",
    "all_logLs = []\n",
    "all_transit_multiplicities = []\n",
    "\n",
    "for gi_m in range(6):\n",
    "    \n",
    "    for gi_b in range(11):\n",
    "\n",
    "        for gi_c in range(11):\n",
    "            cube = prior_grid_logslope(cube, ndim, nparams, gi_m, gi_b, gi_c)\n",
    "            \n",
    "            for f in fs:\n",
    "                \n",
    "                ms.append(cube[0])\n",
    "                bs.append(cube[1])\n",
    "                cs.append(cube[2])\n",
    "                fs_for_df.append(f)\n",
    "                \n",
    "                try:\n",
    "                    #tm = truth.loc[(truth.ms == cube[0]) & (truth.bs == cube[1]) & (np.round(truth.cs, 0) == cube[2]) & (np.round(truth.fs,1) == f)].transit_multiplicities\n",
    "                    tm_recovery = recovery.loc[(np.round(recovery.ms,1) == np.round(cube[0],1)) & (np.round(recovery.bs,1) == np.round(cube[1],1)) & (np.round(recovery.cs, 0) == np.round(cube[2],0)) & (np.round(recovery.fs,1) == f)].transit_multiplicities.to_list()\n",
    "                    \n",
    "                    # calculate logL for each realization of each model, using tm as the ground truth\n",
    "                    logLs = []\n",
    "                    for i in range(len(tm_recovery)):\n",
    "                        logL = better_loglike(tm_recovery[i], np.sum(tm_fiducial))\n",
    "                        logLs.append(logL)\n",
    "\n",
    "                    # keep best logL for each model\n",
    "                    best_logL = np.max(logLs)\n",
    "                    best_arg = np.argmax(logLs)\n",
    "                    all_logLs.append(best_logL)\n",
    "                    # append transit multiplicity of the best sample for that model\n",
    "                    all_transit_multiplicities.append(tm_recovery[best_arg])\n",
    "\n",
    "                except:\n",
    "                    all_logLs.append(0.)\n",
    "                \n",
    "model_logLs = pd.DataFrame({'m': ms, 'b': bs, 'c': cs, 'f': fs_for_df, \n",
    "                            'tm': all_transit_multiplicities, 'logL': all_logLs})\n",
    "        "
   ]
  },
  {
   "cell_type": "code",
   "execution_count": 93,
   "metadata": {},
   "outputs": [
    {
     "data": {
      "image/png": "[encoded data removed]",
      "text/plain": [
       "<Figure size 720x720 with 4 Axes>"
      ]
     },
     "metadata": {
      "needs_background": "light"
     },
     "output_type": "display_data"
    }
   ],
   "source": [
    "f, ((ax1, ax2), (ax3, ax4)) = plt.subplots(2, 2, figsize=(10, 10))\n",
    "\n",
    "# marginalize in 1D\n",
    "marginalized_logLs = []\n",
    "for gi_m in range(6):\n",
    "\n",
    "    cube = prior_grid_logslope(cube, ndim, nparams, gi_m, gi_b, gi_c)\n",
    "    \n",
    "    # subset\n",
    "    only = model_logLs.loc[(model_logLs.m == cube[0])]# & (model_logLs.f == 0.3)]\n",
    "    \n",
    "    # marginalize logL\n",
    "    marginalized_logLs.append(np.sum(only.logL))\n",
    "\n",
    "ax1.scatter(truth.ms.unique(), marginalized_logLs)\n",
    "ax1.set_ylabel(\"log likelihood\")\n",
    "ax1.set_xlabel(\"sculpting speed [dex]\")\n",
    "\n",
    "marginalized_logLs = []\n",
    "for gi_b in range(11):\n",
    "    \n",
    "    cube = prior_grid_logslope(cube, ndim, nparams, gi_m, gi_b, gi_c)\n",
    "    \n",
    "    # subset\n",
    "    only = model_logLs.loc[(model_logLs.b == cube[1])]# & (model_logLs.f == 0.3)]\n",
    "    \n",
    "    # marginalize logL\n",
    "    marginalized_logLs.append(np.sum(only.logL))\n",
    "ax2.scatter(model_logLs.b.unique(), marginalized_logLs)\n",
    "ax2.set_ylabel(\"log likelihood\")\n",
    "ax2.set_xlabel(\"b\")\n",
    "\n",
    "marginalized_logLs = []\n",
    "for gi_c in range(11):\n",
    "\n",
    "    cube = prior_grid_logslope(cube, ndim, nparams, gi_m, gi_b, gi_c)\n",
    "    \n",
    "    # subset\n",
    "    only = model_logLs.loc[(model_logLs.c == cube[2])]# & (model_logLs.f == 0.3)]\n",
    "    \n",
    "    # marginalize logL\n",
    "    marginalized_logLs.append(np.sum(only.logL))\n",
    "ax3.scatter(truth.cs.unique(), marginalized_logLs)\n",
    "ax3.set_ylabel(\"log likelihood\")\n",
    "ax3.set_xlabel(\"c\")\n",
    "ax3.set_xscale('log')\n",
    "\n",
    "marginalized_logLs = []\n",
    "for gi_f in np.linspace(0.1, 1, 10):\n",
    "    \n",
    "    # subset\n",
    "    only = model_logLs.loc[(np.round(model_logLs.f, 1) == np.round(gi_f, 1))]\n",
    "    \n",
    "    # marginalize logL\n",
    "    marginalized_logLs.append(np.sum(only.logL))\n",
    "ax4.scatter(np.linspace(0.1, 1, 10), marginalized_logLs)\n",
    "ax4.set_ylabel(\"log likelihood\")\n",
    "ax4.set_xlabel(\"f\")\n",
    "\n",
    "plt.tight_layout()\n",
    "plt.show()"
   ]
  },
  {
   "cell_type": "code",
   "execution_count": 94,
   "metadata": {},
   "outputs": [
    {
     "data": {
      "image/png": "[encoded data removed]",
      "text/plain": [
       "<Figure size 432x288 with 2 Axes>"
      ]
     },
     "metadata": {
      "needs_background": "light"
     },
     "output_type": "display_data"
    }
   ],
   "source": [
    "piv = model_logLs.groupby(['m','b','c']).mean('logL').reset_index().groupby(['m','b']).sum('logL').reset_index()\n",
    "\n",
    "piv = piv.pivot(\"b\",\"m\",\"logL\") # vs logged_normalized_likelihood\n",
    "#print(np.nanmin(piv.values), np.nanmax(piv.values), np.nansum(piv.values), np.nansum(np.log(piv.values)), np.log(np.nansum(piv.values)))\n",
    "#print(np.log(np.nanmin(piv.values)), np.log(np.nanmax(piv.values)))\n",
    "\n",
    "fig, ax = plt.subplots()\n",
    "sns.heatmap(piv, yticklabels=model_logLs.b.unique().round(1), cbar_kws={'label': 'logL'})\n",
    "#sns.heatmap(piv, vmin=-455, vmax=-17.9)\n",
    "ax.set_yticks(ax.get_yticks()[::2]) # sample every other tick, for cleanness\n",
    "plt.title('m = 0., b = 0.5, c = 1e9, f = 0.3')\n",
    "plt.show()"
   ]
  },
  {
   "cell_type": "code",
   "execution_count": 95,
   "metadata": {},
   "outputs": [
    {
     "data": {
      "image/png": "[encoded data removed]",
      "text/plain": [
       "<Figure size 432x288 with 2 Axes>"
      ]
     },
     "metadata": {
      "needs_background": "light"
     },
     "output_type": "display_data"
    }
   ],
   "source": [
    "piv = model_logLs.groupby(['m','b','c']).mean('logL').reset_index().groupby(['m','c']).sum('logL').reset_index()\n",
    "\n",
    "piv = piv.pivot(\"c\",\"m\",\"logL\") # vs logged_normalized_likelihood\n",
    "#print(np.nanmin(piv.values), np.nanmax(piv.values), np.nansum(piv.values), np.nansum(np.log(piv.values)), np.log(np.nansum(piv.values)))\n",
    "#print(np.log(np.nanmin(piv.values)), np.log(np.nanmax(piv.values)))\n",
    "\n",
    "fig, ax = plt.subplots()\n",
    "sns.heatmap(piv, yticklabels=model_logLs.c.unique().round(1), cbar_kws={'label': 'logL'})\n",
    "#sns.heatmap(piv, vmin=-455, vmax=-17.9)\n",
    "ax.set_yticks(ax.get_yticks()[::2]) # sample every other tick, for cleanness\n",
    "plt.title('m = 0, b = 0.5, c = 1e9, f = 0.3')\n",
    "plt.show()"
   ]
  },
  {
   "cell_type": "markdown",
   "metadata": {},
   "source": [
    "We totally miss the mark on recovering the lack of sculpting in the fake ground truth. We do recover b and f, and of course c is not a sensible variable in the case of no sculpting. "
   ]
  },
  {
   "cell_type": "markdown",
   "metadata": {},
   "source": [
    "Identify best and good models"
   ]
  },
  {
   "cell_type": "code",
   "execution_count": 96,
   "metadata": {},
   "outputs": [
    {
     "name": "stdout",
     "output_type": "stream",
     "text": [
      "Best model:           m    b            c    f       logL\n",
      "10559 -0.8  0.8  251188643.0  0.3 -22.248121\n",
      "10560 -0.8  0.8  251188643.0  0.3 -22.248121\n",
      "10561 -0.8  0.8  251188643.0  0.3 -22.248121\n",
      "10562 -0.8  0.8  251188643.0  0.3 -22.248121\n",
      "10563 -0.8  0.8  251188643.0  0.3 -22.248121\n",
      "Ground truth:  33259   -22.677888\n",
      "33260   -22.677888\n",
      "33261   -22.677888\n",
      "33262   -22.677888\n",
      "33263   -22.677888\n",
      "Name: logL, dtype: float64\n",
      "Some models between best model and ground truth: \n",
      "        m    b            c    f       logL\n",
      "2759 -1.0  0.5  100000000.0  0.3 -22.626446\n",
      "2760 -1.0  0.5  100000000.0  0.3 -22.626446\n",
      "2761 -1.0  0.5  100000000.0  0.3 -22.626446\n",
      "2762 -1.0  0.5  100000000.0  0.3 -22.626446\n",
      "2763 -1.0  0.5  100000000.0  0.3 -22.626446\n"
     ]
    }
   ],
   "source": [
    "best_logL = max(model_logLs.loc[model_logLs.logL < 0.].logL)\n",
    "print(\"Best model: \", model_logLs.loc[(model_logLs.logL >= best_logL) & (model_logLs.logL < 0.)])\n",
    "\n",
    "ground_truth = model_logLs.loc[(model_logLs.m == 0.) & (model_logLs.b == 0.5) & (np.round(model_logLs.c, -8) == 1e9) & (np.round(model_logLs.f,1) == 0.3)]\n",
    "print(\"Ground truth: \", ground_truth.logL)\n",
    "delta_logL = best_logL - ground_truth.logL.to_list()[0]\n",
    "\n",
    "good_models = model_logLs.loc[np.abs(model_logLs.logL - best_logL) < delta_logL]\n",
    "print(\"Some models between best model and ground truth: \")\n",
    "print(good_models.head())"
   ]
  },
  {
   "cell_type": "code",
   "execution_count": 103,
   "metadata": {},
   "outputs": [
    {
     "data": {
      "text/html": [
       "<div>\n",
       "<style scoped>\n",
       "    .dataframe tbody tr th:only-of-type {\n",
       "        vertical-align: middle;\n",
       "    }\n",
       "\n",
       "    .dataframe tbody tr th {\n",
       "        vertical-align: top;\n",
       "    }\n",
       "\n",
       "    .dataframe thead th {\n",
       "        text-align: right;\n",
       "    }\n",
       "</style>\n",
       "<table border=\"1\" class=\"dataframe\">\n",
       "  <thead>\n",
       "    <tr style=\"text-align: right;\">\n",
       "      <th></th>\n",
       "      <th>m</th>\n",
       "      <th>b</th>\n",
       "      <th>c</th>\n",
       "      <th>f</th>\n",
       "      <th>logL</th>\n",
       "    </tr>\n",
       "  </thead>\n",
       "  <tbody>\n",
       "    <tr>\n",
       "      <th>2759</th>\n",
       "      <td>-1.0</td>\n",
       "      <td>0.5</td>\n",
       "      <td>1.000000e+08</td>\n",
       "      <td>0.3</td>\n",
       "      <td>-22.626446</td>\n",
       "    </tr>\n",
       "    <tr>\n",
       "      <th>3909</th>\n",
       "      <td>-1.0</td>\n",
       "      <td>0.7</td>\n",
       "      <td>1.584893e+08</td>\n",
       "      <td>0.3</td>\n",
       "      <td>-22.508455</td>\n",
       "    </tr>\n",
       "    <tr>\n",
       "      <th>5059</th>\n",
       "      <td>-1.0</td>\n",
       "      <td>0.9</td>\n",
       "      <td>2.511886e+08</td>\n",
       "      <td>0.3</td>\n",
       "      <td>-22.541086</td>\n",
       "    </tr>\n",
       "    <tr>\n",
       "      <th>8809</th>\n",
       "      <td>-0.8</td>\n",
       "      <td>0.5</td>\n",
       "      <td>1.000000e+08</td>\n",
       "      <td>0.3</td>\n",
       "      <td>-22.523355</td>\n",
       "    </tr>\n",
       "    <tr>\n",
       "      <th>9409</th>\n",
       "      <td>-0.8</td>\n",
       "      <td>0.6</td>\n",
       "      <td>1.584893e+08</td>\n",
       "      <td>0.3</td>\n",
       "      <td>-22.655002</td>\n",
       "    </tr>\n",
       "    <tr>\n",
       "      <th>10559</th>\n",
       "      <td>-0.8</td>\n",
       "      <td>0.8</td>\n",
       "      <td>2.511886e+08</td>\n",
       "      <td>0.3</td>\n",
       "      <td>-22.248121</td>\n",
       "    </tr>\n",
       "    <tr>\n",
       "      <th>11709</th>\n",
       "      <td>-0.8</td>\n",
       "      <td>1.0</td>\n",
       "      <td>3.981072e+08</td>\n",
       "      <td>0.3</td>\n",
       "      <td>-22.622312</td>\n",
       "    </tr>\n",
       "    <tr>\n",
       "      <th>14859</th>\n",
       "      <td>-0.6</td>\n",
       "      <td>0.5</td>\n",
       "      <td>1.000000e+08</td>\n",
       "      <td>0.3</td>\n",
       "      <td>-22.325124</td>\n",
       "    </tr>\n",
       "    <tr>\n",
       "      <th>16659</th>\n",
       "      <td>-0.6</td>\n",
       "      <td>0.8</td>\n",
       "      <td>3.981072e+08</td>\n",
       "      <td>0.3</td>\n",
       "      <td>-22.498534</td>\n",
       "    </tr>\n",
       "    <tr>\n",
       "      <th>20909</th>\n",
       "      <td>-0.4</td>\n",
       "      <td>0.5</td>\n",
       "      <td>1.000000e+08</td>\n",
       "      <td>0.3</td>\n",
       "      <td>-22.322109</td>\n",
       "    </tr>\n",
       "    <tr>\n",
       "      <th>21559</th>\n",
       "      <td>-0.4</td>\n",
       "      <td>0.6</td>\n",
       "      <td>2.511886e+08</td>\n",
       "      <td>0.3</td>\n",
       "      <td>-22.343453</td>\n",
       "    </tr>\n",
       "    <tr>\n",
       "      <th>22159</th>\n",
       "      <td>-0.4</td>\n",
       "      <td>0.7</td>\n",
       "      <td>3.981072e+08</td>\n",
       "      <td>0.3</td>\n",
       "      <td>-22.568691</td>\n",
       "    </tr>\n",
       "    <tr>\n",
       "      <th>22759</th>\n",
       "      <td>-0.4</td>\n",
       "      <td>0.8</td>\n",
       "      <td>6.309573e+08</td>\n",
       "      <td>0.3</td>\n",
       "      <td>-22.648099</td>\n",
       "    </tr>\n",
       "    <tr>\n",
       "      <th>23959</th>\n",
       "      <td>-0.4</td>\n",
       "      <td>1.0</td>\n",
       "      <td>1.584893e+09</td>\n",
       "      <td>0.3</td>\n",
       "      <td>-22.365181</td>\n",
       "    </tr>\n",
       "    <tr>\n",
       "      <th>24009</th>\n",
       "      <td>-0.4</td>\n",
       "      <td>1.0</td>\n",
       "      <td>2.511886e+09</td>\n",
       "      <td>0.3</td>\n",
       "      <td>-22.386614</td>\n",
       "    </tr>\n",
       "    <tr>\n",
       "      <th>26959</th>\n",
       "      <td>-0.2</td>\n",
       "      <td>0.5</td>\n",
       "      <td>1.000000e+08</td>\n",
       "      <td>0.3</td>\n",
       "      <td>-22.570608</td>\n",
       "    </tr>\n",
       "    <tr>\n",
       "      <th>27009</th>\n",
       "      <td>-0.2</td>\n",
       "      <td>0.5</td>\n",
       "      <td>1.584893e+08</td>\n",
       "      <td>0.3</td>\n",
       "      <td>-22.440213</td>\n",
       "    </tr>\n",
       "    <tr>\n",
       "      <th>27659</th>\n",
       "      <td>-0.2</td>\n",
       "      <td>0.6</td>\n",
       "      <td>3.981072e+08</td>\n",
       "      <td>0.3</td>\n",
       "      <td>-22.494475</td>\n",
       "    </tr>\n",
       "    <tr>\n",
       "      <th>27709</th>\n",
       "      <td>-0.2</td>\n",
       "      <td>0.6</td>\n",
       "      <td>6.309573e+08</td>\n",
       "      <td>0.3</td>\n",
       "      <td>-22.675722</td>\n",
       "    </tr>\n",
       "    <tr>\n",
       "      <th>28259</th>\n",
       "      <td>-0.2</td>\n",
       "      <td>0.7</td>\n",
       "      <td>6.309573e+08</td>\n",
       "      <td>0.3</td>\n",
       "      <td>-22.676549</td>\n",
       "    </tr>\n",
       "    <tr>\n",
       "      <th>28359</th>\n",
       "      <td>-0.2</td>\n",
       "      <td>0.7</td>\n",
       "      <td>1.584893e+09</td>\n",
       "      <td>0.3</td>\n",
       "      <td>-22.506987</td>\n",
       "    </tr>\n",
       "    <tr>\n",
       "      <th>28659</th>\n",
       "      <td>-0.2</td>\n",
       "      <td>0.8</td>\n",
       "      <td>1.584893e+08</td>\n",
       "      <td>0.3</td>\n",
       "      <td>-22.454187</td>\n",
       "    </tr>\n",
       "    <tr>\n",
       "      <th>29009</th>\n",
       "      <td>-0.2</td>\n",
       "      <td>0.8</td>\n",
       "      <td>3.981072e+09</td>\n",
       "      <td>0.3</td>\n",
       "      <td>-22.278891</td>\n",
       "    </tr>\n",
       "    <tr>\n",
       "      <th>29059</th>\n",
       "      <td>-0.2</td>\n",
       "      <td>0.8</td>\n",
       "      <td>6.309573e+09</td>\n",
       "      <td>0.3</td>\n",
       "      <td>-22.332224</td>\n",
       "    </tr>\n",
       "    <tr>\n",
       "      <th>29109</th>\n",
       "      <td>-0.2</td>\n",
       "      <td>0.8</td>\n",
       "      <td>1.000000e+10</td>\n",
       "      <td>0.3</td>\n",
       "      <td>-22.454187</td>\n",
       "    </tr>\n",
       "    <tr>\n",
       "      <th>33009</th>\n",
       "      <td>0.0</td>\n",
       "      <td>0.5</td>\n",
       "      <td>1.000000e+08</td>\n",
       "      <td>0.3</td>\n",
       "      <td>-22.553070</td>\n",
       "    </tr>\n",
       "    <tr>\n",
       "      <th>33059</th>\n",
       "      <td>0.0</td>\n",
       "      <td>0.5</td>\n",
       "      <td>1.584893e+08</td>\n",
       "      <td>0.3</td>\n",
       "      <td>-22.275922</td>\n",
       "    </tr>\n",
       "    <tr>\n",
       "      <th>33109</th>\n",
       "      <td>0.0</td>\n",
       "      <td>0.5</td>\n",
       "      <td>2.511886e+08</td>\n",
       "      <td>0.3</td>\n",
       "      <td>-22.384323</td>\n",
       "    </tr>\n",
       "    <tr>\n",
       "      <th>33159</th>\n",
       "      <td>0.0</td>\n",
       "      <td>0.5</td>\n",
       "      <td>3.981072e+08</td>\n",
       "      <td>0.3</td>\n",
       "      <td>-22.467737</td>\n",
       "    </tr>\n",
       "    <tr>\n",
       "      <th>33209</th>\n",
       "      <td>0.0</td>\n",
       "      <td>0.5</td>\n",
       "      <td>6.309573e+08</td>\n",
       "      <td>0.3</td>\n",
       "      <td>-22.526857</td>\n",
       "    </tr>\n",
       "    <tr>\n",
       "      <th>33309</th>\n",
       "      <td>0.0</td>\n",
       "      <td>0.5</td>\n",
       "      <td>1.584893e+09</td>\n",
       "      <td>0.3</td>\n",
       "      <td>-22.367587</td>\n",
       "    </tr>\n",
       "    <tr>\n",
       "      <th>33359</th>\n",
       "      <td>0.0</td>\n",
       "      <td>0.5</td>\n",
       "      <td>2.511886e+09</td>\n",
       "      <td>0.3</td>\n",
       "      <td>-22.470018</td>\n",
       "    </tr>\n",
       "    <tr>\n",
       "      <th>33409</th>\n",
       "      <td>0.0</td>\n",
       "      <td>0.5</td>\n",
       "      <td>3.981072e+09</td>\n",
       "      <td>0.3</td>\n",
       "      <td>-22.365604</td>\n",
       "    </tr>\n",
       "    <tr>\n",
       "      <th>33459</th>\n",
       "      <td>0.0</td>\n",
       "      <td>0.5</td>\n",
       "      <td>6.309573e+09</td>\n",
       "      <td>0.3</td>\n",
       "      <td>-22.598298</td>\n",
       "    </tr>\n",
       "    <tr>\n",
       "      <th>33509</th>\n",
       "      <td>0.0</td>\n",
       "      <td>0.5</td>\n",
       "      <td>1.000000e+10</td>\n",
       "      <td>0.3</td>\n",
       "      <td>-22.397289</td>\n",
       "    </tr>\n",
       "  </tbody>\n",
       "</table>\n",
       "</div>"
      ],
      "text/plain": [
       "         m    b             c    f       logL\n",
       "2759  -1.0  0.5  1.000000e+08  0.3 -22.626446\n",
       "3909  -1.0  0.7  1.584893e+08  0.3 -22.508455\n",
       "5059  -1.0  0.9  2.511886e+08  0.3 -22.541086\n",
       "8809  -0.8  0.5  1.000000e+08  0.3 -22.523355\n",
       "9409  -0.8  0.6  1.584893e+08  0.3 -22.655002\n",
       "10559 -0.8  0.8  2.511886e+08  0.3 -22.248121\n",
       "11709 -0.8  1.0  3.981072e+08  0.3 -22.622312\n",
       "14859 -0.6  0.5  1.000000e+08  0.3 -22.325124\n",
       "16659 -0.6  0.8  3.981072e+08  0.3 -22.498534\n",
       "20909 -0.4  0.5  1.000000e+08  0.3 -22.322109\n",
       "21559 -0.4  0.6  2.511886e+08  0.3 -22.343453\n",
       "22159 -0.4  0.7  3.981072e+08  0.3 -22.568691\n",
       "22759 -0.4  0.8  6.309573e+08  0.3 -22.648099\n",
       "23959 -0.4  1.0  1.584893e+09  0.3 -22.365181\n",
       "24009 -0.4  1.0  2.511886e+09  0.3 -22.386614\n",
       "26959 -0.2  0.5  1.000000e+08  0.3 -22.570608\n",
       "27009 -0.2  0.5  1.584893e+08  0.3 -22.440213\n",
       "27659 -0.2  0.6  3.981072e+08  0.3 -22.494475\n",
       "27709 -0.2  0.6  6.309573e+08  0.3 -22.675722\n",
       "28259 -0.2  0.7  6.309573e+08  0.3 -22.676549\n",
       "28359 -0.2  0.7  1.584893e+09  0.3 -22.506987\n",
       "28659 -0.2  0.8  1.584893e+08  0.3 -22.454187\n",
       "29009 -0.2  0.8  3.981072e+09  0.3 -22.278891\n",
       "29059 -0.2  0.8  6.309573e+09  0.3 -22.332224\n",
       "29109 -0.2  0.8  1.000000e+10  0.3 -22.454187\n",
       "33009  0.0  0.5  1.000000e+08  0.3 -22.553070\n",
       "33059  0.0  0.5  1.584893e+08  0.3 -22.275922\n",
       "33109  0.0  0.5  2.511886e+08  0.3 -22.384323\n",
       "33159  0.0  0.5  3.981072e+08  0.3 -22.467737\n",
       "33209  0.0  0.5  6.309573e+08  0.3 -22.526857\n",
       "33309  0.0  0.5  1.584893e+09  0.3 -22.367587\n",
       "33359  0.0  0.5  2.511886e+09  0.3 -22.470018\n",
       "33409  0.0  0.5  3.981072e+09  0.3 -22.365604\n",
       "33459  0.0  0.5  6.309573e+09  0.3 -22.598298\n",
       "33509  0.0  0.5  1.000000e+10  0.3 -22.397289"
      ]
     },
     "execution_count": 103,
     "metadata": {},
     "output_type": "execute_result"
    }
   ],
   "source": [
    "good_models"
   ]
  },
  {
   "cell_type": "markdown",
   "metadata": {},
   "source": [
    "Plot these models"
   ]
  },
  {
   "cell_type": "code",
   "execution_count": 97,
   "metadata": {},
   "outputs": [
    {
     "data": {
      "image/png": "[encoded data removed]",
      "text/plain": [
       "<Figure size 432x288 with 1 Axes>"
      ]
     },
     "metadata": {
      "needs_background": "light"
     },
     "output_type": "display_data"
    }
   ],
   "source": [
    "x = np.logspace(8, 10, 10)\n",
    "\n",
    "# best model\n",
    "best_model = model_logLs.loc[(model_logLs.logL >= best_logL) & (model_logLs.logL < 0.)]\n",
    "m, b, c, f = best_model.m.to_list()[0], best_model.b.to_list()[0], best_model.c.to_list()[0], best_model.f.to_list()[0]\n",
    "plt.plot(x, build_models(x, m, b, c, f), label='best fit', color='k')\n",
    "\n",
    "# ground truth\n",
    "m, b, c, f = ground_truth.m.to_list()[0], ground_truth.b.to_list()[0], ground_truth.c.to_list()[0], ground_truth.f.to_list()[0]\n",
    "plt.plot(x, build_models(x, m, b, c, f), label='ground truth', color='r')\n",
    "\n",
    "# models as good as or better than ground truth\n",
    "good_models = good_models.drop_duplicates(subset=['m','b','c','f'])\n",
    "label_flag = True\n",
    "for index, row in good_models.reset_index().iterrows(): \n",
    "    m, b, c, f = row.m, row.b, row.c, row.f\n",
    "    if label_flag == True:\n",
    "        plt.plot(x, build_models(x, m, b, c, f), color='green', zorder=0, label='good models', alpha=0.5)\n",
    "    elif label_flag == False:\n",
    "        plt.plot(x, build_models(x, m, b, c, f), color='green', zorder=0, alpha=0.5)\n",
    "    label_flag = False  \n",
    "    \n",
    "plt.xscale('log')\n",
    "plt.ylim([0, 0.5])\n",
    "plt.xlabel('age [Gyr]')\n",
    "plt.ylabel('P(intact)')\n",
    "plt.title(f'm = 0., b = 0.5, c = 1e9, f = 0.3 (no sculpting); $\\Delta logL = {np.round(delta_logL,2)}$')\n",
    "plt.legend()\n",
    "plt.show()"
   ]
  },
  {
   "cell_type": "code",
   "execution_count": 114,
   "metadata": {},
   "outputs": [
    {
     "data": {
      "text/html": [
       "<div>\n",
       "<style scoped>\n",
       "    .dataframe tbody tr th:only-of-type {\n",
       "        vertical-align: middle;\n",
       "    }\n",
       "\n",
       "    .dataframe tbody tr th {\n",
       "        vertical-align: top;\n",
       "    }\n",
       "\n",
       "    .dataframe thead th {\n",
       "        text-align: right;\n",
       "    }\n",
       "</style>\n",
       "<table border=\"1\" class=\"dataframe\">\n",
       "  <thead>\n",
       "    <tr style=\"text-align: right;\">\n",
       "      <th></th>\n",
       "      <th>m</th>\n",
       "      <th>b</th>\n",
       "      <th>c</th>\n",
       "      <th>f</th>\n",
       "      <th>logL</th>\n",
       "    </tr>\n",
       "  </thead>\n",
       "  <tbody>\n",
       "    <tr>\n",
       "      <th>2759</th>\n",
       "      <td>-1.0</td>\n",
       "      <td>0.5</td>\n",
       "      <td>100000000.0</td>\n",
       "      <td>0.3</td>\n",
       "      <td>-22.626446</td>\n",
       "    </tr>\n",
       "    <tr>\n",
       "      <th>2760</th>\n",
       "      <td>-1.0</td>\n",
       "      <td>0.5</td>\n",
       "      <td>100000000.0</td>\n",
       "      <td>0.3</td>\n",
       "      <td>-22.626446</td>\n",
       "    </tr>\n",
       "    <tr>\n",
       "      <th>2761</th>\n",
       "      <td>-1.0</td>\n",
       "      <td>0.5</td>\n",
       "      <td>100000000.0</td>\n",
       "      <td>0.3</td>\n",
       "      <td>-22.626446</td>\n",
       "    </tr>\n",
       "    <tr>\n",
       "      <th>2762</th>\n",
       "      <td>-1.0</td>\n",
       "      <td>0.5</td>\n",
       "      <td>100000000.0</td>\n",
       "      <td>0.3</td>\n",
       "      <td>-22.626446</td>\n",
       "    </tr>\n",
       "    <tr>\n",
       "      <th>2763</th>\n",
       "      <td>-1.0</td>\n",
       "      <td>0.5</td>\n",
       "      <td>100000000.0</td>\n",
       "      <td>0.3</td>\n",
       "      <td>-22.626446</td>\n",
       "    </tr>\n",
       "    <tr>\n",
       "      <th>3909</th>\n",
       "      <td>-1.0</td>\n",
       "      <td>0.7</td>\n",
       "      <td>158489319.0</td>\n",
       "      <td>0.3</td>\n",
       "      <td>-22.508455</td>\n",
       "    </tr>\n",
       "    <tr>\n",
       "      <th>3910</th>\n",
       "      <td>-1.0</td>\n",
       "      <td>0.7</td>\n",
       "      <td>158489319.0</td>\n",
       "      <td>0.3</td>\n",
       "      <td>-22.508455</td>\n",
       "    </tr>\n",
       "    <tr>\n",
       "      <th>3911</th>\n",
       "      <td>-1.0</td>\n",
       "      <td>0.7</td>\n",
       "      <td>158489319.0</td>\n",
       "      <td>0.3</td>\n",
       "      <td>-22.508455</td>\n",
       "    </tr>\n",
       "    <tr>\n",
       "      <th>3912</th>\n",
       "      <td>-1.0</td>\n",
       "      <td>0.7</td>\n",
       "      <td>158489319.0</td>\n",
       "      <td>0.3</td>\n",
       "      <td>-22.508455</td>\n",
       "    </tr>\n",
       "    <tr>\n",
       "      <th>3913</th>\n",
       "      <td>-1.0</td>\n",
       "      <td>0.7</td>\n",
       "      <td>158489319.0</td>\n",
       "      <td>0.3</td>\n",
       "      <td>-22.508455</td>\n",
       "    </tr>\n",
       "    <tr>\n",
       "      <th>5059</th>\n",
       "      <td>-1.0</td>\n",
       "      <td>0.9</td>\n",
       "      <td>251188643.0</td>\n",
       "      <td>0.3</td>\n",
       "      <td>-22.541086</td>\n",
       "    </tr>\n",
       "    <tr>\n",
       "      <th>5060</th>\n",
       "      <td>-1.0</td>\n",
       "      <td>0.9</td>\n",
       "      <td>251188643.0</td>\n",
       "      <td>0.3</td>\n",
       "      <td>-22.541086</td>\n",
       "    </tr>\n",
       "    <tr>\n",
       "      <th>5061</th>\n",
       "      <td>-1.0</td>\n",
       "      <td>0.9</td>\n",
       "      <td>251188643.0</td>\n",
       "      <td>0.3</td>\n",
       "      <td>-22.541086</td>\n",
       "    </tr>\n",
       "    <tr>\n",
       "      <th>5062</th>\n",
       "      <td>-1.0</td>\n",
       "      <td>0.9</td>\n",
       "      <td>251188643.0</td>\n",
       "      <td>0.3</td>\n",
       "      <td>-22.541086</td>\n",
       "    </tr>\n",
       "    <tr>\n",
       "      <th>5063</th>\n",
       "      <td>-1.0</td>\n",
       "      <td>0.9</td>\n",
       "      <td>251188643.0</td>\n",
       "      <td>0.3</td>\n",
       "      <td>-22.541086</td>\n",
       "    </tr>\n",
       "    <tr>\n",
       "      <th>8809</th>\n",
       "      <td>-0.8</td>\n",
       "      <td>0.5</td>\n",
       "      <td>100000000.0</td>\n",
       "      <td>0.3</td>\n",
       "      <td>-22.523355</td>\n",
       "    </tr>\n",
       "    <tr>\n",
       "      <th>8810</th>\n",
       "      <td>-0.8</td>\n",
       "      <td>0.5</td>\n",
       "      <td>100000000.0</td>\n",
       "      <td>0.3</td>\n",
       "      <td>-22.523355</td>\n",
       "    </tr>\n",
       "    <tr>\n",
       "      <th>8811</th>\n",
       "      <td>-0.8</td>\n",
       "      <td>0.5</td>\n",
       "      <td>100000000.0</td>\n",
       "      <td>0.3</td>\n",
       "      <td>-22.523355</td>\n",
       "    </tr>\n",
       "    <tr>\n",
       "      <th>8812</th>\n",
       "      <td>-0.8</td>\n",
       "      <td>0.5</td>\n",
       "      <td>100000000.0</td>\n",
       "      <td>0.3</td>\n",
       "      <td>-22.523355</td>\n",
       "    </tr>\n",
       "    <tr>\n",
       "      <th>8813</th>\n",
       "      <td>-0.8</td>\n",
       "      <td>0.5</td>\n",
       "      <td>100000000.0</td>\n",
       "      <td>0.3</td>\n",
       "      <td>-22.523355</td>\n",
       "    </tr>\n",
       "  </tbody>\n",
       "</table>\n",
       "</div>"
      ],
      "text/plain": [
       "        m    b            c    f       logL\n",
       "2759 -1.0  0.5  100000000.0  0.3 -22.626446\n",
       "2760 -1.0  0.5  100000000.0  0.3 -22.626446\n",
       "2761 -1.0  0.5  100000000.0  0.3 -22.626446\n",
       "2762 -1.0  0.5  100000000.0  0.3 -22.626446\n",
       "2763 -1.0  0.5  100000000.0  0.3 -22.626446\n",
       "3909 -1.0  0.7  158489319.0  0.3 -22.508455\n",
       "3910 -1.0  0.7  158489319.0  0.3 -22.508455\n",
       "3911 -1.0  0.7  158489319.0  0.3 -22.508455\n",
       "3912 -1.0  0.7  158489319.0  0.3 -22.508455\n",
       "3913 -1.0  0.7  158489319.0  0.3 -22.508455\n",
       "5059 -1.0  0.9  251188643.0  0.3 -22.541086\n",
       "5060 -1.0  0.9  251188643.0  0.3 -22.541086\n",
       "5061 -1.0  0.9  251188643.0  0.3 -22.541086\n",
       "5062 -1.0  0.9  251188643.0  0.3 -22.541086\n",
       "5063 -1.0  0.9  251188643.0  0.3 -22.541086\n",
       "8809 -0.8  0.5  100000000.0  0.3 -22.523355\n",
       "8810 -0.8  0.5  100000000.0  0.3 -22.523355\n",
       "8811 -0.8  0.5  100000000.0  0.3 -22.523355\n",
       "8812 -0.8  0.5  100000000.0  0.3 -22.523355\n",
       "8813 -0.8  0.5  100000000.0  0.3 -22.523355"
      ]
     },
     "execution_count": 114,
     "metadata": {},
     "output_type": "execute_result"
    }
   ],
   "source": [
    "model_logLs.loc[np.abs(model_logLs.logL - best_logL) < delta_logL].head(n=20)"
   ]
  },
  {
   "cell_type": "code",
   "execution_count": null,
   "metadata": {},
   "outputs": [],
   "source": []
  }
 ],
 "metadata": {
  "kernelspec": {
   "display_name": "Python 3",
   "language": "python",
   "name": "python3"
  },
  "language_info": {
   "codemirror_mode": {
    "name": "ipython",
    "version": 3
   },
   "file_extension": ".py",
   "mimetype": "text/x-python",
   "name": "python",
   "nbconvert_exporter": "python",
   "pygments_lexer": "ipython3",
   "version": "3.6.8"
  }
 },
 "nbformat": 4,
 "nbformat_minor": 2
}
