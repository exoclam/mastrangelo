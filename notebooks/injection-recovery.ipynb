{
 "cells": [
  {
   "cell_type": "code",
   "execution_count": 1,
   "metadata": {},
   "outputs": [],
   "source": [
    "import pandas as pd\n",
    "import numpy as np\n",
    "from astropy.io import fits\n",
    "from astropy.table import Table\n",
    "from glob import glob\n",
    "import matplotlib.pyplot as plt\n",
    "import scipy\n",
    "from math import lgamma\n",
    "import seaborn as sns\n",
    "%matplotlib inline\n",
    "\n",
    "path = '/Users/chris/Desktop/mastrangelo/'\n"
   ]
  },
  {
   "cell_type": "code",
   "execution_count": 2,
   "metadata": {},
   "outputs": [],
   "source": [
    "import matplotlib.pylab as pylab\n",
    "pylab_params = {'legend.fontsize': 'large',\n",
    "         'axes.labelsize': 'x-large',\n",
    "         'axes.titlesize':'x-large',\n",
    "         'xtick.labelsize':'large',\n",
    "         'ytick.labelsize':'large'}\n",
    "pylab.rcParams.update(pylab_params)\n",
    "\n",
    "total_stars = 67380\n",
    "\n",
    "k = pd.Series([833, 134, 38, 15, 5, 0])"
   ]
  },
  {
   "cell_type": "code",
   "execution_count": 3,
   "metadata": {},
   "outputs": [],
   "source": [
    "from ast import literal_eval\n",
    "\n",
    "#https://stackoverflow.com/questions/52232742/how-to-use-ast-literal-eval-in-a-pandas-dataframe-and-handle-exceptions\n",
    "def literal_eval_w_exceptions(x):\n",
    "    try:\n",
    "        return literal_eval(str(x))   \n",
    "    except Exception as e:\n",
    "        #print(e)\n",
    "        pass"
   ]
  },
  {
   "cell_type": "markdown",
   "metadata": {},
   "source": [
    "Read in and process data (pad and create zero bins)"
   ]
  },
  {
   "cell_type": "code",
   "execution_count": 4,
   "metadata": {},
   "outputs": [],
   "source": [
    "truth = pd.read_csv(path+'collect_ground_truth.csv', converters=dict(transit_multiplicities=literal_eval))\n",
    "recovery = pd.read_csv(path+'collect_recovery.csv', converters=dict(transit_multiplicities=literal_eval))\n"
   ]
  },
  {
   "cell_type": "code",
   "execution_count": null,
   "metadata": {},
   "outputs": [],
   "source": [
    "f, ((ax1, ax2), (ax3, ax4)) = plt.subplots(2, 2, figsize=(10, 10))\n",
    "\n",
    "# marginalize in 1D\n",
    "marginalized_logLs = []\n",
    "for gi_m in range(6):\n",
    "\n",
    "    cube = prior_grid_logslope(cube, ndim, nparams, gi_m, gi_b, gi_c)\n",
    "    \n",
    "    # subset\n",
    "    only = truth.loc[(truth.ms == cube[0])]# & (model_logLs.f == 0.3)]\n",
    "    \n",
    "    # marginalize logL\n",
    "    marginalized_logLs.append(np.mean(only.logLs))\n",
    "\n",
    "ax1.scatter(truth.ms.unique(), marginalized_logLs)\n",
    "ax1.set_ylabel(\"log likelihood\")\n",
    "ax1.set_xlabel(\"sculpting speed [dex]\")\n",
    "\n",
    "marginalized_logLs = []\n",
    "for gi_b in range(11):\n",
    "    \n",
    "    cube = prior_grid_logslope(cube, ndim, nparams, gi_m, gi_b, gi_c)\n",
    "    \n",
    "    # subset\n",
    "    only = model_logLs.loc[(model_logLs.b == cube[1])]# & (model_logLs.f == 0.3)]\n",
    "    \n",
    "    # marginalize logL\n",
    "    marginalized_logLs.append(np.mean(only.logL))\n",
    "ax2.scatter(model_logLs.b.unique(), marginalized_logLs)\n",
    "ax2.set_ylabel(\"log likelihood\")\n",
    "ax2.set_xlabel(\"b\")\n",
    "\n",
    "marginalized_logLs = []\n",
    "for gi_c in range(11):\n",
    "\n",
    "    cube = prior_grid_logslope(cube, ndim, nparams, gi_m, gi_b, gi_c)\n",
    "    \n",
    "    # subset\n",
    "    only = model_logLs.loc[(model_logLs.c == cube[2])]# & (model_logLs.f == 0.3)]\n",
    "    \n",
    "    # marginalize logL\n",
    "    marginalized_logLs.append(np.mean(only.logL))\n",
    "ax3.scatter(truth.cs.unique(), marginalized_logLs)\n",
    "ax3.set_ylabel(\"log likelihood\")\n",
    "ax3.set_xlabel(\"c\")\n",
    "ax3.set_xscale('log')\n",
    "\n",
    "marginalized_logLs = []\n",
    "for gi_f in np.linspace(0.1, 1, 10):\n",
    "    \n",
    "    # subset\n",
    "    only = model_logLs.loc[(np.round(model_logLs.f, 1) == np.round(gi_f, 1))]\n",
    "    \n",
    "    # marginalize logL\n",
    "    marginalized_logLs.append(np.mean(only.logL))\n",
    "ax4.scatter(np.linspace(0.1, 1, 10), marginalized_logLs)\n",
    "ax4.set_ylabel(\"log likelihood\")\n",
    "ax4.set_xlabel(\"f\")\n",
    "\n",
    "plt.tight_layout()\n",
    "plt.show()"
   ]
  },
  {
   "cell_type": "markdown",
   "metadata": {},
   "source": [
    "#### Quality control"
   ]
  },
  {
   "cell_type": "markdown",
   "metadata": {},
   "source": [
    "With so many records, some of them get corrupted. There are several ways we can deal with this, but since each model has 30 random samples, a corrupted record will simply be dropped. Therefore, later on, rather than summing to marginalize the log likelihoods, we take the mean. "
   ]
  },
  {
   "cell_type": "code",
   "execution_count": 46,
   "metadata": {},
   "outputs": [],
   "source": [
    "# retrieve indices of rows that somehow got padded with many extra bins\n",
    "long_indices = recovery.loc[recovery['transit_multiplicities'].str.len() > 6]['transit_multiplicities'].index\n",
    "\n",
    "# drop these rows\n",
    "recovery = recovery.drop(long_indices)"
   ]
  },
  {
   "cell_type": "code",
   "execution_count": 5,
   "metadata": {},
   "outputs": [],
   "source": [
    "zero_bins = []\n",
    "transit_multiplicity_zero_bin = []\n",
    "for j, i in enumerate(truth.transit_multiplicities[:]):\n",
    "    zero_bins.append(total_stars-np.sum(i))\n",
    "    temp = truth.reset_index().transit_multiplicities[:][j]\n",
    "    temp.insert(0,total_stars - np.sum(i))\n",
    "    transit_multiplicity_zero_bin.append(temp)\n",
    "truth['transit_multiplicity_zero_bin'] = transit_multiplicity_zero_bin\n",
    "\n",
    "zero_bins = []\n",
    "transit_multiplicity_zero_bin = []\n",
    "for j, i in enumerate(recovery.transit_multiplicities[:]):\n",
    "    zero_bins.append(total_stars-np.sum(i))\n",
    "    temp = recovery.reset_index().transit_multiplicities[:][j]\n",
    "    temp.insert(0,total_stars - np.sum(i))\n",
    "    transit_multiplicity_zero_bin.append(temp)\n",
    "recovery['transit_multiplicity_zero_bin'] = transit_multiplicity_zero_bin"
   ]
  },
  {
   "cell_type": "code",
   "execution_count": 6,
   "metadata": {},
   "outputs": [],
   "source": [
    "def pad(lam):\n",
    "    lam += [0.] * (7 - len(lam)) # pad with zeros to match length of k\n",
    "    return lam\n",
    "\n",
    "truth['transit_multiplicities'] = truth.transit_multiplicities.apply(pad)\n",
    "recovery['transit_multiplicities'] = recovery.transit_multiplicities.apply(pad)\n"
   ]
  },
  {
   "cell_type": "markdown",
   "metadata": {},
   "source": [
    "Prepare machinery for injection-recovery experiments"
   ]
  },
  {
   "cell_type": "code",
   "execution_count": 6,
   "metadata": {},
   "outputs": [],
   "source": [
    "def prior_grid_logslope(cube, ndim, nparams, gi_m, gi_b, gi_c):\n",
    "    \"\"\"\n",
    "    Each model run will use an evenly spaced (m,b, cutoff) tuple on a discrete 11x11x11 3D grid\n",
    "    We're doing log(time), so slope is sampled linearly (everything gets logged together later)\n",
    "    If a cutoff results in a zero probability, don't bother \n",
    "\n",
    "    gi_m: grid index on m axis\n",
    "    gi_b: grid index on b axis\n",
    "    gi_c: grid index for cutoff time axis\n",
    "    \"\"\"\n",
    "    #cube[0] = -1e-9*np.logspace(8,10,11)[gi_m] # convert from year to Gyr\n",
    "    cube[0] = np.linspace(-1,0,6)[gi_m] \n",
    "    cube[1] = np.linspace(0,1,11)[gi_b]\n",
    "    #cube[2] = np.logspace(1e8,1e10,11)\n",
    "    cube[2] = np.round(np.logspace(8,10,11)[gi_c], 0) # in Ballard et al in prep, they use log(yrs) instead of drawing yrs from logspace\n",
    "    return cube"
   ]
  },
  {
   "cell_type": "code",
   "execution_count": 7,
   "metadata": {},
   "outputs": [],
   "source": [
    "def better_loglike(lam, k):\n",
    "    \"\"\"\n",
    "    Calculate Poisson log likelihood\n",
    "    Changed 0 handling from simulate.py to reflect https://www.aanda.org/articles/aa/pdf/2009/16/aa8472-07.pdf\n",
    "\n",
    "    Params: \n",
    "    - lam: model predictions for transit multiplicity (list of ints)\n",
    "    - k: Kepler transit multiplicity (list of ints); can accept alternate ground truths as well\n",
    "\n",
    "    Returns: Poisson log likelihood (float)\n",
    "    \"\"\"\n",
    "\n",
    "    # in the rare occasion that a simulated system has 7+ planets, throw them into the 6+ bin\n",
    "    if len(k) < len(lam): \n",
    "        extras = lam[len(k):]\n",
    "        sum_extras = np.sum(extras)\n",
    "        lam[5] += sum_extras\n",
    "    lam = lam[:6]\n",
    "    \n",
    "    logL = []\n",
    "    for i in range(len(lam)):\n",
    "        if lam[i]==0:\n",
    "            term3 = -lgamma(k[i]+1)\n",
    "            term2 = -lam[i]\n",
    "            term1 = 0\n",
    "            logL.append(term1+term2+term3)\n",
    "\n",
    "        else:\n",
    "            term3 = -lgamma(k[i]+1)\n",
    "            term2 = -lam[i]\n",
    "            term1 = k[i]*np.log(lam[i])\n",
    "            logL.append(term1+term2+term3)\n",
    "\n",
    "    return np.sum(logL)"
   ]
  },
  {
   "cell_type": "markdown",
   "metadata": {},
   "source": [
    "What would it look like to take the logL of something that's sqrt(N) deviated from the ground truth, where N is the number of systems in each bin? \n",
    "\n",
    "Answer: this is $\\Delta$ logL of 3 different from the perfect case of comparing the ground truth to itself."
   ]
  },
  {
   "cell_type": "code",
   "execution_count": 8,
   "metadata": {},
   "outputs": [
    {
     "data": {
      "text/plain": [
       "-23.261564101898227"
      ]
     },
     "execution_count": 8,
     "metadata": {},
     "output_type": "execute_result"
    }
   ],
   "source": [
    "better_loglike(np.array([9900, 804, 122, 32, 11, 3, 0]), np.array([1e4, 833, 134, 38, 15, 5, 0]))"
   ]
  },
  {
   "cell_type": "code",
   "execution_count": 79,
   "metadata": {},
   "outputs": [],
   "source": [
    "def build_models(x, m, b, c, f): # adapted from Ballard et al in prep, log version\n",
    "    \"\"\" \n",
    "    Calculate P(intact) as a function of time, in order to visualize sculpting models.\n",
    "\n",
    "    Input:\n",
    "    - x: grid of ages [log yrs]\n",
    "    - m: sculpting law slope [dex]\n",
    "    - b: sculpting law initial intact probability, out of planet-hosting stars\n",
    "    - c: sculpting law turnoff time [log yrs]\n",
    "    - f: fraction of planet-hosting stars\n",
    "\n",
    "    Output:\n",
    "    - y: grid of P(intacts)\n",
    "\n",
    "    \"\"\"\n",
    "\n",
    "    # x-axis before cutoff\n",
    "    x1 = x[x<c]\n",
    "    x2 = x[x>=c]\n",
    "    \n",
    "    # first piece, before cutoff\n",
    "    y1 = (b + m * (np.log10(x1) - 8)) * f\n",
    "    \n",
    "    # second piece, after cutoff\n",
    "    y2 = np.ones(len(x2)) * (b + m * (np.log10(c) - 8)) * f\n",
    "    \n",
    "    y = np.concatenate((y1, y2))\n",
    "    \n",
    "    # flatten out at zero\n",
    "    y = np.where(y < 0, 0, y)\n",
    "    \n",
    "    return y"
   ]
  },
  {
   "cell_type": "markdown",
   "metadata": {},
   "source": [
    "#### Model 2: m = -1, b = 0.5, c = 4e9, f = 0.3 (heavy sculpting model)"
   ]
  },
  {
   "cell_type": "code",
   "execution_count": 162,
   "metadata": {},
   "outputs": [
    {
     "data": {
      "text/plain": [
       "692    [616.5, 34.8, 0.0, 0.0, 0.0, 0.0]\n",
       "Name: transit_multiplicities, dtype: object"
      ]
     },
     "execution_count": 162,
     "metadata": {},
     "output_type": "execute_result"
    }
   ],
   "source": [
    "tm_fiducial = truth.loc[(truth.ms == -1.) & (truth.bs == 0.5) & (np.round(truth.cs, -8) == 4e9) & (np.round(truth.fs,1) == 0.3)].transit_multiplicities\n",
    "tm_fiducial"
   ]
  },
  {
   "cell_type": "code",
   "execution_count": 163,
   "metadata": {},
   "outputs": [],
   "source": [
    "test_recovery = recovery.loc[(recovery.ms == -1.) & (recovery.bs == 0.5) & (np.round(recovery.cs, -8) == 4e9) & (np.round(recovery.fs,1) == 0.3)]\n"
   ]
  },
  {
   "cell_type": "markdown",
   "metadata": {},
   "source": [
    "Let's quickly check their transit yields to see whether they make sense."
   ]
  },
  {
   "cell_type": "code",
   "execution_count": 164,
   "metadata": {},
   "outputs": [
    {
     "data": {
      "image/png": "[encoded data removed]",
      "text/plain": [
       "<Figure size 432x288 with 1 Axes>"
      ]
     },
     "metadata": {
      "needs_background": "light"
     },
     "output_type": "display_data"
    }
   ],
   "source": [
    "plt.scatter(np.arange(len(tm_fiducial[692])), tm_fiducial[692], color='r', label='ground truth')\n",
    "plt.scatter(np.arange(len(recovery.iloc[20760].transit_multiplicities)), recovery.iloc[20760].transit_multiplicities, label='recovery same')\n",
    "plt.scatter(np.arange(len(recovery.iloc[5470].transit_multiplicities)), recovery.iloc[5470].transit_multiplicities, label='recovery -1, 0.1, 1e9, 0.3')\n",
    "\n",
    "plt.xlim([0,6])\n",
    "plt.ylim([0,700])\n",
    "plt.title('m = -1., b = 0.5, c = 4e9, f = 0.3 (fast sculpting)')\n",
    "plt.legend()\n",
    "plt.show()"
   ]
  },
  {
   "cell_type": "markdown",
   "metadata": {},
   "source": [
    "This makes sense: the yields between higher b but short-lived sculpting and lower b but longer-lived sculpting are similar."
   ]
  },
  {
   "cell_type": "code",
   "execution_count": 202,
   "metadata": {},
   "outputs": [],
   "source": [
    "def argmedian(x):\n",
    "    return np.argpartition(x, len(x) // 2)[len(x) // 2] # // is floor division"
   ]
  },
  {
   "cell_type": "code",
   "execution_count": 203,
   "metadata": {},
   "outputs": [],
   "source": [
    "cube = [0,0,0]\n",
    "fs = np.round(np.linspace(0.1, 1., 10), 1)\n",
    "ndim = 3\n",
    "nparams = 3\n",
    "\n",
    "ms = []\n",
    "bs = []\n",
    "cs = []\n",
    "fs_for_df = []\n",
    "all_logLs = []\n",
    "all_transit_multiplicities = []\n",
    "\n",
    "for gi_m in range(6):\n",
    "    \n",
    "    for gi_b in range(11):\n",
    "\n",
    "        for gi_c in range(11):\n",
    "            cube = prior_grid_logslope(cube, ndim, nparams, gi_m, gi_b, gi_c)\n",
    "            \n",
    "            for f in fs:\n",
    "                \n",
    "                ms.append(cube[0])\n",
    "                bs.append(cube[1])\n",
    "                cs.append(cube[2])\n",
    "                fs_for_df.append(f)\n",
    "                \n",
    "                try:\n",
    "                    #tm = truth.loc[(truth.ms == cube[0]) & (truth.bs == cube[1]) & (np.round(truth.cs, 0) == cube[2]) & (np.round(truth.fs,1) == f)].transit_multiplicities\n",
    "                    tm_recovery = recovery.loc[(np.round(recovery.ms,1) == np.round(cube[0],1)) & (np.round(recovery.bs,1) == np.round(cube[1],1)) & (np.round(recovery.cs, 0) == np.round(cube[2],0)) & (np.round(recovery.fs,1) == f)].transit_multiplicities.to_list()\n",
    "                    \n",
    "                    # calculate logL for each realization of each model, using tm as the ground truth\n",
    "                    logLs = []\n",
    "                    for i in range(len(tm_recovery)):\n",
    "                        logL = better_loglike(tm_recovery[i], np.sum(tm_fiducial))\n",
    "                        logLs.append(logL)\n",
    "\n",
    "                    # take the median logL for each model\n",
    "                    median_logL = np.median(logLs)\n",
    "                    median_arg = argmedian(logLs)\n",
    "                    all_logLs.append(median_logL)\n",
    "                    # append transit multiplicity of the best sample for that model\n",
    "                    all_transit_multiplicities.append(tm_recovery[median_arg])\n",
    "\n",
    "                except:\n",
    "                    all_logLs.append(0.)\n",
    "                "
   ]
  },
  {
   "cell_type": "code",
   "execution_count": 205,
   "metadata": {},
   "outputs": [
    {
     "data": {
      "text/html": [
       "<div>\n",
       "<style scoped>\n",
       "    .dataframe tbody tr th:only-of-type {\n",
       "        vertical-align: middle;\n",
       "    }\n",
       "\n",
       "    .dataframe tbody tr th {\n",
       "        vertical-align: top;\n",
       "    }\n",
       "\n",
       "    .dataframe thead th {\n",
       "        text-align: right;\n",
       "    }\n",
       "</style>\n",
       "<table border=\"1\" class=\"dataframe\">\n",
       "  <thead>\n",
       "    <tr style=\"text-align: right;\">\n",
       "      <th></th>\n",
       "      <th>m</th>\n",
       "      <th>b</th>\n",
       "      <th>c</th>\n",
       "      <th>f</th>\n",
       "      <th>injection_transit_multiplicities</th>\n",
       "      <th>logL</th>\n",
       "    </tr>\n",
       "  </thead>\n",
       "  <tbody>\n",
       "    <tr>\n",
       "      <th>0</th>\n",
       "      <td>-1.0</td>\n",
       "      <td>0.0</td>\n",
       "      <td>1.000000e+08</td>\n",
       "      <td>0.1</td>\n",
       "      <td>[202.70000000000002, 12.200000000000001, 0.0, ...</td>\n",
       "      <td>-292.656186</td>\n",
       "    </tr>\n",
       "    <tr>\n",
       "      <th>1</th>\n",
       "      <td>-1.0</td>\n",
       "      <td>0.0</td>\n",
       "      <td>1.000000e+08</td>\n",
       "      <td>0.2</td>\n",
       "      <td>[408.6, 23.6, 0.0, 0.0, 0.0, 0.0]</td>\n",
       "      <td>-55.465881</td>\n",
       "    </tr>\n",
       "    <tr>\n",
       "      <th>2</th>\n",
       "      <td>-1.0</td>\n",
       "      <td>0.0</td>\n",
       "      <td>1.000000e+08</td>\n",
       "      <td>0.3</td>\n",
       "      <td>[611.1, 31.2, 0.0, 0.0, 0.0, 0.0]</td>\n",
       "      <td>-7.061195</td>\n",
       "    </tr>\n",
       "    <tr>\n",
       "      <th>3</th>\n",
       "      <td>-1.0</td>\n",
       "      <td>0.0</td>\n",
       "      <td>1.000000e+08</td>\n",
       "      <td>0.4</td>\n",
       "      <td>[810.8000000000001, 48.800000000000004, 0.0, 0...</td>\n",
       "      <td>-35.019123</td>\n",
       "    </tr>\n",
       "    <tr>\n",
       "      <th>4</th>\n",
       "      <td>-1.0</td>\n",
       "      <td>0.0</td>\n",
       "      <td>1.000000e+08</td>\n",
       "      <td>0.5</td>\n",
       "      <td>[1013.5, 61.0, 0.0, 0.0, 0.0, 0.0]</td>\n",
       "      <td>-105.185728</td>\n",
       "    </tr>\n",
       "    <tr>\n",
       "      <th>...</th>\n",
       "      <td>...</td>\n",
       "      <td>...</td>\n",
       "      <td>...</td>\n",
       "      <td>...</td>\n",
       "      <td>...</td>\n",
       "      <td>...</td>\n",
       "    </tr>\n",
       "    <tr>\n",
       "      <th>7255</th>\n",
       "      <td>0.0</td>\n",
       "      <td>1.0</td>\n",
       "      <td>1.000000e+10</td>\n",
       "      <td>0.6</td>\n",
       "      <td>[1386.0, 706.8, 381.59999999999997, 157.799999...</td>\n",
       "      <td>-1424.313592</td>\n",
       "    </tr>\n",
       "    <tr>\n",
       "      <th>7256</th>\n",
       "      <td>0.0</td>\n",
       "      <td>1.0</td>\n",
       "      <td>1.000000e+10</td>\n",
       "      <td>0.7</td>\n",
       "      <td>[1696.1, 812.0, 420.7, 168.0, 49.0, 4.19999999...</td>\n",
       "      <td>-1774.311494</td>\n",
       "    </tr>\n",
       "    <tr>\n",
       "      <th>7257</th>\n",
       "      <td>0.0</td>\n",
       "      <td>1.0</td>\n",
       "      <td>1.000000e+10</td>\n",
       "      <td>0.8</td>\n",
       "      <td>[1938.4, 928.0, 480.8, 192.0, 56.0, 4.80000000...</td>\n",
       "      <td>-2138.092498</td>\n",
       "    </tr>\n",
       "    <tr>\n",
       "      <th>7258</th>\n",
       "      <td>0.0</td>\n",
       "      <td>1.0</td>\n",
       "      <td>1.000000e+10</td>\n",
       "      <td>0.9</td>\n",
       "      <td>[2180.7000000000003, 1044.0, 540.9, 216.0, 63....</td>\n",
       "      <td>-2511.580396</td>\n",
       "    </tr>\n",
       "    <tr>\n",
       "      <th>7259</th>\n",
       "      <td>0.0</td>\n",
       "      <td>1.0</td>\n",
       "      <td>1.000000e+10</td>\n",
       "      <td>1.0</td>\n",
       "      <td>[2423.0, 1160.0, 601.0, 240.0, 70.0, 6.0]</td>\n",
       "      <td>-2892.609092</td>\n",
       "    </tr>\n",
       "  </tbody>\n",
       "</table>\n",
       "<p>7260 rows × 6 columns</p>\n",
       "</div>"
      ],
      "text/plain": [
       "        m    b             c    f  \\\n",
       "0    -1.0  0.0  1.000000e+08  0.1   \n",
       "1    -1.0  0.0  1.000000e+08  0.2   \n",
       "2    -1.0  0.0  1.000000e+08  0.3   \n",
       "3    -1.0  0.0  1.000000e+08  0.4   \n",
       "4    -1.0  0.0  1.000000e+08  0.5   \n",
       "...   ...  ...           ...  ...   \n",
       "7255  0.0  1.0  1.000000e+10  0.6   \n",
       "7256  0.0  1.0  1.000000e+10  0.7   \n",
       "7257  0.0  1.0  1.000000e+10  0.8   \n",
       "7258  0.0  1.0  1.000000e+10  0.9   \n",
       "7259  0.0  1.0  1.000000e+10  1.0   \n",
       "\n",
       "                       injection_transit_multiplicities         logL  \n",
       "0     [202.70000000000002, 12.200000000000001, 0.0, ...  -292.656186  \n",
       "1                     [408.6, 23.6, 0.0, 0.0, 0.0, 0.0]   -55.465881  \n",
       "2                     [611.1, 31.2, 0.0, 0.0, 0.0, 0.0]    -7.061195  \n",
       "3     [810.8000000000001, 48.800000000000004, 0.0, 0...   -35.019123  \n",
       "4                    [1013.5, 61.0, 0.0, 0.0, 0.0, 0.0]  -105.185728  \n",
       "...                                                 ...          ...  \n",
       "7255  [1386.0, 706.8, 381.59999999999997, 157.799999... -1424.313592  \n",
       "7256  [1696.1, 812.0, 420.7, 168.0, 49.0, 4.19999999... -1774.311494  \n",
       "7257  [1938.4, 928.0, 480.8, 192.0, 56.0, 4.80000000... -2138.092498  \n",
       "7258  [2180.7000000000003, 1044.0, 540.9, 216.0, 63.... -2511.580396  \n",
       "7259          [2423.0, 1160.0, 601.0, 240.0, 70.0, 6.0] -2892.609092  \n",
       "\n",
       "[7260 rows x 6 columns]"
      ]
     },
     "execution_count": 205,
     "metadata": {},
     "output_type": "execute_result"
    }
   ],
   "source": [
    "model_logLs = pd.DataFrame({'m': ms, 'b': bs, 'c': cs, 'f': fs_for_df, \n",
    "                            'injection_transit_multiplicities': all_transit_multiplicities, \n",
    "                            'logL': all_logLs})\n",
    "model_logLs"
   ]
  },
  {
   "cell_type": "markdown",
   "metadata": {},
   "source": [
    "### Note that while these logLs take f into account, they do not take the zero-bin into account. analyze.ipynb has machinery to handle that, and we can do this injection-recovery routine with those logLs instead, if we want. "
   ]
  },
  {
   "cell_type": "markdown",
   "metadata": {},
   "source": [
    "#### What is the $\\Delta$ logL between the very best model and the ground truth?"
   ]
  },
  {
   "cell_type": "markdown",
   "metadata": {},
   "source": [
    "Identify best and good models"
   ]
  },
  {
   "cell_type": "code",
   "execution_count": 206,
   "metadata": {},
   "outputs": [],
   "source": [
    "x = np.logspace(8, 10, 1000)"
   ]
  },
  {
   "cell_type": "code",
   "execution_count": 207,
   "metadata": {},
   "outputs": [
    {
     "data": {
      "image/png": "[encoded data removed]",
      "text/plain": [
       "<Figure size 432x288 with 1 Axes>"
      ]
     },
     "metadata": {
      "needs_background": "light"
     },
     "output_type": "display_data"
    }
   ],
   "source": [
    "ground_truth = model_logLs.loc[(model_logLs.m == -1) & (model_logLs.b == 0.5) & (np.round(model_logLs.c, -8) == 4e9) & (np.round(model_logLs.f,1) == 0.3)]\n",
    "m, b, c, f = ground_truth.m.to_list()[0], ground_truth.b.to_list()[0], ground_truth.c.to_list()[0], ground_truth.f.to_list()[0]\n",
    "plt.plot(x, build_models(x, m, b, c, f), label='ground truth', color='r')\n",
    "plt.xscale('log')\n"
   ]
  },
  {
   "cell_type": "code",
   "execution_count": 209,
   "metadata": {},
   "outputs": [
    {
     "name": "stdout",
     "output_type": "stream",
     "text": [
      "Best model:          m    b             c    f   injection_transit_multiplicities     logL\n",
      "1312 -0.8  0.0  1.000000e+10  0.3  [621.9, 32.4, 0.0, 0.0, 0.0, 0.0] -6.95384\n",
      "Ground truth:         m    b             c    f   injection_transit_multiplicities      logL\n",
      "632 -1.0  0.5  3.981072e+09  0.3  [621.0, 34.5, 0.3, 0.6, 0.0, 0.0] -7.784932\n",
      "Some models between best model and ground truth: \n",
      "      m    b            c    f  \\\n",
      "2  -1.0  0.0  100000000.0  0.3   \n",
      "12 -1.0  0.0  158489319.0  0.3   \n",
      "22 -1.0  0.0  251188643.0  0.3   \n",
      "32 -1.0  0.0  398107171.0  0.3   \n",
      "42 -1.0  0.0  630957344.0  0.3   \n",
      "\n",
      "                   injection_transit_multiplicities      logL  \n",
      "2                 [611.1, 31.2, 0.0, 0.0, 0.0, 0.0] -7.061195  \n",
      "12  [625.5, 31.799999999999997, 0.0, 0.0, 0.0, 0.0] -7.033363  \n",
      "22                [630.0, 36.0, 0.0, 0.0, 0.0, 0.0] -6.994674  \n",
      "32  [616.5, 38.699999999999996, 0.0, 0.0, 0.0, 0.0] -7.040230  \n",
      "42                [604.5, 37.5, 0.0, 0.0, 0.0, 0.0] -7.045327  \n"
     ]
    }
   ],
   "source": [
    "best_logL = max(model_logLs.loc[model_logLs.logL < 0.].logL)\n",
    "print(\"Best model: \", model_logLs.loc[(model_logLs.logL >= best_logL) & (model_logLs.logL < 0.)])\n",
    "\n",
    "ground_truth = model_logLs.loc[(model_logLs.m == -1) & (model_logLs.b == 0.5) & (np.round(model_logLs.c, -9) == 4e9) & (np.round(model_logLs.f,1) == 0.3)]\n",
    "print(\"Ground truth: \", ground_truth)\n",
    "delta_logL = best_logL - model_logLs.loc[(model_logLs.m == -1) & (model_logLs.b == 0.5) & (np.round(model_logLs.c, -9) == 4e9) & (np.round(model_logLs.f,1) == 0.3)].logL.to_list()[0]\n",
    "\n",
    "good_models = model_logLs.loc[np.abs(model_logLs.logL - best_logL) <= delta_logL]\n",
    "print(\"Some models between best model and ground truth: \")\n",
    "print(good_models.head())"
   ]
  },
  {
   "cell_type": "markdown",
   "metadata": {},
   "source": [
    "Hold on: why are there multiple best models? EDIT 1: It seems like some data swapping happened when the simulations were made. So, I have to identify the real one and then drop the other rows. EDIT 2: Maybe the sure-fire way is to re-draw a simulation with my unit test script and see how close it gets to the apparently-copied data? EDIT 3: This problem went away when I went from taking the best logL per 30 draws of a model, to taking the median logL per 30 draws of a model."
   ]
  },
  {
   "cell_type": "code",
   "execution_count": 176,
   "metadata": {
    "scrolled": true
   },
   "outputs": [
    {
     "data": {
      "text/html": [
       "<div>\n",
       "<style scoped>\n",
       "    .dataframe tbody tr th:only-of-type {\n",
       "        vertical-align: middle;\n",
       "    }\n",
       "\n",
       "    .dataframe tbody tr th {\n",
       "        vertical-align: top;\n",
       "    }\n",
       "\n",
       "    .dataframe thead th {\n",
       "        text-align: right;\n",
       "    }\n",
       "</style>\n",
       "<table border=\"1\" class=\"dataframe\">\n",
       "  <thead>\n",
       "    <tr style=\"text-align: right;\">\n",
       "      <th></th>\n",
       "      <th>m</th>\n",
       "      <th>b</th>\n",
       "      <th>c</th>\n",
       "      <th>f</th>\n",
       "      <th>injection_transit_multiplicities</th>\n",
       "      <th>logL</th>\n",
       "    </tr>\n",
       "  </thead>\n",
       "  <tbody>\n",
       "    <tr>\n",
       "      <th>1380</th>\n",
       "      <td>-0.8</td>\n",
       "      <td>0.1</td>\n",
       "      <td>1.584893e+09</td>\n",
       "      <td>0.1</td>\n",
       "      <td>[214.20000000000002, 11.3, 0.0, 0.0, 0.0, 0.0]</td>\n",
       "      <td>-271.902638</td>\n",
       "    </tr>\n",
       "    <tr>\n",
       "      <th>1381</th>\n",
       "      <td>-0.8</td>\n",
       "      <td>0.1</td>\n",
       "      <td>1.584893e+09</td>\n",
       "      <td>0.2</td>\n",
       "      <td>[428.40000000000003, 22.6, 0.0, 0.0, 0.0, 0.0]</td>\n",
       "      <td>-45.955880</td>\n",
       "    </tr>\n",
       "    <tr>\n",
       "      <th>1382</th>\n",
       "      <td>-0.8</td>\n",
       "      <td>0.1</td>\n",
       "      <td>1.584893e+09</td>\n",
       "      <td>0.3</td>\n",
       "      <td>[616.5, 34.8, 0.0, 0.0, 0.0, 0.0]</td>\n",
       "      <td>-6.827245</td>\n",
       "    </tr>\n",
       "    <tr>\n",
       "      <th>1383</th>\n",
       "      <td>-0.8</td>\n",
       "      <td>0.1</td>\n",
       "      <td>1.584893e+09</td>\n",
       "      <td>0.4</td>\n",
       "      <td>[778.4000000000001, 38.400000000000006, 0.0, 0...</td>\n",
       "      <td>-25.144699</td>\n",
       "    </tr>\n",
       "    <tr>\n",
       "      <th>1384</th>\n",
       "      <td>-0.8</td>\n",
       "      <td>0.1</td>\n",
       "      <td>1.584893e+09</td>\n",
       "      <td>0.5</td>\n",
       "      <td>[973.0, 48.0, 0.0, 0.0, 0.0, 0.0]</td>\n",
       "      <td>-84.011304</td>\n",
       "    </tr>\n",
       "    <tr>\n",
       "      <th>1385</th>\n",
       "      <td>-0.8</td>\n",
       "      <td>0.1</td>\n",
       "      <td>1.584893e+09</td>\n",
       "      <td>0.6</td>\n",
       "      <td>[1167.6, 57.599999999999994, 0.0, 0.0, 0.0, 0.0]</td>\n",
       "      <td>-169.465274</td>\n",
       "    </tr>\n",
       "    <tr>\n",
       "      <th>1386</th>\n",
       "      <td>-0.8</td>\n",
       "      <td>0.1</td>\n",
       "      <td>1.584893e+09</td>\n",
       "      <td>0.7</td>\n",
       "      <td>[1362.1999999999998, 67.19999999999999, 0.0, 0...</td>\n",
       "      <td>-273.266936</td>\n",
       "    </tr>\n",
       "    <tr>\n",
       "      <th>1387</th>\n",
       "      <td>-0.8</td>\n",
       "      <td>0.1</td>\n",
       "      <td>1.584893e+09</td>\n",
       "      <td>0.8</td>\n",
       "      <td>[1556.8000000000002, 76.80000000000001, 0.0, 0...</td>\n",
       "      <td>-390.497940</td>\n",
       "    </tr>\n",
       "    <tr>\n",
       "      <th>1388</th>\n",
       "      <td>-0.8</td>\n",
       "      <td>0.1</td>\n",
       "      <td>1.584893e+09</td>\n",
       "      <td>0.9</td>\n",
       "      <td>[1751.4, 86.4, 0.0, 0.0, 0.0, 0.0]</td>\n",
       "      <td>-517.985849</td>\n",
       "    </tr>\n",
       "    <tr>\n",
       "      <th>1389</th>\n",
       "      <td>-0.8</td>\n",
       "      <td>0.1</td>\n",
       "      <td>1.584893e+09</td>\n",
       "      <td>1.0</td>\n",
       "      <td>[1946.0, 96.0, 0.0, 0.0, 0.0, 0.0]</td>\n",
       "      <td>-653.564545</td>\n",
       "    </tr>\n",
       "  </tbody>\n",
       "</table>\n",
       "</div>"
      ],
      "text/plain": [
       "        m    b             c    f  \\\n",
       "1380 -0.8  0.1  1.584893e+09  0.1   \n",
       "1381 -0.8  0.1  1.584893e+09  0.2   \n",
       "1382 -0.8  0.1  1.584893e+09  0.3   \n",
       "1383 -0.8  0.1  1.584893e+09  0.4   \n",
       "1384 -0.8  0.1  1.584893e+09  0.5   \n",
       "1385 -0.8  0.1  1.584893e+09  0.6   \n",
       "1386 -0.8  0.1  1.584893e+09  0.7   \n",
       "1387 -0.8  0.1  1.584893e+09  0.8   \n",
       "1388 -0.8  0.1  1.584893e+09  0.9   \n",
       "1389 -0.8  0.1  1.584893e+09  1.0   \n",
       "\n",
       "                       injection_transit_multiplicities        logL  \n",
       "1380     [214.20000000000002, 11.3, 0.0, 0.0, 0.0, 0.0] -271.902638  \n",
       "1381     [428.40000000000003, 22.6, 0.0, 0.0, 0.0, 0.0]  -45.955880  \n",
       "1382                  [616.5, 34.8, 0.0, 0.0, 0.0, 0.0]   -6.827245  \n",
       "1383  [778.4000000000001, 38.400000000000006, 0.0, 0...  -25.144699  \n",
       "1384                  [973.0, 48.0, 0.0, 0.0, 0.0, 0.0]  -84.011304  \n",
       "1385   [1167.6, 57.599999999999994, 0.0, 0.0, 0.0, 0.0] -169.465274  \n",
       "1386  [1362.1999999999998, 67.19999999999999, 0.0, 0... -273.266936  \n",
       "1387  [1556.8000000000002, 76.80000000000001, 0.0, 0... -390.497940  \n",
       "1388                 [1751.4, 86.4, 0.0, 0.0, 0.0, 0.0] -517.985849  \n",
       "1389                 [1946.0, 96.0, 0.0, 0.0, 0.0, 0.0] -653.564545  "
      ]
     },
     "execution_count": 176,
     "metadata": {},
     "output_type": "execute_result"
    }
   ],
   "source": [
    "model_logLs.iloc[1380:1390] # this is the right one"
   ]
  },
  {
   "cell_type": "code",
   "execution_count": 177,
   "metadata": {},
   "outputs": [
    {
     "data": {
      "text/html": [
       "<div>\n",
       "<style scoped>\n",
       "    .dataframe tbody tr th:only-of-type {\n",
       "        vertical-align: middle;\n",
       "    }\n",
       "\n",
       "    .dataframe tbody tr th {\n",
       "        vertical-align: top;\n",
       "    }\n",
       "\n",
       "    .dataframe thead th {\n",
       "        text-align: right;\n",
       "    }\n",
       "</style>\n",
       "<table border=\"1\" class=\"dataframe\">\n",
       "  <thead>\n",
       "    <tr style=\"text-align: right;\">\n",
       "      <th></th>\n",
       "      <th>m</th>\n",
       "      <th>b</th>\n",
       "      <th>c</th>\n",
       "      <th>f</th>\n",
       "      <th>injection_transit_multiplicities</th>\n",
       "      <th>logL</th>\n",
       "    </tr>\n",
       "  </thead>\n",
       "  <tbody>\n",
       "    <tr>\n",
       "      <th>1490</th>\n",
       "      <td>-0.8</td>\n",
       "      <td>0.2</td>\n",
       "      <td>1.584893e+09</td>\n",
       "      <td>0.1</td>\n",
       "      <td>[214.8, 11.700000000000001, 0.1, 0.1, 0.0, 0.0]</td>\n",
       "      <td>-270.167605</td>\n",
       "    </tr>\n",
       "    <tr>\n",
       "      <th>1491</th>\n",
       "      <td>-0.8</td>\n",
       "      <td>0.2</td>\n",
       "      <td>1.584893e+09</td>\n",
       "      <td>0.2</td>\n",
       "      <td>[429.6, 23.400000000000002, 0.2, 0.2, 0.0, 0.0]</td>\n",
       "      <td>-45.420846</td>\n",
       "    </tr>\n",
       "    <tr>\n",
       "      <th>1492</th>\n",
       "      <td>-0.8</td>\n",
       "      <td>0.2</td>\n",
       "      <td>1.584893e+09</td>\n",
       "      <td>0.3</td>\n",
       "      <td>[616.5, 34.8, 0.0, 0.0, 0.0, 0.0]</td>\n",
       "      <td>-6.827245</td>\n",
       "    </tr>\n",
       "    <tr>\n",
       "      <th>1493</th>\n",
       "      <td>-0.8</td>\n",
       "      <td>0.2</td>\n",
       "      <td>1.584893e+09</td>\n",
       "      <td>0.4</td>\n",
       "      <td>[780.0, 50.0, 0.4, 0.4, 0.0, 0.0]</td>\n",
       "      <td>-28.692784</td>\n",
       "    </tr>\n",
       "    <tr>\n",
       "      <th>1494</th>\n",
       "      <td>-0.8</td>\n",
       "      <td>0.2</td>\n",
       "      <td>1.584893e+09</td>\n",
       "      <td>0.5</td>\n",
       "      <td>[975.0, 62.5, 0.5, 0.5, 0.0, 0.0]</td>\n",
       "      <td>-91.059389</td>\n",
       "    </tr>\n",
       "    <tr>\n",
       "      <th>1495</th>\n",
       "      <td>-0.8</td>\n",
       "      <td>0.2</td>\n",
       "      <td>1.584893e+09</td>\n",
       "      <td>0.6</td>\n",
       "      <td>[1170.0, 75.0, 0.6, 0.6, 0.0, 0.0]</td>\n",
       "      <td>-180.013359</td>\n",
       "    </tr>\n",
       "    <tr>\n",
       "      <th>1496</th>\n",
       "      <td>-0.8</td>\n",
       "      <td>0.2</td>\n",
       "      <td>1.584893e+09</td>\n",
       "      <td>0.7</td>\n",
       "      <td>[1365.0, 87.5, 0.7, 0.7, 0.0, 0.0]</td>\n",
       "      <td>-287.315021</td>\n",
       "    </tr>\n",
       "    <tr>\n",
       "      <th>1497</th>\n",
       "      <td>-0.8</td>\n",
       "      <td>0.2</td>\n",
       "      <td>1.584893e+09</td>\n",
       "      <td>0.8</td>\n",
       "      <td>[1560.0, 100.0, 0.8, 0.8, 0.0, 0.0]</td>\n",
       "      <td>-408.046025</td>\n",
       "    </tr>\n",
       "    <tr>\n",
       "      <th>1498</th>\n",
       "      <td>-0.8</td>\n",
       "      <td>0.2</td>\n",
       "      <td>1.584893e+09</td>\n",
       "      <td>0.9</td>\n",
       "      <td>[1755.0, 112.5, 0.9, 0.9, 0.0, 0.0]</td>\n",
       "      <td>-539.033934</td>\n",
       "    </tr>\n",
       "    <tr>\n",
       "      <th>1499</th>\n",
       "      <td>-0.8</td>\n",
       "      <td>0.2</td>\n",
       "      <td>1.584893e+09</td>\n",
       "      <td>1.0</td>\n",
       "      <td>[1950.0, 125.0, 1.0, 1.0, 0.0, 0.0]</td>\n",
       "      <td>-678.112630</td>\n",
       "    </tr>\n",
       "  </tbody>\n",
       "</table>\n",
       "</div>"
      ],
      "text/plain": [
       "        m    b             c    f  \\\n",
       "1490 -0.8  0.2  1.584893e+09  0.1   \n",
       "1491 -0.8  0.2  1.584893e+09  0.2   \n",
       "1492 -0.8  0.2  1.584893e+09  0.3   \n",
       "1493 -0.8  0.2  1.584893e+09  0.4   \n",
       "1494 -0.8  0.2  1.584893e+09  0.5   \n",
       "1495 -0.8  0.2  1.584893e+09  0.6   \n",
       "1496 -0.8  0.2  1.584893e+09  0.7   \n",
       "1497 -0.8  0.2  1.584893e+09  0.8   \n",
       "1498 -0.8  0.2  1.584893e+09  0.9   \n",
       "1499 -0.8  0.2  1.584893e+09  1.0   \n",
       "\n",
       "                     injection_transit_multiplicities        logL  \n",
       "1490  [214.8, 11.700000000000001, 0.1, 0.1, 0.0, 0.0] -270.167605  \n",
       "1491  [429.6, 23.400000000000002, 0.2, 0.2, 0.0, 0.0]  -45.420846  \n",
       "1492                [616.5, 34.8, 0.0, 0.0, 0.0, 0.0]   -6.827245  \n",
       "1493                [780.0, 50.0, 0.4, 0.4, 0.0, 0.0]  -28.692784  \n",
       "1494                [975.0, 62.5, 0.5, 0.5, 0.0, 0.0]  -91.059389  \n",
       "1495               [1170.0, 75.0, 0.6, 0.6, 0.0, 0.0] -180.013359  \n",
       "1496               [1365.0, 87.5, 0.7, 0.7, 0.0, 0.0] -287.315021  \n",
       "1497              [1560.0, 100.0, 0.8, 0.8, 0.0, 0.0] -408.046025  \n",
       "1498              [1755.0, 112.5, 0.9, 0.9, 0.0, 0.0] -539.033934  \n",
       "1499              [1950.0, 125.0, 1.0, 1.0, 0.0, 0.0] -678.112630  "
      ]
     },
     "execution_count": 177,
     "metadata": {},
     "output_type": "execute_result"
    }
   ],
   "source": [
    "model_logLs.iloc[1490:1500]"
   ]
  },
  {
   "cell_type": "code",
   "execution_count": 178,
   "metadata": {},
   "outputs": [
    {
     "data": {
      "text/html": [
       "<div>\n",
       "<style scoped>\n",
       "    .dataframe tbody tr th:only-of-type {\n",
       "        vertical-align: middle;\n",
       "    }\n",
       "\n",
       "    .dataframe tbody tr th {\n",
       "        vertical-align: top;\n",
       "    }\n",
       "\n",
       "    .dataframe thead th {\n",
       "        text-align: right;\n",
       "    }\n",
       "</style>\n",
       "<table border=\"1\" class=\"dataframe\">\n",
       "  <thead>\n",
       "    <tr style=\"text-align: right;\">\n",
       "      <th></th>\n",
       "      <th>m</th>\n",
       "      <th>b</th>\n",
       "      <th>c</th>\n",
       "      <th>f</th>\n",
       "      <th>injection_transit_multiplicities</th>\n",
       "      <th>logL</th>\n",
       "    </tr>\n",
       "  </thead>\n",
       "  <tbody>\n",
       "    <tr>\n",
       "      <th>3750</th>\n",
       "      <td>-0.4</td>\n",
       "      <td>0.1</td>\n",
       "      <td>158489319.0</td>\n",
       "      <td>0.1</td>\n",
       "      <td>[214.9, 14.5, 1.3, 0.4, 0.4, 0.0]</td>\n",
       "      <td>-267.213979</td>\n",
       "    </tr>\n",
       "    <tr>\n",
       "      <th>3751</th>\n",
       "      <td>-0.4</td>\n",
       "      <td>0.1</td>\n",
       "      <td>158489319.0</td>\n",
       "      <td>0.2</td>\n",
       "      <td>[429.8, 29.0, 2.6, 0.8, 0.8, 0.0]</td>\n",
       "      <td>-47.267220</td>\n",
       "    </tr>\n",
       "    <tr>\n",
       "      <th>3752</th>\n",
       "      <td>-0.4</td>\n",
       "      <td>0.1</td>\n",
       "      <td>158489319.0</td>\n",
       "      <td>0.3</td>\n",
       "      <td>[616.5, 34.8, 0.0, 0.0, 0.0, 0.0]</td>\n",
       "      <td>-6.827245</td>\n",
       "    </tr>\n",
       "    <tr>\n",
       "      <th>3753</th>\n",
       "      <td>-0.4</td>\n",
       "      <td>0.1</td>\n",
       "      <td>158489319.0</td>\n",
       "      <td>0.4</td>\n",
       "      <td>[784.0, 47.6, 0.4, 0.0, 0.0, 0.0]</td>\n",
       "      <td>-28.451144</td>\n",
       "    </tr>\n",
       "    <tr>\n",
       "      <th>3754</th>\n",
       "      <td>-0.4</td>\n",
       "      <td>0.1</td>\n",
       "      <td>158489319.0</td>\n",
       "      <td>0.5</td>\n",
       "      <td>[980.0, 59.5, 0.5, 0.0, 0.0, 0.0]</td>\n",
       "      <td>-91.117750</td>\n",
       "    </tr>\n",
       "    <tr>\n",
       "      <th>3755</th>\n",
       "      <td>-0.4</td>\n",
       "      <td>0.1</td>\n",
       "      <td>158489319.0</td>\n",
       "      <td>0.6</td>\n",
       "      <td>[1176.0, 71.39999999999999, 0.6, 0.0, 0.0, 0.0]</td>\n",
       "      <td>-180.371720</td>\n",
       "    </tr>\n",
       "    <tr>\n",
       "      <th>3756</th>\n",
       "      <td>-0.4</td>\n",
       "      <td>0.1</td>\n",
       "      <td>158489319.0</td>\n",
       "      <td>0.7</td>\n",
       "      <td>[1372.0, 83.3, 0.7, 0.0, 0.0, 0.0]</td>\n",
       "      <td>-287.973382</td>\n",
       "    </tr>\n",
       "    <tr>\n",
       "      <th>3757</th>\n",
       "      <td>-0.4</td>\n",
       "      <td>0.1</td>\n",
       "      <td>158489319.0</td>\n",
       "      <td>0.8</td>\n",
       "      <td>[1568.0, 95.2, 0.8, 0.0, 0.0, 0.0]</td>\n",
       "      <td>-409.004386</td>\n",
       "    </tr>\n",
       "    <tr>\n",
       "      <th>3758</th>\n",
       "      <td>-0.4</td>\n",
       "      <td>0.1</td>\n",
       "      <td>158489319.0</td>\n",
       "      <td>0.9</td>\n",
       "      <td>[1764.0, 107.10000000000001, 0.9, 0.0, 0.0, 0.0]</td>\n",
       "      <td>-540.292295</td>\n",
       "    </tr>\n",
       "    <tr>\n",
       "      <th>3759</th>\n",
       "      <td>-0.4</td>\n",
       "      <td>0.1</td>\n",
       "      <td>158489319.0</td>\n",
       "      <td>1.0</td>\n",
       "      <td>[1960.0, 119.0, 1.0, 0.0, 0.0, 0.0]</td>\n",
       "      <td>-679.670991</td>\n",
       "    </tr>\n",
       "  </tbody>\n",
       "</table>\n",
       "</div>"
      ],
      "text/plain": [
       "        m    b            c    f  \\\n",
       "3750 -0.4  0.1  158489319.0  0.1   \n",
       "3751 -0.4  0.1  158489319.0  0.2   \n",
       "3752 -0.4  0.1  158489319.0  0.3   \n",
       "3753 -0.4  0.1  158489319.0  0.4   \n",
       "3754 -0.4  0.1  158489319.0  0.5   \n",
       "3755 -0.4  0.1  158489319.0  0.6   \n",
       "3756 -0.4  0.1  158489319.0  0.7   \n",
       "3757 -0.4  0.1  158489319.0  0.8   \n",
       "3758 -0.4  0.1  158489319.0  0.9   \n",
       "3759 -0.4  0.1  158489319.0  1.0   \n",
       "\n",
       "                      injection_transit_multiplicities        logL  \n",
       "3750                 [214.9, 14.5, 1.3, 0.4, 0.4, 0.0] -267.213979  \n",
       "3751                 [429.8, 29.0, 2.6, 0.8, 0.8, 0.0]  -47.267220  \n",
       "3752                 [616.5, 34.8, 0.0, 0.0, 0.0, 0.0]   -6.827245  \n",
       "3753                 [784.0, 47.6, 0.4, 0.0, 0.0, 0.0]  -28.451144  \n",
       "3754                 [980.0, 59.5, 0.5, 0.0, 0.0, 0.0]  -91.117750  \n",
       "3755   [1176.0, 71.39999999999999, 0.6, 0.0, 0.0, 0.0] -180.371720  \n",
       "3756                [1372.0, 83.3, 0.7, 0.0, 0.0, 0.0] -287.973382  \n",
       "3757                [1568.0, 95.2, 0.8, 0.0, 0.0, 0.0] -409.004386  \n",
       "3758  [1764.0, 107.10000000000001, 0.9, 0.0, 0.0, 0.0] -540.292295  \n",
       "3759               [1960.0, 119.0, 1.0, 0.0, 0.0, 0.0] -679.670991  "
      ]
     },
     "execution_count": 178,
     "metadata": {},
     "output_type": "execute_result"
    }
   ],
   "source": [
    "model_logLs.iloc[3750:3760]"
   ]
  },
  {
   "cell_type": "code",
   "execution_count": 179,
   "metadata": {},
   "outputs": [
    {
     "data": {
      "text/html": [
       "<div>\n",
       "<style scoped>\n",
       "    .dataframe tbody tr th:only-of-type {\n",
       "        vertical-align: middle;\n",
       "    }\n",
       "\n",
       "    .dataframe tbody tr th {\n",
       "        vertical-align: top;\n",
       "    }\n",
       "\n",
       "    .dataframe thead th {\n",
       "        text-align: right;\n",
       "    }\n",
       "</style>\n",
       "<table border=\"1\" class=\"dataframe\">\n",
       "  <thead>\n",
       "    <tr style=\"text-align: right;\">\n",
       "      <th></th>\n",
       "      <th>m</th>\n",
       "      <th>b</th>\n",
       "      <th>c</th>\n",
       "      <th>f</th>\n",
       "      <th>injection_transit_multiplicities</th>\n",
       "      <th>logL</th>\n",
       "    </tr>\n",
       "  </thead>\n",
       "  <tbody>\n",
       "    <tr>\n",
       "      <th>3840</th>\n",
       "      <td>-0.4</td>\n",
       "      <td>0.1</td>\n",
       "      <td>1.000000e+10</td>\n",
       "      <td>0.1</td>\n",
       "      <td>[215.3, 9.600000000000001, 0.1, 0.0, 0.0, 0.0]</td>\n",
       "      <td>-273.918552</td>\n",
       "    </tr>\n",
       "    <tr>\n",
       "      <th>3841</th>\n",
       "      <td>-0.4</td>\n",
       "      <td>0.1</td>\n",
       "      <td>1.000000e+10</td>\n",
       "      <td>0.2</td>\n",
       "      <td>[423.40000000000003, 24.8, 0.2, 0.0, 0.0, 0.0]</td>\n",
       "      <td>-47.360875</td>\n",
       "    </tr>\n",
       "    <tr>\n",
       "      <th>3842</th>\n",
       "      <td>-0.4</td>\n",
       "      <td>0.1</td>\n",
       "      <td>1.000000e+10</td>\n",
       "      <td>0.3</td>\n",
       "      <td>[616.5, 34.8, 0.0, 0.0, 0.0, 0.0]</td>\n",
       "      <td>-6.827245</td>\n",
       "    </tr>\n",
       "    <tr>\n",
       "      <th>3843</th>\n",
       "      <td>-0.4</td>\n",
       "      <td>0.1</td>\n",
       "      <td>1.000000e+10</td>\n",
       "      <td>0.4</td>\n",
       "      <td>[784.0, 47.6, 0.4, 0.0, 0.0, 0.0]</td>\n",
       "      <td>-28.451144</td>\n",
       "    </tr>\n",
       "    <tr>\n",
       "      <th>3844</th>\n",
       "      <td>-0.4</td>\n",
       "      <td>0.1</td>\n",
       "      <td>1.000000e+10</td>\n",
       "      <td>0.5</td>\n",
       "      <td>[980.0, 59.5, 0.5, 0.0, 0.0, 0.0]</td>\n",
       "      <td>-91.117750</td>\n",
       "    </tr>\n",
       "    <tr>\n",
       "      <th>3845</th>\n",
       "      <td>-0.4</td>\n",
       "      <td>0.1</td>\n",
       "      <td>1.000000e+10</td>\n",
       "      <td>0.6</td>\n",
       "      <td>[1176.0, 71.39999999999999, 0.6, 0.0, 0.0, 0.0]</td>\n",
       "      <td>-180.371720</td>\n",
       "    </tr>\n",
       "    <tr>\n",
       "      <th>3846</th>\n",
       "      <td>-0.4</td>\n",
       "      <td>0.1</td>\n",
       "      <td>1.000000e+10</td>\n",
       "      <td>0.7</td>\n",
       "      <td>[1372.0, 83.3, 0.7, 0.0, 0.0, 0.0]</td>\n",
       "      <td>-287.973382</td>\n",
       "    </tr>\n",
       "    <tr>\n",
       "      <th>3847</th>\n",
       "      <td>-0.4</td>\n",
       "      <td>0.1</td>\n",
       "      <td>1.000000e+10</td>\n",
       "      <td>0.8</td>\n",
       "      <td>[1568.0, 95.2, 0.8, 0.0, 0.0, 0.0]</td>\n",
       "      <td>-409.004386</td>\n",
       "    </tr>\n",
       "    <tr>\n",
       "      <th>3848</th>\n",
       "      <td>-0.4</td>\n",
       "      <td>0.1</td>\n",
       "      <td>1.000000e+10</td>\n",
       "      <td>0.9</td>\n",
       "      <td>[1764.0, 107.10000000000001, 0.9, 0.0, 0.0, 0.0]</td>\n",
       "      <td>-540.292295</td>\n",
       "    </tr>\n",
       "    <tr>\n",
       "      <th>3849</th>\n",
       "      <td>-0.4</td>\n",
       "      <td>0.1</td>\n",
       "      <td>1.000000e+10</td>\n",
       "      <td>1.0</td>\n",
       "      <td>[1960.0, 119.0, 1.0, 0.0, 0.0, 0.0]</td>\n",
       "      <td>-679.670991</td>\n",
       "    </tr>\n",
       "  </tbody>\n",
       "</table>\n",
       "</div>"
      ],
      "text/plain": [
       "        m    b             c    f  \\\n",
       "3840 -0.4  0.1  1.000000e+10  0.1   \n",
       "3841 -0.4  0.1  1.000000e+10  0.2   \n",
       "3842 -0.4  0.1  1.000000e+10  0.3   \n",
       "3843 -0.4  0.1  1.000000e+10  0.4   \n",
       "3844 -0.4  0.1  1.000000e+10  0.5   \n",
       "3845 -0.4  0.1  1.000000e+10  0.6   \n",
       "3846 -0.4  0.1  1.000000e+10  0.7   \n",
       "3847 -0.4  0.1  1.000000e+10  0.8   \n",
       "3848 -0.4  0.1  1.000000e+10  0.9   \n",
       "3849 -0.4  0.1  1.000000e+10  1.0   \n",
       "\n",
       "                      injection_transit_multiplicities        logL  \n",
       "3840    [215.3, 9.600000000000001, 0.1, 0.0, 0.0, 0.0] -273.918552  \n",
       "3841    [423.40000000000003, 24.8, 0.2, 0.0, 0.0, 0.0]  -47.360875  \n",
       "3842                 [616.5, 34.8, 0.0, 0.0, 0.0, 0.0]   -6.827245  \n",
       "3843                 [784.0, 47.6, 0.4, 0.0, 0.0, 0.0]  -28.451144  \n",
       "3844                 [980.0, 59.5, 0.5, 0.0, 0.0, 0.0]  -91.117750  \n",
       "3845   [1176.0, 71.39999999999999, 0.6, 0.0, 0.0, 0.0] -180.371720  \n",
       "3846                [1372.0, 83.3, 0.7, 0.0, 0.0, 0.0] -287.973382  \n",
       "3847                [1568.0, 95.2, 0.8, 0.0, 0.0, 0.0] -409.004386  \n",
       "3848  [1764.0, 107.10000000000001, 0.9, 0.0, 0.0, 0.0] -540.292295  \n",
       "3849               [1960.0, 119.0, 1.0, 0.0, 0.0, 0.0] -679.670991  "
      ]
     },
     "execution_count": 179,
     "metadata": {},
     "output_type": "execute_result"
    }
   ],
   "source": [
    "model_logLs.iloc[3840:3850]"
   ]
  },
  {
   "cell_type": "markdown",
   "metadata": {},
   "source": [
    "Let's drop the three likely bad data and find the best and good models again."
   ]
  },
  {
   "cell_type": "code",
   "execution_count": 180,
   "metadata": {},
   "outputs": [],
   "source": [
    "model_logLs = model_logLs.drop([1492, 3752, 3842])"
   ]
  },
  {
   "cell_type": "code",
   "execution_count": 181,
   "metadata": {},
   "outputs": [
    {
     "name": "stdout",
     "output_type": "stream",
     "text": [
      "Best model:          m    b             c    f   injection_transit_multiplicities      logL\n",
      "1382 -0.8  0.1  1.584893e+09  0.3  [616.5, 34.8, 0.0, 0.0, 0.0, 0.0] -6.827245\n",
      "Ground truth:  632   -6.837797\n",
      "Name: logL, dtype: float64\n",
      "Some models between best model and ground truth: \n",
      "      m    b             c    f  \\\n",
      "12 -1.0  0.0  1.584893e+08  0.3   \n",
      "52 -1.0  0.0  1.000000e+09  0.3   \n",
      "72 -1.0  0.0  2.511886e+09  0.3   \n",
      "82 -1.0  0.0  3.981072e+09  0.3   \n",
      "92 -1.0  0.0  6.309573e+09  0.3   \n",
      "\n",
      "                 injection_transit_multiplicities      logL  \n",
      "12  [617.6999999999999, 34.5, 0.0, 0.0, 0.0, 0.0] -6.829712  \n",
      "52              [613.5, 34.5, 0.0, 0.0, 0.0, 0.0] -6.835868  \n",
      "72              [618.0, 35.1, 0.0, 0.0, 0.0, 0.0] -6.830352  \n",
      "82  [617.6999999999999, 35.4, 0.0, 0.0, 0.0, 0.0] -6.833525  \n",
      "92  [617.6999999999999, 34.8, 0.0, 0.0, 0.0, 0.0] -6.828411  \n"
     ]
    }
   ],
   "source": [
    "best_logL = max(model_logLs.loc[model_logLs.logL < 0.].logL)\n",
    "print(\"Best model: \", model_logLs.loc[(model_logLs.logL >= best_logL) & (model_logLs.logL < 0.)])\n",
    "\n",
    "ground_truth = model_logLs.loc[(model_logLs.m == -1) & (model_logLs.b == 0.5) & (np.round(model_logLs.c, -9) == 4e9) & (np.round(model_logLs.f,1) == 0.3)]\n",
    "print(\"Ground truth: \", ground_truth.logL)\n",
    "delta_logL = best_logL - model_logLs.loc[(model_logLs.m == -1) & (model_logLs.b == 0.5) & (np.round(model_logLs.c, -9) == 4e9) & (np.round(model_logLs.f,1) == 0.3)].logL.to_list()[0]\n",
    "\n",
    "good_models = model_logLs.loc[np.abs(model_logLs.logL - best_logL) <= delta_logL]\n",
    "print(\"Some models between best model and ground truth: \")\n",
    "print(good_models.head())"
   ]
  },
  {
   "cell_type": "code",
   "execution_count": 210,
   "metadata": {},
   "outputs": [
    {
     "data": {
      "image/png": "[encoded data removed]",
      "text/plain": [
       "<Figure size 432x288 with 1 Axes>"
      ]
     },
     "metadata": {
      "needs_background": "light"
     },
     "output_type": "display_data"
    }
   ],
   "source": [
    "plt.scatter(np.arange(len(tm_fiducial[692])), tm_fiducial[692], color='r', label='ground truth')\n",
    "plt.scatter(np.arange(len(recovery.iloc[6909].transit_multiplicities)), recovery.iloc[6909].transit_multiplicities, label='-0.8, 0.1, 1.6e9, 0.3')\n",
    "plt.scatter(np.arange(len(recovery.iloc[7459].transit_multiplicities)), recovery.iloc[7459].transit_multiplicities, label='-0.8, 0.2, 1.6e9, 0.3')\n",
    "plt.scatter(np.arange(len(recovery.iloc[18759].transit_multiplicities)), recovery.iloc[18759].transit_multiplicities, label='-0.4, 0.1, 1.6e8, 0.3')\n",
    "\n",
    "plt.xlim([0,6])\n",
    "plt.ylim([0,2700])\n",
    "plt.title('m = -1., b = 0.5, c = 4e9, f = 0.3 (fast sculpting)')\n",
    "plt.legend()\n",
    "plt.show()"
   ]
  },
  {
   "cell_type": "markdown",
   "metadata": {},
   "source": [
    "The green functional no-sculpting model has 6.5% multi:single ratio; compared to the blue sculpting model with 5.8% multi:single ratio, this is sensible."
   ]
  },
  {
   "cell_type": "markdown",
   "metadata": {},
   "source": [
    "Plot these models"
   ]
  },
  {
   "cell_type": "code",
   "execution_count": 211,
   "metadata": {},
   "outputs": [
    {
     "name": "stdout",
     "output_type": "stream",
     "text": [
      "-0.8 0.0 10000000000.0 0.3\n",
      "-1.0 0.5 3981071706.0 0.3\n"
     ]
    },
    {
     "data": {
      "image/png": "[encoded data removed]",
      "text/plain": [
       "<Figure size 432x288 with 1 Axes>"
      ]
     },
     "metadata": {
      "needs_background": "light"
     },
     "output_type": "display_data"
    }
   ],
   "source": [
    "# best model\n",
    "best_model = model_logLs.loc[(model_logLs.logL >= best_logL) & (model_logLs.logL < 0.)]\n",
    "m, b, c, f = best_model.m.to_list()[0], best_model.b.to_list()[0], best_model.c.to_list()[0], best_model.f.to_list()[0]\n",
    "print(m, b, c, f)\n",
    "plt.plot(x, build_models(x, m, b, c, f), label='best fit', color='k')\n",
    "\n",
    "# ground truth\n",
    "m, b, c, f = ground_truth.m.to_list()[0], ground_truth.b.to_list()[0], ground_truth.c.to_list()[0], ground_truth.f.to_list()[0]\n",
    "print(m, b, c, f)\n",
    "plt.plot(x, build_models(x, m, b, c, f), label='ground truth', color='r')\n",
    "\n",
    "# models as good as or better than ground truth\n",
    "good_models = good_models.drop_duplicates(subset=['m','b','c','f'])\n",
    "label_flag = True\n",
    "for index, row in good_models.reset_index().iterrows(): \n",
    "    m, b, c, f = row.m, row.b, row.c, row.f\n",
    "    if label_flag == True:\n",
    "        plt.plot(x, build_models(x, m, b, c, f), color='green', zorder=0, label='good models', alpha=0.5)\n",
    "    elif label_flag == False:\n",
    "        plt.plot(x, build_models(x, m, b, c, f), color='green', zorder=0, alpha=0.5)\n",
    "    label_flag = False  \n",
    "    \n",
    "plt.xscale('log')\n",
    "plt.ylim([0, 0.5])\n",
    "plt.xlabel('age [Gyr]')\n",
    "plt.ylabel('P(intact)')\n",
    "plt.title(f'm = -1., b = 0.5, c = 4e9, f = 0.3 (fast sculpting); $\\Delta logL = {np.round(delta_logL,2)}$')\n",
    "plt.legend()\n",
    "plt.show()"
   ]
  },
  {
   "cell_type": "markdown",
   "metadata": {},
   "source": [
    "#### Normalizing no-sculpting models, which are fewer than the others"
   ]
  },
  {
   "cell_type": "code",
   "execution_count": 30,
   "metadata": {
    "scrolled": true
   },
   "outputs": [
    {
     "data": {
      "text/html": [
       "<div>\n",
       "<style scoped>\n",
       "    .dataframe tbody tr th:only-of-type {\n",
       "        vertical-align: middle;\n",
       "    }\n",
       "\n",
       "    .dataframe tbody tr th {\n",
       "        vertical-align: top;\n",
       "    }\n",
       "\n",
       "    .dataframe thead th {\n",
       "        text-align: right;\n",
       "    }\n",
       "</style>\n",
       "<table border=\"1\" class=\"dataframe\">\n",
       "  <thead>\n",
       "    <tr style=\"text-align: right;\">\n",
       "      <th></th>\n",
       "      <th>m</th>\n",
       "      <th>b</th>\n",
       "      <th>c</th>\n",
       "      <th>f</th>\n",
       "      <th>logL</th>\n",
       "    </tr>\n",
       "  </thead>\n",
       "  <tbody>\n",
       "    <tr>\n",
       "      <th>30250</th>\n",
       "      <td>0.0</td>\n",
       "      <td>0.0</td>\n",
       "      <td>1.000000e+08</td>\n",
       "      <td>0.1</td>\n",
       "      <td>-276.863070</td>\n",
       "    </tr>\n",
       "    <tr>\n",
       "      <th>30251</th>\n",
       "      <td>0.0</td>\n",
       "      <td>0.0</td>\n",
       "      <td>1.000000e+08</td>\n",
       "      <td>0.1</td>\n",
       "      <td>-276.863070</td>\n",
       "    </tr>\n",
       "    <tr>\n",
       "      <th>30252</th>\n",
       "      <td>0.0</td>\n",
       "      <td>0.0</td>\n",
       "      <td>1.000000e+08</td>\n",
       "      <td>0.1</td>\n",
       "      <td>-276.863070</td>\n",
       "    </tr>\n",
       "    <tr>\n",
       "      <th>30300</th>\n",
       "      <td>0.0</td>\n",
       "      <td>0.0</td>\n",
       "      <td>1.584893e+08</td>\n",
       "      <td>0.1</td>\n",
       "      <td>-271.592268</td>\n",
       "    </tr>\n",
       "    <tr>\n",
       "      <th>30301</th>\n",
       "      <td>0.0</td>\n",
       "      <td>0.0</td>\n",
       "      <td>1.584893e+08</td>\n",
       "      <td>0.1</td>\n",
       "      <td>-271.592268</td>\n",
       "    </tr>\n",
       "    <tr>\n",
       "      <th>...</th>\n",
       "      <td>...</td>\n",
       "      <td>...</td>\n",
       "      <td>...</td>\n",
       "      <td>...</td>\n",
       "      <td>...</td>\n",
       "    </tr>\n",
       "    <tr>\n",
       "      <th>36201</th>\n",
       "      <td>0.0</td>\n",
       "      <td>1.0</td>\n",
       "      <td>6.309573e+09</td>\n",
       "      <td>0.1</td>\n",
       "      <td>-335.635030</td>\n",
       "    </tr>\n",
       "    <tr>\n",
       "      <th>36202</th>\n",
       "      <td>0.0</td>\n",
       "      <td>1.0</td>\n",
       "      <td>6.309573e+09</td>\n",
       "      <td>0.1</td>\n",
       "      <td>-335.635030</td>\n",
       "    </tr>\n",
       "    <tr>\n",
       "      <th>36250</th>\n",
       "      <td>0.0</td>\n",
       "      <td>1.0</td>\n",
       "      <td>1.000000e+10</td>\n",
       "      <td>0.1</td>\n",
       "      <td>-332.059695</td>\n",
       "    </tr>\n",
       "    <tr>\n",
       "      <th>36251</th>\n",
       "      <td>0.0</td>\n",
       "      <td>1.0</td>\n",
       "      <td>1.000000e+10</td>\n",
       "      <td>0.1</td>\n",
       "      <td>-332.059695</td>\n",
       "    </tr>\n",
       "    <tr>\n",
       "      <th>36252</th>\n",
       "      <td>0.0</td>\n",
       "      <td>1.0</td>\n",
       "      <td>1.000000e+10</td>\n",
       "      <td>0.1</td>\n",
       "      <td>-332.059695</td>\n",
       "    </tr>\n",
       "  </tbody>\n",
       "</table>\n",
       "<p>363 rows × 5 columns</p>\n",
       "</div>"
      ],
      "text/plain": [
       "         m    b             c    f        logL\n",
       "30250  0.0  0.0  1.000000e+08  0.1 -276.863070\n",
       "30251  0.0  0.0  1.000000e+08  0.1 -276.863070\n",
       "30252  0.0  0.0  1.000000e+08  0.1 -276.863070\n",
       "30300  0.0  0.0  1.584893e+08  0.1 -271.592268\n",
       "30301  0.0  0.0  1.584893e+08  0.1 -271.592268\n",
       "...    ...  ...           ...  ...         ...\n",
       "36201  0.0  1.0  6.309573e+09  0.1 -335.635030\n",
       "36202  0.0  1.0  6.309573e+09  0.1 -335.635030\n",
       "36250  0.0  1.0  1.000000e+10  0.1 -332.059695\n",
       "36251  0.0  1.0  1.000000e+10  0.1 -332.059695\n",
       "36252  0.0  1.0  1.000000e+10  0.1 -332.059695\n",
       "\n",
       "[363 rows x 5 columns]"
      ]
     },
     "execution_count": 30,
     "metadata": {},
     "output_type": "execute_result"
    }
   ],
   "source": [
    "model_logLs.loc[(model_logLs.m == 0.) & (model_logLs.f == 0.1)]"
   ]
  },
  {
   "cell_type": "markdown",
   "metadata": {},
   "source": [
    "Ope! Looks like I've lost a few differing cutoff timescale files for the case of no sculpting. Fortunately, this edge case means that the logL should be the same regardless of cutoff time. "
   ]
  },
  {
   "cell_type": "code",
   "execution_count": 213,
   "metadata": {},
   "outputs": [
    {
     "data": {
      "image/png": "[encoded data removed]",
      "text/plain": [
       "<Figure size 720x720 with 4 Axes>"
      ]
     },
     "metadata": {
      "needs_background": "light"
     },
     "output_type": "display_data"
    }
   ],
   "source": [
    "f, ((ax1, ax2), (ax3, ax4)) = plt.subplots(2, 2, figsize=(10, 10))\n",
    "\n",
    "# marginalize in 1D\n",
    "marginalized_logLs = []\n",
    "for gi_m in range(6):\n",
    "\n",
    "    cube = prior_grid_logslope(cube, ndim, nparams, gi_m, gi_b, gi_c)\n",
    "    \n",
    "    # subset\n",
    "    only = model_logLs.loc[(model_logLs.m == cube[0])]# & (model_logLs.f == 0.3)]\n",
    "    \n",
    "    # marginalize logL\n",
    "    marginalized_logLs.append(np.mean(only.logL))\n",
    "\n",
    "ax1.scatter(model_logLs.m.unique(), marginalized_logLs)\n",
    "ax1.set_ylabel(\"log likelihood\")\n",
    "ax1.set_xlabel(\"sculpting speed [dex]\")\n",
    "\n",
    "marginalized_logLs = []\n",
    "for gi_b in range(11):\n",
    "    \n",
    "    cube = prior_grid_logslope(cube, ndim, nparams, gi_m, gi_b, gi_c)\n",
    "    \n",
    "    # subset\n",
    "    only = model_logLs.loc[(model_logLs.b == cube[1])]# & (model_logLs.f == 0.3)]\n",
    "    \n",
    "    # marginalize logL\n",
    "    marginalized_logLs.append(np.mean(only.logL))\n",
    "ax2.scatter(model_logLs.b.unique(), marginalized_logLs)\n",
    "ax2.set_ylabel(\"log likelihood\")\n",
    "ax2.set_xlabel(\"b\")\n",
    "\n",
    "marginalized_logLs = []\n",
    "for gi_c in range(11):\n",
    "\n",
    "    cube = prior_grid_logslope(cube, ndim, nparams, gi_m, gi_b, gi_c)\n",
    "    \n",
    "    # subset\n",
    "    only = model_logLs.loc[(model_logLs.c == cube[2])]# & (model_logLs.f == 0.3)]\n",
    "    \n",
    "    # marginalize logL\n",
    "    marginalized_logLs.append(np.mean(only.logL))\n",
    "ax3.scatter(model_logLs.c.unique(), marginalized_logLs)\n",
    "ax3.set_ylabel(\"log likelihood\")\n",
    "ax3.set_xlabel(\"c\")\n",
    "ax3.set_xscale('log')\n",
    "\n",
    "marginalized_logLs = []\n",
    "for gi_f in np.linspace(0.1, 1, 10):\n",
    "    \n",
    "    # subset\n",
    "    only = model_logLs.loc[(np.round(model_logLs.f, 1) == np.round(gi_f, 1))]\n",
    "    \n",
    "    # marginalize logL\n",
    "    marginalized_logLs.append(np.mean(only.logL))\n",
    "ax4.scatter(np.linspace(0.1, 1, 10), marginalized_logLs)\n",
    "ax4.set_ylabel(\"log likelihood\")\n",
    "ax4.set_xlabel(\"f\")\n",
    "\n",
    "plt.tight_layout()\n",
    "plt.show()"
   ]
  },
  {
   "cell_type": "code",
   "execution_count": 192,
   "metadata": {},
   "outputs": [
    {
     "name": "stdout",
     "output_type": "stream",
     "text": [
      "-392.3885850797899\n",
      "-595.5360074768579\n"
     ]
    }
   ],
   "source": [
    "print(model_logLs.loc[(model_logLs.c == np.round(np.sort(truth.cs.unique())[1], 0))].logL.mean())\n",
    "print(model_logLs.loc[(model_logLs.c == np.round(np.sort(truth.cs.unique())[2], 0))].logL.mean())\n"
   ]
  },
  {
   "cell_type": "markdown",
   "metadata": {},
   "source": [
    "It seems like no matter the ground truth, I always favor the second cutoff threshold. Why is that? This subset of models has the same number of records (eg. no dropped data) and similar mins and maxes to adjacent models (ie. the subsequent cutoff threshold of 2.5e8 yrs). So, what gives? "
   ]
  },
  {
   "cell_type": "code",
   "execution_count": 187,
   "metadata": {},
   "outputs": [
    {
     "name": "stdout",
     "output_type": "stream",
     "text": [
      "     m    b            c    f   injection_transit_multiplicities        logL\n",
      "0 -1.0  0.0  100000000.0  0.1  [210.8, 13.0, 0.0, 0.0, 0.0, 0.0] -275.189746\n",
      "1 -1.0  0.0  100000000.0  0.2  [421.6, 26.0, 0.0, 0.0, 0.0, 0.0]  -47.542987\n",
      "2 -1.0  0.0  100000000.0  0.3  [612.9, 35.4, 0.0, 0.0, 0.0, 0.0]   -6.842910\n",
      "3 -1.0  0.0  100000000.0  0.4  [787.2, 51.6, 0.0, 0.0, 0.0, 0.0]  -29.931965\n",
      "4 -1.0  0.0  100000000.0  0.5  [984.0, 64.5, 0.0, 0.0, 0.0, 0.0]  -94.298570\n"
     ]
    },
    {
     "data": {
      "image/png": "[encoded data removed]",
      "text/plain": [
       "<Figure size 432x288 with 1 Axes>"
      ]
     },
     "metadata": {
      "needs_background": "light"
     },
     "output_type": "display_data"
    },
    {
     "name": "stdout",
     "output_type": "stream",
     "text": [
      "      m    b            c    f  \\\n",
      "10 -1.0  0.0  158489319.0  0.1   \n",
      "11 -1.0  0.0  158489319.0  0.2   \n",
      "12 -1.0  0.0  158489319.0  0.3   \n",
      "13 -1.0  0.0  158489319.0  0.4   \n",
      "14 -1.0  0.0  158489319.0  0.5   \n",
      "\n",
      "                     injection_transit_multiplicities        logL  \n",
      "10  [213.10000000000002, 12.200000000000001, 0.0, ... -272.209926  \n",
      "11  [426.20000000000005, 24.400000000000002, 0.0, ...  -46.063167  \n",
      "12      [617.6999999999999, 34.5, 0.0, 0.0, 0.0, 0.0]   -6.829712  \n",
      "13  [764.4000000000001, 44.400000000000006, 0.0, 0...  -23.281420  \n",
      "14                  [955.5, 55.5, 0.0, 0.0, 0.0, 0.0]  -80.148025  \n"
     ]
    },
    {
     "data": {
      "image/png": "[encoded data removed]",
      "text/plain": [
       "<Figure size 432x288 with 1 Axes>"
      ]
     },
     "metadata": {
      "needs_background": "light"
     },
     "output_type": "display_data"
    },
    {
     "name": "stdout",
     "output_type": "stream",
     "text": [
      "      m    b            c    f  \\\n",
      "20 -1.0  0.0  251188643.0  0.1   \n",
      "21 -1.0  0.0  251188643.0  0.2   \n",
      "22 -1.0  0.0  251188643.0  0.3   \n",
      "23 -1.0  0.0  251188643.0  0.4   \n",
      "24 -1.0  0.0  251188643.0  0.5   \n",
      "\n",
      "                   injection_transit_multiplicities        logL  \n",
      "20                [210.3, 14.5, 0.0, 0.0, 0.0, 0.0] -273.853634  \n",
      "21                [420.6, 29.0, 0.0, 0.0, 0.0, 0.0]  -47.206875  \n",
      "22                [612.3, 34.8, 0.0, 0.0, 0.0, 0.0]   -6.841617  \n",
      "23  [767.2, 48.400000000000006, 0.0, 0.0, 0.0, 0.0]  -24.825444  \n",
      "24                [959.0, 60.5, 0.0, 0.0, 0.0, 0.0]  -83.392049  \n"
     ]
    },
    {
     "data": {
      "image/png": "[encoded data removed]",
      "text/plain": [
       "<Figure size 432x288 with 1 Axes>"
      ]
     },
     "metadata": {
      "needs_background": "light"
     },
     "output_type": "display_data"
    }
   ],
   "source": [
    "print(model_logLs.loc[(model_logLs.c == np.round(np.sort(truth.cs.unique())[0], 0))].head())\n",
    "plt.hist(model_logLs.loc[(model_logLs.c == np.round(np.sort(truth.cs.unique())[0], 0))].logL)\n",
    "plt.title('c = 1e8 yrs')\n",
    "plt.xlabel('logL')\n",
    "plt.ylabel('count')\n",
    "plt.show()\n",
    "\n",
    "print(model_logLs.loc[(model_logLs.c == np.round(np.sort(truth.cs.unique())[1], 0))].head())\n",
    "plt.hist(model_logLs.loc[(model_logLs.c == np.round(np.sort(truth.cs.unique())[1], 0))].logL)\n",
    "plt.title('c = 158489319 yrs')\n",
    "plt.xlabel('logL')\n",
    "plt.ylabel('count')\n",
    "plt.show()\n",
    "\n",
    "print(model_logLs.loc[(model_logLs.c == np.round(np.sort(truth.cs.unique())[2], 0))].head())\n",
    "plt.hist(model_logLs.loc[(model_logLs.c == np.round(np.sort(truth.cs.unique())[2], 0))].logL)\n",
    "plt.title('c = 251188643 yrs')\n",
    "plt.xlabel('logL')\n",
    "plt.ylabel('count')\n",
    "plt.show()\n"
   ]
  },
  {
   "cell_type": "code",
   "execution_count": 33,
   "metadata": {},
   "outputs": [
    {
     "data": {
      "image/png": "[encoded data removed]",
      "text/plain": [
       "<Figure size 432x288 with 2 Axes>"
      ]
     },
     "metadata": {
      "needs_background": "light"
     },
     "output_type": "display_data"
    }
   ],
   "source": [
    "piv = model_logLs.groupby(['m','b','c']).mean('logL').reset_index().groupby(['m','b']).sum('logL').reset_index()\n",
    "\n",
    "piv = piv.pivot(\"b\",\"m\",\"logL\") # vs logged_normalized_likelihood\n",
    "#print(np.nanmin(piv.values), np.nanmax(piv.values), np.nansum(piv.values), np.nansum(np.log(piv.values)), np.log(np.nansum(piv.values)))\n",
    "#print(np.log(np.nanmin(piv.values)), np.log(np.nanmax(piv.values)))\n",
    "\n",
    "fig, ax = plt.subplots()\n",
    "sns.heatmap(piv, yticklabels=model_logLs.b.unique().round(1), cbar_kws={'label': 'logL'})\n",
    "#sns.heatmap(piv, vmin=-455, vmax=-17.9)\n",
    "ax.set_yticks(ax.get_yticks()[::2]) # sample every other tick, for cleanness\n",
    "plt.title('m = -1, b = 0.5, c = 4e9, f = 0.3')\n",
    "plt.show()"
   ]
  },
  {
   "cell_type": "code",
   "execution_count": 34,
   "metadata": {},
   "outputs": [
    {
     "data": {
      "text/html": [
       "<div>\n",
       "<style scoped>\n",
       "    .dataframe tbody tr th:only-of-type {\n",
       "        vertical-align: middle;\n",
       "    }\n",
       "\n",
       "    .dataframe tbody tr th {\n",
       "        vertical-align: top;\n",
       "    }\n",
       "\n",
       "    .dataframe thead th {\n",
       "        text-align: right;\n",
       "    }\n",
       "</style>\n",
       "<table border=\"1\" class=\"dataframe\">\n",
       "  <thead>\n",
       "    <tr style=\"text-align: right;\">\n",
       "      <th>m</th>\n",
       "      <th>-1.0</th>\n",
       "      <th>-0.8</th>\n",
       "      <th>-0.6</th>\n",
       "      <th>-0.4</th>\n",
       "      <th>-0.2</th>\n",
       "      <th>0.0</th>\n",
       "    </tr>\n",
       "    <tr>\n",
       "      <th>b</th>\n",
       "      <th></th>\n",
       "      <th></th>\n",
       "      <th></th>\n",
       "      <th></th>\n",
       "      <th></th>\n",
       "      <th></th>\n",
       "    </tr>\n",
       "  </thead>\n",
       "  <tbody>\n",
       "    <tr>\n",
       "      <th>0.0</th>\n",
       "      <td>-2649.934111</td>\n",
       "      <td>-2704.753190</td>\n",
       "      <td>-2632.350792</td>\n",
       "      <td>-2657.005839</td>\n",
       "      <td>-2711.639772</td>\n",
       "      <td>-2657.940952</td>\n",
       "    </tr>\n",
       "    <tr>\n",
       "      <th>0.1</th>\n",
       "      <td>-2749.909286</td>\n",
       "      <td>-2680.635465</td>\n",
       "      <td>-2757.914842</td>\n",
       "      <td>-2773.631842</td>\n",
       "      <td>-2841.760153</td>\n",
       "      <td>-3660.976296</td>\n",
       "    </tr>\n",
       "    <tr>\n",
       "      <th>0.2</th>\n",
       "      <td>-2861.673762</td>\n",
       "      <td>-2885.096254</td>\n",
       "      <td>-2856.951410</td>\n",
       "      <td>-2909.054922</td>\n",
       "      <td>-3095.593939</td>\n",
       "      <td>-4751.362645</td>\n",
       "    </tr>\n",
       "    <tr>\n",
       "      <th>0.3</th>\n",
       "      <td>-2979.304046</td>\n",
       "      <td>-2989.071961</td>\n",
       "      <td>-3005.338446</td>\n",
       "      <td>-3159.418417</td>\n",
       "      <td>-3695.695812</td>\n",
       "      <td>-5933.246537</td>\n",
       "    </tr>\n",
       "    <tr>\n",
       "      <th>0.4</th>\n",
       "      <td>-3080.652676</td>\n",
       "      <td>-3136.029843</td>\n",
       "      <td>-3268.964012</td>\n",
       "      <td>-3524.232233</td>\n",
       "      <td>-4675.517010</td>\n",
       "      <td>-7158.009496</td>\n",
       "    </tr>\n",
       "    <tr>\n",
       "      <th>0.5</th>\n",
       "      <td>-3293.167656</td>\n",
       "      <td>-3382.951232</td>\n",
       "      <td>-3617.476782</td>\n",
       "      <td>-4163.447304</td>\n",
       "      <td>-5804.905745</td>\n",
       "      <td>-8353.794136</td>\n",
       "    </tr>\n",
       "    <tr>\n",
       "      <th>0.6</th>\n",
       "      <td>-3509.819421</td>\n",
       "      <td>-3711.553268</td>\n",
       "      <td>-4026.255073</td>\n",
       "      <td>-4877.444818</td>\n",
       "      <td>-7014.908184</td>\n",
       "      <td>-9509.512440</td>\n",
       "    </tr>\n",
       "    <tr>\n",
       "      <th>0.7</th>\n",
       "      <td>-3826.543095</td>\n",
       "      <td>-4084.676091</td>\n",
       "      <td>-4540.260640</td>\n",
       "      <td>-5806.813419</td>\n",
       "      <td>-8227.789013</td>\n",
       "      <td>-10846.967932</td>\n",
       "    </tr>\n",
       "    <tr>\n",
       "      <th>0.8</th>\n",
       "      <td>-4151.930809</td>\n",
       "      <td>-4584.181091</td>\n",
       "      <td>-5294.015567</td>\n",
       "      <td>-6926.490019</td>\n",
       "      <td>-9455.767917</td>\n",
       "      <td>-11413.150642</td>\n",
       "    </tr>\n",
       "    <tr>\n",
       "      <th>0.9</th>\n",
       "      <td>-4592.171196</td>\n",
       "      <td>-5126.678894</td>\n",
       "      <td>-6052.289243</td>\n",
       "      <td>-8131.319505</td>\n",
       "      <td>-10737.601261</td>\n",
       "      <td>-12795.464849</td>\n",
       "    </tr>\n",
       "    <tr>\n",
       "      <th>1.0</th>\n",
       "      <td>-5087.688807</td>\n",
       "      <td>-5727.128427</td>\n",
       "      <td>-7031.571574</td>\n",
       "      <td>-9323.046957</td>\n",
       "      <td>-11943.975724</td>\n",
       "      <td>-14645.326373</td>\n",
       "    </tr>\n",
       "  </tbody>\n",
       "</table>\n",
       "</div>"
      ],
      "text/plain": [
       "m           -1.0         -0.8         -0.6         -0.4          -0.2  \\\n",
       "b                                                                       \n",
       "0.0 -2649.934111 -2704.753190 -2632.350792 -2657.005839  -2711.639772   \n",
       "0.1 -2749.909286 -2680.635465 -2757.914842 -2773.631842  -2841.760153   \n",
       "0.2 -2861.673762 -2885.096254 -2856.951410 -2909.054922  -3095.593939   \n",
       "0.3 -2979.304046 -2989.071961 -3005.338446 -3159.418417  -3695.695812   \n",
       "0.4 -3080.652676 -3136.029843 -3268.964012 -3524.232233  -4675.517010   \n",
       "0.5 -3293.167656 -3382.951232 -3617.476782 -4163.447304  -5804.905745   \n",
       "0.6 -3509.819421 -3711.553268 -4026.255073 -4877.444818  -7014.908184   \n",
       "0.7 -3826.543095 -4084.676091 -4540.260640 -5806.813419  -8227.789013   \n",
       "0.8 -4151.930809 -4584.181091 -5294.015567 -6926.490019  -9455.767917   \n",
       "0.9 -4592.171196 -5126.678894 -6052.289243 -8131.319505 -10737.601261   \n",
       "1.0 -5087.688807 -5727.128427 -7031.571574 -9323.046957 -11943.975724   \n",
       "\n",
       "m             0.0  \n",
       "b                  \n",
       "0.0  -2657.940952  \n",
       "0.1  -3660.976296  \n",
       "0.2  -4751.362645  \n",
       "0.3  -5933.246537  \n",
       "0.4  -7158.009496  \n",
       "0.5  -8353.794136  \n",
       "0.6  -9509.512440  \n",
       "0.7 -10846.967932  \n",
       "0.8 -11413.150642  \n",
       "0.9 -12795.464849  \n",
       "1.0 -14645.326373  "
      ]
     },
     "execution_count": 34,
     "metadata": {},
     "output_type": "execute_result"
    }
   ],
   "source": [
    "piv"
   ]
  },
  {
   "cell_type": "code",
   "execution_count": 35,
   "metadata": {},
   "outputs": [
    {
     "data": {
      "text/html": [
       "<div>\n",
       "<style scoped>\n",
       "    .dataframe tbody tr th:only-of-type {\n",
       "        vertical-align: middle;\n",
       "    }\n",
       "\n",
       "    .dataframe tbody tr th {\n",
       "        vertical-align: top;\n",
       "    }\n",
       "\n",
       "    .dataframe thead th {\n",
       "        text-align: right;\n",
       "    }\n",
       "</style>\n",
       "<table border=\"1\" class=\"dataframe\">\n",
       "  <thead>\n",
       "    <tr style=\"text-align: right;\">\n",
       "      <th></th>\n",
       "      <th></th>\n",
       "      <th>c</th>\n",
       "      <th>f</th>\n",
       "      <th>logL</th>\n",
       "    </tr>\n",
       "    <tr>\n",
       "      <th>m</th>\n",
       "      <th>b</th>\n",
       "      <th></th>\n",
       "      <th></th>\n",
       "      <th></th>\n",
       "    </tr>\n",
       "  </thead>\n",
       "  <tbody>\n",
       "    <tr>\n",
       "      <th rowspan=\"5\" valign=\"top\">-1.0</th>\n",
       "      <th>0.0</th>\n",
       "      <td>2.692617e+10</td>\n",
       "      <td>3.3</td>\n",
       "      <td>-146.408332</td>\n",
       "    </tr>\n",
       "    <tr>\n",
       "      <th>0.1</th>\n",
       "      <td>2.692617e+10</td>\n",
       "      <td>3.3</td>\n",
       "      <td>-177.369264</td>\n",
       "    </tr>\n",
       "    <tr>\n",
       "      <th>0.2</th>\n",
       "      <td>2.692617e+10</td>\n",
       "      <td>3.3</td>\n",
       "      <td>-217.259840</td>\n",
       "    </tr>\n",
       "    <tr>\n",
       "      <th>0.3</th>\n",
       "      <td>2.692617e+10</td>\n",
       "      <td>3.3</td>\n",
       "      <td>-266.159528</td>\n",
       "    </tr>\n",
       "    <tr>\n",
       "      <th>0.4</th>\n",
       "      <td>2.692617e+10</td>\n",
       "      <td>3.3</td>\n",
       "      <td>-316.002271</td>\n",
       "    </tr>\n",
       "    <tr>\n",
       "      <th>...</th>\n",
       "      <th>...</th>\n",
       "      <td>...</td>\n",
       "      <td>...</td>\n",
       "      <td>...</td>\n",
       "    </tr>\n",
       "    <tr>\n",
       "      <th rowspan=\"5\" valign=\"top\">0.0</th>\n",
       "      <th>0.6</th>\n",
       "      <td>2.692617e+10</td>\n",
       "      <td>3.3</td>\n",
       "      <td>-3112.789403</td>\n",
       "    </tr>\n",
       "    <tr>\n",
       "      <th>0.7</th>\n",
       "      <td>2.692617e+10</td>\n",
       "      <td>3.3</td>\n",
       "      <td>-3731.431045</td>\n",
       "    </tr>\n",
       "    <tr>\n",
       "      <th>0.8</th>\n",
       "      <td>2.692617e+10</td>\n",
       "      <td>3.3</td>\n",
       "      <td>-4213.381086</td>\n",
       "    </tr>\n",
       "    <tr>\n",
       "      <th>0.9</th>\n",
       "      <td>2.692617e+10</td>\n",
       "      <td>3.3</td>\n",
       "      <td>-4815.177203</td>\n",
       "    </tr>\n",
       "    <tr>\n",
       "      <th>1.0</th>\n",
       "      <td>2.692617e+10</td>\n",
       "      <td>3.3</td>\n",
       "      <td>-5557.031939</td>\n",
       "    </tr>\n",
       "  </tbody>\n",
       "</table>\n",
       "<p>66 rows × 3 columns</p>\n",
       "</div>"
      ],
      "text/plain": [
       "                     c    f         logL\n",
       "m    b                                  \n",
       "-1.0 0.0  2.692617e+10  3.3  -146.408332\n",
       "     0.1  2.692617e+10  3.3  -177.369264\n",
       "     0.2  2.692617e+10  3.3  -217.259840\n",
       "     0.3  2.692617e+10  3.3  -266.159528\n",
       "     0.4  2.692617e+10  3.3  -316.002271\n",
       "...                ...  ...          ...\n",
       " 0.0 0.6  2.692617e+10  3.3 -3112.789403\n",
       "     0.7  2.692617e+10  3.3 -3731.431045\n",
       "     0.8  2.692617e+10  3.3 -4213.381086\n",
       "     0.9  2.692617e+10  3.3 -4815.177203\n",
       "     1.0  2.692617e+10  3.3 -5557.031939\n",
       "\n",
       "[66 rows x 3 columns]"
      ]
     },
     "execution_count": 35,
     "metadata": {},
     "output_type": "execute_result"
    }
   ],
   "source": [
    "model_logLs.loc[model_logLs.f == 0.3].groupby(['m','b','c']).mean('logL').reset_index().groupby(['m','b']).sum('logL')"
   ]
  },
  {
   "cell_type": "code",
   "execution_count": 37,
   "metadata": {},
   "outputs": [
    {
     "data": {
      "image/png": "[encoded data removed]",
      "text/plain": [
       "<Figure size 432x288 with 2 Axes>"
      ]
     },
     "metadata": {
      "needs_background": "light"
     },
     "output_type": "display_data"
    }
   ],
   "source": [
    "piv = model_logLs.groupby(['m','b','c']).mean('logL').reset_index().groupby(['m','c']).sum('logL').reset_index()\n",
    "\n",
    "piv = piv.pivot(\"c\",\"m\",\"logL\") # vs logged_normalized_likelihood\n",
    "#print(np.nanmin(piv.values), np.nanmax(piv.values), np.nansum(piv.values), np.nansum(np.log(piv.values)), np.log(np.nansum(piv.values)))\n",
    "#print(np.log(np.nanmin(piv.values)), np.log(np.nanmax(piv.values)))\n",
    "\n",
    "fig, ax = plt.subplots()\n",
    "sns.heatmap(piv, yticklabels=model_logLs.c.unique().round(-8), cbar_kws={'label': 'logL'})\n",
    "#sns.heatmap(piv, vmin=-455, vmax=-17.9)\n",
    "ax.set_yticks(ax.get_yticks()[::2]) # sample every other tick, for cleanness\n",
    "plt.title('m = -1, b = 0.5, c = 4e9, f = 0.3')\n",
    "plt.show()"
   ]
  },
  {
   "cell_type": "markdown",
   "metadata": {},
   "source": [
    "It looks like we recover a cutoff time of 2.5 Gyrs instead of 4 Gyrs, as well as {m=0, b=0.5} instead of {m=-1, b=0.5}, although the latter is a close one, and in general the 1D posteriors show that m=0 is generally bad."
   ]
  },
  {
   "cell_type": "markdown",
   "metadata": {},
   "source": [
    "The mystery around why the models seem to love the second cutoff threshold continues to deepen, as I show in the first three attached plots for the fake ground truth of fast sculpting (m = -1, b = 0.5, c = 4e9, f = 0.3). The middle plot of 1.6e8 years shows a shorter tail than the adjacent cutoff times. \n",
    "\n",
    "EDIT: Actually, I don’t think this is as big a mystery as it seemed; as shown by the two other ground truths below. The only question is why all three ground truths favor a cutoff time that is way younger than the median age of the stellar sample…which suggests that no matter what’s real, sculpting is always going to appear to be very short-lived.\n",
    "\n",
    "I am also finding that when I examine the raw simulation outputs from HPG, sometimes some models get the exact same transit multiplicity. Either this is some coincidence, or some as yet undiscovered bug, or some copying of data happened in the distributed HPG job. This happens only a few times, as far as I can tell. My ad hoc solution is to manually identify the original correct record and drop the incorrect ones, but I can only identify them as they come to my attention (which is when a spuriously copied multiplicity happens to be better than the other 29 draws and elevates a model beyond where it should be). I have switched to taking the median out of each 30ish samples instead of the max, and that seems to be a little more robust, but the weird favoring of the second cutoff time still persists.\n",
    "\n",
    "Finally, the ground truth plot says a cutoff of 4e9, but since that model’s slope takes us below zero well before then, that is as good as any model with a cutoff time after that zero point. So, perhaps I should have chosen a more sensible ground truth."
   ]
  },
  {
   "cell_type": "markdown",
   "metadata": {},
   "source": [
    "#### Model 3: m = -0.6, b = 1.0, c = 1e9, f = 0.3 (medium sculpting)\n"
   ]
  },
  {
   "cell_type": "markdown",
   "metadata": {},
   "source": [
    "Before we proceed, let's take a detour to check that the transit multiplicity yields for different models are different in the ways that we expect. For example, a model with more sculpting and/or fewer initially intact systems should have fewer multis."
   ]
  },
  {
   "cell_type": "code",
   "execution_count": 214,
   "metadata": {},
   "outputs": [
    {
     "data": {
      "text/plain": [
       "3902    [676.5, 162.9, 71.1, 29.7, 7.199999999999999, ...\n",
       "Name: transit_multiplicities, dtype: object"
      ]
     },
     "execution_count": 214,
     "metadata": {},
     "output_type": "execute_result"
    }
   ],
   "source": [
    "tm_fiducial = truth.loc[(truth.ms == -0.6) & (truth.bs == 1.) & (np.round(truth.cs, -8) == 1e9) & (np.round(truth.fs,1) == 0.3)].transit_multiplicities\n",
    "tm_fiducial"
   ]
  },
  {
   "cell_type": "code",
   "execution_count": 215,
   "metadata": {},
   "outputs": [],
   "source": [
    "test_recovery = recovery.loc[(recovery.ms == -0.6) & (recovery.bs == 1.) & (np.round(recovery.cs, -8) == 1e9) & (np.round(recovery.fs,1) == 0.3)].transit_multiplicities"
   ]
  },
  {
   "cell_type": "code",
   "execution_count": 216,
   "metadata": {},
   "outputs": [
    {
     "data": {
      "image/png": "[encoded data removed]",
      "text/plain": [
       "<Figure size 432x288 with 1 Axes>"
      ]
     },
     "metadata": {
      "needs_background": "light"
     },
     "output_type": "display_data"
    }
   ],
   "source": [
    "plt.scatter(np.arange(len(tm_fiducial[3902])), tm_fiducial[3902], color='r', label='ground truth')\n",
    "plt.scatter(np.arange(len(recovery.iloc[117060].transit_multiplicities)), recovery.iloc[117060].transit_multiplicities, label='recovery same')\n",
    "plt.scatter(np.arange(len(recovery.iloc[5470].transit_multiplicities)), recovery.iloc[5470].transit_multiplicities, label='recovery -1, 0.1, 1e9, 0.3')\n",
    "\n",
    "plt.xlim([0,6])\n",
    "plt.ylim([0,700])\n",
    "plt.title('m = -0.6, b = 1.0, c = 1e9, f = 0.3 (medium sculpting)')\n",
    "plt.legend()\n",
    "plt.show()"
   ]
  },
  {
   "cell_type": "markdown",
   "metadata": {},
   "source": [
    "Both in count and relative to singles, there are fewer multis represented by the orange dots than the blue/red dots. Anyway, let's continue to check out injection-recovery for medium sculpting models."
   ]
  },
  {
   "cell_type": "code",
   "execution_count": 217,
   "metadata": {},
   "outputs": [],
   "source": [
    "cube = [0,0,0]\n",
    "fs = np.round(np.linspace(0.1, 1., 10), 1)\n",
    "ndim = 3\n",
    "nparams = 3\n",
    "\n",
    "ms = []\n",
    "bs = []\n",
    "cs = []\n",
    "fs_for_df = []\n",
    "all_logLs = []\n",
    "all_transit_multiplicities = []\n",
    "\n",
    "for gi_m in range(6):\n",
    "    \n",
    "    for gi_b in range(11):\n",
    "\n",
    "        for gi_c in range(11):\n",
    "            cube = prior_grid_logslope(cube, ndim, nparams, gi_m, gi_b, gi_c)\n",
    "            \n",
    "            for f in fs:\n",
    "                \n",
    "                ms.append(cube[0])\n",
    "                bs.append(cube[1])\n",
    "                cs.append(cube[2])\n",
    "                fs_for_df.append(f)\n",
    "                \n",
    "                try:\n",
    "                    #tm = truth.loc[(truth.ms == cube[0]) & (truth.bs == cube[1]) & (np.round(truth.cs, 0) == cube[2]) & (np.round(truth.fs,1) == f)].transit_multiplicities\n",
    "                    tm_recovery = recovery.loc[(np.round(recovery.ms,1) == np.round(cube[0],1)) & (np.round(recovery.bs,1) == np.round(cube[1],1)) & (np.round(recovery.cs, 0) == np.round(cube[2],0)) & (np.round(recovery.fs,1) == f)].transit_multiplicities.to_list()\n",
    "                    \n",
    "                    # calculate logL for each realization of each model, using tm as the ground truth\n",
    "                    logLs = []\n",
    "                    for i in range(len(tm_recovery)):\n",
    "                        logL = better_loglike(tm_recovery[i], np.sum(tm_fiducial))\n",
    "                        logLs.append(logL)\n",
    "\n",
    "                    # keep median logL for each model\n",
    "                    median_logL = np.mean(logLs)\n",
    "                    median_arg = argmedian(logLs)\n",
    "                    all_logLs.append(median_logL)\n",
    "                    # append transit multiplicity of the best sample for that model\n",
    "                    all_transit_multiplicities.append(tm_recovery[median_arg])\n",
    "\n",
    "                except:\n",
    "                    all_logLs.append(0.)\n",
    "                \n",
    "model_logLs = pd.DataFrame({'m': ms, 'b': bs, 'c': cs, 'f': fs_for_df, \n",
    "                            'tm': all_transit_multiplicities, 'logL': all_logLs})\n",
    "        "
   ]
  },
  {
   "cell_type": "code",
   "execution_count": 218,
   "metadata": {},
   "outputs": [
    {
     "data": {
      "image/png": "[encoded data removed]",
      "text/plain": [
       "<Figure size 720x720 with 4 Axes>"
      ]
     },
     "metadata": {
      "needs_background": "light"
     },
     "output_type": "display_data"
    }
   ],
   "source": [
    "f, ((ax1, ax2), (ax3, ax4)) = plt.subplots(2, 2, figsize=(10, 10))\n",
    "\n",
    "# marginalize in 1D\n",
    "marginalized_logLs = []\n",
    "for gi_m in range(6):\n",
    "\n",
    "    cube = prior_grid_logslope(cube, ndim, nparams, gi_m, gi_b, gi_c)\n",
    "    \n",
    "    # subset\n",
    "    only = model_logLs.loc[(model_logLs.m == cube[0])]# & (model_logLs.f == 0.3)]\n",
    "    \n",
    "    # marginalize logL\n",
    "    marginalized_logLs.append(np.mean(only.logL))\n",
    "\n",
    "ax1.scatter(truth.ms.unique(), marginalized_logLs)\n",
    "ax1.set_ylabel(\"log likelihood\")\n",
    "ax1.set_xlabel(\"sculpting speed [dex]\")\n",
    "\n",
    "marginalized_logLs = []\n",
    "for gi_b in range(11):\n",
    "    \n",
    "    cube = prior_grid_logslope(cube, ndim, nparams, gi_m, gi_b, gi_c)\n",
    "    \n",
    "    # subset\n",
    "    only = model_logLs.loc[(model_logLs.b == cube[1])]# & (model_logLs.f == 0.3)]\n",
    "    \n",
    "    # marginalize logL\n",
    "    marginalized_logLs.append(np.mean(only.logL))\n",
    "ax2.scatter(model_logLs.b.unique(), marginalized_logLs)\n",
    "ax2.set_ylabel(\"log likelihood\")\n",
    "ax2.set_xlabel(\"b\")\n",
    "\n",
    "marginalized_logLs = []\n",
    "for gi_c in range(11):\n",
    "\n",
    "    cube = prior_grid_logslope(cube, ndim, nparams, gi_m, gi_b, gi_c)\n",
    "    \n",
    "    # subset\n",
    "    only = model_logLs.loc[(model_logLs.c == cube[2])]# & (model_logLs.f == 0.3)]\n",
    "    \n",
    "    # marginalize logL\n",
    "    marginalized_logLs.append(np.mean(only.logL))\n",
    "ax3.scatter(truth.cs.unique(), marginalized_logLs)\n",
    "ax3.set_ylabel(\"log likelihood\")\n",
    "ax3.set_xlabel(\"c\")\n",
    "ax3.set_xscale('log')\n",
    "\n",
    "marginalized_logLs = []\n",
    "for gi_f in np.linspace(0.1, 1, 10):\n",
    "    \n",
    "    # subset\n",
    "    only = model_logLs.loc[(np.round(model_logLs.f, 1) == np.round(gi_f, 1))]\n",
    "    \n",
    "    # marginalize logL\n",
    "    marginalized_logLs.append(np.mean(only.logL))\n",
    "ax4.scatter(np.linspace(0.1, 1, 10), marginalized_logLs)\n",
    "ax4.set_ylabel(\"log likelihood\")\n",
    "ax4.set_xlabel(\"f\")\n",
    "\n",
    "plt.tight_layout()\n",
    "plt.show()"
   ]
  },
  {
   "cell_type": "markdown",
   "metadata": {},
   "source": [
    "Second cutoff threshold mystery continues..."
   ]
  },
  {
   "cell_type": "code",
   "execution_count": 219,
   "metadata": {},
   "outputs": [
    {
     "name": "stdout",
     "output_type": "stream",
     "text": [
      "     m    b            c    f                                  tm        logL\n",
      "0 -1.0  0.0  100000000.0  0.1   [202.3, 12.0, 0.0, 0.0, 0.0, 0.0] -942.981652\n",
      "1 -1.0  0.0  100000000.0  0.2   [408.6, 23.6, 0.0, 0.0, 0.0, 0.0] -575.241291\n",
      "2 -1.0  0.0  100000000.0  0.3   [608.1, 36.6, 0.0, 0.0, 0.0, 0.0] -450.179594\n",
      "3 -1.0  0.0  100000000.0  0.4   [829.6, 49.6, 0.0, 0.0, 0.0, 0.0] -424.264123\n",
      "4 -1.0  0.0  100000000.0  0.5  [1004.0, 57.0, 0.0, 0.0, 0.0, 0.0] -452.675242\n"
     ]
    },
    {
     "data": {
      "image/png": "[encoded data removed]",
      "text/plain": [
       "<Figure size 432x288 with 1 Axes>"
      ]
     },
     "metadata": {
      "needs_background": "light"
     },
     "output_type": "display_data"
    },
    {
     "name": "stdout",
     "output_type": "stream",
     "text": [
      "      m    b            c    f  \\\n",
      "10 -1.0  0.0  158489319.0  0.1   \n",
      "11 -1.0  0.0  158489319.0  0.2   \n",
      "12 -1.0  0.0  158489319.0  0.3   \n",
      "13 -1.0  0.0  158489319.0  0.4   \n",
      "14 -1.0  0.0  158489319.0  0.5   \n",
      "\n",
      "                                                   tm        logL  \n",
      "10                  [208.3, 10.8, 0.0, 0.0, 0.0, 0.0] -943.583115  \n",
      "11                  [391.6, 24.8, 0.0, 0.0, 0.0, 0.0] -577.285372  \n",
      "12                  [600.9, 34.5, 0.0, 0.0, 0.0, 0.0] -452.467960  \n",
      "13  [852.4000000000001, 48.800000000000004, 0.0, 0... -426.517629  \n",
      "14                 [1041.5, 62.5, 0.0, 0.0, 0.0, 0.0] -454.740932  \n"
     ]
    },
    {
     "data": {
      "image/png": "[encoded data removed]",
      "text/plain": [
       "<Figure size 432x288 with 1 Axes>"
      ]
     },
     "metadata": {
      "needs_background": "light"
     },
     "output_type": "display_data"
    },
    {
     "name": "stdout",
     "output_type": "stream",
     "text": [
      "      m    b            c    f  \\\n",
      "20 -1.0  0.0  251188643.0  0.1   \n",
      "21 -1.0  0.0  251188643.0  0.2   \n",
      "22 -1.0  0.0  251188643.0  0.3   \n",
      "23 -1.0  0.0  251188643.0  0.4   \n",
      "24 -1.0  0.0  251188643.0  0.5   \n",
      "\n",
      "                                                   tm        logL  \n",
      "20  [204.10000000000002, 11.600000000000001, 0.0, ... -941.992335  \n",
      "21     [394.40000000000003, 25.0, 0.0, 0.0, 0.0, 0.0] -575.884591  \n",
      "22                  [575.4, 36.3, 0.0, 0.0, 0.0, 0.0] -451.257180  \n",
      "23  [810.4000000000001, 46.400000000000006, 0.0, 0... -425.496848  \n",
      "24                 [1044.5, 64.0, 0.0, 0.0, 0.0, 0.0] -453.910151  \n"
     ]
    },
    {
     "data": {
      "image/png": "[encoded data removed]",
      "text/plain": [
       "<Figure size 432x288 with 1 Axes>"
      ]
     },
     "metadata": {
      "needs_background": "light"
     },
     "output_type": "display_data"
    }
   ],
   "source": [
    "print(model_logLs.loc[(model_logLs.c == np.round(np.sort(truth.cs.unique())[0], 0))].head())\n",
    "plt.hist(model_logLs.loc[(model_logLs.c == np.round(np.sort(truth.cs.unique())[0], 0))].logL)\n",
    "plt.title('c = 1e8 yrs')\n",
    "plt.xlabel('logL')\n",
    "plt.ylabel('count')\n",
    "plt.show()\n",
    "\n",
    "print(model_logLs.loc[(model_logLs.c == np.round(np.sort(truth.cs.unique())[1], 0))].head())\n",
    "plt.hist(model_logLs.loc[(model_logLs.c == np.round(np.sort(truth.cs.unique())[1], 0))].logL)\n",
    "plt.title('c = 158489319 yrs')\n",
    "plt.xlabel('logL')\n",
    "plt.ylabel('count')\n",
    "plt.show()\n",
    "\n",
    "print(model_logLs.loc[(model_logLs.c == np.round(np.sort(truth.cs.unique())[2], 0))].head())\n",
    "plt.hist(model_logLs.loc[(model_logLs.c == np.round(np.sort(truth.cs.unique())[2], 0))].logL)\n",
    "plt.title('c = 251188643 yrs')\n",
    "plt.xlabel('logL')\n",
    "plt.ylabel('count')\n",
    "plt.show()\n"
   ]
  },
  {
   "cell_type": "markdown",
   "metadata": {},
   "source": [
    "The former distribution does seem to have a shorter tail than the latter. Let's revisit this for other ground truths."
   ]
  },
  {
   "cell_type": "code",
   "execution_count": 220,
   "metadata": {},
   "outputs": [
    {
     "data": {
      "image/png": "[encoded data removed]",
      "text/plain": [
       "<Figure size 432x288 with 2 Axes>"
      ]
     },
     "metadata": {
      "needs_background": "light"
     },
     "output_type": "display_data"
    }
   ],
   "source": [
    "piv = model_logLs.groupby(['m','b','c']).mean('logL').reset_index().groupby(['m','b']).sum('logL').reset_index()\n",
    "\n",
    "piv = piv.pivot(\"b\",\"m\",\"logL\") # vs logged_normalized_likelihood\n",
    "#print(np.nanmin(piv.values), np.nanmax(piv.values), np.nansum(piv.values), np.nansum(np.log(piv.values)), np.log(np.nansum(piv.values)))\n",
    "#print(np.log(np.nanmin(piv.values)), np.log(np.nanmax(piv.values)))\n",
    "\n",
    "fig, ax = plt.subplots()\n",
    "sns.heatmap(piv, yticklabels=model_logLs.b.unique().round(1), cbar_kws={'label': 'logL'})\n",
    "#sns.heatmap(piv, vmin=-455, vmax=-17.9)\n",
    "ax.set_yticks(ax.get_yticks()[::2]) # sample every other tick, for cleanness\n",
    "plt.title('m = -0.6, b = 1.0, c = 1e9, f = 0.3')\n",
    "plt.show()"
   ]
  },
  {
   "cell_type": "code",
   "execution_count": 221,
   "metadata": {},
   "outputs": [
    {
     "data": {
      "image/png": "[encoded data removed]",
      "text/plain": [
       "<Figure size 432x288 with 2 Axes>"
      ]
     },
     "metadata": {
      "needs_background": "light"
     },
     "output_type": "display_data"
    }
   ],
   "source": [
    "piv = model_logLs.groupby(['m','b','c']).mean('logL').reset_index().groupby(['m','c']).sum('logL').reset_index()\n",
    "\n",
    "piv = piv.pivot(\"c\",\"m\",\"logL\") # vs logged_normalized_likelihood\n",
    "#print(np.nanmin(piv.values), np.nanmax(piv.values), np.nansum(piv.values), np.nansum(np.log(piv.values)), np.log(np.nansum(piv.values)))\n",
    "#print(np.log(np.nanmin(piv.values)), np.log(np.nanmax(piv.values)))\n",
    "\n",
    "fig, ax = plt.subplots()\n",
    "sns.heatmap(piv, yticklabels=model_logLs.c.unique().round(1), cbar_kws={'label': 'logL'})\n",
    "#sns.heatmap(piv, vmin=-455, vmax=-17.9)\n",
    "ax.set_yticks(ax.get_yticks()[::2]) # sample every other tick, for cleanness\n",
    "plt.title('m = -0.6, b = 1.0, c = 1e9, f = 0.3')\n",
    "plt.show()"
   ]
  },
  {
   "cell_type": "markdown",
   "metadata": {},
   "source": [
    "1D posteriors show that I can recover m and c, but not quite f and definitely not b. 2D posteriors corroborate this for m and b, and they suggest that there are fast sculpting models with even shorter cutoff times that are also favored. "
   ]
  },
  {
   "cell_type": "markdown",
   "metadata": {},
   "source": [
    "Identify best and good models"
   ]
  },
  {
   "cell_type": "code",
   "execution_count": 222,
   "metadata": {},
   "outputs": [
    {
     "name": "stdout",
     "output_type": "stream",
     "text": [
      "Best model:          m    b             c    f  \\\n",
      "6592  0.0  0.4  1.000000e+10  0.3   \n",
      "\n",
      "                                                     tm       logL  \n",
      "6592  [653.1, 163.79999999999998, 71.7, 35.4, 7.5, 0... -17.482551  \n",
      "Ground truth:          m    b             c    f                                    tm  \\\n",
      "3572 -0.6  1.0  1.000000e+09  0.3  [677.4, 171.0, 66.6, 25.8, 6.6, 0.6]   \n",
      "\n",
      "           logL  \n",
      "3572 -17.647927  \n",
      "Some models between best model and ground truth: \n",
      "        m    b             c    f  \\\n",
      "442  -1.0  0.4  1.000000e+08  0.3   \n",
      "3572 -0.6  1.0  1.000000e+09  0.3   \n",
      "5552 -0.2  0.6  1.000000e+09  0.3   \n",
      "6592  0.0  0.4  1.000000e+10  0.3   \n",
      "\n",
      "                                                     tm       logL  \n",
      "442   [655.1999999999999, 170.4, 66.89999999999999, ... -17.543887  \n",
      "3572               [677.4, 171.0, 66.6, 25.8, 6.6, 0.6] -17.647927  \n",
      "5552  [673.8, 164.7, 69.89999999999999, 30.599999999... -17.535186  \n",
      "6592  [653.1, 163.79999999999998, 71.7, 35.4, 7.5, 0... -17.482551  \n"
     ]
    }
   ],
   "source": [
    "best_logL = max(model_logLs.loc[model_logLs.logL < 0.].logL)\n",
    "print(\"Best model: \", model_logLs.loc[(model_logLs.logL >= best_logL) & (model_logLs.logL < 0.)])\n",
    "\n",
    "ground_truth = model_logLs.loc[(model_logLs.m == -0.6) & (model_logLs.b == 1.) & (np.round(model_logLs.c, -8) == 1e9) & (np.round(model_logLs.f,1) == 0.3)]\n",
    "print(\"Ground truth: \", ground_truth)\n",
    "delta_logL = best_logL - ground_truth.logL.to_list()[0]\n",
    "\n",
    "good_models = model_logLs.loc[np.abs(model_logLs.logL - best_logL) <= delta_logL]\n",
    "print(\"Some models between best model and ground truth: \")\n",
    "print(good_models.head())"
   ]
  },
  {
   "cell_type": "markdown",
   "metadata": {},
   "source": [
    "Plot these models"
   ]
  },
  {
   "cell_type": "code",
   "execution_count": 230,
   "metadata": {},
   "outputs": [
    {
     "data": {
      "image/png": "[encoded data removed]",
      "text/plain": [
       "<Figure size 432x288 with 1 Axes>"
      ]
     },
     "metadata": {
      "needs_background": "light"
     },
     "output_type": "display_data"
    }
   ],
   "source": [
    "x = np.logspace(8, 10, 1000)\n",
    "\n",
    "# best model\n",
    "best_model = model_logLs.loc[(model_logLs.logL >= best_logL) & (model_logLs.logL < 0.)]\n",
    "m, b, c, f = best_model.m.to_list()[0], best_model.b.to_list()[0], best_model.c.to_list()[0], best_model.f.to_list()[0]\n",
    "plt.plot(x, build_models(x, m, b, c, f), label='best fit', color='k')\n",
    "\n",
    "# ground truth\n",
    "m, b, c, f = ground_truth.m.to_list()[0], ground_truth.b.to_list()[0], ground_truth.c.to_list()[0], ground_truth.f.to_list()[0]\n",
    "plt.plot(x, build_models(x, m, b, c, f), label='ground truth', color='r')\n",
    "\n",
    "# models as good as or better than ground truth\n",
    "good_models = good_models.drop_duplicates(subset=['m','b','c','f'])\n",
    "label_flag = True\n",
    "for index, row in good_models.reset_index().iterrows(): \n",
    "    m, b, c, f = row.m, row.b, row.c, row.f\n",
    "    if label_flag == True:\n",
    "        plt.plot(x, build_models(x, m, b, c, f), color='green', zorder=0, label='good models', alpha=0.5)\n",
    "    elif label_flag == False:\n",
    "        plt.plot(x, build_models(x, m, b, c, f), color='green', zorder=0, alpha=0.5)\n",
    "    label_flag = False  \n",
    "    \n",
    "plt.xscale('log')\n",
    "plt.ylim([0, 0.5])\n",
    "plt.xlabel('age [Gyr]')\n",
    "plt.ylabel('P(intact)')\n",
    "plt.title(f'm = -0.6, b = 1.0, c = 1e9, f = 0.3 (medium sculpting); $\\Delta logL = {np.round(delta_logL, 2)}$')\n",
    "plt.legend()\n",
    "plt.show()"
   ]
  },
  {
   "cell_type": "code",
   "execution_count": 232,
   "metadata": {},
   "outputs": [
    {
     "data": {
      "text/html": [
       "<div>\n",
       "<style scoped>\n",
       "    .dataframe tbody tr th:only-of-type {\n",
       "        vertical-align: middle;\n",
       "    }\n",
       "\n",
       "    .dataframe tbody tr th {\n",
       "        vertical-align: top;\n",
       "    }\n",
       "\n",
       "    .dataframe thead th {\n",
       "        text-align: right;\n",
       "    }\n",
       "</style>\n",
       "<table border=\"1\" class=\"dataframe\">\n",
       "  <thead>\n",
       "    <tr style=\"text-align: right;\">\n",
       "      <th></th>\n",
       "      <th>m</th>\n",
       "      <th>b</th>\n",
       "      <th>c</th>\n",
       "      <th>f</th>\n",
       "      <th>tm</th>\n",
       "      <th>logL</th>\n",
       "    </tr>\n",
       "  </thead>\n",
       "  <tbody>\n",
       "    <tr>\n",
       "      <th>442</th>\n",
       "      <td>-1.0</td>\n",
       "      <td>0.4</td>\n",
       "      <td>1.000000e+08</td>\n",
       "      <td>0.3</td>\n",
       "      <td>[655.1999999999999, 170.4, 66.89999999999999, ...</td>\n",
       "      <td>-17.543887</td>\n",
       "    </tr>\n",
       "    <tr>\n",
       "      <th>3572</th>\n",
       "      <td>-0.6</td>\n",
       "      <td>1.0</td>\n",
       "      <td>1.000000e+09</td>\n",
       "      <td>0.3</td>\n",
       "      <td>[677.4, 171.0, 66.6, 25.8, 6.6, 0.6]</td>\n",
       "      <td>-17.647927</td>\n",
       "    </tr>\n",
       "    <tr>\n",
       "      <th>5552</th>\n",
       "      <td>-0.2</td>\n",
       "      <td>0.6</td>\n",
       "      <td>1.000000e+09</td>\n",
       "      <td>0.3</td>\n",
       "      <td>[673.8, 164.7, 69.89999999999999, 30.599999999...</td>\n",
       "      <td>-17.535186</td>\n",
       "    </tr>\n",
       "    <tr>\n",
       "      <th>6592</th>\n",
       "      <td>0.0</td>\n",
       "      <td>0.4</td>\n",
       "      <td>1.000000e+10</td>\n",
       "      <td>0.3</td>\n",
       "      <td>[653.1, 163.79999999999998, 71.7, 35.4, 7.5, 0...</td>\n",
       "      <td>-17.482551</td>\n",
       "    </tr>\n",
       "  </tbody>\n",
       "</table>\n",
       "</div>"
      ],
      "text/plain": [
       "        m    b             c    f  \\\n",
       "442  -1.0  0.4  1.000000e+08  0.3   \n",
       "3572 -0.6  1.0  1.000000e+09  0.3   \n",
       "5552 -0.2  0.6  1.000000e+09  0.3   \n",
       "6592  0.0  0.4  1.000000e+10  0.3   \n",
       "\n",
       "                                                     tm       logL  \n",
       "442   [655.1999999999999, 170.4, 66.89999999999999, ... -17.543887  \n",
       "3572               [677.4, 171.0, 66.6, 25.8, 6.6, 0.6] -17.647927  \n",
       "5552  [673.8, 164.7, 69.89999999999999, 30.599999999... -17.535186  \n",
       "6592  [653.1, 163.79999999999998, 71.7, 35.4, 7.5, 0... -17.482551  "
      ]
     },
     "execution_count": 232,
     "metadata": {},
     "output_type": "execute_result"
    }
   ],
   "source": [
    "good_models"
   ]
  },
  {
   "cell_type": "markdown",
   "metadata": {},
   "source": [
    "Huh. It's weird that there are so few good models and that they're so far apart. "
   ]
  },
  {
   "cell_type": "code",
   "execution_count": 241,
   "metadata": {},
   "outputs": [
    {
     "name": "stdout",
     "output_type": "stream",
     "text": [
      "[641.6999999999999, 127.5, 54.9, 23.099999999999998, 3.9, 0.0]\n",
      "[677.4, 171.0, 66.6, 25.8, 6.6, 0.6]\n"
     ]
    },
    {
     "data": {
      "text/plain": [
       "-24.76028406895447"
      ]
     },
     "execution_count": 241,
     "metadata": {},
     "output_type": "execute_result"
    }
   ],
   "source": [
    "test_tm = model_logLs.loc[(model_logLs.m == 0.) & (np.round(model_logLs.b,1) == 0.3) & (np.round(model_logLs.c, -8) == 1e10) & (np.round(model_logLs.f,1) == 0.3)].tm\n",
    "print(np.sum(test_tm))\n",
    "print(np.sum(ground_truth.tm))\n",
    "better_loglike(np.sum(test_tm), np.sum(ground_truth.tm))"
   ]
  },
  {
   "cell_type": "markdown",
   "metadata": {},
   "source": [
    "I guess as long as they end up with the same present-day intact fraction..."
   ]
  },
  {
   "cell_type": "markdown",
   "metadata": {},
   "source": [
    "And above are the corresponding plots for medium sculpting (m = -0.6, b = 1.0, c = 1e9, f = 0.3). I show again the logL distributions of the first three cutoff thresholds, and I think they are consistent with what we see in the 1D marginalized likelihood subplot. This time, it’s the third cutoff time that’s favored, although that is still well younger than most of the stars in our sample. Finally, the bubble of good models continues to be tiny, with only two other models allowed between the ground truth and best fit. At least they all end in the same present-day intact fraction."
   ]
  },
  {
   "cell_type": "markdown",
   "metadata": {},
   "source": [
    "#### Model 4: m = 0, b = 0.5, c = 1e9, f = 0.3 (no sculpting)\n"
   ]
  },
  {
   "cell_type": "code",
   "execution_count": 242,
   "metadata": {},
   "outputs": [
    {
     "data": {
      "text/plain": [
       "7262    [658.8, 183.0, 85.2, 38.1, 11.4, 2.1]\n",
       "Name: transit_multiplicities, dtype: object"
      ]
     },
     "execution_count": 242,
     "metadata": {},
     "output_type": "execute_result"
    }
   ],
   "source": [
    "tm_fiducial = truth.loc[(truth.ms == 0.) & (truth.bs == 0.5) & (np.round(truth.cs, -8) == 1e9) & (np.round(truth.fs,1) == 0.3)].transit_multiplicities\n",
    "tm_fiducial"
   ]
  },
  {
   "cell_type": "code",
   "execution_count": 243,
   "metadata": {},
   "outputs": [],
   "source": [
    "test_recovery = recovery.loc[(recovery.ms == 0.) & (recovery.bs == 0.5) & (np.round(recovery.cs, -8) == 1e9) & (np.round(recovery.fs,1) == 0.3)]\n",
    "#test_recovery"
   ]
  },
  {
   "cell_type": "code",
   "execution_count": 244,
   "metadata": {},
   "outputs": [
    {
     "data": {
      "image/png": "[encoded data removed]",
      "text/plain": [
       "<Figure size 432x288 with 1 Axes>"
      ]
     },
     "metadata": {
      "needs_background": "light"
     },
     "output_type": "display_data"
    }
   ],
   "source": [
    "plt.scatter(np.arange(len(tm_fiducial[7262])), tm_fiducial[7262], color='r', label='ground truth')\n",
    "plt.scatter(np.arange(len(recovery.iloc[217860].transit_multiplicities)), recovery.iloc[217860].transit_multiplicities, label='recovery same')\n",
    "plt.scatter(np.arange(len(recovery.iloc[5470].transit_multiplicities)), recovery.iloc[5470].transit_multiplicities, label='recovery -1, 0.1, 1e9, 0.3')\n",
    "plt.scatter(np.arange(len(recovery.iloc[33360].transit_multiplicities)), recovery.iloc[33360].transit_multiplicities, label='recovery -1, 0.9, 2.5e8, 0.3')\n",
    "\n",
    "plt.xlim([0,6])\n",
    "plt.ylim([0,700])\n",
    "plt.title('m = 0., b = 0.5, c = 1e9, f = 0.3 (no sculpting)')\n",
    "plt.legend()\n",
    "plt.show()"
   ]
  },
  {
   "cell_type": "code",
   "execution_count": 245,
   "metadata": {},
   "outputs": [],
   "source": [
    "cube = [0,0,0]\n",
    "fs = np.round(np.linspace(0.1, 1., 10), 1)\n",
    "ndim = 3\n",
    "nparams = 3\n",
    "\n",
    "ms = []\n",
    "bs = []\n",
    "cs = []\n",
    "fs_for_df = []\n",
    "all_logLs = []\n",
    "all_transit_multiplicities = []\n",
    "\n",
    "for gi_m in range(6):\n",
    "    \n",
    "    for gi_b in range(11):\n",
    "\n",
    "        for gi_c in range(11):\n",
    "            cube = prior_grid_logslope(cube, ndim, nparams, gi_m, gi_b, gi_c)\n",
    "            \n",
    "            for f in fs:\n",
    "                \n",
    "                ms.append(cube[0])\n",
    "                bs.append(cube[1])\n",
    "                cs.append(cube[2])\n",
    "                fs_for_df.append(f)\n",
    "                \n",
    "                try:\n",
    "                    #tm = truth.loc[(truth.ms == cube[0]) & (truth.bs == cube[1]) & (np.round(truth.cs, 0) == cube[2]) & (np.round(truth.fs,1) == f)].transit_multiplicities\n",
    "                    tm_recovery = recovery.loc[(np.round(recovery.ms,1) == np.round(cube[0],1)) & (np.round(recovery.bs,1) == np.round(cube[1],1)) & (np.round(recovery.cs, 0) == np.round(cube[2],0)) & (np.round(recovery.fs,1) == f)].transit_multiplicities.to_list()\n",
    "                    \n",
    "                    # calculate logL for each realization of each model, using tm as the ground truth\n",
    "                    logLs = []\n",
    "                    for i in range(len(tm_recovery)):\n",
    "                        logL = better_loglike(tm_recovery[i], np.sum(tm_fiducial))\n",
    "                        logLs.append(logL)\n",
    "\n",
    "                    # keep median logL for each model\n",
    "                    median_logL = np.median(logLs)\n",
    "                    median_arg = argmedian(logLs)\n",
    "                    all_logLs.append(median_logL)\n",
    "                    # append transit multiplicity of the best sample for that model\n",
    "                    all_transit_multiplicities.append(tm_recovery[median_arg])\n",
    "\n",
    "                except:\n",
    "                    all_logLs.append(0.)\n",
    "                \n",
    "model_logLs = pd.DataFrame({'m': ms, 'b': bs, 'c': cs, 'f': fs_for_df, \n",
    "                            'tm': all_transit_multiplicities, 'logL': all_logLs})\n",
    "        "
   ]
  },
  {
   "cell_type": "code",
   "execution_count": 246,
   "metadata": {},
   "outputs": [
    {
     "data": {
      "image/png": "[encoded data removed]",
      "text/plain": [
       "<Figure size 720x720 with 4 Axes>"
      ]
     },
     "metadata": {
      "needs_background": "light"
     },
     "output_type": "display_data"
    }
   ],
   "source": [
    "f, ((ax1, ax2), (ax3, ax4)) = plt.subplots(2, 2, figsize=(10, 10))\n",
    "\n",
    "# marginalize in 1D\n",
    "marginalized_logLs = []\n",
    "for gi_m in range(6):\n",
    "\n",
    "    cube = prior_grid_logslope(cube, ndim, nparams, gi_m, gi_b, gi_c)\n",
    "    \n",
    "    # subset\n",
    "    only = model_logLs.loc[(model_logLs.m == cube[0])]# & (model_logLs.f == 0.3)]\n",
    "    \n",
    "    # marginalize logL\n",
    "    marginalized_logLs.append(np.mean(only.logL))\n",
    "\n",
    "ax1.scatter(truth.ms.unique(), marginalized_logLs)\n",
    "ax1.set_ylabel(\"log likelihood\")\n",
    "ax1.set_xlabel(\"sculpting speed [dex]\")\n",
    "\n",
    "marginalized_logLs = []\n",
    "for gi_b in range(11):\n",
    "    \n",
    "    cube = prior_grid_logslope(cube, ndim, nparams, gi_m, gi_b, gi_c)\n",
    "    \n",
    "    # subset\n",
    "    only = model_logLs.loc[(model_logLs.b == cube[1])]# & (model_logLs.f == 0.3)]\n",
    "    \n",
    "    # marginalize logL\n",
    "    marginalized_logLs.append(np.mean(only.logL))\n",
    "ax2.scatter(model_logLs.b.unique(), marginalized_logLs)\n",
    "ax2.set_ylabel(\"log likelihood\")\n",
    "ax2.set_xlabel(\"b\")\n",
    "\n",
    "marginalized_logLs = []\n",
    "for gi_c in range(11):\n",
    "\n",
    "    cube = prior_grid_logslope(cube, ndim, nparams, gi_m, gi_b, gi_c)\n",
    "    \n",
    "    # subset\n",
    "    only = model_logLs.loc[(model_logLs.c == cube[2])]# & (model_logLs.f == 0.3)]\n",
    "    \n",
    "    # marginalize logL\n",
    "    marginalized_logLs.append(np.mean(only.logL))\n",
    "ax3.scatter(truth.cs.unique(), marginalized_logLs)\n",
    "ax3.set_ylabel(\"log likelihood\")\n",
    "ax3.set_xlabel(\"c\")\n",
    "ax3.set_xscale('log')\n",
    "\n",
    "marginalized_logLs = []\n",
    "for gi_f in np.linspace(0.1, 1, 10):\n",
    "    \n",
    "    # subset\n",
    "    only = model_logLs.loc[(np.round(model_logLs.f, 1) == np.round(gi_f, 1))]\n",
    "    \n",
    "    # marginalize logL\n",
    "    marginalized_logLs.append(np.mean(only.logL))\n",
    "ax4.scatter(np.linspace(0.1, 1, 10), marginalized_logLs)\n",
    "ax4.set_ylabel(\"log likelihood\")\n",
    "ax4.set_xlabel(\"f\")\n",
    "\n",
    "plt.tight_layout()\n",
    "plt.show()"
   ]
  },
  {
   "cell_type": "markdown",
   "metadata": {},
   "source": [
    "Second cutoff threshold mystery"
   ]
  },
  {
   "cell_type": "code",
   "execution_count": 247,
   "metadata": {},
   "outputs": [
    {
     "name": "stdout",
     "output_type": "stream",
     "text": [
      "     m    b            c    f                                  tm         logL\n",
      "0 -1.0  0.0  100000000.0  0.1   [202.3, 12.0, 0.0, 0.0, 0.0, 0.0] -1075.874264\n",
      "1 -1.0  0.0  100000000.0  0.2   [397.6, 24.8, 0.0, 0.0, 0.0, 0.0]  -706.331536\n",
      "2 -1.0  0.0  100000000.0  0.3   [608.1, 36.6, 0.0, 0.0, 0.0, 0.0]  -578.034013\n",
      "3 -1.0  0.0  100000000.0  0.4   [829.6, 49.6, 0.0, 0.0, 0.0, 0.0]  -551.590149\n",
      "4 -1.0  0.0  100000000.0  0.5  [1015.0, 59.0, 0.0, 0.0, 0.0, 0.0]  -581.794304\n"
     ]
    },
    {
     "data": {
      "image/png": "[encoded data removed]",
      "text/plain": [
       "<Figure size 432x288 with 1 Axes>"
      ]
     },
     "metadata": {
      "needs_background": "light"
     },
     "output_type": "display_data"
    },
    {
     "name": "stdout",
     "output_type": "stream",
     "text": [
      "      m    b            c    f  \\\n",
      "10 -1.0  0.0  158489319.0  0.1   \n",
      "11 -1.0  0.0  158489319.0  0.2   \n",
      "12 -1.0  0.0  158489319.0  0.3   \n",
      "13 -1.0  0.0  158489319.0  0.4   \n",
      "14 -1.0  0.0  158489319.0  0.5   \n",
      "\n",
      "                                                   tm         logL  \n",
      "10    [205.9, 11.200000000000001, 0.0, 0.0, 0.0, 0.0] -1079.935210  \n",
      "11    [395.8, 24.200000000000003, 0.0, 0.0, 0.0, 0.0]  -711.580290  \n",
      "12                  [622.8, 33.9, 0.0, 0.0, 0.0, 0.0]  -587.682586  \n",
      "13  [852.4000000000001, 48.800000000000004, 0.0, 0...  -559.431174  \n",
      "14                 [1003.0, 55.5, 0.0, 0.0, 0.0, 0.0]  -586.835555  \n"
     ]
    },
    {
     "data": {
      "image/png": "[encoded data removed]",
      "text/plain": [
       "<Figure size 432x288 with 1 Axes>"
      ]
     },
     "metadata": {
      "needs_background": "light"
     },
     "output_type": "display_data"
    },
    {
     "name": "stdout",
     "output_type": "stream",
     "text": [
      "      m    b            c    f  \\\n",
      "20 -1.0  0.0  251188643.0  0.1   \n",
      "21 -1.0  0.0  251188643.0  0.2   \n",
      "22 -1.0  0.0  251188643.0  0.3   \n",
      "23 -1.0  0.0  251188643.0  0.4   \n",
      "24 -1.0  0.0  251188643.0  0.5   \n",
      "\n",
      "                                                   tm         logL  \n",
      "20                  [201.8, 12.0, 0.0, 0.0, 0.0, 0.0] -1077.323469  \n",
      "21                  [414.6, 22.8, 0.0, 0.0, 0.0, 0.0]  -709.317972  \n",
      "22                  [575.4, 36.3, 0.0, 0.0, 0.0, 0.0]  -583.143711  \n",
      "23  [810.4000000000001, 46.400000000000006, 0.0, 0...  -557.189602  \n",
      "24                 [1013.0, 58.0, 0.0, 0.0, 0.0, 0.0]  -584.129225  \n"
     ]
    },
    {
     "data": {
      "image/png": "[encoded data removed]",
      "text/plain": [
       "<Figure size 432x288 with 1 Axes>"
      ]
     },
     "metadata": {
      "needs_background": "light"
     },
     "output_type": "display_data"
    }
   ],
   "source": [
    "print(model_logLs.loc[(model_logLs.c == np.round(np.sort(truth.cs.unique())[0], 0))].head())\n",
    "plt.hist(model_logLs.loc[(model_logLs.c == np.round(np.sort(truth.cs.unique())[0], 0))].logL)\n",
    "plt.title('c = 1e8 yrs')\n",
    "plt.xlabel('logL')\n",
    "plt.ylabel('count')\n",
    "plt.show()\n",
    "\n",
    "print(model_logLs.loc[(model_logLs.c == np.round(np.sort(truth.cs.unique())[1], 0))].head())\n",
    "plt.hist(model_logLs.loc[(model_logLs.c == np.round(np.sort(truth.cs.unique())[1], 0))].logL)\n",
    "plt.title('c = 158489319 yrs')\n",
    "plt.xlabel('logL')\n",
    "plt.ylabel('count')\n",
    "plt.show()\n",
    "\n",
    "print(model_logLs.loc[(model_logLs.c == np.round(np.sort(truth.cs.unique())[2], 0))].head())\n",
    "plt.hist(model_logLs.loc[(model_logLs.c == np.round(np.sort(truth.cs.unique())[2], 0))].logL)\n",
    "plt.title('c = 251188643 yrs')\n",
    "plt.xlabel('logL')\n",
    "plt.ylabel('count')\n",
    "plt.show()\n"
   ]
  },
  {
   "cell_type": "code",
   "execution_count": 154,
   "metadata": {},
   "outputs": [
    {
     "data": {
      "image/png": "[encoded data removed]",
      "text/plain": [
       "<Figure size 432x288 with 2 Axes>"
      ]
     },
     "metadata": {
      "needs_background": "light"
     },
     "output_type": "display_data"
    }
   ],
   "source": [
    "piv = model_logLs.groupby(['m','b','c']).mean('logL').reset_index().groupby(['m','b']).sum('logL').reset_index()\n",
    "\n",
    "piv = piv.pivot(\"b\",\"m\",\"logL\") # vs logged_normalized_likelihood\n",
    "#print(np.nanmin(piv.values), np.nanmax(piv.values), np.nansum(piv.values), np.nansum(np.log(piv.values)), np.log(np.nansum(piv.values)))\n",
    "#print(np.log(np.nanmin(piv.values)), np.log(np.nanmax(piv.values)))\n",
    "\n",
    "fig, ax = plt.subplots()\n",
    "sns.heatmap(piv, yticklabels=model_logLs.b.unique().round(1), cbar_kws={'label': 'logL'})\n",
    "#sns.heatmap(piv, vmin=-455, vmax=-17.9)\n",
    "ax.set_yticks(ax.get_yticks()[::2]) # sample every other tick, for cleanness\n",
    "plt.title('m = 0., b = 0.5, c = 1e9, f = 0.3')\n",
    "plt.show()"
   ]
  },
  {
   "cell_type": "code",
   "execution_count": 155,
   "metadata": {},
   "outputs": [
    {
     "data": {
      "image/png": "[encoded data removed]",
      "text/plain": [
       "<Figure size 432x288 with 2 Axes>"
      ]
     },
     "metadata": {
      "needs_background": "light"
     },
     "output_type": "display_data"
    }
   ],
   "source": [
    "piv = model_logLs.groupby(['m','b','c']).mean('logL').reset_index().groupby(['m','c']).sum('logL').reset_index()\n",
    "\n",
    "piv = piv.pivot(\"c\",\"m\",\"logL\") # vs logged_normalized_likelihood\n",
    "#print(np.nanmin(piv.values), np.nanmax(piv.values), np.nansum(piv.values), np.nansum(np.log(piv.values)), np.log(np.nansum(piv.values)))\n",
    "#print(np.log(np.nanmin(piv.values)), np.log(np.nanmax(piv.values)))\n",
    "\n",
    "fig, ax = plt.subplots()\n",
    "sns.heatmap(piv, yticklabels=model_logLs.c.unique().round(1), cbar_kws={'label': 'logL'})\n",
    "#sns.heatmap(piv, vmin=-455, vmax=-17.9)\n",
    "ax.set_yticks(ax.get_yticks()[::2]) # sample every other tick, for cleanness\n",
    "plt.title('m = 0, b = 0.5, c = 1e9, f = 0.3')\n",
    "plt.show()"
   ]
  },
  {
   "cell_type": "markdown",
   "metadata": {},
   "source": [
    "We totally miss the mark on recovering the lack of sculpting in the fake ground truth. We do recover b and f, and of course c is not a sensible variable in the case of no sculpting. "
   ]
  },
  {
   "cell_type": "markdown",
   "metadata": {},
   "source": [
    "Identify best and good models"
   ]
  },
  {
   "cell_type": "code",
   "execution_count": 251,
   "metadata": {},
   "outputs": [
    {
     "name": "stdout",
     "output_type": "stream",
     "text": [
      "Best model:          m    b            c    f  \\\n",
      "6642  0.0  0.5  630957344.0  0.3   \n",
      "\n",
      "                                                     tm       logL  \n",
      "6642  [664.5, 195.0, 81.89999999999999, 31.799999999... -18.430506  \n",
      "Ground truth:          m    b             c    f  \\\n",
      "6652  0.0  0.5  1.000000e+09  0.3   \n",
      "\n",
      "                                                     tm       logL  \n",
      "6652  [673.8, 201.0, 84.0, 32.1, 11.7, 1.79999999999... -18.652577  \n",
      "Some models between best model and ground truth: \n",
      "        m    b             c    f  \\\n",
      "5812 -0.2  0.8  6.309573e+09  0.3   \n",
      "5822 -0.2  0.8  1.000000e+10  0.3   \n",
      "6622  0.0  0.5  2.511886e+08  0.3   \n",
      "6642  0.0  0.5  6.309573e+08  0.3   \n",
      "\n",
      "                                                     tm       logL  \n",
      "5812  [679.1999999999999, 195.6, 95.39999999999999, ... -18.548619  \n",
      "5822  [668.1, 187.79999999999998, 83.7, 36.9, 9.9, 0.6] -18.546571  \n",
      "6622  [678.0, 203.7, 87.89999999999999, 39.3, 11.7, ... -18.534963  \n",
      "6642  [664.5, 195.0, 81.89999999999999, 31.799999999... -18.430506  \n"
     ]
    }
   ],
   "source": [
    "best_logL = max(model_logLs.loc[model_logLs.logL < 0.].logL)\n",
    "print(\"Best model: \", model_logLs.loc[(model_logLs.logL >= best_logL) & (model_logLs.logL < 0.)])\n",
    "\n",
    "ground_truth = model_logLs.loc[(model_logLs.m == 0.) & (model_logLs.b == 0.5) & (np.round(model_logLs.c, -8) == 1e9) & (np.round(model_logLs.f,1) == 0.3)]\n",
    "print(\"Ground truth: \", ground_truth)\n",
    "delta_logL = best_logL - ground_truth.logL.to_list()[0]\n",
    "\n",
    "good_models = model_logLs.loc[np.abs(model_logLs.logL - best_logL) < delta_logL]\n",
    "print(\"Some models between best model and ground truth: \")\n",
    "print(good_models.head())"
   ]
  },
  {
   "cell_type": "code",
   "execution_count": 249,
   "metadata": {},
   "outputs": [
    {
     "data": {
      "text/html": [
       "<div>\n",
       "<style scoped>\n",
       "    .dataframe tbody tr th:only-of-type {\n",
       "        vertical-align: middle;\n",
       "    }\n",
       "\n",
       "    .dataframe tbody tr th {\n",
       "        vertical-align: top;\n",
       "    }\n",
       "\n",
       "    .dataframe thead th {\n",
       "        text-align: right;\n",
       "    }\n",
       "</style>\n",
       "<table border=\"1\" class=\"dataframe\">\n",
       "  <thead>\n",
       "    <tr style=\"text-align: right;\">\n",
       "      <th></th>\n",
       "      <th>m</th>\n",
       "      <th>b</th>\n",
       "      <th>c</th>\n",
       "      <th>f</th>\n",
       "      <th>tm</th>\n",
       "      <th>logL</th>\n",
       "    </tr>\n",
       "  </thead>\n",
       "  <tbody>\n",
       "    <tr>\n",
       "      <th>5812</th>\n",
       "      <td>-0.2</td>\n",
       "      <td>0.8</td>\n",
       "      <td>6.309573e+09</td>\n",
       "      <td>0.3</td>\n",
       "      <td>[679.1999999999999, 195.6, 95.39999999999999, ...</td>\n",
       "      <td>-18.548619</td>\n",
       "    </tr>\n",
       "    <tr>\n",
       "      <th>5822</th>\n",
       "      <td>-0.2</td>\n",
       "      <td>0.8</td>\n",
       "      <td>1.000000e+10</td>\n",
       "      <td>0.3</td>\n",
       "      <td>[668.1, 187.79999999999998, 83.7, 36.9, 9.9, 0.6]</td>\n",
       "      <td>-18.546571</td>\n",
       "    </tr>\n",
       "    <tr>\n",
       "      <th>6622</th>\n",
       "      <td>0.0</td>\n",
       "      <td>0.5</td>\n",
       "      <td>2.511886e+08</td>\n",
       "      <td>0.3</td>\n",
       "      <td>[678.0, 203.7, 87.89999999999999, 39.3, 11.7, ...</td>\n",
       "      <td>-18.534963</td>\n",
       "    </tr>\n",
       "    <tr>\n",
       "      <th>6642</th>\n",
       "      <td>0.0</td>\n",
       "      <td>0.5</td>\n",
       "      <td>6.309573e+08</td>\n",
       "      <td>0.3</td>\n",
       "      <td>[664.5, 195.0, 81.89999999999999, 31.799999999...</td>\n",
       "      <td>-18.430506</td>\n",
       "    </tr>\n",
       "  </tbody>\n",
       "</table>\n",
       "</div>"
      ],
      "text/plain": [
       "        m    b             c    f  \\\n",
       "5812 -0.2  0.8  6.309573e+09  0.3   \n",
       "5822 -0.2  0.8  1.000000e+10  0.3   \n",
       "6622  0.0  0.5  2.511886e+08  0.3   \n",
       "6642  0.0  0.5  6.309573e+08  0.3   \n",
       "\n",
       "                                                     tm       logL  \n",
       "5812  [679.1999999999999, 195.6, 95.39999999999999, ... -18.548619  \n",
       "5822  [668.1, 187.79999999999998, 83.7, 36.9, 9.9, 0.6] -18.546571  \n",
       "6622  [678.0, 203.7, 87.89999999999999, 39.3, 11.7, ... -18.534963  \n",
       "6642  [664.5, 195.0, 81.89999999999999, 31.799999999... -18.430506  "
      ]
     },
     "execution_count": 249,
     "metadata": {},
     "output_type": "execute_result"
    }
   ],
   "source": [
    "good_models"
   ]
  },
  {
   "cell_type": "markdown",
   "metadata": {},
   "source": [
    "Plot these models"
   ]
  },
  {
   "cell_type": "code",
   "execution_count": 250,
   "metadata": {},
   "outputs": [
    {
     "data": {
      "image/png": "[encoded data removed]",
      "text/plain": [
       "<Figure size 432x288 with 1 Axes>"
      ]
     },
     "metadata": {
      "needs_background": "light"
     },
     "output_type": "display_data"
    }
   ],
   "source": [
    "x = np.logspace(8, 10, 10)\n",
    "\n",
    "# best model\n",
    "best_model = model_logLs.loc[(model_logLs.logL >= best_logL) & (model_logLs.logL < 0.)]\n",
    "m, b, c, f = best_model.m.to_list()[0], best_model.b.to_list()[0], best_model.c.to_list()[0], best_model.f.to_list()[0]\n",
    "plt.plot(x, build_models(x, m, b, c, f), label='best fit', color='k')\n",
    "\n",
    "# ground truth\n",
    "m, b, c, f = ground_truth.m.to_list()[0], ground_truth.b.to_list()[0], ground_truth.c.to_list()[0], ground_truth.f.to_list()[0]\n",
    "plt.plot(x, build_models(x, m, b, c, f), label='ground truth', color='r')\n",
    "\n",
    "# models as good as or better than ground truth\n",
    "good_models = good_models.drop_duplicates(subset=['m','b','c','f'])\n",
    "label_flag = True\n",
    "for index, row in good_models.reset_index().iterrows(): \n",
    "    m, b, c, f = row.m, row.b, row.c, row.f\n",
    "    if label_flag == True:\n",
    "        plt.plot(x, build_models(x, m, b, c, f), color='green', zorder=0, label='good models', alpha=0.5)\n",
    "    elif label_flag == False:\n",
    "        plt.plot(x, build_models(x, m, b, c, f), color='green', zorder=0, alpha=0.5)\n",
    "    label_flag = False  \n",
    "    \n",
    "plt.xscale('log')\n",
    "plt.ylim([0, 0.5])\n",
    "plt.xlabel('age [Gyr]')\n",
    "plt.ylabel('P(intact)')\n",
    "plt.title(f'm = 0., b = 0.5, c = 1e9, f = 0.3 (no sculpting); $\\Delta logL = {np.round(delta_logL,2)}$')\n",
    "plt.legend()\n",
    "plt.show()"
   ]
  },
  {
   "cell_type": "markdown",
   "metadata": {},
   "source": [
    "Finally, for the no-sculpting model (m = 0, b = 0.5, c = 1e9, f = 0.3), I get the following plots. The question of why delta logL is so small remains, but again, at least all good models result in roughly the same present-day intact fraction.\n",
    "\n",
    "Perhaps I need to try a very slow (m=-0.2) and long-lived (c=4e9 yrs or something like that).\n"
   ]
  },
  {
   "cell_type": "markdown",
   "metadata": {},
   "source": [
    "#### Model 5: slow sculpting (m=-0.2, b=1.0, c=4e9 yrs, f=0.3)"
   ]
  },
  {
   "cell_type": "code",
   "execution_count": 256,
   "metadata": {},
   "outputs": [
    {
     "data": {
      "text/plain": [
       "6572    [676.5, 250.2, 131.4, 50.699999999999996, 15.0...\n",
       "Name: transit_multiplicities, dtype: object"
      ]
     },
     "execution_count": 256,
     "metadata": {},
     "output_type": "execute_result"
    }
   ],
   "source": [
    "tm_fiducial = truth.loc[(np.round(truth.ms,1) == -0.2) & (truth.bs == 1.) & (np.round(truth.cs, -8) == 4e9) & (np.round(truth.fs,1) == 0.3)].transit_multiplicities\n",
    "tm_fiducial"
   ]
  },
  {
   "cell_type": "code",
   "execution_count": 303,
   "metadata": {},
   "outputs": [
    {
     "data": {
      "text/html": [
       "<div>\n",
       "<style scoped>\n",
       "    .dataframe tbody tr th:only-of-type {\n",
       "        vertical-align: middle;\n",
       "    }\n",
       "\n",
       "    .dataframe tbody tr th {\n",
       "        vertical-align: top;\n",
       "    }\n",
       "\n",
       "    .dataframe thead th {\n",
       "        text-align: right;\n",
       "    }\n",
       "</style>\n",
       "<table border=\"1\" class=\"dataframe\">\n",
       "  <thead>\n",
       "    <tr style=\"text-align: right;\">\n",
       "      <th></th>\n",
       "      <th>ms</th>\n",
       "      <th>bs</th>\n",
       "      <th>cs</th>\n",
       "      <th>fs</th>\n",
       "      <th>transit_multiplicities</th>\n",
       "      <th>geom_transit_multiplicities</th>\n",
       "      <th>intact_fracs</th>\n",
       "      <th>disrupted_fracs</th>\n",
       "      <th>logLs</th>\n",
       "    </tr>\n",
       "  </thead>\n",
       "  <tbody>\n",
       "    <tr>\n",
       "      <th>197160</th>\n",
       "      <td>-0.2</td>\n",
       "      <td>1.0</td>\n",
       "      <td>3.981072e+09</td>\n",
       "      <td>0.3</td>\n",
       "      <td>[690.0, 270.0, 112.5, 41.4, 12.0, 2.4]</td>\n",
       "      <td>[918.0, 412.8, 283.5, 184.5, 98.39999999999999...</td>\n",
       "      <td>0.269299</td>\n",
       "      <td>0.030701</td>\n",
       "      <td>-119.869942</td>\n",
       "    </tr>\n",
       "    <tr>\n",
       "      <th>197161</th>\n",
       "      <td>-0.2</td>\n",
       "      <td>1.0</td>\n",
       "      <td>3.981072e+09</td>\n",
       "      <td>0.3</td>\n",
       "      <td>[693.9, 264.9, 109.5, 54.6, 16.8, 3.0]</td>\n",
       "      <td>[955.5, 398.09999999999997, 294.0, 200.1, 94.2...</td>\n",
       "      <td>0.269213</td>\n",
       "      <td>0.030787</td>\n",
       "      <td>-127.323692</td>\n",
       "    </tr>\n",
       "    <tr>\n",
       "      <th>197162</th>\n",
       "      <td>-0.2</td>\n",
       "      <td>1.0</td>\n",
       "      <td>3.981072e+09</td>\n",
       "      <td>0.3</td>\n",
       "      <td>[686.4, 243.6, 122.39999999999999, 50.69999999...</td>\n",
       "      <td>[934.1999999999999, 404.7, 282.0, 198.29999999...</td>\n",
       "      <td>0.269689</td>\n",
       "      <td>0.030311</td>\n",
       "      <td>-122.047157</td>\n",
       "    </tr>\n",
       "    <tr>\n",
       "      <th>197163</th>\n",
       "      <td>-0.2</td>\n",
       "      <td>1.0</td>\n",
       "      <td>3.981072e+09</td>\n",
       "      <td>0.3</td>\n",
       "      <td>[670.5, 250.79999999999998, 126.3, 51.9, 13.5,...</td>\n",
       "      <td>[919.8, 399.59999999999997, 277.8, 198.6, 100....</td>\n",
       "      <td>0.269282</td>\n",
       "      <td>0.030718</td>\n",
       "      <td>-131.158620</td>\n",
       "    </tr>\n",
       "    <tr>\n",
       "      <th>197164</th>\n",
       "      <td>-0.2</td>\n",
       "      <td>1.0</td>\n",
       "      <td>3.981072e+09</td>\n",
       "      <td>0.3</td>\n",
       "      <td>[673.5, 240.89999999999998, 131.7, 42.6, 13.5,...</td>\n",
       "      <td>[940.1999999999999, 385.5, 278.09999999999997,...</td>\n",
       "      <td>0.269463</td>\n",
       "      <td>0.030537</td>\n",
       "      <td>-124.907605</td>\n",
       "    </tr>\n",
       "    <tr>\n",
       "      <th>197165</th>\n",
       "      <td>-0.2</td>\n",
       "      <td>1.0</td>\n",
       "      <td>3.981072e+09</td>\n",
       "      <td>0.3</td>\n",
       "      <td>[665.1, 262.8, 119.39999999999999, 53.4, 16.2,...</td>\n",
       "      <td>[939.0, 414.9, 279.59999999999997, 195.2999999...</td>\n",
       "      <td>0.269086</td>\n",
       "      <td>0.030914</td>\n",
       "      <td>-136.327569</td>\n",
       "    </tr>\n",
       "    <tr>\n",
       "      <th>197166</th>\n",
       "      <td>-0.2</td>\n",
       "      <td>1.0</td>\n",
       "      <td>3.981072e+09</td>\n",
       "      <td>0.3</td>\n",
       "      <td>[698.4, 273.0, 138.0, 48.3, 17.4, 1.5]</td>\n",
       "      <td>[938.4, 426.3, 293.09999999999997, 207.0, 101....</td>\n",
       "      <td>0.269690</td>\n",
       "      <td>0.030310</td>\n",
       "      <td>-144.676130</td>\n",
       "    </tr>\n",
       "    <tr>\n",
       "      <th>197167</th>\n",
       "      <td>-0.2</td>\n",
       "      <td>1.0</td>\n",
       "      <td>3.981072e+09</td>\n",
       "      <td>0.3</td>\n",
       "      <td>[692.4, 260.7, 124.19999999999999, 47.1, 13.79...</td>\n",
       "      <td>[949.8, 412.8, 279.9, 193.79999999999998, 96.6...</td>\n",
       "      <td>0.269095</td>\n",
       "      <td>0.030905</td>\n",
       "      <td>-126.081088</td>\n",
       "    </tr>\n",
       "    <tr>\n",
       "      <th>197168</th>\n",
       "      <td>-0.2</td>\n",
       "      <td>1.0</td>\n",
       "      <td>3.981072e+09</td>\n",
       "      <td>0.3</td>\n",
       "      <td>[706.8, 263.09999999999997, 120.3, 52.19999999...</td>\n",
       "      <td>[959.4, 394.8, 290.4, 198.0, 97.8, 22.8]</td>\n",
       "      <td>0.269283</td>\n",
       "      <td>0.030717</td>\n",
       "      <td>-127.360049</td>\n",
       "    </tr>\n",
       "    <tr>\n",
       "      <th>197169</th>\n",
       "      <td>-0.2</td>\n",
       "      <td>1.0</td>\n",
       "      <td>3.981072e+09</td>\n",
       "      <td>0.3</td>\n",
       "      <td>[680.6999999999999, 264.9, 114.0, 55.8, 15.299...</td>\n",
       "      <td>[935.4, 403.5, 280.8, 190.5, 91.5, 17.7]</td>\n",
       "      <td>0.269413</td>\n",
       "      <td>0.030587</td>\n",
       "      <td>-130.833560</td>\n",
       "    </tr>\n",
       "    <tr>\n",
       "      <th>197170</th>\n",
       "      <td>-0.2</td>\n",
       "      <td>1.0</td>\n",
       "      <td>3.981072e+09</td>\n",
       "      <td>0.3</td>\n",
       "      <td>[691.5, 258.0, 118.19999999999999, 51.0, 15.29...</td>\n",
       "      <td>[944.0999999999999, 417.9, 274.2, 192.29999999...</td>\n",
       "      <td>0.269420</td>\n",
       "      <td>0.030580</td>\n",
       "      <td>-126.031949</td>\n",
       "    </tr>\n",
       "    <tr>\n",
       "      <th>197171</th>\n",
       "      <td>-0.2</td>\n",
       "      <td>1.0</td>\n",
       "      <td>3.981072e+09</td>\n",
       "      <td>0.3</td>\n",
       "      <td>[666.9, 261.59999999999997, 117.3, 52.8, 15.6,...</td>\n",
       "      <td>[933.5999999999999, 399.3, 260.7, 193.5, 101.1...</td>\n",
       "      <td>0.269432</td>\n",
       "      <td>0.030568</td>\n",
       "      <td>-133.921973</td>\n",
       "    </tr>\n",
       "    <tr>\n",
       "      <th>197172</th>\n",
       "      <td>-0.2</td>\n",
       "      <td>1.0</td>\n",
       "      <td>3.981072e+09</td>\n",
       "      <td>0.3</td>\n",
       "      <td>[673.8, 256.5, 130.5, 45.9, 11.4, 1.5]</td>\n",
       "      <td>[950.4, 414.3, 286.2, 183.9, 91.2, 18.9]</td>\n",
       "      <td>0.269399</td>\n",
       "      <td>0.030601</td>\n",
       "      <td>-130.902623</td>\n",
       "    </tr>\n",
       "    <tr>\n",
       "      <th>197173</th>\n",
       "      <td>-0.2</td>\n",
       "      <td>1.0</td>\n",
       "      <td>3.981072e+09</td>\n",
       "      <td>0.3</td>\n",
       "      <td>[682.1999999999999, 272.4, 115.8, 48.0, 12.299...</td>\n",
       "      <td>[943.1999999999999, 419.4, 266.7, 186.0, 95.7,...</td>\n",
       "      <td>0.269563</td>\n",
       "      <td>0.030437</td>\n",
       "      <td>-128.013348</td>\n",
       "    </tr>\n",
       "    <tr>\n",
       "      <th>197174</th>\n",
       "      <td>-0.2</td>\n",
       "      <td>1.0</td>\n",
       "      <td>3.981072e+09</td>\n",
       "      <td>0.3</td>\n",
       "      <td>[675.0, 266.09999999999997, 129.9, 41.1, 11.7,...</td>\n",
       "      <td>[929.4, 419.09999999999997, 290.7, 186.6, 84.3...</td>\n",
       "      <td>0.269892</td>\n",
       "      <td>0.030108</td>\n",
       "      <td>-132.198878</td>\n",
       "    </tr>\n",
       "    <tr>\n",
       "      <th>197175</th>\n",
       "      <td>-0.2</td>\n",
       "      <td>1.0</td>\n",
       "      <td>3.981072e+09</td>\n",
       "      <td>0.3</td>\n",
       "      <td>[682.1999999999999, 252.89999999999998, 127.19...</td>\n",
       "      <td>[922.1999999999999, 409.2, 277.2, 192.0, 92.1,...</td>\n",
       "      <td>0.269570</td>\n",
       "      <td>0.030430</td>\n",
       "      <td>-134.009585</td>\n",
       "    </tr>\n",
       "    <tr>\n",
       "      <th>197176</th>\n",
       "      <td>-0.2</td>\n",
       "      <td>1.0</td>\n",
       "      <td>3.981072e+09</td>\n",
       "      <td>0.3</td>\n",
       "      <td>[714.6, 260.4, 126.3, 46.199999999999996, 10.7...</td>\n",
       "      <td>[980.0999999999999, 423.0, 294.0, 189.29999999...</td>\n",
       "      <td>0.269506</td>\n",
       "      <td>0.030494</td>\n",
       "      <td>-120.924498</td>\n",
       "    </tr>\n",
       "    <tr>\n",
       "      <th>197177</th>\n",
       "      <td>-0.2</td>\n",
       "      <td>1.0</td>\n",
       "      <td>3.981072e+09</td>\n",
       "      <td>0.3</td>\n",
       "      <td>[711.0, 255.0, 123.89999999999999, 50.1, 13.79...</td>\n",
       "      <td>[955.5, 412.5, 291.0, 206.1, 86.1, 19.5]</td>\n",
       "      <td>0.269202</td>\n",
       "      <td>0.030798</td>\n",
       "      <td>-123.827405</td>\n",
       "    </tr>\n",
       "    <tr>\n",
       "      <th>197178</th>\n",
       "      <td>-0.2</td>\n",
       "      <td>1.0</td>\n",
       "      <td>3.981072e+09</td>\n",
       "      <td>0.3</td>\n",
       "      <td>[682.1999999999999, 253.2, 126.3, 59.4, 16.5, ...</td>\n",
       "      <td>[911.1, 414.59999999999997, 279.59999999999997...</td>\n",
       "      <td>0.269662</td>\n",
       "      <td>0.030338</td>\n",
       "      <td>-137.044229</td>\n",
       "    </tr>\n",
       "    <tr>\n",
       "      <th>197179</th>\n",
       "      <td>-0.2</td>\n",
       "      <td>1.0</td>\n",
       "      <td>3.981072e+09</td>\n",
       "      <td>0.3</td>\n",
       "      <td>[677.6999999999999, 247.5, 119.69999999999999,...</td>\n",
       "      <td>[939.5999999999999, 405.3, 283.8, 193.79999999...</td>\n",
       "      <td>0.269228</td>\n",
       "      <td>0.030772</td>\n",
       "      <td>-126.059317</td>\n",
       "    </tr>\n",
       "    <tr>\n",
       "      <th>197180</th>\n",
       "      <td>-0.2</td>\n",
       "      <td>1.0</td>\n",
       "      <td>3.981072e+09</td>\n",
       "      <td>0.3</td>\n",
       "      <td>[705.3, 250.79999999999998, 125.1, 54.0, 14.1,...</td>\n",
       "      <td>[955.8, 399.9, 278.7, 197.7, 91.5, 20.4]</td>\n",
       "      <td>0.269287</td>\n",
       "      <td>0.030713</td>\n",
       "      <td>-126.659569</td>\n",
       "    </tr>\n",
       "    <tr>\n",
       "      <th>197181</th>\n",
       "      <td>-0.2</td>\n",
       "      <td>1.0</td>\n",
       "      <td>3.981072e+09</td>\n",
       "      <td>0.3</td>\n",
       "      <td>[657.0, 257.4, 112.8, 46.5, 15.899999999999999...</td>\n",
       "      <td>[921.5999999999999, 409.2, 274.5, 184.79999999...</td>\n",
       "      <td>0.269326</td>\n",
       "      <td>0.030674</td>\n",
       "      <td>-126.946373</td>\n",
       "    </tr>\n",
       "    <tr>\n",
       "      <th>197182</th>\n",
       "      <td>-0.2</td>\n",
       "      <td>1.0</td>\n",
       "      <td>3.981072e+09</td>\n",
       "      <td>0.3</td>\n",
       "      <td>[684.3, 264.3, 119.1, 46.8, 13.2, 1.7999999999...</td>\n",
       "      <td>[942.0, 408.0, 280.2, 195.6, 89.1, 18.0]</td>\n",
       "      <td>0.269370</td>\n",
       "      <td>0.030630</td>\n",
       "      <td>-126.357028</td>\n",
       "    </tr>\n",
       "    <tr>\n",
       "      <th>197183</th>\n",
       "      <td>-0.2</td>\n",
       "      <td>1.0</td>\n",
       "      <td>3.981072e+09</td>\n",
       "      <td>0.3</td>\n",
       "      <td>[701.1, 248.1, 125.1, 49.5, 12.0, 2.4]</td>\n",
       "      <td>[970.1999999999999, 396.3, 289.2, 196.2, 98.39...</td>\n",
       "      <td>0.268912</td>\n",
       "      <td>0.031088</td>\n",
       "      <td>-121.096756</td>\n",
       "    </tr>\n",
       "    <tr>\n",
       "      <th>197184</th>\n",
       "      <td>-0.2</td>\n",
       "      <td>1.0</td>\n",
       "      <td>3.981072e+09</td>\n",
       "      <td>0.3</td>\n",
       "      <td>[682.1999999999999, 263.4, 118.5, 51.9, 14.1, ...</td>\n",
       "      <td>[948.5999999999999, 426.59999999999997, 265.8,...</td>\n",
       "      <td>0.269118</td>\n",
       "      <td>0.030882</td>\n",
       "      <td>-130.084968</td>\n",
       "    </tr>\n",
       "    <tr>\n",
       "      <th>197185</th>\n",
       "      <td>-0.2</td>\n",
       "      <td>1.0</td>\n",
       "      <td>3.981072e+09</td>\n",
       "      <td>0.3</td>\n",
       "      <td>[712.8, 261.59999999999997, 127.8, 50.1, 15.89...</td>\n",
       "      <td>[967.1999999999999, 405.59999999999997, 287.7,...</td>\n",
       "      <td>0.269352</td>\n",
       "      <td>0.030648</td>\n",
       "      <td>-129.611158</td>\n",
       "    </tr>\n",
       "    <tr>\n",
       "      <th>197186</th>\n",
       "      <td>-0.2</td>\n",
       "      <td>1.0</td>\n",
       "      <td>3.981072e+09</td>\n",
       "      <td>0.3</td>\n",
       "      <td>[699.3, 256.2, 117.0, 47.4, 11.7, 1.2]</td>\n",
       "      <td>[930.3, 419.7, 274.8, 194.4, 90.3, 22.5]</td>\n",
       "      <td>0.268902</td>\n",
       "      <td>0.031098</td>\n",
       "      <td>-116.853741</td>\n",
       "    </tr>\n",
       "    <tr>\n",
       "      <th>197187</th>\n",
       "      <td>-0.2</td>\n",
       "      <td>1.0</td>\n",
       "      <td>3.981072e+09</td>\n",
       "      <td>0.3</td>\n",
       "      <td>[682.8, 265.2, 128.4, 49.8, 15.0, 1.5]</td>\n",
       "      <td>[923.6999999999999, 405.3, 295.2, 183.9, 96.0,...</td>\n",
       "      <td>0.269364</td>\n",
       "      <td>0.030636</td>\n",
       "      <td>-136.501215</td>\n",
       "    </tr>\n",
       "    <tr>\n",
       "      <th>197188</th>\n",
       "      <td>-0.2</td>\n",
       "      <td>1.0</td>\n",
       "      <td>3.981072e+09</td>\n",
       "      <td>0.3</td>\n",
       "      <td>[667.1999999999999, 283.2, 123.6, 45.6, 13.2, ...</td>\n",
       "      <td>[895.1999999999999, 451.2, 287.7, 191.1, 86.7,...</td>\n",
       "      <td>0.269400</td>\n",
       "      <td>0.030600</td>\n",
       "      <td>-141.662538</td>\n",
       "    </tr>\n",
       "    <tr>\n",
       "      <th>197189</th>\n",
       "      <td>-0.2</td>\n",
       "      <td>1.0</td>\n",
       "      <td>3.981072e+09</td>\n",
       "      <td>0.3</td>\n",
       "      <td>[690.9, 253.5, 120.3, 52.8, 16.2, 1.7999999999...</td>\n",
       "      <td>[938.6999999999999, 408.59999999999997, 285.9,...</td>\n",
       "      <td>0.269397</td>\n",
       "      <td>0.030603</td>\n",
       "      <td>-126.737596</td>\n",
       "    </tr>\n",
       "  </tbody>\n",
       "</table>\n",
       "</div>"
      ],
      "text/plain": [
       "         ms   bs            cs   fs  \\\n",
       "197160 -0.2  1.0  3.981072e+09  0.3   \n",
       "197161 -0.2  1.0  3.981072e+09  0.3   \n",
       "197162 -0.2  1.0  3.981072e+09  0.3   \n",
       "197163 -0.2  1.0  3.981072e+09  0.3   \n",
       "197164 -0.2  1.0  3.981072e+09  0.3   \n",
       "197165 -0.2  1.0  3.981072e+09  0.3   \n",
       "197166 -0.2  1.0  3.981072e+09  0.3   \n",
       "197167 -0.2  1.0  3.981072e+09  0.3   \n",
       "197168 -0.2  1.0  3.981072e+09  0.3   \n",
       "197169 -0.2  1.0  3.981072e+09  0.3   \n",
       "197170 -0.2  1.0  3.981072e+09  0.3   \n",
       "197171 -0.2  1.0  3.981072e+09  0.3   \n",
       "197172 -0.2  1.0  3.981072e+09  0.3   \n",
       "197173 -0.2  1.0  3.981072e+09  0.3   \n",
       "197174 -0.2  1.0  3.981072e+09  0.3   \n",
       "197175 -0.2  1.0  3.981072e+09  0.3   \n",
       "197176 -0.2  1.0  3.981072e+09  0.3   \n",
       "197177 -0.2  1.0  3.981072e+09  0.3   \n",
       "197178 -0.2  1.0  3.981072e+09  0.3   \n",
       "197179 -0.2  1.0  3.981072e+09  0.3   \n",
       "197180 -0.2  1.0  3.981072e+09  0.3   \n",
       "197181 -0.2  1.0  3.981072e+09  0.3   \n",
       "197182 -0.2  1.0  3.981072e+09  0.3   \n",
       "197183 -0.2  1.0  3.981072e+09  0.3   \n",
       "197184 -0.2  1.0  3.981072e+09  0.3   \n",
       "197185 -0.2  1.0  3.981072e+09  0.3   \n",
       "197186 -0.2  1.0  3.981072e+09  0.3   \n",
       "197187 -0.2  1.0  3.981072e+09  0.3   \n",
       "197188 -0.2  1.0  3.981072e+09  0.3   \n",
       "197189 -0.2  1.0  3.981072e+09  0.3   \n",
       "\n",
       "                                   transit_multiplicities  \\\n",
       "197160             [690.0, 270.0, 112.5, 41.4, 12.0, 2.4]   \n",
       "197161             [693.9, 264.9, 109.5, 54.6, 16.8, 3.0]   \n",
       "197162  [686.4, 243.6, 122.39999999999999, 50.69999999...   \n",
       "197163  [670.5, 250.79999999999998, 126.3, 51.9, 13.5,...   \n",
       "197164  [673.5, 240.89999999999998, 131.7, 42.6, 13.5,...   \n",
       "197165  [665.1, 262.8, 119.39999999999999, 53.4, 16.2,...   \n",
       "197166             [698.4, 273.0, 138.0, 48.3, 17.4, 1.5]   \n",
       "197167  [692.4, 260.7, 124.19999999999999, 47.1, 13.79...   \n",
       "197168  [706.8, 263.09999999999997, 120.3, 52.19999999...   \n",
       "197169  [680.6999999999999, 264.9, 114.0, 55.8, 15.299...   \n",
       "197170  [691.5, 258.0, 118.19999999999999, 51.0, 15.29...   \n",
       "197171  [666.9, 261.59999999999997, 117.3, 52.8, 15.6,...   \n",
       "197172             [673.8, 256.5, 130.5, 45.9, 11.4, 1.5]   \n",
       "197173  [682.1999999999999, 272.4, 115.8, 48.0, 12.299...   \n",
       "197174  [675.0, 266.09999999999997, 129.9, 41.1, 11.7,...   \n",
       "197175  [682.1999999999999, 252.89999999999998, 127.19...   \n",
       "197176  [714.6, 260.4, 126.3, 46.199999999999996, 10.7...   \n",
       "197177  [711.0, 255.0, 123.89999999999999, 50.1, 13.79...   \n",
       "197178  [682.1999999999999, 253.2, 126.3, 59.4, 16.5, ...   \n",
       "197179  [677.6999999999999, 247.5, 119.69999999999999,...   \n",
       "197180  [705.3, 250.79999999999998, 125.1, 54.0, 14.1,...   \n",
       "197181  [657.0, 257.4, 112.8, 46.5, 15.899999999999999...   \n",
       "197182  [684.3, 264.3, 119.1, 46.8, 13.2, 1.7999999999...   \n",
       "197183             [701.1, 248.1, 125.1, 49.5, 12.0, 2.4]   \n",
       "197184  [682.1999999999999, 263.4, 118.5, 51.9, 14.1, ...   \n",
       "197185  [712.8, 261.59999999999997, 127.8, 50.1, 15.89...   \n",
       "197186             [699.3, 256.2, 117.0, 47.4, 11.7, 1.2]   \n",
       "197187             [682.8, 265.2, 128.4, 49.8, 15.0, 1.5]   \n",
       "197188  [667.1999999999999, 283.2, 123.6, 45.6, 13.2, ...   \n",
       "197189  [690.9, 253.5, 120.3, 52.8, 16.2, 1.7999999999...   \n",
       "\n",
       "                              geom_transit_multiplicities  intact_fracs  \\\n",
       "197160  [918.0, 412.8, 283.5, 184.5, 98.39999999999999...      0.269299   \n",
       "197161  [955.5, 398.09999999999997, 294.0, 200.1, 94.2...      0.269213   \n",
       "197162  [934.1999999999999, 404.7, 282.0, 198.29999999...      0.269689   \n",
       "197163  [919.8, 399.59999999999997, 277.8, 198.6, 100....      0.269282   \n",
       "197164  [940.1999999999999, 385.5, 278.09999999999997,...      0.269463   \n",
       "197165  [939.0, 414.9, 279.59999999999997, 195.2999999...      0.269086   \n",
       "197166  [938.4, 426.3, 293.09999999999997, 207.0, 101....      0.269690   \n",
       "197167  [949.8, 412.8, 279.9, 193.79999999999998, 96.6...      0.269095   \n",
       "197168           [959.4, 394.8, 290.4, 198.0, 97.8, 22.8]      0.269283   \n",
       "197169           [935.4, 403.5, 280.8, 190.5, 91.5, 17.7]      0.269413   \n",
       "197170  [944.0999999999999, 417.9, 274.2, 192.29999999...      0.269420   \n",
       "197171  [933.5999999999999, 399.3, 260.7, 193.5, 101.1...      0.269432   \n",
       "197172           [950.4, 414.3, 286.2, 183.9, 91.2, 18.9]      0.269399   \n",
       "197173  [943.1999999999999, 419.4, 266.7, 186.0, 95.7,...      0.269563   \n",
       "197174  [929.4, 419.09999999999997, 290.7, 186.6, 84.3...      0.269892   \n",
       "197175  [922.1999999999999, 409.2, 277.2, 192.0, 92.1,...      0.269570   \n",
       "197176  [980.0999999999999, 423.0, 294.0, 189.29999999...      0.269506   \n",
       "197177           [955.5, 412.5, 291.0, 206.1, 86.1, 19.5]      0.269202   \n",
       "197178  [911.1, 414.59999999999997, 279.59999999999997...      0.269662   \n",
       "197179  [939.5999999999999, 405.3, 283.8, 193.79999999...      0.269228   \n",
       "197180           [955.8, 399.9, 278.7, 197.7, 91.5, 20.4]      0.269287   \n",
       "197181  [921.5999999999999, 409.2, 274.5, 184.79999999...      0.269326   \n",
       "197182           [942.0, 408.0, 280.2, 195.6, 89.1, 18.0]      0.269370   \n",
       "197183  [970.1999999999999, 396.3, 289.2, 196.2, 98.39...      0.268912   \n",
       "197184  [948.5999999999999, 426.59999999999997, 265.8,...      0.269118   \n",
       "197185  [967.1999999999999, 405.59999999999997, 287.7,...      0.269352   \n",
       "197186           [930.3, 419.7, 274.8, 194.4, 90.3, 22.5]      0.268902   \n",
       "197187  [923.6999999999999, 405.3, 295.2, 183.9, 96.0,...      0.269364   \n",
       "197188  [895.1999999999999, 451.2, 287.7, 191.1, 86.7,...      0.269400   \n",
       "197189  [938.6999999999999, 408.59999999999997, 285.9,...      0.269397   \n",
       "\n",
       "        disrupted_fracs       logLs  \n",
       "197160         0.030701 -119.869942  \n",
       "197161         0.030787 -127.323692  \n",
       "197162         0.030311 -122.047157  \n",
       "197163         0.030718 -131.158620  \n",
       "197164         0.030537 -124.907605  \n",
       "197165         0.030914 -136.327569  \n",
       "197166         0.030310 -144.676130  \n",
       "197167         0.030905 -126.081088  \n",
       "197168         0.030717 -127.360049  \n",
       "197169         0.030587 -130.833560  \n",
       "197170         0.030580 -126.031949  \n",
       "197171         0.030568 -133.921973  \n",
       "197172         0.030601 -130.902623  \n",
       "197173         0.030437 -128.013348  \n",
       "197174         0.030108 -132.198878  \n",
       "197175         0.030430 -134.009585  \n",
       "197176         0.030494 -120.924498  \n",
       "197177         0.030798 -123.827405  \n",
       "197178         0.030338 -137.044229  \n",
       "197179         0.030772 -126.059317  \n",
       "197180         0.030713 -126.659569  \n",
       "197181         0.030674 -126.946373  \n",
       "197182         0.030630 -126.357028  \n",
       "197183         0.031088 -121.096756  \n",
       "197184         0.030882 -130.084968  \n",
       "197185         0.030648 -129.611158  \n",
       "197186         0.031098 -116.853741  \n",
       "197187         0.030636 -136.501215  \n",
       "197188         0.030600 -141.662538  \n",
       "197189         0.030603 -126.737596  "
      ]
     },
     "execution_count": 303,
     "metadata": {},
     "output_type": "execute_result"
    }
   ],
   "source": [
    "test_recovery = recovery.loc[(recovery.ms == -0.2) & (recovery.bs == 1.) & (np.round(recovery.cs, -8) == 4e9) & (np.round(recovery.fs,1) == 0.3)]\n",
    "test_recovery"
   ]
  },
  {
   "cell_type": "code",
   "execution_count": 304,
   "metadata": {},
   "outputs": [
    {
     "data": {
      "text/plain": [
       "-21.473996014391417"
      ]
     },
     "execution_count": 304,
     "metadata": {},
     "output_type": "execute_result"
    }
   ],
   "source": [
    "better_loglike(np.array([690.0, 270.0, 112.5, 41.4, 12.0, 2.4]), np.sum(tm_fiducial))"
   ]
  },
  {
   "cell_type": "code",
   "execution_count": 279,
   "metadata": {},
   "outputs": [],
   "source": [
    "cube = [0,0,0]\n",
    "fs = np.round(np.linspace(0.1, 1., 10), 1)\n",
    "ndim = 3\n",
    "nparams = 3\n",
    "\n",
    "ms = []\n",
    "bs = []\n",
    "cs = []\n",
    "fs_for_df = []\n",
    "all_logLs = []\n",
    "all_transit_multiplicities = []\n",
    "\n",
    "for gi_m in range(6):\n",
    "    \n",
    "    for gi_b in range(11):\n",
    "\n",
    "        for gi_c in range(11):\n",
    "            cube = prior_grid_logslope(cube, ndim, nparams, gi_m, gi_b, gi_c)\n",
    "            \n",
    "            for f in fs:\n",
    "                \n",
    "                ms.append(cube[0])\n",
    "                bs.append(cube[1])\n",
    "                cs.append(cube[2])\n",
    "                fs_for_df.append(f)\n",
    "                \n",
    "                try:\n",
    "                    #tm = truth.loc[(truth.ms == cube[0]) & (truth.bs == cube[1]) & (np.round(truth.cs, 0) == cube[2]) & (np.round(truth.fs,1) == f)].transit_multiplicities\n",
    "                    tm_recovery = recovery.loc[(np.round(recovery.ms,1) == np.round(cube[0],1)) & (np.round(recovery.bs,1) == np.round(cube[1],1)) & (np.round(recovery.cs, 0) == np.round(cube[2],0)) & (np.round(recovery.fs,1) == f)].transit_multiplicities.to_list()\n",
    "                    \n",
    "                    # calculate logL for each realization of each model, using tm as the ground truth\n",
    "                    logLs = []\n",
    "                    for i in range(len(tm_recovery)):\n",
    "                        logL = better_loglike(tm_recovery[i], np.sum(tm_fiducial))\n",
    "                        logLs.append(logL)\n",
    "\n",
    "                    # keep median logL for each model\n",
    "                    median_logL = np.median(logLs)\n",
    "                    median_arg = argmedian(logLs)\n",
    "                    all_logLs.append(median_logL)\n",
    "                    # append transit multiplicity of the best sample for that model\n",
    "                    all_transit_multiplicities.append(tm_recovery[median_arg])\n",
    "\n",
    "                except:\n",
    "                    all_logLs.append(0.)\n",
    "                \n",
    "model_logLs = pd.DataFrame({'m': ms, 'b': bs, 'c': cs, 'f': fs_for_df, \n",
    "                            'tm': all_transit_multiplicities, 'logL': all_logLs})\n",
    "        "
   ]
  },
  {
   "cell_type": "code",
   "execution_count": 294,
   "metadata": {},
   "outputs": [
    {
     "data": {
      "image/png": "[encoded data removed]",
      "text/plain": [
       "<Figure size 720x720 with 4 Axes>"
      ]
     },
     "metadata": {
      "needs_background": "light"
     },
     "output_type": "display_data"
    }
   ],
   "source": [
    "f, ((ax1, ax2), (ax3, ax4)) = plt.subplots(2, 2, figsize=(10, 10))\n",
    "\n",
    "# marginalize in 1D\n",
    "marginalized_logLs = []\n",
    "for gi_m in range(6):\n",
    "\n",
    "    cube = prior_grid_logslope(cube, ndim, nparams, gi_m, gi_b, gi_c)\n",
    "    \n",
    "    # subset\n",
    "    only = model_logLs.loc[(np.round(model_logLs.m, 1) == np.round(cube[0], 1))]# & (model_logLs.f == 0.3)]\n",
    "    \n",
    "    # marginalize logL\n",
    "    marginalized_logLs.append(np.mean(only.logL))\n",
    "\n",
    "ax1.scatter(truth.ms.unique(), marginalized_logLs)\n",
    "ax1.set_ylabel(\"log likelihood\")\n",
    "ax1.set_xlabel(\"sculpting speed [dex]\")\n",
    "\n",
    "marginalized_logLs = []\n",
    "for gi_b in range(11):\n",
    "    \n",
    "    cube = prior_grid_logslope(cube, ndim, nparams, gi_m, gi_b, gi_c)\n",
    "    \n",
    "    # subset\n",
    "    only = model_logLs.loc[(np.round(model_logLs.b,1) == np.round(cube[1], 1))]# & (model_logLs.f == 0.3)]\n",
    "    \n",
    "    # marginalize logL\n",
    "    marginalized_logLs.append(np.mean(only.logL))\n",
    "ax2.scatter(model_logLs.b.unique(), marginalized_logLs)\n",
    "ax2.set_ylabel(\"log likelihood\")\n",
    "ax2.set_xlabel(\"b\")\n",
    "\n",
    "marginalized_logLs = []\n",
    "for gi_c in range(11):\n",
    "\n",
    "    cube = prior_grid_logslope(cube, ndim, nparams, gi_m, gi_b, gi_c)\n",
    "    \n",
    "    # subset\n",
    "    only = model_logLs.loc[(np.round(model_logLs.c,0) == np.round(cube[2], 0))]# & (model_logLs.f == 0.3)]\n",
    "    \n",
    "    # marginalize logL\n",
    "    marginalized_logLs.append(np.mean(only.logL))\n",
    "ax3.scatter(truth.cs.unique(), marginalized_logLs)\n",
    "ax3.set_ylabel(\"log likelihood\")\n",
    "ax3.set_xlabel(\"c\")\n",
    "ax3.set_xscale('log')\n",
    "\n",
    "marginalized_logLs = []\n",
    "for gi_f in np.linspace(0.1, 1, 10):\n",
    "    \n",
    "    # subset\n",
    "    only = model_logLs.loc[(np.round(model_logLs.f, 1) == np.round(gi_f, 1))]\n",
    "    \n",
    "    # marginalize logL\n",
    "    marginalized_logLs.append(np.mean(only.logL))\n",
    "ax4.scatter(np.linspace(0.1, 1, 10), marginalized_logLs)\n",
    "ax4.set_ylabel(\"log likelihood\")\n",
    "ax4.set_xlabel(\"f\")\n",
    "\n",
    "plt.tight_layout()\n",
    "plt.show()"
   ]
  },
  {
   "cell_type": "markdown",
   "metadata": {},
   "source": [
    "It appears our framework is indeed insensitive to long sculpting timescales, favoring shorter cutoff thresholds even when the ground truth is ~1 Gyr. Let's do the logL histograms as with the other ground truths to further examine this."
   ]
  },
  {
   "cell_type": "code",
   "execution_count": 302,
   "metadata": {},
   "outputs": [
    {
     "data": {
      "text/plain": [
       "6572    [676.5, 250.2, 131.4, 50.699999999999996, 15.0...\n",
       "Name: transit_multiplicities, dtype: object"
      ]
     },
     "execution_count": 302,
     "metadata": {},
     "output_type": "execute_result"
    }
   ],
   "source": [
    "model_logLs"
   ]
  },
  {
   "cell_type": "code",
   "execution_count": 306,
   "metadata": {},
   "outputs": [
    {
     "data": {
      "image/png": "[encoded data removed]",
      "text/plain": [
       "<Figure size 432x288 with 1 Axes>"
      ]
     },
     "metadata": {
      "needs_background": "light"
     },
     "output_type": "display_data"
    },
    {
     "data": {
      "image/png": "[encoded data removed]",
      "text/plain": [
       "<Figure size 432x288 with 1 Axes>"
      ]
     },
     "metadata": {
      "needs_background": "light"
     },
     "output_type": "display_data"
    },
    {
     "data": {
      "image/png": "[encoded data removed]",
      "text/plain": [
       "<Figure size 432x288 with 1 Axes>"
      ]
     },
     "metadata": {
      "needs_background": "light"
     },
     "output_type": "display_data"
    }
   ],
   "source": [
    "want = model_logLs.loc[(np.round(model_logLs.c, -8) == 4e9)]\n",
    "\n",
    "plt.hist(want.logL)\n",
    "plt.title('c = 4e9 yrs')\n",
    "plt.xlabel('logL')\n",
    "plt.ylabel('count')\n",
    "plt.show()\n",
    "\n",
    "first_threshold = model_logLs.loc[(np.round(model_logLs.c, -7) == 1e8)]\n",
    "plt.hist(first_threshold.logL)\n",
    "plt.title('c = 1e8 yrs')\n",
    "plt.xlabel('logL')\n",
    "plt.ylabel('count')\n",
    "plt.show()\n",
    "\n",
    "third_threshold = model_logLs.loc[(np.round(model_logLs.c, -7) == 2.5e8)]\n",
    "plt.hist(third_threshold.logL)\n",
    "plt.title('c = 2.5e8 yrs')\n",
    "plt.xlabel('logL')\n",
    "plt.ylabel('count')\n",
    "plt.show()"
   ]
  },
  {
   "cell_type": "markdown",
   "metadata": {},
   "source": [
    "Indeed, the long ground truth sculpting timescale peaks at -1000 logL, versus the shorter timescales that peak close to 0. Perhaps the log spacing convolved with the age distribution of the stellar sample means that longer timescales are always playing a losing game, in which marginalizing over 1D penalizes slow sculpting and/or high initial intact fractions by lumping them in with moderate and faster sculpting, which exert oversized influence over very long (Gyr+) timescales. So, let's examine the 2D marginalized likelihoods."
   ]
  },
  {
   "cell_type": "code",
   "execution_count": 307,
   "metadata": {},
   "outputs": [
    {
     "data": {
      "image/png": "[encoded data removed]",
      "text/plain": [
       "<Figure size 432x288 with 2 Axes>"
      ]
     },
     "metadata": {
      "needs_background": "light"
     },
     "output_type": "display_data"
    }
   ],
   "source": [
    "piv = model_logLs.groupby(['m','b','c']).mean('logL').reset_index().groupby(['m','b']).sum('logL').reset_index()\n",
    "\n",
    "piv = piv.pivot(\"b\",\"m\",\"logL\") # vs logged_normalized_likelihood\n",
    "#print(np.nanmin(piv.values), np.nanmax(piv.values), np.nansum(piv.values), np.nansum(np.log(piv.values)), np.log(np.nansum(piv.values)))\n",
    "#print(np.log(np.nanmin(piv.values)), np.log(np.nanmax(piv.values)))\n",
    "\n",
    "fig, ax = plt.subplots()\n",
    "sns.heatmap(piv, yticklabels=model_logLs.b.unique().round(1), cbar_kws={'label': 'logL'})\n",
    "#sns.heatmap(piv, vmin=-455, vmax=-17.9)\n",
    "ax.set_yticks(ax.get_yticks()[::2]) # sample every other tick, for cleanness\n",
    "plt.title('m = -0.2, b = 1.0, c = 4e9, f = 0.3')\n",
    "plt.show()"
   ]
  },
  {
   "cell_type": "code",
   "execution_count": 308,
   "metadata": {},
   "outputs": [
    {
     "data": {
      "image/png": "[encoded data removed]",
      "text/plain": [
       "<Figure size 432x288 with 2 Axes>"
      ]
     },
     "metadata": {
      "needs_background": "light"
     },
     "output_type": "display_data"
    }
   ],
   "source": [
    "piv = model_logLs.groupby(['m','b','c']).mean('logL').reset_index().groupby(['m','c']).sum('logL').reset_index()\n",
    "\n",
    "piv = piv.pivot(\"c\",\"m\",\"logL\") # vs logged_normalized_likelihood\n",
    "#print(np.nanmin(piv.values), np.nanmax(piv.values), np.nansum(piv.values), np.nansum(np.log(piv.values)), np.log(np.nansum(piv.values)))\n",
    "#print(np.log(np.nanmin(piv.values)), np.log(np.nanmax(piv.values)))\n",
    "\n",
    "fig, ax = plt.subplots()\n",
    "sns.heatmap(piv, yticklabels=model_logLs.c.unique().round(1), cbar_kws={'label': 'logL'})\n",
    "#sns.heatmap(piv, vmin=-455, vmax=-17.9)\n",
    "ax.set_yticks(ax.get_yticks()[::2]) # sample every other tick, for cleanness\n",
    "plt.title('m = -0.2, b = 1.0, c = 4e9, f = 0.3')\n",
    "plt.show()"
   ]
  },
  {
   "cell_type": "markdown",
   "metadata": {},
   "source": [
    "Even within the m=-0.2 column, the best cutoff timescales are sub-Gyr, with the ground truth of 4 Gyrs being relatively disfavored. Similarly, the ground truth initial intact fraction of 1.0 is only moderately favored compared to 0.5, even within the m=-0.2 column. "
   ]
  },
  {
   "cell_type": "markdown",
   "metadata": {},
   "source": [
    "Finally, let's plot good, best, and ground truth models."
   ]
  },
  {
   "cell_type": "code",
   "execution_count": 290,
   "metadata": {},
   "outputs": [
    {
     "name": "stdout",
     "output_type": "stream",
     "text": [
      "Best model:          m    b            c    f  \\\n",
      "6842  0.0  0.7  251188643.0  0.3   \n",
      "\n",
      "                                                     tm       logL  \n",
      "6842  [672.3, 255.89999999999998, 122.1, 45.0, 14.39... -19.037579  \n",
      "Ground truth:          m    b             c    f  \\\n",
      "6022 -0.2  1.0  3.981072e+09  0.3   \n",
      "\n",
      "                                                     tm       logL  \n",
      "6022  [682.1999999999999, 253.2, 126.3, 59.4, 16.5, ... -19.125226  \n",
      "Some models between best model and ground truth: \n",
      "        m    b            c    f  \\\n",
      "6842  0.0  0.7  251188643.0  0.3   \n",
      "\n",
      "                                                     tm       logL  \n",
      "6842  [672.3, 255.89999999999998, 122.1, 45.0, 14.39... -19.037579  \n"
     ]
    }
   ],
   "source": [
    "best_logL = max(model_logLs.loc[model_logLs.logL < 0.].logL)\n",
    "print(\"Best model: \", model_logLs.loc[(model_logLs.logL >= best_logL) & (model_logLs.logL < 0.)])\n",
    "\n",
    "ground_truth = model_logLs.loc[(np.round(model_logLs.m, 1) == -0.2) & (model_logLs.b == 1.) & (np.round(model_logLs.c, -8) == 4e9) & (np.round(model_logLs.f,1) == 0.3)]\n",
    "print(\"Ground truth: \", ground_truth)\n",
    "delta_logL = best_logL - ground_truth.logL.to_list()[0]\n",
    "\n",
    "good_models = model_logLs.loc[np.abs(model_logLs.logL - best_logL) < delta_logL]\n",
    "print(\"Some models between best model and ground truth: \")\n",
    "print(good_models.head())"
   ]
  },
  {
   "cell_type": "code",
   "execution_count": 311,
   "metadata": {},
   "outputs": [
    {
     "data": {
      "image/png": "[encoded data removed]",
      "text/plain": [
       "<Figure size 432x288 with 1 Axes>"
      ]
     },
     "metadata": {
      "needs_background": "light"
     },
     "output_type": "display_data"
    }
   ],
   "source": [
    "x = np.logspace(8, 10, 1000)\n",
    "\n",
    "# best model\n",
    "best_model = model_logLs.loc[(model_logLs.logL >= best_logL) & (model_logLs.logL < 0.)]\n",
    "m, b, c, f = best_model.m.to_list()[0], best_model.b.to_list()[0], best_model.c.to_list()[0], best_model.f.to_list()[0]\n",
    "plt.plot(x, build_models(x, m, b, c, f), label='best fit', color='k')\n",
    "\n",
    "# ground truth\n",
    "m, b, c, f = ground_truth.m.to_list()[0], ground_truth.b.to_list()[0], ground_truth.c.to_list()[0], ground_truth.f.to_list()[0]\n",
    "plt.plot(x, build_models(x, m, b, c, f), label='ground truth', color='r')\n",
    "\n",
    "# models as good as or better than ground truth\n",
    "good_models = good_models.drop_duplicates(subset=['m','b','c','f'])\n",
    "label_flag = True\n",
    "for index, row in good_models.reset_index().iterrows(): \n",
    "    m, b, c, f = row.m, row.b, row.c, row.f\n",
    "    if label_flag == True:\n",
    "        plt.plot(x, build_models(x, m, b, c, f), color='green', zorder=0, label='good models', alpha=0.5)\n",
    "    elif label_flag == False:\n",
    "        plt.plot(x, build_models(x, m, b, c, f), color='green', zorder=0, alpha=0.5)\n",
    "    label_flag = False  \n",
    "    \n",
    "plt.xscale('log')\n",
    "plt.ylim([0, 0.5])\n",
    "plt.xlabel('age [Gyr]')\n",
    "plt.ylabel('P(intact)')\n",
    "plt.title(f'm=-0.2, b=1.0, c=4e9 yrs, f=0.3 (slow sculpting); $\\Delta logL = {np.round(delta_logL,2)}$')\n",
    "plt.legend()\n",
    "plt.show()"
   ]
  },
  {
   "cell_type": "code",
   "execution_count": 292,
   "metadata": {},
   "outputs": [
    {
     "data": {
      "text/html": [
       "<div>\n",
       "<style scoped>\n",
       "    .dataframe tbody tr th:only-of-type {\n",
       "        vertical-align: middle;\n",
       "    }\n",
       "\n",
       "    .dataframe tbody tr th {\n",
       "        vertical-align: top;\n",
       "    }\n",
       "\n",
       "    .dataframe thead th {\n",
       "        text-align: right;\n",
       "    }\n",
       "</style>\n",
       "<table border=\"1\" class=\"dataframe\">\n",
       "  <thead>\n",
       "    <tr style=\"text-align: right;\">\n",
       "      <th></th>\n",
       "      <th>m</th>\n",
       "      <th>b</th>\n",
       "      <th>c</th>\n",
       "      <th>f</th>\n",
       "      <th>tm</th>\n",
       "      <th>logL</th>\n",
       "    </tr>\n",
       "  </thead>\n",
       "  <tbody>\n",
       "    <tr>\n",
       "      <th>6842</th>\n",
       "      <td>0.0</td>\n",
       "      <td>0.7</td>\n",
       "      <td>251188643.0</td>\n",
       "      <td>0.3</td>\n",
       "      <td>[672.3, 255.89999999999998, 122.1, 45.0, 14.39...</td>\n",
       "      <td>-19.037579</td>\n",
       "    </tr>\n",
       "  </tbody>\n",
       "</table>\n",
       "</div>"
      ],
      "text/plain": [
       "        m    b            c    f  \\\n",
       "6842  0.0  0.7  251188643.0  0.3   \n",
       "\n",
       "                                                     tm       logL  \n",
       "6842  [672.3, 255.89999999999998, 122.1, 45.0, 14.39... -19.037579  "
      ]
     },
     "execution_count": 292,
     "metadata": {},
     "output_type": "execute_result"
    }
   ],
   "source": [
    "good_models"
   ]
  },
  {
   "cell_type": "markdown",
   "metadata": {},
   "source": [
    "Lol. Okay, how about we extend the bubble of what constitutes a \"good model\". "
   ]
  },
  {
   "cell_type": "code",
   "execution_count": 316,
   "metadata": {},
   "outputs": [
    {
     "data": {
      "image/png": "[encoded data removed]",
      "text/plain": [
       "<Figure size 432x288 with 1 Axes>"
      ]
     },
     "metadata": {
      "needs_background": "light"
     },
     "output_type": "display_data"
    }
   ],
   "source": [
    "x = np.logspace(8, 10, 1000)\n",
    "\n",
    "# best model\n",
    "best_model = model_logLs.loc[(model_logLs.logL >= best_logL) & (model_logLs.logL < 0.)]\n",
    "m, b, c, f = best_model.m.to_list()[0], best_model.b.to_list()[0], best_model.c.to_list()[0], best_model.f.to_list()[0]\n",
    "plt.plot(x, build_models(x, m, b, c, f), label='best fit', color='k')\n",
    "\n",
    "# ground truth\n",
    "m, b, c, f = ground_truth.m.to_list()[0], ground_truth.b.to_list()[0], ground_truth.c.to_list()[0], ground_truth.f.to_list()[0]\n",
    "plt.plot(x, build_models(x, m, b, c, f), label='ground truth', color='r')\n",
    "\n",
    "# models as good as or better than ground truth\n",
    "goodish_models = model_logLs.loc[model_logLs.logL > -25]\n",
    "goodish_models = goodish_models.drop_duplicates(subset=['m','b','c','f'])\n",
    "label_flag = True\n",
    "for index, row in goodish_models.reset_index().iterrows(): \n",
    "    m, b, c, f = row.m, row.b, row.c, row.f\n",
    "    if label_flag == True:\n",
    "        plt.plot(x, build_models(x, m, b, c, f), color='green', zorder=0, label='goodish models', alpha=0.5)\n",
    "    elif label_flag == False:\n",
    "        plt.plot(x, build_models(x, m, b, c, f), color='green', zorder=0, alpha=0.5)\n",
    "    label_flag = False  \n",
    "    \n",
    "plt.xscale('log')\n",
    "plt.ylim([0, 0.5])\n",
    "plt.xlabel('age [Gyr]')\n",
    "plt.ylabel('P(intact)')\n",
    "plt.title(r'm=-0.2, b=1.0, c=4e9 yrs, f=0.3 (slow sculpting); $\\Delta logL = 6ish$')\n",
    "plt.legend()\n",
    "plt.show()"
   ]
  },
  {
   "cell_type": "code",
   "execution_count": null,
   "metadata": {},
   "outputs": [],
   "source": []
  }
 ],
 "metadata": {
  "kernelspec": {
   "display_name": "Python 3",
   "language": "python",
   "name": "python3"
  },
  "language_info": {
   "codemirror_mode": {
    "name": "ipython",
    "version": 3
   },
   "file_extension": ".py",
   "mimetype": "text/x-python",
   "name": "python",
   "nbconvert_exporter": "python",
   "pygments_lexer": "ipython3",
   "version": "3.6.8"
  }
 },
 "nbformat": 4,
 "nbformat_minor": 2
}
