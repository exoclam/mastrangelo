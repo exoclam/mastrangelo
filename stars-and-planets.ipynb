{
 "cells": [
  {
   "cell_type": "markdown",
   "metadata": {},
   "source": [
    "Just a reader-friendly version of isolate.ipynb"
   ]
  },
  {
   "cell_type": "markdown",
   "metadata": {},
   "source": [
    "## Initial Cuts"
   ]
  },
  {
   "cell_type": "code",
   "execution_count": 62,
   "metadata": {},
   "outputs": [
    {
     "name": "stdout",
     "output_type": "stream",
     "text": [
      "186301\n",
      "      KIC  iso_mass  iso_mass_err1  iso_mass_err2  iso_teff  iso_teff_err1  \\\n",
      "0  757076     1.396          0.179         -0.218    5052.2          103.9   \n",
      "1  757099     0.873          0.054         -0.039    5364.9          102.7   \n",
      "2  757137     1.669          0.309         -0.300    4628.7           84.8   \n",
      "3  757280     1.715          0.086         -0.089    6856.8          144.4   \n",
      "4  757450     0.914          0.062         -0.057    5301.2          111.0   \n",
      "\n",
      "   iso_teff_err2  iso_logg  iso_logg_err1  iso_logg_err2  ...  iso_age  \\\n",
      "0          -86.6     3.373          0.067         -0.081  ...     2.47   \n",
      "1          -84.9     4.318          0.037         -0.029  ...    15.20   \n",
      "2          -76.2     2.388          0.083         -0.086  ...     1.51   \n",
      "3         -139.9     3.834          0.033         -0.032  ...     1.24   \n",
      "4         -103.1     4.432          0.045         -0.044  ...     9.46   \n",
      "\n",
      "   unReAgeFlag  iso_age_err1  iso_age_err2  iso_dis  iso_dis_err1  \\\n",
      "0          NaN          1.82         -0.73    651.5          22.6   \n",
      "1          NaN          3.00         -3.98    367.8           7.1   \n",
      "2          NaN          1.06         -0.58    568.4          12.2   \n",
      "3          NaN          0.20         -0.16    822.0          19.4   \n",
      "4          NaN          5.36         -5.15    829.6          24.0   \n",
      "\n",
      "   iso_dis_err2  iso_avs  iso_gof   TAMS  \n",
      "0         -21.6    0.371      1.0   2.69  \n",
      "1          -6.9    0.340      1.0  17.18  \n",
      "2         -11.6    0.344      1.0   1.66  \n",
      "3         -21.0    0.496      1.0   1.62  \n",
      "4         -23.4    0.465      1.0  16.10  \n",
      "\n",
      "[5 rows x 32 columns]\n",
      "Index(['KIC', 'iso_mass', 'iso_mass_err1', 'iso_mass_err2', 'iso_teff',\n",
      "       'iso_teff_err1', 'iso_teff_err2', 'iso_logg', 'iso_logg_err1',\n",
      "       'iso_logg_err2', 'iso_feh', 'iso_feh_err1', 'iso_feh_err2', 'iso_rad',\n",
      "       'iso_rad_err1', 'iso_rad_err2', 'iso_rho', 'iso_rho_err1',\n",
      "       'iso_rho_err2', 'iso_lum', 'iso_lum_err1', 'iso_lum_err2', 'iso_age',\n",
      "       'unReAgeFlag', 'iso_age_err1', 'iso_age_err2', 'iso_dis',\n",
      "       'iso_dis_err1', 'iso_dis_err2', 'iso_avs', 'iso_gof', 'TAMS'],\n",
      "      dtype='object')\n"
     ]
    }
   ],
   "source": [
    "import pandas as pd\n",
    "import numpy as np\n",
    "from astropy.io import fits\n",
    "from astropy.table import Table\n",
    "import matplotlib.pyplot as plt\n",
    "%matplotlib inline\n",
    "path = '/Users/chrislam/Desktop/sculpting/berger_gaia_kepler/'\n",
    "# all data downloaded from Berger et al 2020's ancillary tables: https://arxiv.org/src/2001.07737v3/anc\n",
    "# the paper we're comparing against: https://arxiv.org/pdf/2005.14671.pdf\n",
    "# command line edit to get rid of double backslashes at end of each row: sed -e \"s/\\\\\\//g\" GKSPCPapTable2_Final.txt > GKSPCPapTable2_cleaned.txt\n",
    "table2 = pd.read_csv(path+'GKSPCPapTable2_cleaned.txt', sep='&', header=0)\n",
    "print(len(table2))\n",
    "print(table2.head())\n",
    "print(table2.columns)"
   ]
  },
  {
   "cell_type": "code",
   "execution_count": 63,
   "metadata": {},
   "outputs": [
    {
     "name": "stdout",
     "output_type": "stream",
     "text": [
      "175408\n"
     ]
    }
   ],
   "source": [
    "# remove stars with unreliable ages or bad goodness of fit\n",
    "#table2 = table2.loc[(table2.unReAgeFlag.isnull()) & (table2.iso_gof==1.)]\n",
    "table2 = table2.loc[table2.iso_gof==1.]\n",
    "print(len(table2))"
   ]
  },
  {
   "cell_type": "code",
   "execution_count": 60,
   "metadata": {},
   "outputs": [
    {
     "name": "stdout",
     "output_type": "stream",
     "text": [
      "150560\n"
     ]
    }
   ],
   "source": [
    "# remove stars with uninformative posteriors (per paper, terminal age of main sequence > 20 Gyr)\n",
    "table2 = table2.loc[table2['TAMS']<=20]\n",
    "print(len(table2))\n",
    "# nice to see that tracks with bad gof or unreliable age"
   ]
  },
  {
   "cell_type": "code",
   "execution_count": 64,
   "metadata": {},
   "outputs": [
    {
     "name": "stdout",
     "output_type": "stream",
     "text": [
      "171730\n"
     ]
    }
   ],
   "source": [
    "# remove stars beyond [3700, 7500] K Teff, ie. keep only FGK stars\n",
    "fgk = table2.loc[(table2['iso_teff'] <= 7500) & (table2['iso_teff'] >= 3700)]\n",
    "print(len(fgk))"
   ]
  },
  {
   "cell_type": "code",
   "execution_count": 65,
   "metadata": {},
   "outputs": [
    {
     "name": "stdout",
     "output_type": "stream",
     "text": [
      "164740\n",
      "      KIC     gmag  gmag_err    kmag  kmag_err  parallax  parallax_err    feh  \\\n",
      "0  757076  12.3510    0.0203   9.559     0.017    1.5239        0.0483    NaN   \n",
      "2  757137  10.0523    0.0279   6.722     0.017    1.7534        0.0253    NaN   \n",
      "3  757280  12.1329    0.0200  10.627     0.018    1.2137        0.0220    NaN   \n",
      "4  757450  15.8950    0.0202  13.118     0.029    1.1989        0.0261  0.229   \n",
      "7  892010  12.6168    0.0209   9.041     0.017    0.5414        0.0242    NaN   \n",
      "\n",
      "   feh_err    RUWE  num_gaia_companions Kmag_final_prov evstate  \n",
      "0      NaN  0.9467                    0             NaN     NaN  \n",
      "2      NaN  0.9126                    0             NaN     RGB  \n",
      "3      NaN  0.8704                    0             NaN     NaN  \n",
      "4     0.15  1.0300                    0             NaN     NaN  \n",
      "7      NaN  1.0141                    0             NaN     NaN  \n",
      "Index(['KIC', 'gmag', 'gmag_err', 'kmag', 'kmag_err', 'parallax',\n",
      "       'parallax_err', 'feh', 'feh_err', 'RUWE', 'num_gaia_companions',\n",
      "       'Kmag_final_prov', 'evstate'],\n",
      "      dtype='object')\n"
     ]
    }
   ],
   "source": [
    "# introduce Table 1 to use RUWE (re-normalized unit-weight error), aka binary star/edge-of-parameter space classifier\n",
    "# command line edit to get rid of double backslashes at end of each row: sed -e \"s/\\\\\\//g\" GKSPCPapTable1_Final.txt > GKSPCPapTable1_cleaned.txt\n",
    "table1 = pd.read_csv(path+'GKSPCPapTable1_cleaned.txt', sep='&', header=0)\n",
    "table1 = table1.loc[table1.RUWE<=1.2]\n",
    "print(len(table1))\n",
    "print(table1.head())\n",
    "print(table1.columns)"
   ]
  },
  {
   "cell_type": "code",
<<<<<<< HEAD
   "execution_count": 66,
=======
   "execution_count": 6,
>>>>>>> ac05d74e5ac2b771d66407161f3fc7cf8e0ab760
   "metadata": {},
   "outputs": [
    {
     "name": "stdout",
     "output_type": "stream",
     "text": [
      "      KIC  iso_mass  iso_mass_err1  iso_mass_err2  iso_teff  iso_teff_err1  \\\n",
      "0  757076     1.396          0.179         -0.218    5052.2          103.9   \n",
      "1  757137     1.669          0.309         -0.300    4628.7           84.8   \n",
      "2  757280     1.715          0.086         -0.089    6856.8          144.4   \n",
      "3  757450     0.914          0.062         -0.057    5301.2          111.0   \n",
      "4  892010     1.710          0.708         -0.402    4555.8          141.3   \n",
      "\n",
      "   iso_teff_err2  iso_logg  iso_logg_err1  iso_logg_err2  ...    kmag  \\\n",
      "0          -86.6     3.373          0.067         -0.081  ...   9.559   \n",
      "1          -76.2     2.388          0.083         -0.086  ...   6.722   \n",
      "2         -139.9     3.834          0.033         -0.032  ...  10.627   \n",
      "3         -103.1     4.432          0.045         -0.044  ...  13.118   \n",
      "4          -92.4     2.299          0.163         -0.119  ...   9.041   \n",
      "\n",
      "   kmag_err  parallax  parallax_err    feh  feh_err    RUWE  \\\n",
      "0     0.017    1.5239        0.0483    NaN      NaN  0.9467   \n",
      "1     0.017    1.7534        0.0253    NaN      NaN  0.9126   \n",
      "2     0.018    1.2137        0.0220    NaN      NaN  0.8704   \n",
      "3     0.029    1.1989        0.0261  0.229     0.15  1.0300   \n",
      "4     0.017    0.5414        0.0242    NaN      NaN  1.0141   \n",
      "\n",
      "   num_gaia_companions  Kmag_final_prov  evstate  \n",
      "0                    0              NaN      NaN  \n",
      "1                    0              NaN      RGB  \n",
      "2                    0              NaN      NaN  \n",
      "3                    0              NaN      NaN  \n",
      "4                    0              NaN      NaN  \n",
      "\n",
      "[5 rows x 44 columns]\n",
      "151894\n"
     ]
    }
   ],
   "source": [
    "# join tables\n",
    "catalog = pd.merge(fgk, table1, how='inner', on='KIC')\n",
    "print(catalog.head())\n",
    "print(len(catalog))"
   ]
  },
  {
   "cell_type": "code",
<<<<<<< HEAD
   "execution_count": 67,
=======
   "execution_count": 7,
>>>>>>> ac05d74e5ac2b771d66407161f3fc7cf8e0ab760
   "metadata": {},
   "outputs": [
    {
     "name": "stdout",
     "output_type": "stream",
     "text": [
      "132424\n",
      "      KIC  iso_mass  iso_mass_err1  iso_mass_err2  iso_teff  iso_teff_err1  \\\n",
      "2  757280     1.715          0.086         -0.089    6856.8          144.4   \n",
      "3  757450     0.914          0.062         -0.057    5301.2          111.0   \n",
      "6  892195     0.862          0.057         -0.040    5333.4          101.3   \n",
      "7  892667     1.548          0.081         -0.087    6704.9          148.8   \n",
      "8  892675     1.038          0.066         -0.076    5929.4          108.9   \n",
      "\n",
      "   iso_teff_err2  iso_logg  iso_logg_err1  iso_logg_err2  ...  parallax  \\\n",
      "2         -139.9     3.834          0.033         -0.032  ...    1.2137   \n",
      "3         -103.1     4.432          0.045         -0.044  ...    1.1989   \n",
      "6          -84.2     4.372          0.039         -0.029  ...    2.0802   \n",
      "7         -128.8     3.950          0.034         -0.036  ...    0.8512   \n",
      "8         -108.1     4.385          0.035         -0.043  ...    1.7114   \n",
      "\n",
      "   parallax_err    feh  feh_err    RUWE  num_gaia_companions  Kmag_final_prov  \\\n",
      "2        0.0220    NaN      NaN  0.8704                    0              NaN   \n",
      "3        0.0261  0.229     0.15  1.0300                    0              NaN   \n",
      "6        0.0167    NaN      NaN  1.1211                    0              NaN   \n",
      "7        0.0154    NaN      NaN  0.8674                    0              NaN   \n",
      "8        0.0142    NaN      NaN  1.0648                    0              NaN   \n",
      "\n",
      "   evstate      logR  is_giant  \n",
      "2      NaN  0.416641     False  \n",
      "3      NaN -0.019088     False  \n",
      "6      NaN -0.000869     False  \n",
      "7      NaN  0.337060     False  \n",
      "8      NaN  0.033424     False  \n",
      "\n",
      "[5 rows x 46 columns]\n"
     ]
    }
   ],
   "source": [
    "# isolate giant stars\n",
    "# using unnumbered equation in first paragraph of Sec 4.2.1 (\"Sample Selection\") in Berger et al 2020b \n",
    "catalog['logR'] = np.log10(catalog.iso_rad)\n",
    "catalog['is_giant'] = np.where(catalog['logR'] >= 0.00035*(catalog['iso_teff'] - 4500) + 0.15, True, False)\n",
    "catalog = catalog.loc[catalog['is_giant'] == False]\n",
    "print(len(catalog))\n",
    "print(catalog.head())"
   ]
  },
  {
   "cell_type": "code",
   "execution_count": 8,
<<<<<<< HEAD
=======
   "metadata": {},
   "outputs": [],
   "source": [
    "# remove stars older than the age of the Universe. NO\n",
    "#catalog = catalog.loc[catalog.iso_age <= 14.]"
   ]
  },
  {
   "cell_type": "code",
   "execution_count": 9,
>>>>>>> ac05d74e5ac2b771d66407161f3fc7cf8e0ab760
   "metadata": {},
   "outputs": [
    {
     "data": {
      "image/png": "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\n",
      "text/plain": [
       "<Figure size 432x288 with 1 Axes>"
      ]
     },
     "metadata": {
      "needs_background": "light"
     },
     "output_type": "display_data"
    }
   ],
   "source": [
    "plt.scatter(catalog.iso_teff, np.abs(catalog.iso_age_err1)+np.abs(catalog.iso_age_err2), s=2)\n",
    "plt.show()"
   ]
  },
  {
   "cell_type": "code",
   "execution_count": 12,
   "metadata": {},
   "outputs": [
    {
     "data": {
      "text/html": [
       "<div>\n",
       "<style scoped>\n",
       "    .dataframe tbody tr th:only-of-type {\n",
       "        vertical-align: middle;\n",
       "    }\n",
       "\n",
       "    .dataframe tbody tr th {\n",
       "        vertical-align: top;\n",
       "    }\n",
       "\n",
       "    .dataframe thead th {\n",
       "        text-align: right;\n",
       "    }\n",
       "</style>\n",
       "<table border=\"1\" class=\"dataframe\">\n",
       "  <thead>\n",
       "    <tr style=\"text-align: right;\">\n",
       "      <th></th>\n",
       "      <th>iso_age</th>\n",
       "      <th>iso_age_err1</th>\n",
       "      <th>iso_age_err2</th>\n",
       "      <th>iso_mass</th>\n",
       "      <th>iso_rad</th>\n",
       "    </tr>\n",
       "  </thead>\n",
       "  <tbody>\n",
       "    <tr>\n",
       "      <th>200</th>\n",
       "      <td>1.64</td>\n",
       "      <td>0.57</td>\n",
       "      <td>-0.63</td>\n",
       "      <td>1.316</td>\n",
       "      <td>1.472</td>\n",
       "    </tr>\n",
       "  </tbody>\n",
       "</table>\n",
       "</div>"
      ],
      "text/plain": [
       "     iso_age  iso_age_err1  iso_age_err2  iso_mass  iso_rad\n",
       "200     1.64          0.57         -0.63     1.316    1.472"
      ]
     },
     "execution_count": 12,
     "metadata": {},
     "output_type": "execute_result"
    }
   ],
   "source": [
    "catalog.loc[catalog.KIC==1430163][['iso_age', 'iso_age_err1', 'iso_age_err2', 'iso_mass', 'iso_rad']]"
   ]
  },
  {
   "cell_type": "code",
   "execution_count": 14,
   "metadata": {},
   "outputs": [
    {
     "data": {
      "text/html": [
       "<div>\n",
       "<style scoped>\n",
       "    .dataframe tbody tr th:only-of-type {\n",
       "        vertical-align: middle;\n",
       "    }\n",
       "\n",
       "    .dataframe tbody tr th {\n",
       "        vertical-align: top;\n",
       "    }\n",
       "\n",
       "    .dataframe thead th {\n",
       "        text-align: right;\n",
       "    }\n",
       "</style>\n",
       "<table border=\"1\" class=\"dataframe\">\n",
       "  <thead>\n",
       "    <tr style=\"text-align: right;\">\n",
       "      <th></th>\n",
       "      <th>iso_age</th>\n",
       "      <th>iso_age_err1</th>\n",
       "      <th>iso_age_err2</th>\n",
       "      <th>iso_mass</th>\n",
       "      <th>iso_rad</th>\n",
       "    </tr>\n",
       "  </thead>\n",
       "  <tbody>\n",
       "    <tr>\n",
       "      <th>75148</th>\n",
       "      <td>2.14</td>\n",
       "      <td>0.42</td>\n",
       "      <td>-0.43</td>\n",
       "      <td>1.401</td>\n",
       "      <td>1.832</td>\n",
       "    </tr>\n",
       "  </tbody>\n",
       "</table>\n",
       "</div>"
      ],
      "text/plain": [
       "       iso_age  iso_age_err1  iso_age_err2  iso_mass  iso_rad\n",
       "75148     2.14          0.42         -0.43     1.401    1.832"
      ]
     },
     "execution_count": 14,
     "metadata": {},
     "output_type": "execute_result"
    }
   ],
   "source": [
    "catalog.loc[catalog.KIC==8494142][['iso_age', 'iso_age_err1', 'iso_age_err2', 'iso_mass', 'iso_rad']]"
   ]
  },
  {
   "cell_type": "code",
   "execution_count": null,
   "metadata": {},
   "outputs": [],
   "source": []
  },
  {
   "cell_type": "markdown",
   "metadata": {},
   "source": [
    "#### Big decision here"
   ]
  },
  {
   "cell_type": "markdown",
   "metadata": {},
   "source": [
    "Do I make my age error cuts based on the same value for all stars (1 Gyr) or based on fractional age errors like Berger et al 2020a do (median is at 0.56)?"
   ]
  },
  {
   "cell_type": "code",
   "execution_count": 13,
   "metadata": {},
   "outputs": [
    {
     "name": "stdout",
     "output_type": "stream",
     "text": [
      "112397\n"
     ]
    },
    {
     "data": {
      "image/png": "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\n",
      "text/plain": [
       "<Figure size 432x288 with 1 Axes>"
      ]
     },
     "metadata": {
      "needs_background": "light"
     },
     "output_type": "display_data"
    },
    {
     "name": "stdout",
     "output_type": "stream",
     "text": [
      "67380\n",
      "2873\n",
      "0.042638765212229146\n"
     ]
    }
   ],
   "source": [
    "### OLD WAY\n",
    "# get rid of stars with age errors greater than 1 Gyr\n",
    "print(len(catalog))\n",
    "#catalog = catalog.loc[np.abs(catalog.iso_age_err1) < 1.]\n",
    "#catalog = catalog.loc[np.abs(catalog.iso_age_err2) < 1.]\n",
    "\n",
    "### POTENTIAL NEW WAY\n",
    "# get rid of stars with fractional age errors greater than 0.75 (after the last peak, based on Fig 11 in Berger et al 2020a\n",
    "\n",
    "catalog['fractional_err1'] = catalog.iso_age_err1/catalog.iso_age\n",
    "catalog['fractional_err2'] = catalog.iso_age_err2/catalog.iso_age\n",
    "plt.scatter(catalog.iso_teff, catalog.fractional_err1, s=2)\n",
    "plt.show()\n",
    "\n",
    "catalog = catalog.loc[catalog.fractional_err1 <= 0.56]\n",
    "catalog = catalog.loc[np.abs(catalog.fractional_err2) <= 0.56]\n",
    "print(len(catalog))\n",
    "print(len(catalog.loc[catalog.iso_teff < 5300])) # how many of these are K dwarfs?\n",
    "print(len(catalog.loc[catalog.iso_teff < 5300])/len(catalog))\n"
   ]
  },
  {
   "cell_type": "code",
   "execution_count": 14,
   "metadata": {},
   "outputs": [
    {
     "name": "stdout",
     "output_type": "stream",
     "text": [
      "735\n",
      "66645\n",
      "0.011028584289894216\n",
      "5.3\n"
     ]
    }
   ],
   "source": [
    "# young vs old fraction\n",
    "print(len(catalog.loc[catalog.iso_age <= 1]))\n",
    "print(len(catalog.loc[catalog.iso_age > 1]))\n",
    "print(len(catalog.loc[catalog.iso_age <= 1])/len(catalog.loc[catalog.iso_age > 1]))\n",
    "print(np.median(catalog.iso_age))"
   ]
  },
  {
   "cell_type": "code",
   "execution_count": 11,
   "metadata": {},
   "outputs": [],
   "source": [
    "catalog.to_csv('/Users/chrislam/Desktop/sculpting/berger_kepler_stellar_fgk.csv', index=False)"
   ]
  },
  {
   "cell_type": "markdown",
   "metadata": {},
   "source": [
    "I *guess* there are enough K dwarfs left to warrant including them in the title of this project."
   ]
  },
  {
   "cell_type": "code",
   "execution_count": 68,
   "metadata": {},
   "outputs": [
    {
     "data": {
      "image/png": "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\n",
      "text/plain": [
       "<Figure size 432x288 with 1 Axes>"
      ]
     },
     "metadata": {
      "needs_background": "light"
     },
     "output_type": "display_data"
    }
   ],
   "source": [
    "#plt.scatter(catalog.iso_teff, np.abs(catalog.iso_age_err1)+np.abs(catalog.iso_age_err2), s=2)\n",
    "plt.scatter(catalog.iso_teff, (np.abs(catalog.fractional_err1)+np.abs(catalog.fractional_err2))/2, s=2)\n",
    "plt.show()"
   ]
  },
  {
   "cell_type": "code",
   "execution_count": 32,
   "metadata": {},
   "outputs": [
    {
     "name": "stdout",
     "output_type": "stream",
     "text": [
<<<<<<< HEAD
      "[ 3844 14521 17163 15673 14000 12281 10937  9156  7648  6387  5782  4283\n",
      "  2880  2068  1586  1219   995   989   837   175]\n",
      "[ 0.14   1.078  2.016  2.954  3.892  4.83   5.768  6.706  7.644  8.582\n",
      "  9.52  10.458 11.396 12.334 13.272 14.21  15.148 16.086 17.024 17.962\n",
      " 18.9  ]\n"
=======
      "[   4   13   47  107  157  355  903 1264 1380 1479 1701 1929 2163 2549\n",
      " 3124 3481 3842 4010 3938 3735 3568 3116 2893 2514 2418 1965 1752 1713\n",
      " 1489 1325 1100  976  888  797  686  594  560  459  338  369  305  242\n",
      "  223  183  183  130  136  110   92   75] [4879.6   4932.002 4984.404 5036.806 5089.208 5141.61  5194.012 5246.414\n",
      " 5298.816 5351.218 5403.62  5456.022 5508.424 5560.826 5613.228 5665.63\n",
      " 5718.032 5770.434 5822.836 5875.238 5927.64  5980.042 6032.444 6084.846\n",
      " 6137.248 6189.65  6242.052 6294.454 6346.856 6399.258 6451.66  6504.062\n",
      " 6556.464 6608.866 6661.268 6713.67  6766.072 6818.474 6870.876 6923.278\n",
      " 6975.68  7028.082 7080.484 7132.886 7185.288 7237.69  7290.092 7342.494\n",
      " 7394.896 7447.298 7499.7  ]\n"
>>>>>>> ac05d74e5ac2b771d66407161f3fc7cf8e0ab760
     ]
    },
    {
     "data": {
<<<<<<< HEAD
      "image/png": "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\n",
=======
      "image/png": "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\n",
>>>>>>> ac05d74e5ac2b771d66407161f3fc7cf8e0ab760
      "text/plain": [
       "<Figure size 360x360 with 2 Axes>"
      ]
     },
     "metadata": {
      "needs_background": "light"
     },
     "output_type": "display_data"
    }
   ],
   "source": [
    "# teff histogram for all stars with well-constrained ages \n",
    "teff_hist, teff_bin_edges = np.histogram(catalog.iso_teff, bins=50)\n",
    "print(teff_hist, teff_bin_edges)\n",
    "#plt.bar(teff_bin_edges[:-1], teff_hist, width = 0.3)\n",
    "\n",
    "fig, axes = plt.subplots(figsize=(5,5))\n",
    "ax1 = plt.subplot2grid((2,1), (0,0))\n",
    "ax1.hist(catalog.iso_teff, bins=50, alpha=0.7)\n",
    "ax1.set_ylabel(\"count\")\n",
    "ax1.set_xlabel(r\"$T_{eff}$ [K]\")\n",
    "# plot vertical red line through median Teff\n",
    "ax1.plot([np.median(catalog.iso_teff), np.median(catalog.iso_teff)], \n",
    "         [0,4100], color='r', alpha=0.3, linestyle='--', label=r'median $T_{eff}$')\n",
    "ax1.legend()\n",
    "\n",
    "ax2 = plt.subplot2grid((2,1), (1,0))\n",
    "ax2.hist(catalog.iso_age, bins=50, alpha=0.7)\n",
    "# plot vertical red line through median age \n",
    "ax2.plot([np.median(catalog.iso_age), np.median(catalog.iso_age)], \n",
    "         [0,3400], color='r', alpha=0.3, linestyle='--', label='median age')\n",
    "ax2.set_ylabel(\"count\")\n",
    "ax2.set_xlabel(\"age [Gyr]\")\n",
    "ax2.legend()\n",
    "fig.tight_layout()\n",
    "plt.savefig('/Users/chrislam/Desktop/sculpting/paper/sample_properties.eps', format='eps')\n",
    "\n",
    "plt.show()\n",
    "\n",
    "#plt.hist(catalog.iso_mass, bins=50)\n",
    "#plt.show()"
   ]
  },
  {
   "cell_type": "code",
   "execution_count": 33,
   "metadata": {},
   "outputs": [
    {
     "data": {
      "text/plain": [
       "0.41"
      ]
     },
     "execution_count": 33,
     "metadata": {},
     "output_type": "execute_result"
    }
   ],
   "source": [
    "min(catalog.iso_age)"
   ]
  },
  {
   "cell_type": "markdown",
   "metadata": {},
   "source": [
    "### Cross matching with Kepler (Bedell's gaia-kepler.fun)"
   ]
  },
  {
   "cell_type": "code",
<<<<<<< HEAD
   "execution_count": 69,
=======
   "execution_count": null,
>>>>>>> ac05d74e5ac2b771d66407161f3fc7cf8e0ab760
   "metadata": {},
   "outputs": [],
   "source": [
    "# cross-matching from Megan Bedell's gaia-kepler.fun KIC objs\n",
    "path = '/Users/chris/Desktop/sculpting/crossmatch_fun/'\n",
    "hdu1 = fits.open(path+'kepler_dr2_1arcsec.fits')\n",
    "data = hdu1[1].data\n",
    "header = hdu1[1].header\n",
    "columns = hdu1[1].columns\n",
    "hdu1.close()"
   ]
  },
  {
   "cell_type": "code",
   "execution_count": 70,
   "metadata": {},
   "outputs": [
    {
     "name": "stdout",
     "output_type": "stream",
     "text": [
      "134\n",
      "(1635721458409799680, 'Gaia DR2 2050233807328471424', 2050233807328471424, 689405501, 2015.5, 291.03868130517526, 0.03587841951696976, 36.59803050177959, 0.04783193100319975, 1.4939158842221332, 0.04832756321407145, 30.912294, -4.960813153860173, 0.07927500542638122, -13.68268408787783, 0.08135066853388584, -0.035100333, 0.021850584, -0.03170967, -0.33841524, 0.5000767, -0.4209503, -0.23012185, -0.22412002, -0.15750915, -0.044099208, 105, 105, 100, 5, 2.0918074, 126.04239, 0.0, 0.0, 31, True, 611.1396, 1.5567976316779424, 0.011957889387888977, -0.27091637, 12, 10, 0.05254074, 0, 12, True, 93, 429068.4313471665, 130.7086417277348, 3282.6326, 11.607049, 12, 196805.46926130765, 360.63177916615274, 545.7241, 12.116295, 12, 329938.42846827576, 372.9979353685019, 884.55835, 10.9658375, 1.2276454, 0, 1.1504574, 0.5092459, 0.6412115, -16.281547099993276, 0.637275923583524, 6, 5000.0, 3.0, 0.0, 'NOT_AVAILABLE', 69.18255203341805, 9.799582973400991, 302.6196112374861, 57.67861553804456, 100001, 4927.0034, 4823.0, 5027.3364, nan, nan, nan, nan, nan, nan, 200111, 4.0068164, 3.8484802, 4.1814857, 8.523638, 8.141349, 8.905927, 'http://geadata.esac.esa.int/data-server/datalink/links?ID=2050233807328471424', '', 757076, 291.03873, 36.598129, 657.66389210873, 637.236310606064, 679.419306153879, 1464.73707278111, 1, 1, '2MASS J19240929+3635532', 11.678, 5160, 171, -156, 'PHO1', 3.58, 0.928, -0.232, 'KIC0', -0.1, 0.3, -0.3, 'KIC0', 3.128, 0.987, -2.304, 1.357, 0.204, -0.475, 'DSEP', 0, 0, 0, 10.126, 9.667, 9.559, 'none', 0.15616014755659263)\n",
      "134\n",
      "ColDefs(\n",
      "    name = 'solution_id'; format = 'K'; null = 999999\n",
      "    name = 'designation'; format = '28A'\n",
      "    name = 'source_id'; format = 'K'; null = 999999\n",
      "    name = 'random_index'; format = 'K'; null = 999999\n",
      "    name = 'gaia_ref_epoch'; format = 'D'\n",
      "    name = 'ra'; format = 'D'; unit = 'deg'\n",
      "    name = 'ra_error'; format = 'D'; unit = '10**-3 arcsec'\n",
      "    name = 'dec'; format = 'D'; unit = 'deg'\n",
      "    name = 'dec_error'; format = 'D'; unit = '10**-3 arcsec'\n",
      "    name = 'parallax'; format = 'D'; unit = '10**-3 arcsec'\n",
      "    name = 'parallax_error'; format = 'D'; unit = '10**-3 arcsec'\n",
      "    name = 'parallax_over_error'; format = 'E'\n",
      "    name = 'pmra'; format = 'D'; unit = '10**-3 arcsec yr-1'\n",
      "    name = 'pmra_error'; format = 'D'; unit = '10**-3 arcsec yr-1'\n",
      "    name = 'pmdec'; format = 'D'; unit = '10**-3 arcsec yr-1'\n",
      "    name = 'pmdec_error'; format = 'D'; unit = '10**-3 arcsec yr-1'\n",
      "    name = 'ra_dec_corr'; format = 'E'\n",
      "    name = 'ra_parallax_corr'; format = 'E'\n",
      "    name = 'ra_pmra_corr'; format = 'E'\n",
      "    name = 'ra_pmdec_corr'; format = 'E'\n",
      "    name = 'dec_parallax_corr'; format = 'E'\n",
      "    name = 'dec_pmra_corr'; format = 'E'\n",
      "    name = 'dec_pmdec_corr'; format = 'E'\n",
      "    name = 'parallax_pmra_corr'; format = 'E'\n",
      "    name = 'parallax_pmdec_corr'; format = 'E'\n",
      "    name = 'pmra_pmdec_corr'; format = 'E'\n",
      "    name = 'astrometric_n_obs_al'; format = 'J'; null = 999999\n",
      "    name = 'astrometric_n_obs_ac'; format = 'J'; null = 999999\n",
      "    name = 'astrometric_n_good_obs_al'; format = 'J'; null = 999999\n",
      "    name = 'astrometric_n_bad_obs_al'; format = 'J'; null = 999999\n",
      "    name = 'astrometric_gof_al'; format = 'E'\n",
      "    name = 'astrometric_chi2_al'; format = 'E'\n",
      "    name = 'astrometric_excess_noise'; format = 'D'; unit = 'mas'\n",
      "    name = 'astrometric_excess_noise_sig'; format = 'D'\n",
      "    name = 'astrometric_params_solved'; format = 'I'; null = 16959\n",
      "    name = 'astrometric_primary_flag'; format = 'L'\n",
      "    name = 'astrometric_weight_al'; format = 'E'; unit = 'mas-2'\n",
      "    name = 'astrometric_pseudo_colour'; format = 'D'; unit = 'um-1'\n",
      "    name = 'astrometric_pseudo_colour_error'; format = 'D'; unit = 'um-1'\n",
      "    name = 'mean_varpi_factor_al'; format = 'E'\n",
      "    name = 'astrometric_matched_observations'; format = 'I'; null = 16959\n",
      "    name = 'visibility_periods_used'; format = 'I'; null = 16959\n",
      "    name = 'astrometric_sigma5d_max'; format = 'E'; unit = 'mas'\n",
      "    name = 'frame_rotator_object_type'; format = 'J'; null = 999999\n",
      "    name = 'matched_observations'; format = 'I'; null = 16959\n",
      "    name = 'duplicated_source'; format = 'L'\n",
      "    name = 'phot_g_n_obs'; format = 'J'; null = 999999\n",
      "    name = 'phot_g_mean_flux'; format = 'D'; unit = 'ph s-1'\n",
      "    name = 'phot_g_mean_flux_error'; format = 'D'; unit = 'ph s-1'\n",
      "    name = 'phot_g_mean_flux_over_error'; format = 'E'\n",
      "    name = 'phot_g_mean_mag'; format = 'E'; unit = 'mag'\n",
      "    name = 'phot_bp_n_obs'; format = 'J'; null = 999999\n",
      "    name = 'phot_bp_mean_flux'; format = 'D'; unit = 'ph s-1'\n",
      "    name = 'phot_bp_mean_flux_error'; format = 'D'; unit = 'ph s-1'\n",
      "    name = 'phot_bp_mean_flux_over_error'; format = 'E'\n",
      "    name = 'phot_bp_mean_mag'; format = 'E'; unit = 'mag'\n",
      "    name = 'phot_rp_n_obs'; format = 'J'; null = 999999\n",
      "    name = 'phot_rp_mean_flux'; format = 'D'; unit = 'ph s-1'\n",
      "    name = 'phot_rp_mean_flux_error'; format = 'D'; unit = 'ph s-1'\n",
      "    name = 'phot_rp_mean_flux_over_error'; format = 'E'\n",
      "    name = 'phot_rp_mean_mag'; format = 'E'; unit = 'mag'\n",
      "    name = 'phot_bp_rp_excess_factor'; format = 'E'\n",
      "    name = 'phot_proc_mode'; format = 'I'; null = 16959\n",
      "    name = 'bp_rp'; format = 'E'; unit = 'mag'\n",
      "    name = 'bp_g'; format = 'E'; unit = 'mag'\n",
      "    name = 'g_rp'; format = 'E'; unit = 'mag'\n",
      "    name = 'radial_velocity'; format = 'D'; unit = 'km s-1'\n",
      "    name = 'radial_velocity_error'; format = 'D'; unit = 'km s-1'\n",
      "    name = 'rv_nb_transits'; format = 'J'; null = 999999\n",
      "    name = 'rv_template_teff'; format = 'E'; unit = 'K'\n",
      "    name = 'rv_template_logg'; format = 'E'\n",
      "    name = 'rv_template_fe_h'; format = 'E'\n",
      "    name = 'phot_variable_flag'; format = '13A'\n",
      "    name = 'l'; format = 'D'; unit = 'deg'\n",
      "    name = 'b'; format = 'D'; unit = 'deg'\n",
      "    name = 'ecl_lon'; format = 'D'; unit = 'deg'\n",
      "    name = 'ecl_lat'; format = 'D'; unit = 'deg'\n",
      "    name = 'priam_flags'; format = 'K'; null = 999999\n",
      "    name = 'teff_val'; format = 'E'; unit = 'K'\n",
      "    name = 'teff_percentile_lower'; format = 'E'; unit = 'K'\n",
      "    name = 'teff_percentile_upper'; format = 'E'; unit = 'K'\n",
      "    name = 'a_g_val'; format = 'E'; unit = 'mag'\n",
      "    name = 'a_g_percentile_lower'; format = 'E'; unit = 'mag'\n",
      "    name = 'a_g_percentile_upper'; format = 'E'; unit = 'mag'\n",
      "    name = 'e_bp_min_rp_val'; format = 'E'; unit = 'mag'\n",
      "    name = 'e_bp_min_rp_percentile_lower'; format = 'E'; unit = 'mag'\n",
      "    name = 'e_bp_min_rp_percentile_upper'; format = 'E'; unit = 'mag'\n",
      "    name = 'flame_flags'; format = 'K'; null = 999999\n",
      "    name = 'radius_val'; format = 'E'; unit = 'solRad'\n",
      "    name = 'radius_percentile_lower'; format = 'E'; unit = 'solRad'\n",
      "    name = 'radius_percentile_upper'; format = 'E'; unit = 'solRad'\n",
      "    name = 'lum_val'; format = 'E'; unit = 'solLum'\n",
      "    name = 'lum_percentile_lower'; format = 'E'; unit = 'solLum'\n",
      "    name = 'lum_percentile_upper'; format = 'E'; unit = 'solLum'\n",
      "    name = 'datalink_url'; format = '77A'\n",
      "    name = 'epoch_photometry_url'; format = '99A'\n",
      "    name = 'kepid'; format = 'K'; null = 999999\n",
      "    name = 'ra_kic'; format = 'D'; unit = 'deg'\n",
      "    name = 'dec_kic'; format = 'D'; unit = 'deg'\n",
      "    name = 'r_est'; format = 'D'; unit = 'pc'\n",
      "    name = 'r_lo'; format = 'D'; unit = 'pc'\n",
      "    name = 'r_hi'; format = 'D'; unit = 'pc'\n",
      "    name = 'r_length_prior'; format = 'D'; unit = 'pc'\n",
      "    name = 'r_result_flag'; format = 'I'; null = 16959\n",
      "    name = 'r_modality_flag'; format = 'I'; null = 16959\n",
      "    name = 'tm_designation'; format = '25A'\n",
      "    name = 'kepmag'; format = 'D'\n",
      "    name = 'teff'; format = 'K'; unit = 'K'; null = 999999\n",
      "    name = 'teff_err1'; format = 'K'; unit = 'K'; null = 999999\n",
      "    name = 'teff_err2'; format = 'K'; unit = 'K'; null = 999999\n",
      "    name = 'teff_prov'; format = '5A'\n",
      "    name = 'logg'; format = 'D'\n",
      "    name = 'logg_err1'; format = 'D'\n",
      "    name = 'logg_err2'; format = 'D'\n",
      "    name = 'logg_prov'; format = '5A'\n",
      "    name = 'feh'; format = 'D'\n",
      "    name = 'feh_err1'; format = 'D'\n",
      "    name = 'feh_err2'; format = 'D'\n",
      "    name = 'feh_prov'; format = '5A'\n",
      "    name = 'radius'; format = 'D'; unit = 'solRad'\n",
      "    name = 'radius_err1'; format = 'D'; unit = 'solRad'\n",
      "    name = 'radius_err2'; format = 'D'; unit = 'solRad'\n",
      "    name = 'mass'; format = 'D'; unit = 'solMass'\n",
      "    name = 'mass_err1'; format = 'D'; unit = 'solMass'\n",
      "    name = 'mass_err2'; format = 'D'; unit = 'solMass'\n",
      "    name = 'prov_sec'; format = '6A'\n",
      "    name = 'nconfp'; format = 'K'; null = 999999\n",
      "    name = 'nkoi'; format = 'K'; null = 999999\n",
      "    name = 'ntce'; format = 'K'; null = 999999\n",
      "    name = 'jmag'; format = 'D'; unit = 'mag'\n",
      "    name = 'hmag'; format = 'D'; unit = 'mag'\n",
      "    name = 'kmag'; format = 'D'; unit = 'mag'\n",
      "    name = 'planet?'; format = '4A'\n",
      "    name = 'kepler_gaia_ang_dist'; format = 'D'; unit = 'arcsec'\n",
      ")\n"
     ]
    }
   ],
   "source": [
    "print(len(data[0]))\n",
    "print(data[0])\n",
    "print(len(columns))\n",
    "print(columns)"
   ]
  },
  {
   "cell_type": "code",
   "execution_count": 71,
   "metadata": {},
   "outputs": [
    {
     "name": "stdout",
     "output_type": "stream",
     "text": [
      "    kepid planet?\n",
      "0  757076    none\n",
      "1  757099    none\n",
      "2  757137    none\n",
      "3  757280    none\n",
      "4  757450    conf\n"
     ]
    }
   ],
   "source": [
    "# let's read into pandas table instead\n",
    "###kep_data = Table.read(path+'kepler_dr2_1arcsec.fits', format='fits')\n",
    "###kep_data = kep_data.to_pandas() --> TypeError: data type '>I2' not understood\n",
    "### decode byte literal column to string\n",
    "###kep_data['planet?'] = kep_data['planet?'].str.decode(\"utf-8\")\n",
    "\n",
    "with fits.open(path+'kepler_dr2_1arcsec.fits') as kep_data:\n",
    "    kep_data = pd.DataFrame(kep_data[1].data)\n",
    "    \n",
    "kep_data_thin = kep_data[['kepid','planet?']]\n",
    "print(kep_data_thin.head())"
   ]
  },
  {
   "cell_type": "code",
   "execution_count": 72,
   "metadata": {},
   "outputs": [
    {
     "name": "stdout",
     "output_type": "stream",
     "text": [
      "132424\n",
      "201312\n",
      "132850\n",
      "      KIC  iso_mass  iso_mass_err1  iso_mass_err2  iso_teff  iso_teff_err1  \\\n",
      "0  757280     1.715          0.086         -0.089    6856.8          144.4   \n",
      "1  757450     0.914          0.062         -0.057    5301.2          111.0   \n",
      "2  892195     0.862          0.057         -0.040    5333.4          101.3   \n",
      "3  892667     1.548          0.081         -0.087    6704.9          148.8   \n",
      "4  892675     1.038          0.066         -0.076    5929.4          108.9   \n",
      "\n",
      "   iso_teff_err2  iso_logg  iso_logg_err1  iso_logg_err2  ...  mass_err2  \\\n",
      "0         -139.9     3.834          0.033         -0.032  ...     -0.157   \n",
      "1         -103.1     4.432          0.045         -0.044  ...     -0.040   \n",
      "2          -84.2     4.372          0.039         -0.029  ...     -0.120   \n",
      "3         -128.8     3.950          0.034         -0.036  ...     -0.236   \n",
      "4         -108.1     4.385          0.035         -0.043  ...     -0.188   \n",
      "\n",
      "   prov_sec  nconfp  nkoi  ntce    jmag    hmag  kmag_y  planet?  \\\n",
      "0      DSEP       0     0     0  10.852  10.662  10.627     none   \n",
      "1      DSEP       1     1     1  13.665  13.262  13.118     conf   \n",
      "2      DSEP       0     0     0  12.316  11.949  11.814     none   \n",
      "3      DSEP       0     0     1  12.088  11.856  11.818     none   \n",
      "4      DSEP       0     0     0  12.295  11.986  11.940     none   \n",
      "\n",
      "   kepler_gaia_ang_dist  \n",
      "0              0.116420  \n",
      "1              0.114502  \n",
      "2              0.160275  \n",
      "3              0.166107  \n",
      "4              0.110316  \n",
      "\n",
      "[5 rows x 180 columns]\n"
     ]
    }
   ],
   "source": [
    "# join Bedell cross-match with Berger catalog\n",
    "crossmatch = pd.merge(catalog, kep_data, how='inner', left_on='KIC', right_on='kepid')\n",
    "print(len(catalog))\n",
    "print(len(kep_data))\n",
    "print(len(crossmatch))\n",
    "print(crossmatch.head())"
   ]
  },
  {
   "cell_type": "code",
<<<<<<< HEAD
   "execution_count": 73,
   "metadata": {},
   "outputs": [
    {
     "data": {
      "text/plain": [
       "['KIC',\n",
       " 'iso_mass',\n",
       " 'iso_mass_err1',\n",
       " 'iso_mass_err2',\n",
       " 'iso_teff',\n",
       " 'iso_teff_err1',\n",
       " 'iso_teff_err2',\n",
       " 'iso_logg',\n",
       " 'iso_logg_err1',\n",
       " 'iso_logg_err2',\n",
       " 'iso_feh',\n",
       " 'iso_feh_err1',\n",
       " 'iso_feh_err2',\n",
       " 'iso_rad',\n",
       " 'iso_rad_err1',\n",
       " 'iso_rad_err2',\n",
       " 'iso_rho',\n",
       " 'iso_rho_err1',\n",
       " 'iso_rho_err2',\n",
       " 'iso_lum',\n",
       " 'iso_lum_err1',\n",
       " 'iso_lum_err2',\n",
       " 'iso_age',\n",
       " 'unReAgeFlag',\n",
       " 'iso_age_err1',\n",
       " 'iso_age_err2',\n",
       " 'iso_dis',\n",
       " 'iso_dis_err1',\n",
       " 'iso_dis_err2',\n",
       " 'iso_avs',\n",
       " 'iso_gof',\n",
       " 'TAMS',\n",
       " 'gmag',\n",
       " 'gmag_err',\n",
       " 'kmag_x',\n",
       " 'kmag_err',\n",
       " 'parallax_x',\n",
       " 'parallax_err',\n",
       " 'feh_x',\n",
       " 'feh_err',\n",
       " 'RUWE',\n",
       " 'num_gaia_companions',\n",
       " 'Kmag_final_prov',\n",
       " 'evstate',\n",
       " 'logR',\n",
       " 'is_giant',\n",
       " 'solution_id',\n",
       " 'designation',\n",
       " 'source_id',\n",
       " 'random_index',\n",
       " 'gaia_ref_epoch',\n",
       " 'ra',\n",
       " 'ra_error',\n",
       " 'dec',\n",
       " 'dec_error',\n",
       " 'parallax_y',\n",
       " 'parallax_error',\n",
       " 'parallax_over_error',\n",
       " 'pmra',\n",
       " 'pmra_error',\n",
       " 'pmdec',\n",
       " 'pmdec_error',\n",
       " 'ra_dec_corr',\n",
       " 'ra_parallax_corr',\n",
       " 'ra_pmra_corr',\n",
       " 'ra_pmdec_corr',\n",
       " 'dec_parallax_corr',\n",
       " 'dec_pmra_corr',\n",
       " 'dec_pmdec_corr',\n",
       " 'parallax_pmra_corr',\n",
       " 'parallax_pmdec_corr',\n",
       " 'pmra_pmdec_corr',\n",
       " 'astrometric_n_obs_al',\n",
       " 'astrometric_n_obs_ac',\n",
       " 'astrometric_n_good_obs_al',\n",
       " 'astrometric_n_bad_obs_al',\n",
       " 'astrometric_gof_al',\n",
       " 'astrometric_chi2_al',\n",
       " 'astrometric_excess_noise',\n",
       " 'astrometric_excess_noise_sig',\n",
       " 'astrometric_params_solved',\n",
       " 'astrometric_primary_flag',\n",
       " 'astrometric_weight_al',\n",
       " 'astrometric_pseudo_colour',\n",
       " 'astrometric_pseudo_colour_error',\n",
       " 'mean_varpi_factor_al',\n",
       " 'astrometric_matched_observations',\n",
       " 'visibility_periods_used',\n",
       " 'astrometric_sigma5d_max',\n",
       " 'frame_rotator_object_type',\n",
       " 'matched_observations',\n",
       " 'duplicated_source',\n",
       " 'phot_g_n_obs',\n",
       " 'phot_g_mean_flux',\n",
       " 'phot_g_mean_flux_error',\n",
       " 'phot_g_mean_flux_over_error',\n",
       " 'phot_g_mean_mag',\n",
       " 'phot_bp_n_obs',\n",
       " 'phot_bp_mean_flux',\n",
       " 'phot_bp_mean_flux_error',\n",
       " 'phot_bp_mean_flux_over_error',\n",
       " 'phot_bp_mean_mag',\n",
       " 'phot_rp_n_obs',\n",
       " 'phot_rp_mean_flux',\n",
       " 'phot_rp_mean_flux_error',\n",
       " 'phot_rp_mean_flux_over_error',\n",
       " 'phot_rp_mean_mag',\n",
       " 'phot_bp_rp_excess_factor',\n",
       " 'phot_proc_mode',\n",
       " 'bp_rp',\n",
       " 'bp_g',\n",
       " 'g_rp',\n",
       " 'radial_velocity',\n",
       " 'radial_velocity_error',\n",
       " 'rv_nb_transits',\n",
       " 'rv_template_teff',\n",
       " 'rv_template_logg',\n",
       " 'rv_template_fe_h',\n",
       " 'phot_variable_flag',\n",
       " 'l',\n",
       " 'b',\n",
       " 'ecl_lon',\n",
       " 'ecl_lat',\n",
       " 'priam_flags',\n",
       " 'teff_val',\n",
       " 'teff_percentile_lower',\n",
       " 'teff_percentile_upper',\n",
       " 'a_g_val',\n",
       " 'a_g_percentile_lower',\n",
       " 'a_g_percentile_upper',\n",
       " 'e_bp_min_rp_val',\n",
       " 'e_bp_min_rp_percentile_lower',\n",
       " 'e_bp_min_rp_percentile_upper',\n",
       " 'flame_flags',\n",
       " 'radius_val',\n",
       " 'radius_percentile_lower',\n",
       " 'radius_percentile_upper',\n",
       " 'lum_val',\n",
       " 'lum_percentile_lower',\n",
       " 'lum_percentile_upper',\n",
       " 'datalink_url',\n",
       " 'epoch_photometry_url',\n",
       " 'kepid',\n",
       " 'ra_kic',\n",
       " 'dec_kic',\n",
       " 'r_est',\n",
       " 'r_lo',\n",
       " 'r_hi',\n",
       " 'r_length_prior',\n",
       " 'r_result_flag',\n",
       " 'r_modality_flag',\n",
       " 'tm_designation',\n",
       " 'kepmag',\n",
       " 'teff',\n",
       " 'teff_err1',\n",
       " 'teff_err2',\n",
       " 'teff_prov',\n",
       " 'logg',\n",
       " 'logg_err1',\n",
       " 'logg_err2',\n",
       " 'logg_prov',\n",
       " 'feh_y',\n",
       " 'feh_err1',\n",
       " 'feh_err2',\n",
       " 'feh_prov',\n",
       " 'radius',\n",
       " 'radius_err1',\n",
       " 'radius_err2',\n",
       " 'mass',\n",
       " 'mass_err1',\n",
       " 'mass_err2',\n",
       " 'prov_sec',\n",
       " 'nconfp',\n",
       " 'nkoi',\n",
       " 'ntce',\n",
       " 'jmag',\n",
       " 'hmag',\n",
       " 'kmag_y',\n",
       " 'planet?',\n",
       " 'kepler_gaia_ang_dist']"
      ]
     },
     "execution_count": 73,
     "metadata": {},
     "output_type": "execute_result"
    }
   ],
=======
   "execution_count": null,
   "metadata": {},
   "outputs": [],
>>>>>>> ac05d74e5ac2b771d66407161f3fc7cf8e0ab760
   "source": [
    "list(crossmatch.columns)"
   ]
  },
  {
   "cell_type": "code",
   "execution_count": 74,
   "metadata": {},
   "outputs": [
    {
     "name": "stdout",
     "output_type": "stream",
     "text": [
      "132850\n",
      "             KIC  iso_mass  iso_mass_err1  iso_mass_err2  iso_teff  \\\n",
      "321      1573954     1.484          0.096         -0.087    6932.7   \n",
      "322      1573954     1.484          0.096         -0.087    6932.7   \n",
      "339      1576117     0.974          0.050         -0.062    5826.7   \n",
      "340      1576117     0.974          0.050         -0.062    5826.7   \n",
      "1031     2157526     1.142          0.125         -0.112    5686.6   \n",
      "...          ...       ...            ...            ...       ...   \n",
      "131145  12355350     0.836          0.061         -0.051    5799.0   \n",
      "131747  12458323     0.621          0.014         -0.014    4090.1   \n",
      "131748  12458323     0.621          0.014         -0.014    4090.1   \n",
      "132812  12885342     0.797          0.033         -0.029    4845.8   \n",
      "132813  12885342     0.797          0.033         -0.029    4845.8   \n",
      "\n",
      "        iso_teff_err1  iso_teff_err2  iso_logg  iso_logg_err1  iso_logg_err2  \\\n",
      "321             146.1         -144.9     4.101          0.075         -0.073   \n",
      "322             146.1         -144.9     4.101          0.075         -0.073   \n",
      "339             107.2         -104.0     4.471          0.031         -0.043   \n",
      "340             107.2         -104.0     4.471          0.031         -0.043   \n",
      "1031            124.0         -117.7     3.903          0.135         -0.118   \n",
      "...               ...            ...       ...            ...            ...   \n",
      "131145          120.6         -112.2     4.319          0.076         -0.075   \n",
      "131747           70.0          -78.3     4.617          0.018         -0.016   \n",
      "131748           70.0          -78.3     4.617          0.018         -0.016   \n",
      "132812          135.7          -95.5     4.491          0.035         -0.050   \n",
      "132813          135.7          -95.5     4.491          0.035         -0.050   \n",
      "\n",
      "        ...  prov_sec  nconfp  nkoi  ntce    jmag    hmag  kmag_y  planet?  \\\n",
      "321     ...      DSEP       0     0     0  13.790  13.442  13.470     none   \n",
      "322     ...      DSEP       0     0     0  13.790  13.442  13.470     none   \n",
      "339     ...      DSEP       0     0     0  14.092  13.699  13.665     none   \n",
      "340     ...      DSEP       0     0     0  14.092  13.699  13.665     none   \n",
      "1031    ...      DSEP       0     0     0  14.716  14.367  14.286     none   \n",
      "...     ...       ...     ...   ...   ...     ...     ...     ...      ...   \n",
      "131145  ...      DSEP       0     0     0  14.015  13.610  13.573     none   \n",
      "131747  ...      DSEP       0     0     0  12.549  11.899  11.759     none   \n",
      "131748  ...      DSEP       0     0     0  12.549  11.899  11.759     none   \n",
      "132812  ...      DSEP       0     0     0  14.067  13.534  13.480     none   \n",
      "132813  ...      DSEP       0     0     0  14.067  13.534  13.480     none   \n",
      "\n",
      "        kepler_gaia_ang_dist  dupe_label  \n",
      "321                 0.835318        True  \n",
      "322                 0.862454        True  \n",
      "339                 0.067586        True  \n",
      "340                 0.876779        True  \n",
      "1031                0.340267        True  \n",
      "...                      ...         ...  \n",
      "131145              0.371318        True  \n",
      "131747              0.036158        True  \n",
      "131748              0.620091        True  \n",
      "132812              0.441115        True  \n",
      "132813              0.481717        True  \n",
      "\n",
      "[1035 rows x 181 columns]\n",
      "[1573954, 1573954, 1576117, 1576117, 2157526, 2157526, 2166962, 2166962, 2302022, 2302022, 2307131, 2307131, 2307245, 2307245, 2310520, 2310520, 2450571, 2450571, 2554818, 2554818, 2555454, 2555454, 2557074, 2557074, 2696239, 2696239, 2721113, 2721113, 2830993, 2830993, 2836129, 2836129, 2851273, 2851273, 3129842, 3129842, 3217178, 3217178, 3222192, 3222192, 3323277, 3323277, 3335488, 3335488, 3343373, 3343373, 3347374, 3347374, 3356522, 3356522, 3543262, 3543262, 3545476, 3545476, 3559411, 3559411, 3561307, 3561307, 3631596, 3631596, 3660448, 3660448, 3744086, 3744086, 3748338, 3748338, 3749180, 3749180, 3751752, 3751752, 3755787, 3755787, 3757588, 3757588, 3837858, 3837858, 3848121, 3848121, 3864666, 3864666, 3866583, 3866583, 3939546, 3939546, 3956756, 3956756, 3962751, 3962751, 4037428, 4037428, 4048971, 4048971, 4058803, 4058803, 4142661, 4142661, 4271312, 4271312, 4278901, 4278901, 4279383, 4279383, 4279390, 4279390, 4283688, 4283688, 4345467, 4345467, 4351036, 4351036, 4352050, 4352050, 4470141, 4470141, 4472418, 4472418, 4544170, 4544170, 4554085, 4554085, 4578925, 4578925, 4638279, 4638279, 4648469, 4648469, 4660441, 4660441, 4661347, 4661347, 4669069, 4669069, 4756611, 4756611, 4756732, 4756732, 4821781, 4821781, 4831158, 4831158, 4843728, 4843728, 4859227, 4859227, 4907264, 4907264, 4907400, 4907400, 4921105, 4921105, 4935594, 4935594, 4939539, 4939539, 4940470, 4940470, 4944225, 4944225, 4953282, 4953282, 5008368, 5008368, 5010239, 5010239, 5014857, 5014857, 5020593, 5020593, 5025204, 5025204, 5038462, 5038462, 5090873, 5090873, 5129034, 5129034, 5195103, 5195103, 5212786, 5212786, 5216095, 5216095, 5257207, 5257207, 5269688, 5269688, 5280983, 5280983, 5376102, 5376102, 5388391, 5388391, 5389223, 5389223, 5390351, 5390351, 5394238, 5394238, 5428657, 5428657, 5443856, 5443856, 5462390, 5462390, 5467875, 5467875, 5472950, 5472950, 5477694, 5477694, 5479944, 5479944, 5513611, 5513611, 5515142, 5515142, 5520915, 5520915, 5524367, 5524367, 5525184, 5525184, 5531150, 5531150, 5535247, 5535247, 5544075, 5544075, 5551559, 5551559, 5557030, 5557030, 5560960, 5560960, 5562842, 5562842, 5565773, 5565773, 5565952, 5565952, 5568016, 5568016, 5608400, 5608400, 5610655, 5610655, 5617780, 5617780, 5620182, 5620182, 5644355, 5644355, 5649757, 5649757, 5705819, 5705819, 5706110, 5706110, 5724612, 5724612, 5736270, 5736270, 5772694, 5772694, 5788112, 5788112, 5807518, 5807518, 5810383, 5810383, 5858977, 5858977, 5867588, 5867588, 5871088, 5871088, 5901840, 5901840, 5941911, 5941911, 5950937, 5950937, 5989401, 5989401, 6025362, 6025362, 6029121, 6029121, 6059650, 6059650, 6060845, 6060845, 6060847, 6060847, 6102216, 6102216, 6106046, 6106046, 6106869, 6106869, 6126796, 6126796, 6131686, 6131686, 6131755, 6131755, 6148366, 6148366, 6149824, 6149824, 6224695, 6224695, 6262659, 6262659, 6267613, 6267613, 6277018, 6277018, 6288231, 6288231, 6288889, 6288889, 6307725, 6307725, 6307725, 6345207, 6345207, 6362163, 6362163, 6370357, 6370357, 6370860, 6370860, 6388011, 6388011, 6430816, 6430816, 6446157, 6446157, 6446889, 6446889, 6448403, 6448403, 6449251, 6449251, 6450464, 6450464, 6507095, 6507095, 6522884, 6522884, 6526074, 6526074, 6548484, 6548484, 6548568, 6548568, 6605627, 6605627, 6671587, 6671587, 6672810, 6672810, 6681038, 6681038, 6694000, 6694000, 6694043, 6694043, 6717252, 6717252, 6721391, 6721391, 6776723, 6776723, 6786799, 6786799, 6790575, 6790575, 6793073, 6793073, 6794070, 6794070, 6801692, 6801692, 6866334, 6866334, 6875906, 6875906, 6880069, 6880069, 6880641, 6880641, 6933968, 6933968, 6948776, 6948776, 6950622, 6950622, 6961406, 6961406, 6966212, 6966212, 7008329, 7008329, 7018521, 7018521, 7024399, 7024399, 7024672, 7024672, 7092405, 7092405, 7094512, 7094512, 7100973, 7100973, 7104629, 7104629, 7117075, 7117075, 7124586, 7124586, 7173236, 7173236, 7204859, 7204859, 7215507, 7215507, 7219533, 7219533, 7265200, 7265200, 7287159, 7287159, 7336226, 7336226, 7357348, 7357348, 7363837, 7363837, 7377222, 7377222, 7416013, 7416013, 7417205, 7417205, 7417788, 7417788, 7446631, 7446631, 7448602, 7448602, 7515908, 7515908, 7516880, 7516880, 7522799, 7522799, 7533535, 7533535, 7538030, 7538030, 7591757, 7591757, 7603635, 7603635, 7610842, 7610842, 7612477, 7612477, 7612968, 7612968, 7662180, 7662180, 7671841, 7671841, 7700894, 7700894, 7729329, 7729329, 7732556, 7732556, 7755632, 7755632, 7757287, 7757287, 7778693, 7778693, 7817746, 7817746, 7837122, 7837122, 7849221, 7849221, 7851030, 7851030, 7874878, 7874878, 7888160, 7888160, 7937303, 7937303, 7940025, 7940025, 7946626, 7946626, 7949566, 7949566, 7959708, 7959708, 7970257, 7970257, 7975417, 7975417, 8016196, 8016196, 8022718, 8022718, 8029384, 8029384, 8030190, 8030190, 8046388, 8046388, 8046659, 8046659, 8055837, 8055837, 8090221, 8090221, 8094411, 8094411, 8097591, 8097591, 8103649, 8103649, 8109544, 8109544, 8111357, 8111357, 8145575, 8145575, 8153705, 8153705, 8162330, 8162330, 8163201, 8163201, 8180879, 8180879, 8181790, 8181790, 8183605, 8183605, 8195505, 8195505, 8197739, 8197739, 8210261, 8210261, 8218991, 8218991, 8242455, 8242455, 8245829, 8245829, 8264125, 8264125, 8264198, 8264198, 8265274, 8265274, 8283832, 8283832, 8296559, 8296559, 8298626, 8298626, 8313683, 8313683, 8313884, 8313884, 8314789, 8314789, 8321889, 8321889, 8325790, 8325790, 8329332, 8329332, 8374484, 8374484, 8395522, 8395522, 8395755, 8395755, 8427514, 8427514, 8427528, 8427528, 8431372, 8431372, 8435568, 8435568, 8444218, 8444218, 8447096, 8447096, 8475649, 8475649, 8475756, 8475756, 8479646, 8479646, 8488978, 8488978, 8496682, 8496682, 8547525, 8547525, 8558883, 8558883, 8570268, 8570268, 8572637, 8572637, 8580298, 8580298, 8582177, 8582177, 8591486, 8591486, 8621656, 8621656, 8625495, 8625495, 8645074, 8645074, 8649154, 8649154, 8649858, 8649858, 8672278, 8672278, 8677504, 8677504, 8700964, 8700964, 8812748, 8812748, 8817510, 8817510, 8823268, 8823268, 8867452, 8867452, 8870763, 8870763, 8872017, 8872017, 8980924, 8980924, 9002104, 9002104, 9021162, 9021162, 9028381, 9028381, 9029517, 9029517, 9031086, 9031086, 9033052, 9033052, 9041683, 9041683, 9074248, 9074248, 9077513, 9077513, 9086716, 9086716, 9099820, 9099820, 9108513, 9108513, 9108724, 9108724, 9115029, 9115029, 9116510, 9116510, 9118118, 9118118, 9146803, 9146803, 9157860, 9157860, 9165803, 9165803, 9166234, 9166234, 9175050, 9175050, 9182941, 9182941, 9269890, 9269890, 9290455, 9290455, 9343846, 9343846, 9349202, 9349202, 9352330, 9352330, 9354114, 9354114, 9368567, 9368567, 9409317, 9409317, 9411943, 9411943, 9418264, 9418264, 9429529, 9429529, 9447205, 9447205, 9449253, 9449253, 9452594, 9452594, 9463412, 9463412, 9471272, 9471272, 9513811, 9513811, 9520025, 9520025, 9529125, 9529125, 9533071, 9533071, 9569481, 9569481, 9588788, 9588788, 9592850, 9592850, 9592875, 9592875, 9594123, 9594123, 9594800, 9594800, 9606349, 9606349, 9641130, 9641130, 9655057, 9655057, 9655796, 9655796, 9656395, 9656395, 9656598, 9656598, 9705183, 9705183, 9715881, 9715881, 9717615, 9717615, 9717666, 9717666, 9718191, 9718191, 9777078, 9777078, 9777207, 9777207, 9777251, 9777251, 9812058, 9812058, 9823991, 9823991, 9835508, 9835508, 9836094, 9836094, 9836337, 9836337, 9839977, 9839977, 9847877, 9847877, 9850309, 9850309, 9873010, 9873010, 9897924, 9897924, 9903762, 9903762, 9906627, 9906627, 9909497, 9909497, 9909614, 9909614, 9936573, 9936573, 9941434, 9941434, 9966724, 9966724, 10005358, 10005358, 10007611, 10007611, 10027180, 10027180, 10071382, 10071382, 10087348, 10087348, 10124866, 10124866, 10155080, 10155080, 10185859, 10185859, 10191618, 10191618, 10200173, 10200173, 10215638, 10215638, 10220685, 10220685, 10224004, 10224004, 10263694, 10263694, 10288812, 10288812, 10293002, 10293002, 10339673, 10339673, 10358909, 10358909, 10389236, 10389236, 10397969, 10397969, 10426420, 10426420, 10490960, 10490960, 10517495, 10517495, 10519506, 10519506, 10534553, 10534553, 10534664, 10534664, 10535867, 10535867, 10545890, 10545890, 10546383, 10546383, 10550630, 10550630, 10592500, 10592500, 10603247, 10603247, 10609567, 10609567, 10614799, 10614799, 10617338, 10617338, 10648942, 10648942, 10658122, 10658122, 10679639, 10679639, 10709515, 10709515, 10714680, 10714680, 10716664, 10716664, 10732318, 10732318, 10737192, 10737192, 10744119, 10744119, 10749277, 10749277, 10809344, 10809344, 10809821, 10809821, 10858600, 10858600, 10879850, 10879850, 10880154, 10880154, 10905407, 10905407, 10920804, 10920804, 10932301, 10932301, 10933906, 10933906, 10967002, 10967002, 10978529, 10978529, 11032639, 11032639, 11037136, 11037136, 11074134, 11074134, 11082738, 11082738, 11086321, 11086321, 11122293, 11122293, 11144620, 11144620, 11190969, 11190969, 11204837, 11204837, 11233486, 11233486, 11250456, 11250456, 11283780, 11283780, 11284855, 11284855, 11307788, 11307788, 11349485, 11349485, 11403986, 11403986, 11405119, 11405119, 11468487, 11468487, 11506988, 11506988, 11516401, 11516401, 11600387, 11600387, 11607521, 11607521, 11611832, 11611832, 11621607, 11621607, 11622985, 11622985, 11653558, 11653558, 11662049, 11662049, 11668948, 11668948, 11718406, 11718406, 11723575, 11723575, 11753238, 11753238, 11768672, 11768672, 11772852, 11772852, 11774384, 11774384, 11805123, 11805123, 11809981, 11809981, 11968760, 11968760, 11968955, 11968955, 12008401, 12008401, 12010312, 12010312, 12017116, 12017116, 12058081, 12058081, 12067275, 12067275, 12115428, 12115428, 12157559, 12157559, 12204572, 12204572, 12268502, 12268502, 12269152, 12269152, 12355350, 12355350, 12458323, 12458323, 12885342, 12885342]\n"
     ]
    }
   ],
   "source": [
    "# could we get planet multiplicity from KIC duplicates?\n",
    "print(len(crossmatch))\n",
    "crossmatch['dupe_label'] = crossmatch.duplicated(subset=['kepid'], keep=False)\n",
    "print(crossmatch.loc[crossmatch.dupe_label == True])\n",
    "print(list(crossmatch.loc[crossmatch.dupe_label == True].kepid))\n",
    "# no."
   ]
  },
  {
   "cell_type": "markdown",
   "metadata": {},
   "source": [
    "Chose 1\" search radius Kepler data upon consultation with Megan Bedell. Also, see full isolate.ipynb under noodling/ directory where I replicate with 20\" search radius data, as well as K2 data."
   ]
  },
  {
   "cell_type": "code",
   "execution_count": 75,
   "metadata": {},
   "outputs": [
    {
     "name": "stdout",
     "output_type": "stream",
     "text": [
      "132850\n",
      "132332\n",
      "126584\n",
      "4343\n",
      "1405\n",
      "candidates only:  0.0328189704682163\n",
      "confirmed only:  0.010617235438140435\n",
      "candidates and confirmed:  0.04343620590635674\n"
     ]
    }
   ],
   "source": [
    "# use 1\" search radius Kepler data\n",
    "\n",
    "# drop duplicates on KIC, which we can do because we guaranteed one-to-one matching of KIC and planet-occurrence status\n",
    "group_crossmatch = crossmatch.drop_duplicates(['KIC'])\n",
    "print(len(crossmatch))\n",
    "print(len(group_crossmatch))\n",
    "\n",
    "# count Kepler objects with each type of planet occurrence\n",
    "none = group_crossmatch.loc[group_crossmatch['planet?'] == 'none']\n",
    "cand = group_crossmatch.loc[group_crossmatch['planet?'] == 'cand']\n",
    "conf = group_crossmatch.loc[group_crossmatch['planet?'] == 'conf']\n",
    "print(len(none))\n",
    "print(len(cand))\n",
    "print(len(conf))\n",
    "\n",
    "# cand and conf planet occurrence rates across FGK dwarfs from Berger et al 2020\n",
    "print(\"candidates only: \", len(cand)/len(group_crossmatch))\n",
    "print(\"confirmed only: \", len(conf)/len(group_crossmatch))\n",
    "print(\"candidates and confirmed: \", (len(cand)+len(conf))/len(group_crossmatch))"
   ]
  },
  {
   "cell_type": "code",
   "execution_count": 76,
   "metadata": {},
   "outputs": [
    {
     "name": "stdout",
     "output_type": "stream",
     "text": [
      "5765\n",
      "             KIC  iso_mass  iso_mass_err1  iso_mass_err2  iso_teff  \\\n",
      "10089    3757588     1.455          0.211         -0.193    5678.2   \n",
      "10090    3757588     1.455          0.211         -0.193    5678.2   \n",
      "11985    3962751     1.003          0.084         -0.078    5733.4   \n",
      "11986    3962751     1.003          0.084         -0.078    5733.4   \n",
      "12433    4037428     1.168          0.067         -0.077    6223.6   \n",
      "12434    4037428     1.168          0.067         -0.077    6223.6   \n",
      "28204    5428657     0.743          0.029         -0.027    4559.7   \n",
      "28205    5428657     0.743          0.029         -0.027    4559.7   \n",
      "32462    5705819     0.903          0.060         -0.055    5296.4   \n",
      "32463    5705819     0.903          0.060         -0.055    5296.4   \n",
      "37707    6106046     0.869          0.040         -0.050    5517.9   \n",
      "37708    6106046     0.869          0.040         -0.050    5517.9   \n",
      "46595    6717252     0.895          0.067         -0.058    5442.3   \n",
      "46596    6717252     0.895          0.067         -0.058    5442.3   \n",
      "56151    7446631     1.256          0.064         -0.101    6042.3   \n",
      "56152    7446631     1.256          0.064         -0.101    6042.3   \n",
      "65745    8046659     1.189          0.066         -0.081    6847.6   \n",
      "65746    8046659     1.189          0.066         -0.081    6847.6   \n",
      "74953    8547525     0.709          0.049         -0.047    4974.5   \n",
      "74954    8547525     0.709          0.049         -0.047    4974.5   \n",
      "83599    9116510     1.152          0.049         -0.042    6691.2   \n",
      "83600    9116510     1.152          0.049         -0.042    6691.2   \n",
      "87916    9411943     1.076          0.115         -0.077    5752.4   \n",
      "87917    9411943     1.076          0.115         -0.077    5752.4   \n",
      "91138    9592850     0.913          0.069         -0.065    5528.3   \n",
      "91139    9592850     0.913          0.069         -0.065    5528.3   \n",
      "94994    9777251     0.877          0.062         -0.048    5401.0   \n",
      "94995    9777251     0.877          0.062         -0.048    5401.0   \n",
      "101863  10155080     1.250          0.070         -0.068    5843.9   \n",
      "101864  10155080     1.250          0.070         -0.068    5843.9   \n",
      "107031  10490960     1.324          0.091         -0.110    6136.4   \n",
      "107032  10490960     1.324          0.091         -0.110    6136.4   \n",
      "123136  11622985     0.971          0.047         -0.056    5903.1   \n",
      "123137  11622985     0.971          0.047         -0.056    5903.1   \n",
      "\n",
      "        iso_teff_err1  iso_teff_err2  iso_logg  iso_logg_err1  iso_logg_err2  \\\n",
      "10089           153.2         -158.8     3.623          0.130         -0.138   \n",
      "10090           153.2         -158.8     3.623          0.130         -0.138   \n",
      "11985           119.1         -114.8     4.216          0.074         -0.073   \n",
      "11986           119.1         -114.8     4.216          0.074         -0.073   \n",
      "12433           128.0         -118.3     4.300          0.037         -0.038   \n",
      "12434           128.0         -118.3     4.300          0.037         -0.038   \n",
      "28204            90.8          -82.1     4.559          0.029         -0.024   \n",
      "28205            90.8          -82.1     4.559          0.029         -0.024   \n",
      "32462           108.3          -98.8     4.434          0.054         -0.055   \n",
      "32463           108.3          -98.8     4.434          0.054         -0.055   \n",
      "37707            98.2          -95.1     4.548          0.024         -0.035   \n",
      "37708            98.2          -95.1     4.548          0.024         -0.035   \n",
      "46595           106.6          -99.4     4.408          0.043         -0.042   \n",
      "46596           106.6          -99.4     4.408          0.043         -0.042   \n",
      "56151           116.5         -107.2     4.084          0.043         -0.047   \n",
      "56152           116.5         -107.2     4.084          0.043         -0.047   \n",
      "65745           177.5         -156.0     4.396          0.042         -0.035   \n",
      "65746           177.5         -156.0     4.396          0.042         -0.035   \n",
      "74953            92.7          -87.6     4.625          0.030         -0.034   \n",
      "74954            92.7          -87.6     4.625          0.030         -0.034   \n",
      "83599           151.7         -145.3     4.409          0.021         -0.026   \n",
      "83600           151.7         -145.3     4.409          0.021         -0.026   \n",
      "87916           120.1         -117.9     4.044          0.061         -0.050   \n",
      "87917           120.1         -117.9     4.044          0.061         -0.050   \n",
      "91138           116.9         -112.0     4.362          0.093         -0.095   \n",
      "91139           116.9         -112.0     4.362          0.093         -0.095   \n",
      "94994           108.2          -94.3     4.352          0.041         -0.037   \n",
      "94995           108.2          -94.3     4.352          0.041         -0.037   \n",
      "101863          118.4         -111.1     3.849          0.038         -0.036   \n",
      "101864          118.4         -111.1     3.849          0.038         -0.036   \n",
      "107031          125.1         -118.9     3.983          0.056         -0.061   \n",
      "107032          125.1         -118.9     3.983          0.056         -0.061   \n",
      "123136          111.0         -104.9     4.486          0.028         -0.036   \n",
      "123137          111.0         -104.9     4.486          0.028         -0.036   \n",
      "\n",
      "        ...  prov_sec  nconfp  nkoi  ntce    jmag    hmag  kmag_y  planet?  \\\n",
      "10089   ...      DSEP       0     1     2  13.591  13.119  13.030     cand   \n",
      "10090   ...      DSEP       0     1     2  13.591  13.119  13.030     cand   \n",
      "11985   ...      DSEP       0     1     0  14.004  13.618  13.623     cand   \n",
      "11986   ...      DSEP       0     1     0  14.004  13.618  13.623     cand   \n",
      "12433   ...      DSEP       0     1     2  11.812  11.520  11.441     cand   \n",
      "12434   ...      DSEP       0     1     2  11.812  11.520  11.441     cand   \n",
      "28204   ...      DSEP       0     1     1  13.450  12.854  12.726     cand   \n",
      "28205   ...      DSEP       0     1     1  13.450  12.854  12.726     cand   \n",
      "32462   ...      DSEP       0     1     1  14.401  13.877  13.877     cand   \n",
      "32463   ...      DSEP       0     1     1  14.401  13.877  13.877     cand   \n",
      "37707   ...      DSEP       0     1     1  14.128  13.803  13.657     cand   \n",
      "37708   ...      DSEP       0     1     1  14.128  13.803  13.657     cand   \n",
      "46595   ...      DSEP       0     1     1  12.581  12.194  12.128     cand   \n",
      "46596   ...      DSEP       0     1     1  12.581  12.194  12.128     cand   \n",
      "56151   ...      DSEP       0     1     1  13.054  12.824  12.781     cand   \n",
      "56152   ...      DSEP       0     1     1  13.054  12.824  12.781     cand   \n",
      "65745   ...      DSEP       0     1     1  13.900  13.491  13.523     cand   \n",
      "65746   ...      DSEP       0     1     1  13.900  13.491  13.523     cand   \n",
      "74953   ...      DSEP       0     1     1  14.427  14.020  13.901     cand   \n",
      "74954   ...      DSEP       0     1     1  14.427  14.020  13.901     cand   \n",
      "83599   ...      DSEP       0     1     0  13.062  12.772  12.716     cand   \n",
      "83600   ...      DSEP       0     1     0  13.062  12.772  12.716     cand   \n",
      "87916   ...      DSEP       0     1     1  13.513  13.184  13.043     cand   \n",
      "87917   ...      DSEP       0     1     1  13.513  13.184  13.043     cand   \n",
      "91138   ...      DSEP       0     1     1  14.999  14.497  14.261     cand   \n",
      "91139   ...      DSEP       0     1     1  14.999  14.497  14.261     cand   \n",
      "94994   ...      DSEP       0     1     2  13.811  13.404  13.274     cand   \n",
      "94995   ...      DSEP       0     1     2  13.811  13.404  13.274     cand   \n",
      "101863  ...      DSEP       0     1     3  11.989  11.651  11.627     cand   \n",
      "101864  ...      DSEP       0     1     3  11.989  11.651  11.627     cand   \n",
      "107031  ...      DSEP       0     1     1  13.328  13.045  12.987     cand   \n",
      "107032  ...      DSEP       0     1     1  13.328  13.045  12.987     cand   \n",
      "123136  ...      DSEP       0     1     1  14.195  13.918  13.858     cand   \n",
      "123137  ...      DSEP       0     1     1  14.195  13.918  13.858     cand   \n",
      "\n",
      "        kepler_gaia_ang_dist  dupe_label  \n",
      "10089               0.355113        True  \n",
      "10090               0.608656        True  \n",
      "11985               0.400495        True  \n",
      "11986               0.476177        True  \n",
      "12433               0.192854        True  \n",
      "12434               0.958366        True  \n",
      "28204               0.239573        True  \n",
      "28205               0.653954        True  \n",
      "32462               0.303129        True  \n",
      "32463               0.897056        True  \n",
      "37707               0.086273        True  \n",
      "37708               0.856867        True  \n",
      "46595               0.228868        True  \n",
      "46596               0.951133        True  \n",
      "56151               0.489007        True  \n",
      "56152               0.523990        True  \n",
      "65745               0.715064        True  \n",
      "65746               0.897246        True  \n",
      "74953               0.303936        True  \n",
      "74954               0.334216        True  \n",
      "83599               0.679795        True  \n",
      "83600               0.781874        True  \n",
      "87916               0.011330        True  \n",
      "87917               0.944412        True  \n",
      "91138               0.616308        True  \n",
      "91139               0.835032        True  \n",
      "94994               0.255699        True  \n",
      "94995               0.996657        True  \n",
      "101863              0.543404        True  \n",
      "101864              0.605712        True  \n",
      "107031              0.621856        True  \n",
      "107032              0.661544        True  \n",
      "123136              0.109980        True  \n",
      "123137              0.811424        True  \n",
      "\n",
      "[34 rows x 181 columns]\n"
     ]
    },
    {
     "name": "stderr",
     "output_type": "stream",
     "text": [
      "/Users/chris/anaconda2/envs/superflare/lib/python3.7/site-packages/ipykernel_launcher.py:4: SettingWithCopyWarning: \n",
      "A value is trying to be set on a copy of a slice from a DataFrame.\n",
      "Try using .loc[row_indexer,col_indexer] = value instead\n",
      "\n",
      "See the caveats in the documentation: https://pandas.pydata.org/pandas-docs/stable/user_guide/indexing.html#returning-a-view-versus-a-copy\n",
      "  after removing the cwd from sys.path.\n"
     ]
    }
   ],
   "source": [
    "# let's keep both confirmed and candidate planets\n",
    "pos = crossmatch.loc[crossmatch['planet?'] != 'none']\n",
    "print(len(pos))\n",
    "pos['dupe_label'] = pos.duplicated(subset=['kepid'], keep=False)\n",
    "print(pos.loc[pos.dupe_label == True])\n"
   ]
  },
  {
   "cell_type": "markdown",
   "metadata": {},
   "source": [
    "I also do this with all well-defined stars (ie. beyond just FGK) from Berger et al in the full isolate.ipynb notebook. But we'll move forward with only FGK stars here."
   ]
  },
  {
   "cell_type": "markdown",
   "metadata": {},
   "source": [
    "### Joining Kepler cross-match with Exoplanets archive dataset"
   ]
  },
  {
   "cell_type": "markdown",
   "metadata": {},
   "source": [
    "I skipped past the Cross Matching with Kepler using Bedell's cross-match section."
   ]
  },
  {
   "cell_type": "code",
<<<<<<< HEAD
   "execution_count": 77,
=======
   "execution_count": 17,
>>>>>>> ac05d74e5ac2b771d66407161f3fc7cf8e0ab760
   "metadata": {},
   "outputs": [
    {
     "name": "stdout",
     "output_type": "stream",
     "text": [
      "         kepid kepoi_name   kepler_name koi_disposition koi_pdisposition  \\\n",
      "0     10797460  K00752.01  Kepler-227 b       CONFIRMED        CANDIDATE   \n",
      "1     10797460  K00752.02  Kepler-227 c       CONFIRMED        CANDIDATE   \n",
      "2     10811496  K00753.01           NaN       CANDIDATE        CANDIDATE   \n",
      "4     10854555  K00755.01  Kepler-664 b       CONFIRMED        CANDIDATE   \n",
      "5     10872983  K00756.01  Kepler-228 d       CONFIRMED        CANDIDATE   \n",
      "...        ...        ...           ...             ...              ...   \n",
      "9538   9938836  K07978.01           NaN       CANDIDATE        CANDIDATE   \n",
      "9542  10011213  K07982.01           NaN       CANDIDATE        CANDIDATE   \n",
      "9552  10028127  K08193.01           NaN       CANDIDATE        CANDIDATE   \n",
      "9560  10128825  K07986.01           NaN       CANDIDATE        CANDIDATE   \n",
      "9562  10155286  K07988.01           NaN       CANDIDATE        CANDIDATE   \n",
      "\n",
      "      koi_score  koi_fpflag_nt  koi_fpflag_ss  koi_fpflag_co  koi_fpflag_ec  \\\n",
      "0         1.000              0              0              0              0   \n",
      "1         0.969              0              0              0              0   \n",
      "2         0.000              0              0              0              0   \n",
      "4         1.000              0              0              0              0   \n",
      "5         1.000              0              0              0              0   \n",
      "...         ...            ...            ...            ...            ...   \n",
      "9538      0.843              0              0              0              0   \n",
      "9542      0.189              0              0              0              0   \n",
      "9552      0.519              0              0              0              0   \n",
      "9560      0.497              0              0              0              0   \n",
      "9562      0.092              0              0              0              0   \n",
      "\n",
      "      ...  koi_steff_err2  koi_slogg  koi_slogg_err1  koi_slogg_err2  \\\n",
      "0     ...           -81.0      4.467           0.064          -0.096   \n",
      "1     ...           -81.0      4.467           0.064          -0.096   \n",
      "2     ...          -176.0      4.544           0.044          -0.176   \n",
      "4     ...          -211.0      4.438           0.070          -0.210   \n",
      "5     ...          -232.0      4.486           0.054          -0.229   \n",
      "...   ...             ...        ...             ...             ...   \n",
      "9538  ...          -242.0      3.890           0.405          -0.135   \n",
      "9542  ...          -225.0      4.488           0.054          -0.216   \n",
      "9552  ...          -166.0      4.561           0.030          -0.170   \n",
      "9560  ...          -220.0      4.444           0.056          -0.224   \n",
      "9562  ...          -128.0      2.992           0.030          -0.027   \n",
      "\n",
      "      koi_srad  koi_srad_err1  koi_srad_err2         ra        dec  koi_kepmag  \n",
      "0        0.927          0.105         -0.061  291.93423  48.141651      15.347  \n",
      "1        0.927          0.105         -0.061  291.93423  48.141651      15.347  \n",
      "2        0.868          0.233         -0.078  297.00482  48.134129      15.436  \n",
      "4        1.046          0.334         -0.133  288.75488  48.226200      15.509  \n",
      "5        0.972          0.315         -0.105  296.28613  48.224670      15.714  \n",
      "...        ...            ...            ...        ...        ...         ...  \n",
      "9538     2.219          0.536         -0.996  285.30768  46.829803      13.729  \n",
      "9542     0.955          0.291         -0.097  291.60455  46.973289      15.632  \n",
      "9552     0.855          0.207         -0.069  297.73398  46.961529      15.719  \n",
      "9560     1.031          0.341         -0.114  286.50937  47.163219      14.757  \n",
      "9562     7.824          0.223         -1.896  296.76288  47.145142      10.998  \n",
      "\n",
      "[4724 rows x 50 columns]\n",
      "['kepid', 'kepoi_name', 'kepler_name', 'koi_disposition', 'koi_pdisposition', 'koi_score', 'koi_fpflag_nt', 'koi_fpflag_ss', 'koi_fpflag_co', 'koi_fpflag_ec', 'koi_period', 'koi_period_err1', 'koi_period_err2', 'koi_time0bk', 'koi_time0bk_err1', 'koi_time0bk_err2', 'koi_impact', 'koi_impact_err1', 'koi_impact_err2', 'koi_duration', 'koi_duration_err1', 'koi_duration_err2', 'koi_depth', 'koi_depth_err1', 'koi_depth_err2', 'koi_prad', 'koi_prad_err1', 'koi_prad_err2', 'koi_teq', 'koi_teq_err1', 'koi_teq_err2', 'koi_insol', 'koi_insol_err1', 'koi_insol_err2', 'koi_model_snr', 'koi_count', 'koi_tce_plnt_num', 'koi_tce_delivname', 'koi_steff', 'koi_steff_err1', 'koi_steff_err2', 'koi_slogg', 'koi_slogg_err1', 'koi_slogg_err2', 'koi_srad', 'koi_srad_err1', 'koi_srad_err2', 'ra', 'dec', 'koi_kepmag']\n"
     ]
    }
   ],
   "source": [
    "# source: https://exoplanetarchive.ipac.caltech.edu/cgi-bin/TblView/nph-tblView?app=ExoTbls&config=cumulative\n",
    "path = '/Users/chrislam/Desktop/sculpting/crossmatch_fun/'\n",
    "kois = pd.read_csv(path+'cumulative_2021.03.04_20.04.43.csv')\n",
    "kois = kois.loc[kois.koi_disposition != 'FALSE POSITIVE']\n",
    "print(kois)\n",
    "print(list(kois.columns))"
   ]
  },
  {
   "cell_type": "code",
<<<<<<< HEAD
   "execution_count": 78,
=======
   "execution_count": 25,
>>>>>>> ac05d74e5ac2b771d66407161f3fc7cf8e0ab760
   "metadata": {},
   "outputs": [
    {
     "name": "stdout",
     "output_type": "stream",
     "text": [
      "4724\n",
<<<<<<< HEAD
      "201312\n",
      "3772\n",
      "      kepid kepoi_name   kepler_name koi_disposition koi_pdisposition  \\\n",
      "0  10797460  K00752.01  Kepler-227 b       CONFIRMED        CANDIDATE   \n",
      "1  10797460  K00752.02  Kepler-227 c       CONFIRMED        CANDIDATE   \n",
      "2  10811496  K00753.01           NaN       CANDIDATE        CANDIDATE   \n",
      "3  10854555  K00755.01  Kepler-664 b       CONFIRMED        CANDIDATE   \n",
      "4  10872983  K00756.01  Kepler-228 d       CONFIRMED        CANDIDATE   \n",
      "\n",
      "   koi_score  koi_fpflag_nt  koi_fpflag_ss  koi_fpflag_co  koi_fpflag_ec  ...  \\\n",
      "0      1.000              0              0              0              0  ...   \n",
      "1      0.969              0              0              0              0  ...   \n",
      "2      0.000              0              0              0              0  ...   \n",
      "3      1.000              0              0              0              0  ...   \n",
      "4      1.000              0              0              0              0  ...   \n",
      "\n",
      "   prov_sec  nconfp  nkoi  ntce    jmag    hmag  kmag_y  planet?  \\\n",
      "0      DSEP       2     2     2  14.082  13.751  13.648     conf   \n",
      "1      DSEP       2     2     2  14.082  13.751  13.648     conf   \n",
      "2      DSEP       0     1     1  14.254  13.900  13.826     cand   \n",
      "3      DSEP       1     1     1  14.366  14.064  13.952     conf   \n",
      "4      DSEP       3     3     3  14.528  14.113  14.132     conf   \n",
      "\n",
      "   kepler_gaia_ang_dist  dupe_label  \n",
      "0              0.080835       False  \n",
      "1              0.080835       False  \n",
      "2              0.083291       False  \n",
      "3              0.049009       False  \n",
      "4              0.030762       False  \n",
=======
      "1300\n",
      "      kepid kepoi_name   kepler_name koi_disposition koi_pdisposition  \\\n",
      "0  10811496  K00753.01           NaN       CANDIDATE        CANDIDATE   \n",
      "1  10666592  K00002.01    Kepler-2 b       CONFIRMED        CANDIDATE   \n",
      "2   6922244  K00010.01    Kepler-8 b       CONFIRMED        CANDIDATE   \n",
      "3  11304958  K00764.01  Kepler-667 b       CONFIRMED        CANDIDATE   \n",
      "4  11403044  K00766.01  Kepler-669 b       CONFIRMED        CANDIDATE   \n",
      "\n",
      "   koi_score  koi_fpflag_nt  koi_fpflag_ss  koi_fpflag_co  koi_fpflag_ec  ...  \\\n",
      "0      0.000              0              0              0              0  ...   \n",
      "1      1.000              0              1              0              0  ...   \n",
      "2      0.998              0              0              0              0  ...   \n",
      "3      0.998              0              0              0              0  ...   \n",
      "4      1.000              0              0              0              0  ...   \n",
      "\n",
      "     feh  feh_err    RUWE  num_gaia_companions  Kmag_final_prov  evstate  \\\n",
      "0    NaN      NaN  0.9942                    1       BinaryCorr      NaN   \n",
      "1  0.203     0.15  0.9591                    1       BinaryCorr      NaN   \n",
      "2 -0.084     0.15  0.9259                    0              NaN      NaN   \n",
      "3    NaN      NaN  1.0132                    0              NaN      NaN   \n",
      "4    NaN      NaN  1.0495                    0              NaN      NaN   \n",
>>>>>>> ac05d74e5ac2b771d66407161f3fc7cf8e0ab760
      "\n",
      "       logR  is_giant  fractional_err1  fractional_err2  \n",
      "0  0.090963     False         0.308213        -0.301449  \n",
      "1  0.299943     False         0.224138        -0.218391  \n",
      "2  0.188928     False         0.297710        -0.229008  \n",
      "3  0.341237     False         0.311594        -0.224638  \n",
      "4  0.116940     False         0.472837        -0.360161  \n",
      "\n",
      "[5 rows x 98 columns]\n",
      "Index(['kepid', 'kepoi_name', 'kepler_name', 'koi_disposition',\n",
      "       'koi_pdisposition', 'koi_score', 'koi_fpflag_nt', 'koi_fpflag_ss',\n",
      "       'koi_fpflag_co', 'koi_fpflag_ec', 'koi_period', 'koi_period_err1',\n",
      "       'koi_period_err2', 'koi_time0bk', 'koi_time0bk_err1',\n",
      "       'koi_time0bk_err2', 'koi_impact', 'koi_impact_err1', 'koi_impact_err2',\n",
      "       'koi_duration', 'koi_duration_err1', 'koi_duration_err2', 'koi_depth',\n",
      "       'koi_depth_err1', 'koi_depth_err2', 'koi_prad', 'koi_prad_err1',\n",
      "       'koi_prad_err2', 'koi_teq', 'koi_teq_err1', 'koi_teq_err2', 'koi_insol',\n",
      "       'koi_insol_err1', 'koi_insol_err2', 'koi_model_snr', 'koi_count',\n",
      "       'koi_tce_plnt_num', 'koi_tce_delivname', 'koi_steff', 'koi_steff_err1',\n",
      "       'koi_steff_err2', 'koi_slogg', 'koi_slogg_err1', 'koi_slogg_err2',\n",
      "       'koi_srad', 'koi_srad_err1', 'koi_srad_err2', 'ra', 'dec', 'koi_kepmag',\n",
      "       'KIC', 'iso_mass', 'iso_mass_err1', 'iso_mass_err2', 'iso_teff',\n",
      "       'iso_teff_err1', 'iso_teff_err2', 'iso_logg', 'iso_logg_err1',\n",
      "       'iso_logg_err2', 'iso_feh', 'iso_feh_err1', 'iso_feh_err2', 'iso_rad',\n",
      "       'iso_rad_err1', 'iso_rad_err2', 'iso_rho', 'iso_rho_err1',\n",
      "       'iso_rho_err2', 'iso_lum', 'iso_lum_err1', 'iso_lum_err2', 'iso_age',\n",
      "       'unReAgeFlag', 'iso_age_err1', 'iso_age_err2', 'iso_dis',\n",
      "       'iso_dis_err1', 'iso_dis_err2', 'iso_avs', 'iso_gof', 'TAMS', 'gmag',\n",
      "       'gmag_err', 'kmag', 'kmag_err', 'parallax', 'parallax_err', 'feh',\n",
      "       'feh_err', 'RUWE', 'num_gaia_companions', 'Kmag_final_prov', 'evstate',\n",
      "       'logR', 'is_giant', 'fractional_err1', 'fractional_err2'],\n",
      "      dtype='object')\n"
     ]
    }
   ],
   "source": [
    "positives_kepler = pd.merge(kois, catalog, how='inner', left_on='kepid', right_on='KIC') \n",
    "print(len(kois))\n",
    "print(len(positives_kepler))\n",
    "print(positives_kepler.head())\n",
    "print(positives_kepler.columns)"
   ]
  },
  {
   "cell_type": "markdown",
   "metadata": {},
   "source": [
    "Honestly, I could've probably just skipped Berger+Bedell and gone straight from Berger+ExoplanetsArchive. See isolate_with_kois.ipynb for my start at transferring before deciding to fall for sunk cost \"fallacy\" (nothing wrong actually, just extra work). Oh well."
   ]
  },
  {
   "cell_type": "code",
<<<<<<< HEAD
   "execution_count": 79,
   "metadata": {
    "scrolled": true
   },
=======
   "execution_count": 26,
   "metadata": {},
>>>>>>> ac05d74e5ac2b771d66407161f3fc7cf8e0ab760
   "outputs": [
    {
     "name": "stdout",
     "output_type": "stream",
     "text": [
<<<<<<< HEAD
      "    iso_mass   mass  iso_teff  teff  iso_rad  radius  iso_age  koi_count  \\\n",
      "0      0.959  0.919    5581.5  5455    0.944   0.927     4.11          2   \n",
      "1      0.959  0.919    5581.5  5455    0.944   0.927     4.11          2   \n",
      "2      0.961  0.961    5639.8  5853    1.233   0.868    10.35          1   \n",
      "3      0.934  1.095    5660.0  6031    0.912   1.046     3.55          1   \n",
      "4      1.017  1.053    5850.0  6046    1.106   0.972     5.28          3   \n",
      "5      1.017  1.053    5850.0  6046    1.106   0.972     5.28          3   \n",
      "6      1.017  1.053    5850.0  6046    1.106   0.972     5.28          3   \n",
      "7      0.765  0.801    4851.2  5031    0.736   0.848     5.79          3   \n",
      "8      0.765  0.801    4851.2  5031    0.736   0.848     5.79          3   \n",
      "9      0.765  0.801    4851.2  5031    0.736   0.848     5.79          3   \n",
      "10     0.978  0.971    5730.0  5820    1.051   0.964     6.17          1   \n",
      "11     1.515  1.449    6436.5  6440    1.995   1.952     1.74          1   \n",
      "12     1.264  1.132    6365.3  6225    1.545   1.451     2.62          1   \n",
      "13     0.738  0.676    4710.1  4856    0.723   0.696     8.52          1   \n",
      "14     0.671  0.761    4435.3  4537    0.655   0.672     7.53          1   \n",
      "15     0.903  0.831    5388.8  5185    0.878   0.910     4.81          3   \n",
      "16     0.903  0.831    5388.8  5185    0.878   0.910     4.81          3   \n",
      "17     0.903  0.831    5388.8  5185    0.878   0.910     4.81          3   \n",
      "18     0.839  0.931    5212.7  5339    0.853   0.847     9.25          1   \n",
      "19     0.908  0.928    5514.0  5644    0.955   0.831     7.93          1   \n",
      "\n",
      "   planet?  \n",
      "0     conf  \n",
      "1     conf  \n",
      "2     cand  \n",
      "3     conf  \n",
      "4     conf  \n",
      "5     conf  \n",
      "6     conf  \n",
      "7     conf  \n",
      "8     conf  \n",
      "9     conf  \n",
      "10    conf  \n",
      "11    conf  \n",
      "12    conf  \n",
      "13    conf  \n",
      "14    conf  \n",
      "15    conf  \n",
      "16    conf  \n",
      "17    conf  \n",
      "18    conf  \n",
      "19    conf  \n",
      "2825\n"
=======
      "    iso_mass  iso_teff  iso_rad  iso_age  koi_count\n",
      "0      0.961    5639.8    1.233    10.35          1\n",
      "1      1.515    6436.5    1.995     1.74          1\n",
      "2      1.264    6365.3    1.545     2.62          1\n",
      "3      1.093    5223.0    2.194     6.90          1\n",
      "4      1.097    5969.1    1.309     4.97          1\n",
      "5      1.039    5887.9    1.184     5.64          1\n",
      "6      1.121    5225.3    2.268     6.21          1\n",
      "7      1.088    5779.7    1.613     7.06          1\n",
      "8      1.085    5536.7    1.897     7.37          1\n",
      "9      1.087    5621.9    1.827     7.29          1\n",
      "10     0.973    5648.4    1.357    10.41          1\n",
      "11     0.936    5610.7    1.034     8.44          1\n",
      "12     0.862    5328.5    0.963    13.09          1\n",
      "13     0.924    5567.4    1.084    10.55          3\n",
      "14     0.924    5567.4    1.084    10.55          3\n",
      "15     0.924    5567.4    1.084    10.55          3\n",
      "16     1.245    5971.2    1.437     3.23          4\n",
      "17     1.245    5971.2    1.437     3.23          4\n",
      "18     1.245    5971.2    1.437     3.23          4\n",
      "19     1.245    5971.2    1.437     3.23          4\n",
      "1025\n"
>>>>>>> ac05d74e5ac2b771d66407161f3fc7cf8e0ab760
     ]
    }
   ],
   "source": [
    "# check that pl_pnums > 1 come from the same star\n",
    "print(positives_kepler[['iso_mass', 'iso_teff', 'iso_rad',\n",
    "                        'iso_age', 'koi_count']].head(n=20))\n",
    "# 'st_metfe', 'gmag', 'st_optmag', 'kmag',\n",
    "print(len(positives_kepler.kepid.unique()))"
   ]
  },
  {
   "cell_type": "code",
<<<<<<< HEAD
   "execution_count": 80,
   "metadata": {},
   "outputs": [
    {
     "name": "stdout",
     "output_type": "stream",
     "text": [
      "   koi_count  kepid\n",
      "0          1    533\n",
      "1          2    233\n",
      "2          3    101\n",
      "3          4     66\n",
      "4          5     15\n",
      "5          7     13\n",
      "   koi_count  kepid\n",
      "0          1   1162\n",
      "1          2    412\n",
      "2          3    210\n",
      "3          4     88\n",
      "4          5     41\n",
      "5          6     12\n",
      "   koi_count  kepid\n",
      "0          1    453\n",
      "1          2    213\n",
      "2          3    120\n",
      "3          4     60\n",
      "4          5     35\n",
      "5          6      5\n"
     ]
    }
   ],
   "source": [
    "f = positives_kepler.loc[(positives_kepler.iso_teff <= 7500) & (positives_kepler.iso_teff > 6000)]\n",
    "g = positives_kepler.loc[(positives_kepler.iso_teff <= 6000) & (positives_kepler.iso_teff > 5200)]\n",
    "k = positives_kepler.loc[(positives_kepler.iso_teff <= 5200) & (positives_kepler.iso_teff > 3700)]\n",
    "print(f.groupby('koi_count').count().kepid.reset_index())\n",
    "print(g.groupby('koi_count').count().kepid.reset_index())\n",
    "print(k.groupby('koi_count').count().kepid.reset_index())"
   ]
  },
  {
   "cell_type": "code",
   "execution_count": 89,
   "metadata": {},
   "outputs": [
    {
     "data": {
      "text/plain": [
       "13"
      ]
     },
     "execution_count": 89,
     "metadata": {},
     "output_type": "execute_result"
    }
   ],
   "source": [
    "len(f.loc[f.koi_count==7])"
=======
   "execution_count": null,
   "metadata": {
    "scrolled": true
   },
   "outputs": [],
   "source": [
    "# check that pl_pnums > 1 come from the same star\n",
    "#print(positives_kepler[['iso_mass', 'mass', 'iso_teff', 'teff', 'iso_rad',\n",
    "#                        'radius', 'iso_age', 'koi_count', 'planet?']].head(n=20))\n",
    "# 'st_metfe', 'gmag', 'st_optmag', 'kmag',\n",
    "#print(len(positives_kepler.kepid.unique()))"
>>>>>>> ac05d74e5ac2b771d66407161f3fc7cf8e0ab760
   ]
  },
  {
   "cell_type": "markdown",
   "metadata": {},
   "source": [
    "### CDPP"
   ]
  },
  {
   "cell_type": "markdown",
   "metadata": {},
   "source": [
    "Characterize the noise between young and old stars with multiple CDPPs. Data from http://archive.stsci.edu/pub/kepler/catalogs/"
   ]
  },
  {
   "cell_type": "markdown",
   "metadata": {},
   "source": [
    "### Final crossmatches and output"
   ]
  },
  {
   "cell_type": "code",
   "execution_count": 27,
   "metadata": {},
   "outputs": [
    {
     "name": "stdout",
     "output_type": "stream",
     "text": [
      "200038\n",
      "    kepid           tm_designation  teff  teff_err1  teff_err2   logg  \\\n",
      "0  757076  2MASS J19240929+3635532  5160      171.0     -156.0  3.580   \n",
      "1  757099  2MASS J19241033+3635377  5519      182.0     -149.0  3.822   \n",
      "2  757137  2MASS J19241341+3633358  4706       74.0     -102.0  2.374   \n",
      "3  757280  2MASS J19242289+3633538  6543      162.0     -194.0  4.082   \n",
      "4  757450  2MASS J19243302+3634385  5332      106.0      -96.0  4.500   \n",
      "\n",
      "   logg_err1  logg_err2   feh  feh_err1  ...  timeout06p0  timeout07p5  \\\n",
      "0      0.928     -0.232 -0.10      0.30  ...          0.0          0.0   \n",
      "1      0.638     -0.213 -0.22      0.35  ...          1.0          1.0   \n",
      "2      0.030     -0.027 -0.10      0.20  ...          1.0          1.0   \n",
      "3      0.258     -0.172 -0.24      0.25  ...          0.0          0.0   \n",
      "4      0.050     -0.036 -0.08      0.15  ...          0.0          0.0   \n",
      "\n",
      "   timeout09p0  timeout10p5  timeout12p0  timeout12p5  timeout15p0  \\\n",
      "0          0.0          0.0          0.0          0.0          0.0   \n",
      "1          1.0          1.0          0.0          1.0          0.0   \n",
      "2          1.0          1.0          1.0          1.0          1.0   \n",
      "3          0.0          0.0          0.0          0.0          0.0   \n",
      "4          0.0          0.0          0.0          0.0          0.0   \n",
      "\n",
      "   timeoutsumry  cdppslplong  cdppslpshrt  \n",
      "0           1.0     -0.33009     -0.41285  \n",
      "1           0.0     -0.25653     -0.18629  \n",
      "2           0.0      0.22699      0.67461  \n",
      "3           1.0     -0.10948     -0.37236  \n",
      "4           1.0     -0.11868     -0.48642  \n",
      "\n",
      "[5 rows x 95 columns]\n"
     ]
    }
   ],
   "source": [
    "path = '/Users/chrislam/Desktop/sculpting/crossmatch_fun/'\n",
    "kepler_stellar = pd.read_csv(path+'kepler_stellar_17.csv')\n",
    "print(len(kepler_stellar))\n",
    "print(kepler_stellar.head())"
   ]
  },
  {
   "cell_type": "code",
   "execution_count": 28,
   "metadata": {},
   "outputs": [
    {
     "name": "stdout",
     "output_type": "stream",
     "text": [
      "67380\n"
     ]
    }
   ],
   "source": [
    "kepler_stellar_enriched = pd.merge(kepler_stellar, catalog, how='inner', left_on='kepid', right_on='KIC')\n",
    "print(len(kepler_stellar_enriched))\n"
   ]
  },
  {
   "cell_type": "code",
   "execution_count": 29,
   "metadata": {},
   "outputs": [
    {
     "name": "stdout",
     "output_type": "stream",
     "text": [
      "1300\n"
     ]
    }
   ],
   "source": [
    "kepler_planet_enriched = pd.merge(kepler_stellar, positives_kepler, how='inner', left_on='kepid', right_on='kepid')\n",
    "print(len(kepler_planet_enriched))"
   ]
  },
  {
   "cell_type": "code",
   "execution_count": 28,
   "metadata": {},
   "outputs": [],
   "source": [
    "# output enriched Berger cross-matches\n",
    "kepler_stellar_enriched.to_csv('/Users/chrislam/Desktop/sculpting/berger_kepler_stellar_fgk.csv', index=False)\n",
    "# output planet multiplicity\n",
    "kepler_planet_enriched.to_csv('/Users/chrislam/Desktop/sculpting/pnum_plus_cands_fgk.csv', index=False)"
   ]
  },
  {
   "cell_type": "markdown",
   "metadata": {},
   "source": [
    "Compute k"
   ]
  },
  {
   "cell_type": "code",
   "execution_count": 31,
   "metadata": {},
   "outputs": [
    {
     "name": "stdout",
     "output_type": "stream",
     "text": [
      "           kepid\n",
      "koi_count       \n",
      "1            833\n",
      "2            134\n",
      "3             38\n",
      "4             15\n",
      "5              5\n",
      "66355\n"
     ]
    }
   ],
   "source": [
    "print(kepler_planet_enriched.groupby('kepid').count().koi_count.reset_index().groupby('koi_count').count())\n",
    "print(len(catalog)-833-134-38-15-5)"
   ]
  },
  {
   "cell_type": "markdown",
   "metadata": {},
   "source": [
    "### Wait, why was there 900 planets before joining with NASA Exoplanets Archive? "
   ]
  },
  {
   "cell_type": "code",
   "execution_count": 121,
   "metadata": {},
   "outputs": [
    {
     "name": "stdout",
     "output_type": "stream",
     "text": [
      "316\n",
      "980\n",
      "{5308419, 6103049, 8904714, 6463499, 11188249, 6129694, 9115681, 10004515, 5021732, 7919653, 6117415, 6774826, 10268714, 6965293, 7598128, 4464689, 9533489, 6707260, 8243263, 5122112, 8263752, 9850957, 6846544, 3766353, 4374610, 1572948, 11673686, 9101400, 9240664, 3336283, 9973855, 10877024, 1724513, 7700578, 8046689, 9048161, 9777256, 10356840, 10936427, 5273713, 4544628, 6781047, 9965691, 11819135, 10033279, 9711751, 5218441, 5982353, 5779606, 6766748, 7198881, 7989422, 6148271, 9474222, 9474232, 5443775, 9945280, 7841986, 10518725, 11763910, 3248332, 11466960, 6629588, 3240159, 6066403, 5185765, 9289960, 9205993, 4073707, 6066416, 8042747, 5271803, 8440062, 3342592, 6387969, 4073730, 10275074, 5480736, 2859299, 7362852, 9957668, 10352938, 10385708, 7377200, 10031409, 2162994, 2576692, 9906489, 6543674, 8773948, 9300285, 10338624, 6543683, 11569475, 5949765, 8380743, 4165960, 8524110, 6523216, 8690001, 8042835, 9959765, 8016214, 4649305, 6947164, 11774303, 5306720, 7770471, 11295085, 5302643, 3762553, 1433980, 9898364, 5020034, 12216706, 8264070, 8739209, 9535881, 5026187, 5020044, 7741837, 9652632, 8784288, 3858851, 5812648, 6363560, 9394601, 10815916, 3973549, 9042357, 3439031, 7379385, 5263802, 7137725, 3746248, 9953736, 9728465, 3953106, 9673173, 9142742, 10320341, 6277594, 8423903, 8153568, 9767392, 10920420, 7045605, 5392871, 6877673, 5622250, 8149484, 3858926, 5306862, 5036530, 8098300, 11100670, 5560830, 6048255, 7137798, 2570767, 8129042, 8581658, 4950557, 8378922, 8630840, 8524346, 12257851, 4252226, 5556804, 9278021, 9159242, 4366923, 8878681, 8700506, 9108058, 9777757, 5288543, 10736223, 2720354, 5384802, 8579684, 8823397, 9818732, 1868404, 5024372, 11401845, 6230649, 4665989, 8110733, 3836558, 8700558, 6421137, 8757910, 5386904, 8260269, 9099950, 6877871, 8639155, 1571511, 9579192, 11076279, 10676923, 12268220, 5024450, 4729553, 8098515, 9532117, 6531801, 1161949, 8508126, 1293031, 5700330, 2708203, 4281068, 4059887, 10226420, 2573056, 7885570, 5128966, 1725193, 4449034, 2568971, 5534476, 5632781, 7959310, 9304842, 10730250, 5962514, 6677267, 10556180, 11817750, 8977176, 9071386, 7967517, 12833566, 1430305, 8123170, 4848423, 3541800, 4164393, 5444392, 9216810, 9030447, 7336754, 7369523, 8733497, 4670267, 5894972, 2452289, 5966660, 11027270, 7846730, 8233802, 7050060, 5213005, 7281484, 8868686, 2308957, 3941219, 10296163, 3560301, 8377197, 1297263, 10322797, 3230578, 6065010, 9343862, 7768952, 10095484, 5389184, 8758161, 7033748, 7799701, 9163674, 5471141, 5036966, 8164262, 8098728, 5649325, 7838639, 9630640, 5440435, 7031732, 3965879, 5125048, 3851193, 9053112, 10214328, 3130300, 6792124, 1575873, 9489348, 4832197, 5903301, 3867593, 5536715, 9368524, 2161623, 5471192, 6878167, 9821151, 2452450, 2554853, 4070376, 6421483, 8240109, 5534702, 7107567, 6198256, 6153201, 7541746, 2853889, 5893123, 6718474, 4647949, 5989391, 7203858, 6939670, 5039129, 9849884, 7105574, 5471271, 6390824, 5565486, 5391407, 5172274, 4058169, 8719419, 4469825, 10601538, 3230787, 3228740, 5823557, 10155080, 9178185, 7677005, 9851983, 4932691, 7695445, 5254230, 8823893, 7777372, 10646620, 6206559, 6386784, 7220322, 9528420, 9079915, 10601579, 7830637, 4144238, 9528430, 5983348, 7777397, 11285625, 9180282, 9655419, 9282687, 3869825, 4365442, 10583181, 5297298, 9243795, 4365461, 7115925, 9874581, 8565912, 3228825, 10026136, 10491031, 11607193, 11519134, 6364327, 6804648, 8780968, 11287726, 8821936, 6145201, 6775985, 8559796, 5307574, 6956216, 3247294, 10063044, 9964748, 6182093, 9899216, 5817553, 5108946, 9282769, 3337432, 4484312, 10208477, 5385439, 11826400, 2305255, 7449844, 5534965, 8559863, 10079481, 8381693, 5471489, 6470917, 8572168, 10937609, 7464205, 11463950, 6362386, 5473556, 9221398, 6206751, 7900450, 8193315, 3247396, 9479460, 10407210, 6610219, 12506417, 10427700, 10480952, 10155321, 11724091, 10253638, 4826439, 11558217, 6468938, 7122259, 5991765, 4814168, 2305372, 3347807, 3757407, 8613218, 8521059, 11603298, 8308070, 6231401, 4840818, 11029877, 5479802, 7282042, 8095099, 10552700, 7132542, 8742270, 5090690, 3442054, 9692557, 8506766, 9092496, 6974867, 9180566, 4076952, 3231137, 5041569, 7368103, 2987433, 5649833, 6069674, 7622059, 6778289, 8553907, 4937140, 2713018, 3747262, 4445630, 3857860, 5977541, 8265156, 5471690, 11560397, 7898576, 8953296, 8398290, 5215700, 8429014, 3548639, 10593759, 7601633, 4761060, 6233573, 6438379, 8687088, 10659313, 11240948, 8039925, 8646141, 2696703, 7902719, 4931073, 7050754, 8703491, 7435780, 9963009, 10794509, 8703506, 3757590, 8265239, 7138841, 9172506, 12164634, 10284575, 7009828, 5479973, 8308260, 10544677, 8556077, 5621299, 8074805, 11152950, 4138557, 9532997, 2711114, 8953426, 8519253, 10419797, 2141783, 8316503, 9451096, 10399321, 10909274, 8007262, 6311520, 6721123, 8713828, 7779942, 9291368, 12004971, 9344623, 5213811, 7837302, 6545018, 6952570, 8109692, 4458109, 6448768, 4073089, 7458433, 3749508, 8957572, 5961350, 7597703, 3335816, 8963721, 8058507, 5879448, 10342041, 6805146, 3655326, 9549472, 4677282, 8218274, 5688997, 9119405, 7212722, 3446451, 10489525, 5201593, 7552701, 4255422, 8507073, 9635529, 7821010, 6311637, 9455322, 5768927, 3831523, 10735331, 11071207, 4284147, 5302006, 2860793, 8027902, 5091075, 9658118, 4863753, 9471755, 4839180, 9613070, 2014991, 9834257, 5992210, 11456279, 9277210, 10118942, 6629156, 2015013, 4861736, 11087662, 8111919, 11913012, 6606653, 9307966, 4374339, 9674564, 2576197, 2973509, 7970629, 8056651, 2445134, 8445775, 9658192, 7108433, 7837526, 8914779, 6149980, 4069213, 8955741, 5078879, 2576224, 3645282, 6721380, 5095269, 8429415, 4913000, 2998124, 4159347, 8257407, 10518399, 7106437, 6035335, 8429450, 8112013, 8230809, 7919516, 5529501, 10581918, 11200415, 8509346, 5437348, 8845221, 6041511, 3866536, 7972785, 8314801, 6137779, 8509361, 6451125, 4587448, 7137213, 9777089, 9652166, 7970760, 11769801, 10801100, 6545358, 12691412, 4669402, 6864859, 10352603, 8757213, 9353182, 9101279, 5308387, 8695779, 10139620, 6383595, 6612973, 1026032, 3117046, 3962872, 5111801, 10616829, 8429566}\n"
     ]
    }
   ],
   "source": [
    "ds1 = set(kepler_stellar_enriched.kepid)\n",
    "ds2 = set(crossmatch.loc[crossmatch['planet?'] != 'none'].kepid)\n",
    "print(len(ds1))\n",
    "print(len(ds2))\n",
    "print(ds2.difference(ds1))"
   ]
  },
  {
   "cell_type": "markdown",
   "metadata": {},
   "source": [
    "Plugged a few of these into MAST and they were all false positives. Then did the same for the kepler_stellar_enriched kepids and they were all planets. Looks like the Bedell cross-match was just out of date?"
   ]
  },
  {
   "cell_type": "code",
   "execution_count": null,
   "metadata": {},
   "outputs": [],
   "source": []
  }
 ],
 "metadata": {
  "kernelspec": {
   "display_name": "Python 3 (ipykernel)",
   "language": "python",
   "name": "python3"
  },
  "language_info": {
   "codemirror_mode": {
    "name": "ipython",
    "version": 3
   },
   "file_extension": ".py",
   "mimetype": "text/x-python",
   "name": "python",
   "nbconvert_exporter": "python",
   "pygments_lexer": "ipython3",
   "version": "3.8.5"
  }
 },
 "nbformat": 4,
 "nbformat_minor": 4
}
